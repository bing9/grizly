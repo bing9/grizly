{
 "cells": [
  {
   "cell_type": "code",
   "execution_count": 3,
   "metadata": {},
   "outputs": [
    {
     "name": "stdout",
     "output_type": "stream",
     "text": [
      "\\\\pln60fs100\\TE_KRK\\ACOE\\Internal\\4_Docs\\Python\n"
     ]
    }
   ],
   "source": [
    "%cd \\\\pln60fs100\\TE_KRK\\ACOE\\Internal\\4_Docs\\Python\n",
    "from grizly import QFrame\n",
    "import pandas\n",
    "from sqlalchemy.sql import null\n",
    "from sqlalchemy import create_engine\n",
    "from sqlalchemy.pool import NullPool\n",
    "import os"
   ]
  },
  {
   "cell_type": "code",
   "execution_count": 7,
   "metadata": {},
   "outputs": [],
   "source": [
    "cwd = os.getcwd()\n",
    "cwd = os.path.join(cwd, \"Personal\",\"Patrycja\",\"testing\", \"testing.xlsx\")"
   ]
  },
  {
   "cell_type": "code",
   "execution_count": 44,
   "metadata": {},
   "outputs": [
    {
     "data": {
      "text/plain": [
       "<grizly.core.qframe.QFrame at 0x2a3e1eb4518>"
      ]
     },
     "execution_count": 44,
     "metadata": {},
     "output_type": "execute_result"
    }
   ],
   "source": [
    "q = QFrame(engine='mssql+pyodbc://Redshift').read_excel(cwd, sheet_name=\"data\")\n",
    "q.query(\"assignment_level='CBC2'\")"
   ]
  },
  {
   "cell_type": "markdown",
   "metadata": {},
   "source": [
    "### WRITE_TO()"
   ]
  },
  {
   "cell_type": "code",
   "execution_count": 38,
   "metadata": {},
   "outputs": [
    {
     "name": "stdout",
     "output_type": "stream",
     "text": [
      "Data has been written to test_patrycja\n"
     ]
    },
    {
     "data": {
      "text/plain": [
       "<grizly.core.qframe.QFrame at 0x2a3e1ea6c88>"
      ]
     },
     "execution_count": 38,
     "metadata": {},
     "output_type": "execute_result"
    }
   ],
   "source": [
    "q.write_to('test_patrycja','testing')"
   ]
  },
  {
   "cell_type": "markdown",
   "metadata": {},
   "source": [
    "Test with subquery"
   ]
  },
  {
   "cell_type": "code",
   "execution_count": null,
   "metadata": {},
   "outputs": [],
   "source": [
    "q.query(\"assignment_level='CBC4'\",if_exists='replace')\n",
    "q.select(['assignment_group','fiscal_year'])\n",
    "q.write_to('test_patrycja','testing')"
   ]
  },
  {
   "cell_type": "code",
   "execution_count": null,
   "metadata": {},
   "outputs": [],
   "source": []
  },
  {
   "cell_type": "code",
   "execution_count": null,
   "metadata": {},
   "outputs": [],
   "source": []
  }
 ],
 "metadata": {
  "kernelspec": {
   "display_name": "Python 3",
   "language": "python",
   "name": "python3"
  },
  "language_info": {
   "codemirror_mode": {
    "name": "ipython",
    "version": 3
   },
   "file_extension": ".py",
   "mimetype": "text/x-python",
   "name": "python",
   "nbconvert_exporter": "python",
   "pygments_lexer": "ipython3",
   "version": "3.7.3"
  }
 },
 "nbformat": 4,
 "nbformat_minor": 2
}
