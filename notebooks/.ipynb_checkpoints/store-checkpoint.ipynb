{
 "cells": [
  {
   "cell_type": "markdown",
   "metadata": {},
   "source": [
    "## Introduction\n",
    "\n",
    "The idea of store.py is to put both qframe definitions and other type of definitions in the store for easy handling of many names and variables.\n",
    "\n",
    "The first thing you do is instantiating the Store()"
   ]
  },
  {
   "cell_type": "code",
   "execution_count": null,
   "metadata": {},
   "outputs": [],
   "source": [
    "from grizly import Store, get_path, QFrame\n",
    "from grizly import get_path\n",
    "\n",
    "json_path = get_path(\"acoe_projects\",\"dev\", \"grizly\",\n",
    "                            \"notebooks\",\"store.json\")\n",
    "\n",
    "store = Store(json_path)"
   ]
  },
  {
   "cell_type": "markdown",
   "metadata": {},
   "source": [
    "The above code will create a \"store.json\" if it does not exist already and it will read it into a Python dictionary if it exists."
   ]
  },
  {
   "cell_type": "markdown",
   "metadata": {},
   "source": [
    "### Adding an SQL query to the json\n",
    "\n",
    "Adding a query to the json manually by editing the file can be cumbersome. You can create a simple query with the ```add_query()``` function"
   ]
  },
  {
   "cell_type": "code",
   "execution_count": null,
   "metadata": {},
   "outputs": [],
   "source": [
    "store.add_query([\"col1\", \"col2\"], \"schema\", \"table\", \"query_2\")\n",
    "store.to_store()"
   ]
  },
  {
   "cell_type": "markdown",
   "metadata": {},
   "source": [
    "The above will add a query named *query_1* into the store. The *query_1* will not be saved back into the store.json file until you do *to_json()*. You can, however, check the data by doing store.new_data"
   ]
  },
  {
   "cell_type": "markdown",
   "metadata": {},
   "source": [
    "### Use case, adding a conf key\n",
    "\n",
    "We can add a configuration key to use later like:"
   ]
  },
  {
   "cell_type": "code",
   "execution_count": null,
   "metadata": {},
   "outputs": [],
   "source": [
    "store.add_key(engine_string_rds=\"some_engine_string\")\n",
    "store.new_data"
   ]
  },
  {
   "cell_type": "markdown",
   "metadata": {},
   "source": [
    "We can read any key back by doing (the below code will fail):"
   ]
  },
  {
   "cell_type": "code",
   "execution_count": null,
   "metadata": {},
   "outputs": [],
   "source": [
    "store.get_key(\"engine_string_rds\")"
   ]
  },
  {
   "cell_type": "markdown",
   "metadata": {},
   "source": [
    "OK the above code will give you an error because the key *engine_string_rds* has not yet been saved to our json file. So first we need to do *to_store()* to save the data and then we can read"
   ]
  },
  {
   "cell_type": "code",
   "execution_count": null,
   "metadata": {},
   "outputs": [],
   "source": [
    "store.to_store(key=\"engine_string_rds\")"
   ]
  },
  {
   "cell_type": "markdown",
   "metadata": {},
   "source": [
    "You can return also a list or key from the get_key() to be used in another functions like QFrame.select() or QFrame.rename() like so:"
   ]
  },
  {
   "cell_type": "code",
   "execution_count": null,
   "metadata": {},
   "outputs": [],
   "source": [
    "q = QFrame().read_json(json_path=json_path, subquery=\"query_1\")\n",
    "q.get_sql(print_sql=False)\n",
    "select_names = q.data[\"select\"][\"sql_blocks\"][\"select_names\"]\n",
    "select_aliases = q.data[\"select\"][\"sql_blocks\"][\"select_aliases\"]\n",
    "column_keys = dict(zip(select_names, select_aliases)) #<- creating our dictionary\n",
    "\n",
    "store.add_key(selects_on_query_1 = column_keys)#<- adding our dictionary\n",
    "store.to_store()#<- saving"
   ]
  },
  {
   "cell_type": "markdown",
   "metadata": {},
   "source": [
    "### Remember get_columns()\n",
    "\n",
    "You can do \n",
    "\n",
    "```python\n",
    "from grizly import get_columns()\n",
    "\n",
    "columns = get_columns(schema, table, etc.)\n",
    "columns_as_dict = dict(zip(columns, columns))\n",
    "\n",
    "store.add_key(columns_as_dict)\n",
    "\n",
    "store.to_store()\n",
    "```\n",
    "\n",
    "The above can take columns from a denodo or redshift database and put them automagically into your json file. You can then change your json as you which and use this dict in your code with store.get_key()"
   ]
  },
  {
   "cell_type": "code",
   "execution_count": null,
   "metadata": {},
   "outputs": [],
   "source": [
    "store.get_key(\"selects_on_query_1\", oftype=\"dict\")"
   ]
  },
  {
   "cell_type": "markdown",
   "metadata": {},
   "source": [
    "### Key concepts of the store\n",
    "\n",
    "* You only update the store.json if you do .to_store()\n",
    "* You can clean up your non saved data by doing `store.new_data = {}`\n",
    "* You only use the store for building your json, you don't use much the store as part of your workflow"
   ]
  }
 ],
 "metadata": {
  "kernelspec": {
   "display_name": "Python 3",
   "language": "python",
   "name": "python3"
  },
  "language_info": {
   "codemirror_mode": {
    "name": "ipython",
    "version": 3
   },
   "file_extension": ".py",
   "mimetype": "text/x-python",
   "name": "python",
   "nbconvert_exporter": "python",
   "pygments_lexer": "ipython3",
   "version": "3.7.3"
  }
 },
 "nbformat": 4,
 "nbformat_minor": 4
}
