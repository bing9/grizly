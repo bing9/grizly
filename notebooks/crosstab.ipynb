{
 "cells": [
  {
   "cell_type": "code",
   "execution_count": 40,
   "metadata": {},
   "outputs": [],
   "source": [
    "import pandas\n",
    "\n",
    "d = {'id': [0, 0, 0, 0, 0, 0]\n",
    "     , 'product':[\"toys\", \"toys\", \"toys\", \"toys\", \"books\", \"books\"]\n",
    "     , 'country':[\"italy\", \"sweden\", \"italy\", \"italy\", \"sweden\", \"sweden\"]\n",
    "     , 'customer':[\"siemsn\", \"abb\", \"abb\", \"te\", \"siemsn\", \"abb\"]\n",
    "     , 'sales': [3, 4, 1, 2, 3, 3]\n",
    "     , 'orders': [1, 1, 1, 3, 2, None]}\n",
    "\n",
    "df = pandas.DataFrame(d)"
   ]
  },
  {
   "cell_type": "code",
   "execution_count": 41,
   "metadata": {},
   "outputs": [],
   "source": [
    "from grizly import Crosstab"
   ]
  },
  {
   "cell_type": "code",
   "execution_count": 42,
   "metadata": {},
   "outputs": [
    {
     "data": {
      "text/html": [
       "<table>\n",
       "<thead>\n",
       "  <tr>\n",
       "    <th> id </th>\n",
       "    <th> product </th>\n",
       "    <th> country </th>\n",
       "    <th> customer </th>\n",
       "    <th> sales </th>\n",
       "    <th> orders </th>\n",
       "  </tr>\n",
       "</thead>\n",
       "<tbody>\n",
       "  <tr>\n",
       "    <th rowspan=6> 0 </th>\n",
       "    <th rowspan=4> toys </th>\n",
       "    <th rowspan=3> italy </th>\n",
       "    <th> siemsn </th>\n",
       "    <td> 3 </td>\n",
       "    <td> 1.0 </td>\n",
       "  </tr>\n",
       "  <tr>\n",
       "    <th> abb </th>\n",
       "    <td> 1 </td>\n",
       "    <td> 1.0 </td>\n",
       "  </tr>\n",
       "  <tr>\n",
       "    <th> te </th>\n",
       "    <td> 2 </td>\n",
       "    <td> 3.0 </td>\n",
       "  </tr>\n",
       "  <tr>\n",
       "    <th> sweden </th>\n",
       "    <th> abb </th>\n",
       "    <td> 4 </td>\n",
       "    <td> 1.0 </td>\n",
       "  </tr>\n",
       "  <tr>\n",
       "    <th rowspan=2> books </th>\n",
       "    <th rowspan=2> sweden </th>\n",
       "    <th> siemsn </th>\n",
       "    <td> 3 </td>\n",
       "    <td> 2.0 </td>\n",
       "  </tr>\n",
       "  <tr>\n",
       "    <th> abb </th>\n",
       "    <td> 3 </td>\n",
       "    <td> 0 </td>\n",
       "  </tr>\n",
       "</tbody>\n",
       "</table>\n"
      ],
      "text/plain": [
       "<grizly.tools.crosstab.Crosstab at 0x220bfb32a88>"
      ]
     },
     "execution_count": 42,
     "metadata": {},
     "output_type": "execute_result"
    }
   ],
   "source": [
    "columns = ['id', 'product', 'country', 'customer']\n",
    "values = ['sales', 'orders']\n",
    "\n",
    "crosstab = Crosstab().from_df(df, columns, values)\n",
    "crosstab"
   ]
  },
  {
   "cell_type": "code",
   "execution_count": 43,
   "metadata": {},
   "outputs": [
    {
     "data": {
      "text/plain": [
       "{(0, 'toys', 'italy', 'siemsn'): {'sales': 3, 'orders': 1.0},\n",
       " (0, 'toys', 'sweden', 'abb'): {'sales': 4, 'orders': 1.0},\n",
       " (0, 'toys', 'italy', 'abb'): {'sales': 1, 'orders': 1.0},\n",
       " (0, 'toys', 'italy', 'te'): {'sales': 2, 'orders': 3.0},\n",
       " (0, 'books', 'sweden', 'siemsn'): {'sales': 3, 'orders': 2.0},\n",
       " (0, 'books', 'sweden', 'abb'): {'sales': 3, 'orders': 0}}"
      ]
     },
     "execution_count": 43,
     "metadata": {},
     "output_type": "execute_result"
    }
   ],
   "source": [
    "crosstab.content"
   ]
  },
  {
   "cell_type": "markdown",
   "metadata": {},
   "source": [
    "## Adding new rows"
   ]
  },
  {
   "cell_type": "code",
   "execution_count": 44,
   "metadata": {},
   "outputs": [
    {
     "data": {
      "text/html": [
       "<table>\n",
       "<thead>\n",
       "  <tr>\n",
       "    <th> id </th>\n",
       "    <th> product </th>\n",
       "    <th> country </th>\n",
       "    <th> customer </th>\n",
       "    <th> sales </th>\n",
       "    <th> orders </th>\n",
       "  </tr>\n",
       "</thead>\n",
       "<tbody>\n",
       "  <tr>\n",
       "    <th rowspan=7> 0 </th>\n",
       "    <th rowspan=4> toys </th>\n",
       "    <th rowspan=3> italy </th>\n",
       "    <th> siemsn </th>\n",
       "    <td> 3 </td>\n",
       "    <td> 1.0 </td>\n",
       "  </tr>\n",
       "  <tr>\n",
       "    <th> abb </th>\n",
       "    <td> 1 </td>\n",
       "    <td> 1.0 </td>\n",
       "  </tr>\n",
       "  <tr>\n",
       "    <th> te </th>\n",
       "    <td> 2 </td>\n",
       "    <td> 3.0 </td>\n",
       "  </tr>\n",
       "  <tr>\n",
       "    <th> sweden </th>\n",
       "    <th> abb </th>\n",
       "    <td> 4 </td>\n",
       "    <td> 1.0 </td>\n",
       "  </tr>\n",
       "  <tr>\n",
       "    <th rowspan=2> books </th>\n",
       "    <th rowspan=2> sweden </th>\n",
       "    <th> siemsn </th>\n",
       "    <td> 3 </td>\n",
       "    <td> 2.0 </td>\n",
       "  </tr>\n",
       "  <tr>\n",
       "    <th> abb </th>\n",
       "    <td> 3 </td>\n",
       "    <td> 0 </td>\n",
       "  </tr>\n",
       "  <tr>\n",
       "    <th> trucks </th>\n",
       "    <th> sweden </th>\n",
       "    <th> te </th>\n",
       "    <td> 5 </td>\n",
       "    <td> 2 </td>\n",
       "  </tr>\n",
       "</tbody>\n",
       "</table>\n"
      ],
      "text/plain": [
       "<grizly.tools.crosstab.Crosstab at 0x220bfb32a88>"
      ]
     },
     "execution_count": 44,
     "metadata": {},
     "output_type": "execute_result"
    }
   ],
   "source": [
    "crosstab.append((0, 'trucks', 'sweden', 'te'), [5,2,1])\n",
    "crosstab"
   ]
  },
  {
   "cell_type": "markdown",
   "metadata": {},
   "source": [
    "## Adding new columns"
   ]
  },
  {
   "cell_type": "code",
   "execution_count": 45,
   "metadata": {},
   "outputs": [
    {
     "data": {
      "text/html": [
       "<table>\n",
       "<thead>\n",
       "  <tr>\n",
       "    <th> id </th>\n",
       "    <th> product </th>\n",
       "    <th> country </th>\n",
       "    <th> customer </th>\n",
       "    <th> sales </th>\n",
       "    <th> orders </th>\n",
       "    <th> percent </th>\n",
       "  </tr>\n",
       "</thead>\n",
       "<tbody>\n",
       "  <tr>\n",
       "    <th rowspan=7> 0 </th>\n",
       "    <th rowspan=4> toys </th>\n",
       "    <th rowspan=3> italy </th>\n",
       "    <th> siemsn </th>\n",
       "    <td> 3 </td>\n",
       "    <td> 1.0 </td>\n",
       "    <td> 0.1 </td>\n",
       "  </tr>\n",
       "  <tr>\n",
       "    <th> abb </th>\n",
       "    <td> 1 </td>\n",
       "    <td> 1.0 </td>\n",
       "    <td> 1 </td>\n",
       "  </tr>\n",
       "  <tr>\n",
       "    <th> te </th>\n",
       "    <td> 2 </td>\n",
       "    <td> 3.0 </td>\n",
       "    <td> 1 </td>\n",
       "  </tr>\n",
       "  <tr>\n",
       "    <th> sweden </th>\n",
       "    <th> abb </th>\n",
       "    <td> 4 </td>\n",
       "    <td> 1.0 </td>\n",
       "    <td> -0.5 </td>\n",
       "  </tr>\n",
       "  <tr>\n",
       "    <th rowspan=2> books </th>\n",
       "    <th rowspan=2> sweden </th>\n",
       "    <th> siemsn </th>\n",
       "    <td> 3 </td>\n",
       "    <td> 2.0 </td>\n",
       "    <td> -0.7 </td>\n",
       "  </tr>\n",
       "  <tr>\n",
       "    <th> abb </th>\n",
       "    <td> 3 </td>\n",
       "    <td> 0 </td>\n",
       "    <td> 0.2 </td>\n",
       "  </tr>\n",
       "  <tr>\n",
       "    <th> trucks </th>\n",
       "    <th> sweden </th>\n",
       "    <th> te </th>\n",
       "    <td> 5 </td>\n",
       "    <td> 2 </td>\n",
       "    <td> -1 </td>\n",
       "  </tr>\n",
       "</tbody>\n",
       "</table>\n"
      ],
      "text/plain": [
       "<grizly.tools.crosstab.Crosstab at 0x220bfb32a88>"
      ]
     },
     "execution_count": 45,
     "metadata": {},
     "output_type": "execute_result"
    }
   ],
   "source": [
    "crosstab.append(\"percent\", [0.1, -0.5, 1, 1, -0.7, 0.2, -1], axis=1)\n",
    "crosstab"
   ]
  },
  {
   "cell_type": "code",
   "execution_count": 46,
   "metadata": {},
   "outputs": [
    {
     "data": {
      "text/plain": [
       "{(0, 'toys', 'italy', 'siemsn'): {'sales': 3, 'orders': 1.0, 'percent': 0.1},\n",
       " (0, 'toys', 'sweden', 'abb'): {'sales': 4, 'orders': 1.0, 'percent': -0.5},\n",
       " (0, 'toys', 'italy', 'abb'): {'sales': 1, 'orders': 1.0, 'percent': 1},\n",
       " (0, 'toys', 'italy', 'te'): {'sales': 2, 'orders': 3.0, 'percent': 1},\n",
       " (0, 'books', 'sweden', 'siemsn'): {'sales': 3,\n",
       "  'orders': 2.0,\n",
       "  'percent': -0.7},\n",
       " (0, 'books', 'sweden', 'abb'): {'sales': 3, 'orders': 0, 'percent': 0.2},\n",
       " (0, 'trucks', 'sweden', 'te'): {'sales': 5, 'orders': 2, 'percent': -1}}"
      ]
     },
     "execution_count": 46,
     "metadata": {},
     "output_type": "execute_result"
    }
   ],
   "source": [
    "crosstab.content"
   ]
  },
  {
   "cell_type": "markdown",
   "metadata": {},
   "source": [
    "## Adding subtotals"
   ]
  },
  {
   "cell_type": "code",
   "execution_count": 47,
   "metadata": {},
   "outputs": [
    {
     "data": {
      "text/html": [
       "<table>\n",
       "<thead>\n",
       "  <tr>\n",
       "    <th> id </th>\n",
       "    <th> product </th>\n",
       "    <th> country </th>\n",
       "    <th> customer </th>\n",
       "    <th> sales </th>\n",
       "    <th> orders </th>\n",
       "    <th> percent </th>\n",
       "  </tr>\n",
       "</thead>\n",
       "<tbody>\n",
       "  <tr>\n",
       "    <th rowspan=12> 0 </th>\n",
       "    <th rowspan=6> toys </th>\n",
       "    <th rowspan=4> italy </th>\n",
       "    <th> siemsn </th>\n",
       "    <td> 3 </td>\n",
       "    <td> 1.0 </td>\n",
       "    <td> 0.1 </td>\n",
       "  </tr>\n",
       "  <tr>\n",
       "    <th> abb </th>\n",
       "    <td> 1 </td>\n",
       "    <td> 1.0 </td>\n",
       "    <td> 1 </td>\n",
       "  </tr>\n",
       "  <tr>\n",
       "    <th> te </th>\n",
       "    <td> 2 </td>\n",
       "    <td> 3.0 </td>\n",
       "    <td> 1 </td>\n",
       "  </tr>\n",
       "  <tr>\n",
       "    <th class=subtotal> Total </th>\n",
       "    <td class=subtotal> 6 </td>\n",
       "    <td class=subtotal> 5.0 </td>\n",
       "    <td class=subtotal> 0.7000000000000001 </td>\n",
       "  </tr>\n",
       "  <tr>\n",
       "    <th rowspan=2> sweden </th>\n",
       "    <th> abb </th>\n",
       "    <td> 4 </td>\n",
       "    <td> 1.0 </td>\n",
       "    <td> -0.5 </td>\n",
       "  </tr>\n",
       "  <tr>\n",
       "    <th class=subtotal> Total </th>\n",
       "    <td class=subtotal> 4 </td>\n",
       "    <td class=subtotal> 1.0 </td>\n",
       "    <td class=subtotal> -0.5 </td>\n",
       "  </tr>\n",
       "  <tr>\n",
       "    <th rowspan=3> books </th>\n",
       "    <th rowspan=3> sweden </th>\n",
       "    <th> siemsn </th>\n",
       "    <td> 3 </td>\n",
       "    <td> 2.0 </td>\n",
       "    <td> -0.7 </td>\n",
       "  </tr>\n",
       "  <tr>\n",
       "    <th> abb </th>\n",
       "    <td> 3 </td>\n",
       "    <td> 0 </td>\n",
       "    <td> 0.2 </td>\n",
       "  </tr>\n",
       "  <tr>\n",
       "    <th class=subtotal> Total </th>\n",
       "    <td class=subtotal> 6 </td>\n",
       "    <td class=subtotal> 2.0 </td>\n",
       "    <td class=subtotal> -0.24999999999999997 </td>\n",
       "  </tr>\n",
       "  <tr>\n",
       "    <th rowspan=2> trucks </th>\n",
       "    <th rowspan=2> sweden </th>\n",
       "    <th> te </th>\n",
       "    <td> 5 </td>\n",
       "    <td> 2 </td>\n",
       "    <td> -1 </td>\n",
       "  </tr>\n",
       "  <tr>\n",
       "    <th class=subtotal> Total </th>\n",
       "    <td class=subtotal> 5 </td>\n",
       "    <td class=subtotal> 2 </td>\n",
       "    <td class=subtotal> -1.0 </td>\n",
       "  </tr>\n",
       "  <tr>\n",
       "    <th colspan=3 class=total> Grand Total </th>\n",
       "    <td class=total> 21 </td>\n",
       "    <td class=total> 10.0 </td>\n",
       "    <td class=total> 0.0142857142857143 </td>\n",
       "  </tr>\n",
       "</tbody>\n",
       "</table>\n"
      ],
      "text/plain": [
       "<grizly.tools.crosstab.Crosstab at 0x220bfb32a88>"
      ]
     },
     "execution_count": 47,
     "metadata": {},
     "output_type": "execute_result"
    }
   ],
   "source": [
    "subtotals = ['id', 'country']\n",
    "crosstab.add_subtotals(subtotals, aggregation={\"sales\": \"sum\", \"orders\": \"sum\", \"percent\": \"avg\"}, names={(0,): \"Grand Total\"})"
   ]
  },
  {
   "cell_type": "markdown",
   "metadata": {},
   "source": [
    "## Removing subtotals"
   ]
  },
  {
   "cell_type": "code",
   "execution_count": 48,
   "metadata": {},
   "outputs": [
    {
     "data": {
      "text/html": [
       "<table>\n",
       "<thead>\n",
       "  <tr>\n",
       "    <th> id </th>\n",
       "    <th> product </th>\n",
       "    <th> country </th>\n",
       "    <th> customer </th>\n",
       "    <th> sales </th>\n",
       "    <th> orders </th>\n",
       "    <th> percent </th>\n",
       "  </tr>\n",
       "</thead>\n",
       "<tbody>\n",
       "  <tr>\n",
       "    <th rowspan=10> 0 </th>\n",
       "    <th rowspan=5> toys </th>\n",
       "    <th rowspan=4> italy </th>\n",
       "    <th> siemsn </th>\n",
       "    <td> 3 </td>\n",
       "    <td> 1.0 </td>\n",
       "    <td> 0.1 </td>\n",
       "  </tr>\n",
       "  <tr>\n",
       "    <th> abb </th>\n",
       "    <td> 1 </td>\n",
       "    <td> 1.0 </td>\n",
       "    <td> 1 </td>\n",
       "  </tr>\n",
       "  <tr>\n",
       "    <th> te </th>\n",
       "    <td> 2 </td>\n",
       "    <td> 3.0 </td>\n",
       "    <td> 1 </td>\n",
       "  </tr>\n",
       "  <tr>\n",
       "    <th class=subtotal> Total </th>\n",
       "    <td class=subtotal> 6 </td>\n",
       "    <td class=subtotal> 5.0 </td>\n",
       "    <td class=subtotal> 0.7000000000000001 </td>\n",
       "  </tr>\n",
       "  <tr>\n",
       "    <th> sweden </th>\n",
       "    <th> abb </th>\n",
       "    <td> 4 </td>\n",
       "    <td> 1.0 </td>\n",
       "    <td> -0.5 </td>\n",
       "  </tr>\n",
       "  <tr>\n",
       "    <th rowspan=3> books </th>\n",
       "    <th rowspan=3> sweden </th>\n",
       "    <th> siemsn </th>\n",
       "    <td> 3 </td>\n",
       "    <td> 2.0 </td>\n",
       "    <td> -0.7 </td>\n",
       "  </tr>\n",
       "  <tr>\n",
       "    <th> abb </th>\n",
       "    <td> 3 </td>\n",
       "    <td> 0 </td>\n",
       "    <td> 0.2 </td>\n",
       "  </tr>\n",
       "  <tr>\n",
       "    <th class=subtotal> Total </th>\n",
       "    <td class=subtotal> 6 </td>\n",
       "    <td class=subtotal> 2.0 </td>\n",
       "    <td class=subtotal> -0.24999999999999997 </td>\n",
       "  </tr>\n",
       "  <tr>\n",
       "    <th> trucks </th>\n",
       "    <th> sweden </th>\n",
       "    <th> te </th>\n",
       "    <td> 5 </td>\n",
       "    <td> 2 </td>\n",
       "    <td> -1 </td>\n",
       "  </tr>\n",
       "  <tr>\n",
       "    <th colspan=3 class=total> Grand Total </th>\n",
       "    <td class=total> 21 </td>\n",
       "    <td class=total> 10.0 </td>\n",
       "    <td class=total> 0.0142857142857143 </td>\n",
       "  </tr>\n",
       "</tbody>\n",
       "</table>\n"
      ],
      "text/plain": [
       "<grizly.tools.crosstab.Crosstab at 0x220bfb32a88>"
      ]
     },
     "execution_count": 48,
     "metadata": {},
     "output_type": "execute_result"
    }
   ],
   "source": [
    "crosstab.subtotals.pop((0, 'toys', 'sweden'))\n",
    "crosstab.subtotals.pop((0, 'trucks', 'sweden'))\n",
    "crosstab"
   ]
  },
  {
   "cell_type": "markdown",
   "metadata": {},
   "source": [
    "## Formatting numbers"
   ]
  },
  {
   "cell_type": "code",
   "execution_count": 49,
   "metadata": {},
   "outputs": [
    {
     "data": {
      "text/html": [
       "<table>\n",
       "<thead>\n",
       "  <tr>\n",
       "    <th> id </th>\n",
       "    <th> product </th>\n",
       "    <th> country </th>\n",
       "    <th> customer </th>\n",
       "    <th> sales </th>\n",
       "    <th> orders </th>\n",
       "    <th> percent </th>\n",
       "  </tr>\n",
       "</thead>\n",
       "<tbody>\n",
       "  <tr>\n",
       "    <th rowspan=10> 0 </th>\n",
       "    <th rowspan=5> toys </th>\n",
       "    <th rowspan=4> italy </th>\n",
       "    <th> siemsn </th>\n",
       "    <td> $3.00 </td>\n",
       "    <td> $1 </td>\n",
       "    <td> 10.0% </td>\n",
       "  </tr>\n",
       "  <tr>\n",
       "    <th> abb </th>\n",
       "    <td> $1.00 </td>\n",
       "    <td> $1 </td>\n",
       "    <td> 100.0% </td>\n",
       "  </tr>\n",
       "  <tr>\n",
       "    <th> te </th>\n",
       "    <td> $2.00 </td>\n",
       "    <td> $3 </td>\n",
       "    <td> 100.0% </td>\n",
       "  </tr>\n",
       "  <tr>\n",
       "    <th class=subtotal> Total </th>\n",
       "    <td class=subtotal> $6.00 </td>\n",
       "    <td class=subtotal> $5 </td>\n",
       "    <td class=subtotal> 70.0% </td>\n",
       "  </tr>\n",
       "  <tr>\n",
       "    <th> sweden </th>\n",
       "    <th> abb </th>\n",
       "    <td> $4.00 </td>\n",
       "    <td> $1 </td>\n",
       "    <td> -50.0% </td>\n",
       "  </tr>\n",
       "  <tr>\n",
       "    <th rowspan=3> books </th>\n",
       "    <th rowspan=3> sweden </th>\n",
       "    <th> siemsn </th>\n",
       "    <td> $3.00 </td>\n",
       "    <td> $2 </td>\n",
       "    <td> -70.0% </td>\n",
       "  </tr>\n",
       "  <tr>\n",
       "    <th> abb </th>\n",
       "    <td> $3.00 </td>\n",
       "    <td> $0 </td>\n",
       "    <td> 20.0% </td>\n",
       "  </tr>\n",
       "  <tr>\n",
       "    <th class=subtotal> Total </th>\n",
       "    <td class=subtotal> $6.00 </td>\n",
       "    <td class=subtotal> $2 </td>\n",
       "    <td class=subtotal> -25.0% </td>\n",
       "  </tr>\n",
       "  <tr>\n",
       "    <th> trucks </th>\n",
       "    <th> sweden </th>\n",
       "    <th> te </th>\n",
       "    <td> $5.00 </td>\n",
       "    <td> $2 </td>\n",
       "    <td> -100.0% </td>\n",
       "  </tr>\n",
       "  <tr>\n",
       "    <th colspan=3 class=total> Grand Total </th>\n",
       "    <td class=total> $21.00 </td>\n",
       "    <td class=total> $10 </td>\n",
       "    <td class=total> 1.4% </td>\n",
       "  </tr>\n",
       "</tbody>\n",
       "</table>\n"
      ],
      "text/plain": [
       "<grizly.tools.crosstab.Crosstab at 0x220bfb32a88>"
      ]
     },
     "execution_count": 49,
     "metadata": {},
     "output_type": "execute_result"
    }
   ],
   "source": [
    "formatter = {\"sales\": lambda x: \"${:,.2f}\".format(x), \"orders\": lambda x: \"${:,.0f}\".format(x), \"percent\": lambda x: \"{0:,.1%}\".format(x)}\n",
    "crosstab.format(formatter)"
   ]
  },
  {
   "cell_type": "markdown",
   "metadata": {},
   "source": [
    "## Styling numbers"
   ]
  },
  {
   "cell_type": "code",
   "execution_count": 50,
   "metadata": {},
   "outputs": [],
   "source": [
    "def _color(value):\n",
    "    try:\n",
    "        if value >1:\n",
    "            return \"style='color:#B62222'\"\n",
    "        else:\n",
    "            return \"bgcolor= lightyellow\"\n",
    "    except:\n",
    "        return \"\"\n",
    "    \n",
    "def _colorp(value):\n",
    "    try:\n",
    "        if value < 0:\n",
    "            return \"bgcolor= lightpink\"\n",
    "    except:\n",
    "        return \"\""
   ]
  },
  {
   "cell_type": "code",
   "execution_count": 51,
   "metadata": {},
   "outputs": [
    {
     "data": {
      "text/html": [
       "<table>\n",
       "<thead>\n",
       "  <tr>\n",
       "    <th> id </th>\n",
       "    <th> product </th>\n",
       "    <th> country </th>\n",
       "    <th> customer </th>\n",
       "    <th> sales </th>\n",
       "    <th> orders </th>\n",
       "    <th> percent </th>\n",
       "  </tr>\n",
       "</thead>\n",
       "<tbody>\n",
       "  <tr>\n",
       "    <th rowspan=10> 0 </th>\n",
       "    <th rowspan=5> toys </th>\n",
       "    <th rowspan=4> italy </th>\n",
       "    <th> siemsn </th>\n",
       "    <td style='color:#B62222'> $3.00 </td>\n",
       "    <td bgcolor= lightyellow> $1 </td>\n",
       "    <td> 10.0% </td>\n",
       "  </tr>\n",
       "  <tr>\n",
       "    <th> abb </th>\n",
       "    <td bgcolor= lightyellow> $1.00 </td>\n",
       "    <td bgcolor= lightyellow> $1 </td>\n",
       "    <td> 100.0% </td>\n",
       "  </tr>\n",
       "  <tr>\n",
       "    <th> te </th>\n",
       "    <td style='color:#B62222'> $2.00 </td>\n",
       "    <td style='color:#B62222'> $3 </td>\n",
       "    <td> 100.0% </td>\n",
       "  </tr>\n",
       "  <tr>\n",
       "    <th class=subtotal> Total </th>\n",
       "    <td class=subtotal> $6.00 </td>\n",
       "    <td class=subtotal> $5 </td>\n",
       "    <td class=subtotal None> 70.0% </td>\n",
       "  </tr>\n",
       "  <tr>\n",
       "    <th> sweden </th>\n",
       "    <th> abb </th>\n",
       "    <td style='color:#B62222'> $4.00 </td>\n",
       "    <td bgcolor= lightyellow> $1 </td>\n",
       "    <td> -50.0% </td>\n",
       "  </tr>\n",
       "  <tr>\n",
       "    <th rowspan=3> books </th>\n",
       "    <th rowspan=3> sweden </th>\n",
       "    <th> siemsn </th>\n",
       "    <td style='color:#B62222'> $3.00 </td>\n",
       "    <td style='color:#B62222'> $2 </td>\n",
       "    <td> -70.0% </td>\n",
       "  </tr>\n",
       "  <tr>\n",
       "    <th> abb </th>\n",
       "    <td style='color:#B62222'> $3.00 </td>\n",
       "    <td bgcolor= lightyellow> $0 </td>\n",
       "    <td> 20.0% </td>\n",
       "  </tr>\n",
       "  <tr>\n",
       "    <th class=subtotal> Total </th>\n",
       "    <td class=subtotal> $6.00 </td>\n",
       "    <td class=subtotal> $2 </td>\n",
       "    <td class=subtotal bgcolor= lightpink> -25.0% </td>\n",
       "  </tr>\n",
       "  <tr>\n",
       "    <th> trucks </th>\n",
       "    <th> sweden </th>\n",
       "    <th> te </th>\n",
       "    <td style='color:#B62222'> $5.00 </td>\n",
       "    <td style='color:#B62222'> $2 </td>\n",
       "    <td> -100.0% </td>\n",
       "  </tr>\n",
       "  <tr>\n",
       "    <th colspan=3 class=total> Grand Total </th>\n",
       "    <td class=total> $21.00 </td>\n",
       "    <td class=total> $10 </td>\n",
       "    <td class=total None> 1.4% </td>\n",
       "  </tr>\n",
       "</tbody>\n",
       "</table>\n"
      ],
      "text/plain": [
       "<grizly.tools.crosstab.Crosstab at 0x220bfb32a88>"
      ]
     },
     "execution_count": 51,
     "metadata": {},
     "output_type": "execute_result"
    }
   ],
   "source": [
    "crosstab.apply_style({\"sales\": _color, \"orders\": _color}, level=[\"content\"])\n",
    "crosstab.apply_style({\"percent\": _colorp}, level=[\"subtotals\"])"
   ]
  },
  {
   "cell_type": "code",
   "execution_count": 52,
   "metadata": {},
   "outputs": [
    {
     "data": {
      "text/plain": [
       "{'content': {'sales': <function __main__._color(value)>,\n",
       "  'orders': <function __main__._color(value)>},\n",
       " 'subtotals': {'percent': <function __main__._colorp(value)>}}"
      ]
     },
     "execution_count": 52,
     "metadata": {},
     "output_type": "execute_result"
    }
   ],
   "source": [
    "crosstab.styling"
   ]
  },
  {
   "cell_type": "code",
   "execution_count": 53,
   "metadata": {},
   "outputs": [
    {
     "data": {
      "text/plain": [
       "{(0, 'toys', 'italy', 'siemsn'): {'sales': 3, 'orders': 1.0, 'percent': 0.1},\n",
       " (0, 'toys', 'sweden', 'abb'): {'sales': 4, 'orders': 1.0, 'percent': -0.5},\n",
       " (0, 'toys', 'italy', 'abb'): {'sales': 1, 'orders': 1.0, 'percent': 1},\n",
       " (0, 'toys', 'italy', 'te'): {'sales': 2, 'orders': 3.0, 'percent': 1},\n",
       " (0, 'books', 'sweden', 'siemsn'): {'sales': 3,\n",
       "  'orders': 2.0,\n",
       "  'percent': -0.7},\n",
       " (0, 'books', 'sweden', 'abb'): {'sales': 3, 'orders': 0, 'percent': 0.2},\n",
       " (0, 'trucks', 'sweden', 'te'): {'sales': 5, 'orders': 2, 'percent': -1}}"
      ]
     },
     "execution_count": 53,
     "metadata": {},
     "output_type": "execute_result"
    }
   ],
   "source": [
    "crosstab.content"
   ]
  },
  {
   "cell_type": "code",
   "execution_count": 54,
   "metadata": {},
   "outputs": [
    {
     "data": {
      "text/plain": [
       "{(0,): {'sales': 21, 'orders': 10.0, 'percent': 0.0142857142857143},\n",
       " (0, 'toys', 'italy'): {'sales': 6,\n",
       "  'orders': 5.0,\n",
       "  'percent': 0.7000000000000001},\n",
       " (0, 'books', 'sweden'): {'sales': 6,\n",
       "  'orders': 2.0,\n",
       "  'percent': -0.24999999999999997}}"
      ]
     },
     "execution_count": 54,
     "metadata": {},
     "output_type": "execute_result"
    }
   ],
   "source": [
    "crosstab.subtotals"
   ]
  },
  {
   "cell_type": "markdown",
   "metadata": {},
   "source": [
    "## Changing subtotals"
   ]
  },
  {
   "cell_type": "code",
   "execution_count": 55,
   "metadata": {},
   "outputs": [
    {
     "data": {
      "text/html": [
       "<table>\n",
       "<thead>\n",
       "  <tr>\n",
       "    <th> id </th>\n",
       "    <th> product </th>\n",
       "    <th> country </th>\n",
       "    <th> customer </th>\n",
       "    <th> sales </th>\n",
       "    <th> orders </th>\n",
       "    <th> percent </th>\n",
       "  </tr>\n",
       "</thead>\n",
       "<tbody>\n",
       "  <tr>\n",
       "    <th rowspan=10> 0 </th>\n",
       "    <th rowspan=5> toys </th>\n",
       "    <th rowspan=4> italy </th>\n",
       "    <th> siemsn </th>\n",
       "    <td style='color:#B62222'> $3.00 </td>\n",
       "    <td bgcolor= lightyellow> $1 </td>\n",
       "    <td> 10.0% </td>\n",
       "  </tr>\n",
       "  <tr>\n",
       "    <th> abb </th>\n",
       "    <td bgcolor= lightyellow> $1.00 </td>\n",
       "    <td bgcolor= lightyellow> $1 </td>\n",
       "    <td> 100.0% </td>\n",
       "  </tr>\n",
       "  <tr>\n",
       "    <th> te </th>\n",
       "    <td style='color:#B62222'> $2.00 </td>\n",
       "    <td style='color:#B62222'> $3 </td>\n",
       "    <td> 100.0% </td>\n",
       "  </tr>\n",
       "  <tr>\n",
       "    <th class=subtotal> Total </th>\n",
       "    <td class=subtotal> $6.00 </td>\n",
       "    <td class=subtotal> $18 </td>\n",
       "    <td class=subtotal None> 70.0% </td>\n",
       "  </tr>\n",
       "  <tr>\n",
       "    <th> sweden </th>\n",
       "    <th> abb </th>\n",
       "    <td style='color:#B62222'> $4.00 </td>\n",
       "    <td bgcolor= lightyellow> $1 </td>\n",
       "    <td> -50.0% </td>\n",
       "  </tr>\n",
       "  <tr>\n",
       "    <th rowspan=3> books </th>\n",
       "    <th rowspan=3> sweden </th>\n",
       "    <th> siemsn </th>\n",
       "    <td style='color:#B62222'> $3.00 </td>\n",
       "    <td style='color:#B62222'> $2 </td>\n",
       "    <td> -70.0% </td>\n",
       "  </tr>\n",
       "  <tr>\n",
       "    <th> abb </th>\n",
       "    <td style='color:#B62222'> $3.00 </td>\n",
       "    <td bgcolor= lightyellow> $0 </td>\n",
       "    <td> 20.0% </td>\n",
       "  </tr>\n",
       "  <tr>\n",
       "    <th class=subtotal> Total </th>\n",
       "    <td class=subtotal> $6.00 </td>\n",
       "    <td class=subtotal> $2 </td>\n",
       "    <td class=subtotal bgcolor= lightpink> -25.0% </td>\n",
       "  </tr>\n",
       "  <tr>\n",
       "    <th> trucks </th>\n",
       "    <th> sweden </th>\n",
       "    <th> te </th>\n",
       "    <td style='color:#B62222'> $5.00 </td>\n",
       "    <td style='color:#B62222'> $2 </td>\n",
       "    <td> -100.0% </td>\n",
       "  </tr>\n",
       "  <tr>\n",
       "    <th colspan=3 class=total> Grand Total </th>\n",
       "    <td class=total> $21.00 </td>\n",
       "    <td class=total> $10 </td>\n",
       "    <td class=total None> 1.4% </td>\n",
       "  </tr>\n",
       "</tbody>\n",
       "</table>\n"
      ],
      "text/plain": [
       "<grizly.tools.crosstab.Crosstab at 0x220bfb32a88>"
      ]
     },
     "execution_count": 55,
     "metadata": {},
     "output_type": "execute_result"
    }
   ],
   "source": [
    "crosstab.subtotals[(0, 'toys', 'italy')]['orders'] = crosstab.subtotals[(0, 'toys', 'italy')]['sales'] * 3\n",
    "crosstab"
   ]
  },
  {
   "cell_type": "markdown",
   "metadata": {},
   "source": [
    "## Adding Multicolumns"
   ]
  },
  {
   "cell_type": "code",
   "execution_count": null,
   "metadata": {},
   "outputs": [],
   "source": []
  }
 ],
 "metadata": {
  "kernelspec": {
   "display_name": "Python 3",
   "language": "python",
   "name": "python3"
  },
  "language_info": {
   "codemirror_mode": {
    "name": "ipython",
    "version": 3
   },
   "file_extension": ".py",
   "mimetype": "text/x-python",
   "name": "python",
   "nbconvert_exporter": "python",
   "pygments_lexer": "ipython3",
   "version": "3.7.4"
  }
 },
 "nbformat": 4,
 "nbformat_minor": 4
}
