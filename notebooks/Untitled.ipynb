{
 "cells": [
  {
   "cell_type": "code",
   "execution_count": 9,
   "metadata": {
    "collapsed": true,
    "jupyter": {
     "outputs_hidden": true
    }
   },
   "outputs": [
    {
     "name": "stdout",
     "output_type": "stream",
     "text": [
      "store.json\n"
     ]
    },
    {
     "data": {
      "application/vnd.jupyter.widget-view+json": {
       "model_id": "5d6e2f76195444b08230d9758b65007f",
       "version_major": 2,
       "version_minor": 0
      },
      "text/plain": [
       "VBox(children=(HBox(children=(Label(value='{}'),)), HBox(children=(Dropdown(options=('subquery_name', 'some', …"
      ]
     },
     "metadata": {},
     "output_type": "display_data"
    }
   ],
   "source": [
    "from grizly_dev.grizly import Store, QFrame\n",
    "\n",
    "#QFrame().build_subquery(\"store.json\")\n",
    "QFrame().build_field(\"store.json\")"
   ]
  },
  {
   "cell_type": "code",
   "execution_count": 13,
   "metadata": {},
   "outputs": [
    {
     "name": "stdout",
     "output_type": "stream",
     "text": [
      "SELECT account_manager,\n",
      "       business_unit_group,\n",
      "       fiscal_year\n",
      "FROM base_views.sales_monthly_close\n",
      "GROUP BY account_manager,\n",
      "         business_unit_group,\n",
      "         fiscal_year\n",
      "LIMIT 10\n"
     ]
    },
    {
     "data": {
      "text/html": [
       "<div>\n",
       "<style scoped>\n",
       "    .dataframe tbody tr th:only-of-type {\n",
       "        vertical-align: middle;\n",
       "    }\n",
       "\n",
       "    .dataframe tbody tr th {\n",
       "        vertical-align: top;\n",
       "    }\n",
       "\n",
       "    .dataframe thead th {\n",
       "        text-align: right;\n",
       "    }\n",
       "</style>\n",
       "<table border=\"1\" class=\"dataframe\">\n",
       "  <thead>\n",
       "    <tr style=\"text-align: right;\">\n",
       "      <th></th>\n",
       "      <th>account_manager</th>\n",
       "      <th>business_unit_group</th>\n",
       "      <th>fiscal_year</th>\n",
       "    </tr>\n",
       "  </thead>\n",
       "  <tbody>\n",
       "    <tr>\n",
       "      <th>0</th>\n",
       "      <td></td>\n",
       "      <td>MEDG</td>\n",
       "      <td>2016</td>\n",
       "    </tr>\n",
       "    <tr>\n",
       "      <th>1</th>\n",
       "      <td>H00570</td>\n",
       "      <td>INDG</td>\n",
       "      <td>2016</td>\n",
       "    </tr>\n",
       "    <tr>\n",
       "      <th>2</th>\n",
       "      <td>H01451</td>\n",
       "      <td>INDG</td>\n",
       "      <td>2016</td>\n",
       "    </tr>\n",
       "    <tr>\n",
       "      <th>3</th>\n",
       "      <td>H01671</td>\n",
       "      <td>INDG</td>\n",
       "      <td>2016</td>\n",
       "    </tr>\n",
       "    <tr>\n",
       "      <th>4</th>\n",
       "      <td>H00492</td>\n",
       "      <td>INDG</td>\n",
       "      <td>2016</td>\n",
       "    </tr>\n",
       "    <tr>\n",
       "      <th>5</th>\n",
       "      <td></td>\n",
       "      <td>INDG</td>\n",
       "      <td>2018</td>\n",
       "    </tr>\n",
       "    <tr>\n",
       "      <th>6</th>\n",
       "      <td>H01475</td>\n",
       "      <td>INDG</td>\n",
       "      <td>2018</td>\n",
       "    </tr>\n",
       "    <tr>\n",
       "      <th>7</th>\n",
       "      <td>H00570</td>\n",
       "      <td>INDG</td>\n",
       "      <td>2018</td>\n",
       "    </tr>\n",
       "    <tr>\n",
       "      <th>8</th>\n",
       "      <td>H00142</td>\n",
       "      <td>MEDG</td>\n",
       "      <td>2018</td>\n",
       "    </tr>\n",
       "    <tr>\n",
       "      <th>9</th>\n",
       "      <td>H01345</td>\n",
       "      <td>INDG</td>\n",
       "      <td>2018</td>\n",
       "    </tr>\n",
       "  </tbody>\n",
       "</table>\n",
       "</div>"
      ],
      "text/plain": [
       "  account_manager business_unit_group  fiscal_year\n",
       "0                                MEDG         2016\n",
       "1          H00570                INDG         2016\n",
       "2          H01451                INDG         2016\n",
       "3          H01671                INDG         2016\n",
       "4          H00492                INDG         2016\n",
       "5                                INDG         2018\n",
       "6          H01475                INDG         2018\n",
       "7          H00570                INDG         2018\n",
       "8          H00142                MEDG         2018\n",
       "9          H01345                INDG         2018"
      ]
     },
     "execution_count": 13,
     "metadata": {},
     "output_type": "execute_result"
    }
   ],
   "source": [
    "qf = QFrame().read_json(\"store.json\", subquery=\"test\")\n",
    "qf.limit(10)\n",
    "qf.get_sql()\n",
    "qf.to_df()"
   ]
  },
  {
   "cell_type": "code",
   "execution_count": 1,
   "metadata": {},
   "outputs": [],
   "source": [
    "from grizly import QFrame"
   ]
  },
  {
   "cell_type": "code",
   "execution_count": 140,
   "metadata": {
    "collapsed": true,
    "jupyter": {
     "outputs_hidden": true
    }
   },
   "outputs": [
    {
     "data": {
      "application/vnd.jupyter.widget-view+json": {
       "model_id": "95c226ecc7464a0787219105dc02f805",
       "version_major": 2,
       "version_minor": 0
      },
      "text/plain": [
       "VBox(children=(HBox(children=(Label(value='Note you need to reload cell for each new field'),)), HBox(children…"
      ]
     },
     "metadata": {},
     "output_type": "display_data"
    }
   ],
   "source": [
    "import ipywidgets as w\n",
    "from grizly_dev.grizly import Store, QFrame\n",
    "\n",
    "class UIField():\n",
    "    \n",
    "    def __init__(self, store_path):\n",
    "        self.store_path = store_path\n",
    "        self.label = w.Label(\"Note you need to reload cell for each new field\")\n",
    "        self.field_name = w.Text(value='field_name', description='Field Name:', disabled=False)\n",
    "        self.expression = w.Textarea(value='SQL Expression Here'\n",
    "                    , description='Expression:', disabled=False, layout={'width': '100%'})\n",
    "        self.subquery = w.Text(value='subquery_name', description='Subquery Name:', disabled=False)\n",
    "        self.type = w.Text(value='dim', description='Type:', disabled=False)\n",
    "        self._as = w.Text(value='', description='As:', disabled=False)\n",
    "        self.group_by = w.Text(value='group', description='Group By:', disabled=False)\n",
    "        self.fields =  w.Dropdown(options=[])\n",
    "        self.btn_add_to_store = w.Button(description='Add To Store',disabled=False)\n",
    "        self.btn_update_store = w.Button(description='Update Store',disabled=False)\n",
    "        self.btn_add_field = w.Button(description='Add Field',disabled=False)\n",
    "        self.btn_edit_field = w.Button(description='Edit Field',disabled=False)\n",
    "        self.output = None\n",
    "        \n",
    "    def _generate_qf(self):\n",
    "        qf = QFrame().read_json(self.store_path, subquery=self.subquery.value)\n",
    "        return qf\n",
    "        \n",
    "    def _save_qf(self, qf):\n",
    "        qf.save_json(self.store_path, subquery=self.subquery.value)\n",
    "        \n",
    "    def _btn_add_field(self, button):\n",
    "        self.label.value = \"You are now adding a new field\"\n",
    "        new_out = self.add_field()\n",
    "        self.output.children += (new_out,)\n",
    "        \n",
    "    def _btn_edit_field(self, button):\n",
    "        self.label.value = \"You are now editing\"\n",
    "        self.btn_add_to_store.display = \"none\"\n",
    "        new_out = self.edit_field()\n",
    "        self.output.children += (new_out,)\n",
    "    \n",
    "    def _btn_update_store(self, button):\n",
    "        qf = self._generate_qf()\n",
    "        try:\n",
    "            data = qf.data[\"select\"][\"fields\"][self.field_name.value]\n",
    "            data[\"expression\"] = self.expression.value\n",
    "            data[\"as\"] = self.expression._as\n",
    "            data[\"type\"] = self.expression.type\n",
    "            data[\"group_by\"] = self.expression.group_by\n",
    "            data[\"expression\"] = self.expression.value\n",
    "            self._save_qf(qf)\n",
    "        except:\n",
    "            self.label.value = \"Error. Are you sure this fields exists?\"\n",
    "        \n",
    "    def _btn_add_to_store(self, button):\n",
    "        qf = self._generate_qf()\n",
    "        qf.assign(**{self.field_name.value:self.expression.value})\n",
    "        self._save_qf(qf)\n",
    "    \n",
    "    def build_field(self):\n",
    "        row_1 =  w.HBox([self.label])\n",
    "        row_2 =  w.HBox([self.subquery])\n",
    "        row_3 =  w.HBox([self.btn_add_field, self.btn_edit_field])\n",
    "        first_out = w.VBox([row_1, row_2, row_3])\n",
    "        self.output = first_out\n",
    "        self.btn_add_field.on_click(self._btn_add_field)\n",
    "        self.btn_edit_field.on_click(self._btn_edit_field)\n",
    "        return self.output\n",
    "        \n",
    "    def add_field(self):\n",
    "        row_1 = w.VBox([self.field_name, self.type, self._as, self.group_by])\n",
    "        row_2 = w.HBox([self.expression])\n",
    "        row_3 = w.HBox([self.btn_add_to_store])\n",
    "        self.btn_add_to_store.on_click(self._btn_add_to_store)\n",
    "        return w.VBox([row_1, row_2, row_3])\n",
    "    \n",
    "    def edit_ui(self):\n",
    "        qf = self._generate_qf()\n",
    "        field = qf.data[\"select\"][\"fields\"][self.fields.value]\n",
    "        self.expression._as = field[\"as\"]\n",
    "        self.expression.type = field[\"type\"]\n",
    "        self.expression.group_by = field[\"group_by\"]\n",
    "        self.expression.value = field[\"expression\"]\n",
    "    \n",
    "    def edit_field(self):\n",
    "        qf = self._generate_qf()\n",
    "        fields = qf.get_fields()\n",
    "        self.fields.options = fields\n",
    "        self.fields.on_trait_change(self.edit_ui, name=\"value\")\n",
    "        row_1 = w.VBox([self.fields, self.type, self._as, self.group_by])\n",
    "        row_2 = w.HBox([self.expression])\n",
    "        row_3 = w.HBox([self.btn_update_store])\n",
    "        self.edit_ui()\n",
    "        self.btn_update_store.on_click(self._btn_update_store)\n",
    "        return w.VBox([row_1, row_2, row_3])\n",
    "    \n",
    "ui = UIField(\"store.json\").build_field()\n",
    "ui"
   ]
  },
  {
   "cell_type": "code",
   "execution_count": 144,
   "metadata": {},
   "outputs": [
    {
     "name": "stdout",
     "output_type": "stream",
     "text": [
      "store.json\n"
     ]
    },
    {
     "data": {
      "application/vnd.jupyter.widget-view+json": {
       "model_id": "e458e95945584ca4b38c1fcc87f9134e",
       "version_major": 2,
       "version_minor": 0
      },
      "text/plain": [
       "VBox(children=(HBox(children=(Text(value='base_views', description='Schema:'), Text(value='sales_monthly_close…"
      ]
     },
     "metadata": {},
     "output_type": "display_data"
    }
   ],
   "source": []
  },
  {
   "cell_type": "code",
   "execution_count": 48,
   "metadata": {},
   "outputs": [],
   "source": [
    "qf.data[\"select\"][\"fields\"][\"account_manager\"][\"expression\"] = \"test\""
   ]
  },
  {
   "cell_type": "code",
   "execution_count": 49,
   "metadata": {},
   "outputs": [
    {
     "data": {
      "text/plain": [
       "{'select': {'table': 'sales_monthly_close',\n",
       "  'schema': 'base_views',\n",
       "  'fields': {'account_manager': {'type': 'dim',\n",
       "    'as': '',\n",
       "    'group_by': '',\n",
       "    'order_by': '',\n",
       "    'expression': 'test',\n",
       "    'select': '',\n",
       "    'custom_type': ''},\n",
       "   'field': {'type': 'dim',\n",
       "    'as': 'field',\n",
       "    'group_by': '',\n",
       "    'order_by': '',\n",
       "    'expression': 'some',\n",
       "    'custom_type': ''},\n",
       "   'field_name': {'type': 'dim',\n",
       "    'as': 'field_name',\n",
       "    'group_by': '',\n",
       "    'order_by': '',\n",
       "    'expression': 'some',\n",
       "    'custom_type': ''},\n",
       "   'field_nameww': {'type': 'dim',\n",
       "    'as': 'field_nameww',\n",
       "    'group_by': '',\n",
       "    'order_by': '',\n",
       "    'expression': \"case\\n\\n'fiscal_year' = 2014 then 1\\nelse 0\\n\\nend\",\n",
       "    'custom_type': ''}},\n",
       "  'engine': 'mssql+pyodbc://redshift_acoe',\n",
       "  'where': '',\n",
       "  'distinct': '',\n",
       "  'having': '',\n",
       "  'limit': ''}}"
      ]
     },
     "execution_count": 49,
     "metadata": {},
     "output_type": "execute_result"
    }
   ],
   "source": [
    "qf.data"
   ]
  }
 ],
 "metadata": {
  "kernelspec": {
   "display_name": "Python 3",
   "language": "python",
   "name": "python3"
  },
  "language_info": {
   "codemirror_mode": {
    "name": "ipython",
    "version": 3
   },
   "file_extension": ".py",
   "mimetype": "text/x-python",
   "name": "python",
   "nbconvert_exporter": "python",
   "pygments_lexer": "ipython3",
   "version": "3.7.3"
  }
 },
 "nbformat": 4,
 "nbformat_minor": 4
}
