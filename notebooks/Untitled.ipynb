{
 "cells": [
  {
   "cell_type": "code",
   "execution_count": 2,
   "metadata": {
    "scrolled": true
   },
   "outputs": [
    {
     "ename": "ValueError",
     "evalue": "Field 'material_number' doesn't have custom_type and has invalid value in type: ''. Valid values: 'dim', 'num'.",
     "output_type": "error",
     "traceback": [
      "\u001b[1;31m---------------------------------------------------------------------------\u001b[0m",
      "\u001b[1;31mValueError\u001b[0m                                Traceback (most recent call last)",
      "\u001b[1;32m<ipython-input-2-62ef7463c49e>\u001b[0m in \u001b[0;36m<module>\u001b[1;34m\u001b[0m\n\u001b[0;32m      1\u001b[0m \u001b[1;32mfrom\u001b[0m \u001b[0mgrizly_dev\u001b[0m\u001b[1;33m.\u001b[0m\u001b[0mgrizly\u001b[0m \u001b[1;32mimport\u001b[0m \u001b[0mStore\u001b[0m\u001b[1;33m,\u001b[0m \u001b[0mQFrame\u001b[0m\u001b[1;33m\u001b[0m\u001b[1;33m\u001b[0m\u001b[0m\n\u001b[0;32m      2\u001b[0m \u001b[1;33m\u001b[0m\u001b[0m\n\u001b[1;32m----> 3\u001b[1;33m \u001b[0mQFrame\u001b[0m\u001b[1;33m(\u001b[0m\u001b[1;33m)\u001b[0m\u001b[1;33m.\u001b[0m\u001b[0mbuild_subquery\u001b[0m\u001b[1;33m(\u001b[0m\u001b[1;34m\"store.json\"\u001b[0m\u001b[1;33m,\u001b[0m \u001b[0msubquery\u001b[0m\u001b[1;33m=\u001b[0m\u001b[1;34m\"new_5\"\u001b[0m\u001b[1;33m,\u001b[0m \u001b[0mdatabase\u001b[0m\u001b[1;33m=\u001b[0m\u001b[1;34m\"denodo\"\u001b[0m\u001b[1;33m)\u001b[0m\u001b[1;33m\u001b[0m\u001b[1;33m\u001b[0m\u001b[0m\n\u001b[0m\u001b[0;32m      4\u001b[0m \u001b[1;31m#QFrame().build_field(\"store.json\")\u001b[0m\u001b[1;33m\u001b[0m\u001b[1;33m\u001b[0m\u001b[1;33m\u001b[0m\u001b[0m\n",
      "\u001b[1;32m~\\acoe_projects\\grizly_dev\\grizly\\qframe.py\u001b[0m in \u001b[0;36mbuild_subquery\u001b[1;34m(self, store_path, subquery, database)\u001b[0m\n\u001b[0;32m    183\u001b[0m \u001b[1;33m\u001b[0m\u001b[0m\n\u001b[0;32m    184\u001b[0m     \u001b[1;32mdef\u001b[0m \u001b[0mbuild_subquery\u001b[0m\u001b[1;33m(\u001b[0m\u001b[0mself\u001b[0m\u001b[1;33m,\u001b[0m \u001b[0mstore_path\u001b[0m\u001b[1;33m,\u001b[0m \u001b[0msubquery\u001b[0m\u001b[1;33m,\u001b[0m \u001b[0mdatabase\u001b[0m\u001b[1;33m)\u001b[0m\u001b[1;33m:\u001b[0m\u001b[1;33m\u001b[0m\u001b[1;33m\u001b[0m\u001b[0m\n\u001b[1;32m--> 185\u001b[1;33m         \u001b[1;32mreturn\u001b[0m \u001b[0mSubqueryUI\u001b[0m\u001b[1;33m(\u001b[0m\u001b[0mstore_path\u001b[0m\u001b[1;33m=\u001b[0m\u001b[0mstore_path\u001b[0m\u001b[1;33m)\u001b[0m\u001b[1;33m.\u001b[0m\u001b[0mbuild_subquery\u001b[0m\u001b[1;33m(\u001b[0m\u001b[0mself\u001b[0m\u001b[1;33m,\u001b[0m \u001b[0msubquery\u001b[0m\u001b[1;33m,\u001b[0m \u001b[0mdatabase\u001b[0m\u001b[1;33m)\u001b[0m\u001b[1;33m\u001b[0m\u001b[1;33m\u001b[0m\u001b[0m\n\u001b[0m\u001b[0;32m    186\u001b[0m \u001b[1;33m\u001b[0m\u001b[0m\n\u001b[0;32m    187\u001b[0m     \u001b[1;32mdef\u001b[0m \u001b[0mbuild_field\u001b[0m\u001b[1;33m(\u001b[0m\u001b[0mself\u001b[0m\u001b[1;33m,\u001b[0m \u001b[0mstore_path\u001b[0m\u001b[1;33m)\u001b[0m\u001b[1;33m:\u001b[0m\u001b[1;33m\u001b[0m\u001b[1;33m\u001b[0m\u001b[0m\n",
      "\u001b[1;32m~\\acoe_projects\\grizly_dev\\grizly\\ui.py\u001b[0m in \u001b[0;36mbuild_subquery\u001b[1;34m(self, qf, subquery, database)\u001b[0m\n\u001b[0;32m     82\u001b[0m         \u001b[0mself\u001b[0m\u001b[1;33m.\u001b[0m\u001b[0msubquery\u001b[0m \u001b[1;33m=\u001b[0m \u001b[0msubquery\u001b[0m\u001b[1;33m\u001b[0m\u001b[1;33m\u001b[0m\u001b[0m\n\u001b[0;32m     83\u001b[0m         \u001b[1;32mtry\u001b[0m\u001b[1;33m:\u001b[0m\u001b[1;33m\u001b[0m\u001b[1;33m\u001b[0m\u001b[0m\n\u001b[1;32m---> 84\u001b[1;33m             \u001b[0mself\u001b[0m\u001b[1;33m.\u001b[0m\u001b[0mqf\u001b[0m \u001b[1;33m=\u001b[0m \u001b[0mqf\u001b[0m\u001b[1;33m.\u001b[0m\u001b[0mread_json\u001b[0m\u001b[1;33m(\u001b[0m\u001b[0mself\u001b[0m\u001b[1;33m.\u001b[0m\u001b[0mstore_path\u001b[0m\u001b[1;33m,\u001b[0m \u001b[0msubquery\u001b[0m\u001b[1;33m=\u001b[0m\u001b[0msubquery\u001b[0m\u001b[1;33m)\u001b[0m\u001b[1;33m\u001b[0m\u001b[1;33m\u001b[0m\u001b[0m\n\u001b[0m\u001b[0;32m     85\u001b[0m             \u001b[0mself\u001b[0m\u001b[1;33m.\u001b[0m\u001b[0mschema\u001b[0m\u001b[1;33m.\u001b[0m\u001b[0mvalue\u001b[0m \u001b[1;33m=\u001b[0m \u001b[0mself\u001b[0m\u001b[1;33m.\u001b[0m\u001b[0mqf\u001b[0m\u001b[1;33m.\u001b[0m\u001b[0mdata\u001b[0m\u001b[1;33m[\u001b[0m\u001b[1;34m\"select\"\u001b[0m\u001b[1;33m]\u001b[0m\u001b[1;33m[\u001b[0m\u001b[1;34m\"schema\"\u001b[0m\u001b[1;33m]\u001b[0m\u001b[1;33m\u001b[0m\u001b[1;33m\u001b[0m\u001b[0m\n\u001b[0;32m     86\u001b[0m             \u001b[0mself\u001b[0m\u001b[1;33m.\u001b[0m\u001b[0mtable\u001b[0m\u001b[1;33m.\u001b[0m\u001b[0mvalue\u001b[0m \u001b[1;33m=\u001b[0m \u001b[0mself\u001b[0m\u001b[1;33m.\u001b[0m\u001b[0mqf\u001b[0m\u001b[1;33m.\u001b[0m\u001b[0mdata\u001b[0m\u001b[1;33m[\u001b[0m\u001b[1;34m\"select\"\u001b[0m\u001b[1;33m]\u001b[0m\u001b[1;33m[\u001b[0m\u001b[1;34m\"table\"\u001b[0m\u001b[1;33m]\u001b[0m\u001b[1;33m\u001b[0m\u001b[1;33m\u001b[0m\u001b[0m\n",
      "\u001b[1;32m~\\acoe_projects\\grizly_dev\\grizly\\qframe.py\u001b[0m in \u001b[0;36mread_json\u001b[1;34m(self, json_path, subquery)\u001b[0m\n\u001b[0;32m    231\u001b[0m         \u001b[0mQFrame\u001b[0m\u001b[1;33m\u001b[0m\u001b[1;33m\u001b[0m\u001b[0m\n\u001b[0;32m    232\u001b[0m         \"\"\"\n\u001b[1;32m--> 233\u001b[1;33m         \u001b[0mself\u001b[0m\u001b[1;33m.\u001b[0m\u001b[0mfrom_json\u001b[0m\u001b[1;33m(\u001b[0m\u001b[0mjson_path\u001b[0m\u001b[1;33m,\u001b[0m \u001b[0msubquery\u001b[0m\u001b[1;33m)\u001b[0m\u001b[1;33m\u001b[0m\u001b[1;33m\u001b[0m\u001b[0m\n\u001b[0m\u001b[0;32m    234\u001b[0m         \u001b[1;32mreturn\u001b[0m \u001b[0mself\u001b[0m\u001b[1;33m\u001b[0m\u001b[1;33m\u001b[0m\u001b[0m\n\u001b[0;32m    235\u001b[0m \u001b[1;33m\u001b[0m\u001b[0m\n",
      "\u001b[1;32m~\\acoe_projects\\grizly_dev\\grizly\\qframe.py\u001b[0m in \u001b[0;36mfrom_json\u001b[1;34m(self, json_path, subquery)\u001b[0m\n\u001b[0;32m    209\u001b[0m                     \u001b[1;31m#self.engine = data[\"engine\"]\u001b[0m\u001b[1;33m\u001b[0m\u001b[1;33m\u001b[0m\u001b[1;33m\u001b[0m\u001b[0m\n\u001b[0;32m    210\u001b[0m                 \u001b[1;32melse\u001b[0m\u001b[1;33m:\u001b[0m\u001b[1;33m\u001b[0m\u001b[1;33m\u001b[0m\u001b[0m\n\u001b[1;32m--> 211\u001b[1;33m                     \u001b[0mself\u001b[0m\u001b[1;33m.\u001b[0m\u001b[0mdata\u001b[0m \u001b[1;33m=\u001b[0m \u001b[0mself\u001b[0m\u001b[1;33m.\u001b[0m\u001b[0mvalidate_data\u001b[0m\u001b[1;33m(\u001b[0m\u001b[0mdata\u001b[0m\u001b[1;33m[\u001b[0m\u001b[0msubquery\u001b[0m\u001b[1;33m]\u001b[0m\u001b[1;33m)\u001b[0m\u001b[1;33m\u001b[0m\u001b[1;33m\u001b[0m\u001b[0m\n\u001b[0m\u001b[0;32m    212\u001b[0m                     \u001b[1;31m#self.engine = data[subquery][\"select\"][\"engine\"]\u001b[0m\u001b[1;33m\u001b[0m\u001b[1;33m\u001b[0m\u001b[1;33m\u001b[0m\u001b[0m\n\u001b[0;32m    213\u001b[0m             \u001b[1;32melse\u001b[0m\u001b[1;33m:\u001b[0m\u001b[1;33m\u001b[0m\u001b[1;33m\u001b[0m\u001b[0m\n",
      "\u001b[1;32m~\\acoe_projects\\grizly_dev\\grizly\\qframe.py\u001b[0m in \u001b[0;36mvalidate_data\u001b[1;34m(self, data)\u001b[0m\n\u001b[0;32m    104\u001b[0m             \u001b[0mDictionary\u001b[0m \u001b[1;32mwith\u001b[0m \u001b[0mvalidated\u001b[0m \u001b[0mdata\u001b[0m\u001b[1;33m.\u001b[0m\u001b[1;33m\u001b[0m\u001b[1;33m\u001b[0m\u001b[0m\n\u001b[0;32m    105\u001b[0m         \"\"\"\n\u001b[1;32m--> 106\u001b[1;33m         \u001b[1;32mreturn\u001b[0m \u001b[0m_validate_data\u001b[0m\u001b[1;33m(\u001b[0m\u001b[0mdata\u001b[0m\u001b[1;33m)\u001b[0m\u001b[1;33m\u001b[0m\u001b[1;33m\u001b[0m\u001b[0m\n\u001b[0m\u001b[0;32m    107\u001b[0m \u001b[1;33m\u001b[0m\u001b[0m\n\u001b[0;32m    108\u001b[0m \u001b[1;33m\u001b[0m\u001b[0m\n",
      "\u001b[1;32m~\\acoe_projects\\grizly_dev\\grizly\\qframe.py\u001b[0m in \u001b[0;36m_validate_data\u001b[1;34m(data)\u001b[0m\n\u001b[0;32m   1353\u001b[0m                         \u001b[1;32mraise\u001b[0m \u001b[0mValueError\u001b[0m\u001b[1;33m(\u001b[0m\u001b[1;34mf\"\"\"Field '{field}' has invalid value '{field_custom_type}' in custom_type. Check valid types for Redshift tables.\"\"\"\u001b[0m\u001b[1;33m)\u001b[0m\u001b[1;33m\u001b[0m\u001b[1;33m\u001b[0m\u001b[0m\n\u001b[0;32m   1354\u001b[0m                 \u001b[1;32melif\u001b[0m \u001b[0mfield_type\u001b[0m \u001b[1;32mnot\u001b[0m \u001b[1;32min\u001b[0m \u001b[1;33m[\u001b[0m\u001b[1;34m\"dim\"\u001b[0m\u001b[1;33m,\u001b[0m \u001b[1;34m\"num\"\u001b[0m\u001b[1;33m]\u001b[0m \u001b[1;32mand\u001b[0m \u001b[0mfield_custom_type\u001b[0m\u001b[1;33m==\u001b[0m\u001b[1;34m''\u001b[0m\u001b[1;33m:\u001b[0m\u001b[1;33m\u001b[0m\u001b[1;33m\u001b[0m\u001b[0m\n\u001b[1;32m-> 1355\u001b[1;33m                     \u001b[1;32mraise\u001b[0m \u001b[0mValueError\u001b[0m\u001b[1;33m(\u001b[0m\u001b[1;34mf\"\"\"Field '{field}' doesn't have custom_type and has invalid value in type: '{field_type}'. Valid values: 'dim', 'num'.\"\"\"\u001b[0m\u001b[1;33m)\u001b[0m\u001b[1;33m\u001b[0m\u001b[1;33m\u001b[0m\u001b[0m\n\u001b[0m\u001b[0;32m   1356\u001b[0m             \u001b[1;32melse\u001b[0m\u001b[1;33m:\u001b[0m\u001b[1;33m\u001b[0m\u001b[1;33m\u001b[0m\u001b[0m\n\u001b[0;32m   1357\u001b[0m                 \u001b[1;32mif\u001b[0m \u001b[0mfield_type\u001b[0m \u001b[1;32mnot\u001b[0m \u001b[1;32min\u001b[0m \u001b[1;33m[\u001b[0m\u001b[1;34m\"dim\"\u001b[0m\u001b[1;33m,\u001b[0m \u001b[1;34m\"num\"\u001b[0m\u001b[1;33m]\u001b[0m\u001b[1;33m:\u001b[0m\u001b[1;33m\u001b[0m\u001b[1;33m\u001b[0m\u001b[0m\n",
      "\u001b[1;31mValueError\u001b[0m: Field 'material_number' doesn't have custom_type and has invalid value in type: ''. Valid values: 'dim', 'num'."
     ]
    }
   ],
   "source": [
    "from grizly_dev.grizly import Store, QFrame\n",
    "\n",
    "QFrame().build_subquery(\"store.json\", subquery=\"new_5\", database=\"denodo\")\n",
    "#QFrame().build_field(\"store.json\")"
   ]
  },
  {
   "cell_type": "code",
   "execution_count": 29,
   "metadata": {},
   "outputs": [
    {
     "data": {
      "application/vnd.jupyter.widget-view+json": {
       "model_id": "0910b952bfe54a9bb8d009577a29baed",
       "version_major": 2,
       "version_minor": 0
      },
      "text/plain": [
       "VBox(children=(Label(value='C:\\\\Users\\\\eg013949\\\\acoe_projects'), HBox(children=(Button(description='+', style…"
      ]
     },
     "metadata": {},
     "output_type": "display_data"
    }
   ],
   "source": [
    "import ipywidgets as w\n",
    "import os\n",
    "\n",
    "current_folder = os.path.abspath(\"\")\n",
    "\n",
    "options = os.listdir(current_folder)\n",
    "\n",
    "class PathUI():\n",
    "\n",
    "    def __init__(self):\n",
    "        self.current_folder = os.path.abspath(\"\")\n",
    "        self.options = os.listdir(self.current_folder)\n",
    "        self.dd = w.Dropdown(options=self.options)\n",
    "        self.dds = [self.dd]\n",
    "        self.label = w.Label(value=self.current_folder)\n",
    "        self.button = w.Button(description=\"+\")\n",
    "        self.button_minus = w.Button(description=\"-\")\n",
    "        buttons = w.HBox([self.button, self.button_minus])\n",
    "        self.out = w.VBox([self.label, buttons, self.dd])\n",
    "        self.button.on_click(self._btn_update)\n",
    "        \n",
    "    def _btn_update(self, button):\n",
    "        if len(self.dds) > 1:\n",
    "            paths = []\n",
    "            for _dd in self.dds:\n",
    "                paths.append(_dd.value)\n",
    "            curr_folder = os.path.join(os.path.abspath(\"\"), *paths)\n",
    "            self.label.value = str(curr_folder)\n",
    "        else:\n",
    "            curr_folder = os.path.abspath(self.dd.value)\n",
    "            self.label.value = str(curr_folder)\n",
    "            \n",
    "        try:\n",
    "            options = os.listdir(curr_folder)\n",
    "            dd = w.Dropdown(options=options)\n",
    "            self.dds.append(dd)\n",
    "            self.out.children += (dd, )\n",
    "        except NotADirectoryError:\n",
    "            pass\n",
    "    \n",
    "    def build_path(self):\n",
    "        return self.out\n",
    "    \n",
    "PathUI().build_path()"
   ]
  },
  {
   "cell_type": "code",
   "execution_count": 16,
   "metadata": {},
   "outputs": [
    {
     "ename": "ModuleNotFoundError",
     "evalue": "No module named 'get_cells'",
     "output_type": "error",
     "traceback": [
      "\u001b[1;31m---------------------------------------------------------------------------\u001b[0m",
      "\u001b[1;31mModuleNotFoundError\u001b[0m                       Traceback (most recent call last)",
      "\u001b[1;32m<ipython-input-16-b37b77c0d5d0>\u001b[0m in \u001b[0;36m<module>\u001b[1;34m\u001b[0m\n\u001b[1;32m----> 1\u001b[1;33m \u001b[1;32mimport\u001b[0m \u001b[0mget_cells\u001b[0m\u001b[1;33m\u001b[0m\u001b[1;33m\u001b[0m\u001b[0m\n\u001b[0m",
      "\u001b[1;31mModuleNotFoundError\u001b[0m: No module named 'get_cells'"
     ]
    }
   ],
   "source": [
    "Config.paths."
   ]
  },
  {
   "cell_type": "code",
   "execution_count": 24,
   "metadata": {},
   "outputs": [
    {
     "name": "stdout",
     "output_type": "stream",
     "text": [
      "Config data has been saved.\n"
     ]
    },
    {
     "data": {
      "text/plain": [
       "'from grizly import Config\\nd = standard = {\\n        \"config\": {\\n            \"standard\": {\\n            \"email\": {\\n                \"email_address\": \"my_email@example.com\",\\n                \"email_password\": \"my_password\",\\n                \"send_as\": \"Team\"\\n            }}}}\\nConfig().from_dict(d)\\n\\nIn'"
      ]
     },
     "execution_count": 24,
     "metadata": {},
     "output_type": "execute_result"
    }
   ],
   "source": [
    "from grizly import Config\n",
    "d = standard = {\n",
    "        \"config\": {\n",
    "            \"standard\": {\n",
    "            \"email\": {\n",
    "                \"email_address\": \"my_email@example.com\",\n",
    "                \"email_password\": \"my_password\",\n",
    "                \"send_as\": \"Team\"\n",
    "            }}}}\n",
    "Config().from_dict(d)\n",
    "\n",
    "In[23]"
   ]
  },
  {
   "cell_type": "code",
   "execution_count": 27,
   "metadata": {},
   "outputs": [
    {
     "data": {
      "text/plain": [
       "'test grizly import Config\\nd = standard = {\\n        \"config\": {\\n            \"standard\": {\\n            \"email\": {\\n                \"email_address\": \"my_email@example.com\",\\n                \"email_password\": \"my_password\",\\n                \"send_as\": \"Team\"\\n            }}}}\\nConfig().test_dict(d)\\n\\nIn'"
      ]
     },
     "execution_count": 27,
     "metadata": {},
     "output_type": "execute_result"
    }
   ],
   "source": [
    "In[23].replace(\"from\", \"test\")"
   ]
  },
  {
   "cell_type": "code",
   "execution_count": 28,
   "metadata": {},
   "outputs": [
    {
     "data": {
      "text/html": [
       "<input type=\"file\">"
      ],
      "text/plain": [
       "<IPython.core.display.HTML object>"
      ]
     },
     "execution_count": 28,
     "metadata": {},
     "output_type": "execute_result"
    }
   ],
   "source": [
    "from IPython.core.display import HTML\n",
    "\n",
    "h = HTML(\"\"\"<input type=\"file\">\"\"\")\n",
    "h"
   ]
  },
  {
   "cell_type": "code",
   "execution_count": 1,
   "metadata": {},
   "outputs": [
    {
     "data": {
      "application/vnd.jupyter.widget-view+json": {
       "model_id": "2d4e97e48ea649d5bfb3551981c39f9e",
       "version_major": 2,
       "version_minor": 0
      },
      "text/plain": [
       "AppLayout(children=(HTML(value=\"<h2 style='text-align:center'>Test</h2>\", layout=Layout(grid_area='header')), …"
      ]
     },
     "metadata": {},
     "output_type": "display_data"
    }
   ],
   "source": [
    "import ipywidgets as w\n",
    "label = w.HTML(\"<h2 style='text-align:center'>Test</h2>\")\n",
    "schema = w.Text(value='base_views', description='Schema:', disabled=False, layout=w.Layout(height='auto', width='auto'))\n",
    "table = w.Text(value='sales_monthly_close', description='Table:', disabled=False, layout=w.Layout(height='auto', width='auto'))\n",
    "engine = w.Text(value='mssql+pyodbc://acoe_redshift', description='Engine:', disabled=False, layout=w.Layout(height='auto', width='auto'))\n",
    "button = w.Button(description='Get Columns',disabled=False, layout=w.Layout(height='auto', width='auto'))\n",
    "\n",
    "app = w.AppLayout(header=label,\n",
    "          left_sidebar=w.VBox([schema, table, engine, button]),\n",
    "          center=None,\n",
    "          right_sidebar=None,\n",
    "          footer=None)\n",
    "app"
   ]
  },
  {
   "cell_type": "code",
   "execution_count": 3,
   "metadata": {},
   "outputs": [],
   "source": [
    "cols = [\"abc\", \"adc\", \"aaa\", \"bbb\"]\n",
    "checks = w.Box([w.Checkbox(description=col, layout=w.Layout(height='auto', width='auto')) for col in cols]\n",
    "               , layout = w.Layout(height='auto', width='auto', column='center'))\n",
    "app.center = checks"
   ]
  },
  {
   "cell_type": "code",
   "execution_count": 140,
   "metadata": {
    "collapsed": true,
    "jupyter": {
     "outputs_hidden": true
    }
   },
   "outputs": [
    {
     "data": {
      "application/vnd.jupyter.widget-view+json": {
       "model_id": "95c226ecc7464a0787219105dc02f805",
       "version_major": 2,
       "version_minor": 0
      },
      "text/plain": [
       "VBox(children=(HBox(children=(Label(value='Note you need to reload cell for each new field'),)), HBox(children…"
      ]
     },
     "metadata": {},
     "output_type": "display_data"
    }
   ],
   "source": [
    "import ipywidgets as w\n",
    "from grizly_dev.grizly import Store, QFrame\n",
    "\n",
    "class UIField():\n",
    "    \n",
    "    def __init__(self, store_path):\n",
    "        self.store_path = store_path\n",
    "        self.label = w.Label(\"Note you need to reload cell for each new field\")\n",
    "        self.field_name = w.Text(value='field_name', description='Field Name:', disabled=False)\n",
    "        self.expression = w.Textarea(value='SQL Expression Here'\n",
    "                    , description='Expression:', disabled=False, layout={'width': '100%'})\n",
    "        self.subquery = w.Text(value='subquery_name', description='Subquery Name:', disabled=False)\n",
    "        self.type = w.Text(value='dim', description='Type:', disabled=False)\n",
    "        self._as = w.Text(value='', description='As:', disabled=False)\n",
    "        self.group_by = w.Text(value='group', description='Group By:', disabled=False)\n",
    "        self.fields =  w.Dropdown(options=[])\n",
    "        self.btn_add_to_store = w.Button(description='Add To Store',disabled=False)\n",
    "        self.btn_update_store = w.Button(description='Update Store',disabled=False)\n",
    "        self.btn_add_field = w.Button(description='Add Field',disabled=False)\n",
    "        self.btn_edit_field = w.Button(description='Edit Field',disabled=False)\n",
    "        self.output = None\n",
    "        \n",
    "    def _generate_qf(self):\n",
    "        qf = QFrame().read_json(self.store_path, subquery=self.subquery.value)\n",
    "        return qf\n",
    "        \n",
    "    def _save_qf(self, qf):\n",
    "        qf.save_json(self.store_path, subquery=self.subquery.value)\n",
    "        \n",
    "    def _btn_add_field(self, button):\n",
    "        self.label.value = \"You are now adding a new field\"\n",
    "        new_out = self.add_field()\n",
    "        self.output.children += (new_out,)\n",
    "        \n",
    "    def _btn_edit_field(self, button):\n",
    "        self.label.value = \"You are now editing\"\n",
    "        self.btn_add_to_store.display = \"none\"\n",
    "        new_out = self.edit_field()\n",
    "        self.output.children += (new_out,)\n",
    "    \n",
    "    def _btn_update_store(self, button):\n",
    "        qf = self._generate_qf()\n",
    "        try:\n",
    "            data = qf.data[\"select\"][\"fields\"][self.field_name.value]\n",
    "            data[\"expression\"] = self.expression.value\n",
    "            data[\"as\"] = self.expression._as\n",
    "            data[\"type\"] = self.expression.type\n",
    "            data[\"group_by\"] = self.expression.group_by\n",
    "            data[\"expression\"] = self.expression.value\n",
    "            self._save_qf(qf)\n",
    "        except:\n",
    "            self.label.value = \"Error. Are you sure this fields exists?\"\n",
    "        \n",
    "    def _btn_add_to_store(self, button):\n",
    "        qf = self._generate_qf()\n",
    "        qf.assign(**{self.field_name.value:self.expression.value})\n",
    "        self._save_qf(qf)\n",
    "    \n",
    "    def build_field(self):\n",
    "        row_1 =  w.HBox([self.label])\n",
    "        row_2 =  w.HBox([self.subquery])\n",
    "        row_3 =  w.HBox([self.btn_add_field, self.btn_edit_field])\n",
    "        first_out = w.VBox([row_1, row_2, row_3])\n",
    "        self.output = first_out\n",
    "        self.btn_add_field.on_click(self._btn_add_field)\n",
    "        self.btn_edit_field.on_click(self._btn_edit_field)\n",
    "        return self.output\n",
    "        \n",
    "    def add_field(self):\n",
    "        row_1 = w.VBox([self.field_name, self.type, self._as, self.group_by])\n",
    "        row_2 = w.HBox([self.expression])\n",
    "        row_3 = w.HBox([self.btn_add_to_store])\n",
    "        self.btn_add_to_store.on_click(self._btn_add_to_store)\n",
    "        return w.VBox([row_1, row_2, row_3])\n",
    "    \n",
    "    def edit_ui(self):\n",
    "        qf = self._generate_qf()\n",
    "        field = qf.data[\"select\"][\"fields\"][self.fields.value]\n",
    "        self.expression._as = field[\"as\"]\n",
    "        self.expression.type = field[\"type\"]\n",
    "        self.expression.group_by = field[\"group_by\"]\n",
    "        self.expression.value = field[\"expression\"]\n",
    "    \n",
    "    def edit_field(self):\n",
    "        qf = self._generate_qf()\n",
    "        fields = qf.get_fields()\n",
    "        self.fields.options = fields\n",
    "        self.fields.on_trait_change(self.edit_ui, name=\"value\")\n",
    "        row_1 = w.VBox([self.fields, self.type, self._as, self.group_by])\n",
    "        row_2 = w.HBox([self.expression])\n",
    "        row_3 = w.HBox([self.btn_update_store])\n",
    "        self.edit_ui()\n",
    "        self.btn_update_store.on_click(self._btn_update_store)\n",
    "        return w.VBox([row_1, row_2, row_3])\n",
    "    \n",
    "ui = UIField(\"store.json\").build_field()\n",
    "ui"
   ]
  },
  {
   "cell_type": "code",
   "execution_count": 144,
   "metadata": {},
   "outputs": [
    {
     "name": "stdout",
     "output_type": "stream",
     "text": [
      "store.json\n"
     ]
    },
    {
     "data": {
      "application/vnd.jupyter.widget-view+json": {
       "model_id": "e458e95945584ca4b38c1fcc87f9134e",
       "version_major": 2,
       "version_minor": 0
      },
      "text/plain": [
       "VBox(children=(HBox(children=(Text(value='base_views', description='Schema:'), Text(value='sales_monthly_close…"
      ]
     },
     "metadata": {},
     "output_type": "display_data"
    }
   ],
   "source": []
  },
  {
   "cell_type": "code",
   "execution_count": 48,
   "metadata": {},
   "outputs": [],
   "source": [
    "qf.data[\"select\"][\"fields\"][\"account_manager\"][\"expression\"] = \"test\""
   ]
  },
  {
   "cell_type": "code",
   "execution_count": 49,
   "metadata": {},
   "outputs": [
    {
     "data": {
      "text/plain": [
       "{'select': {'table': 'sales_monthly_close',\n",
       "  'schema': 'base_views',\n",
       "  'fields': {'account_manager': {'type': 'dim',\n",
       "    'as': '',\n",
       "    'group_by': '',\n",
       "    'order_by': '',\n",
       "    'expression': 'test',\n",
       "    'select': '',\n",
       "    'custom_type': ''},\n",
       "   'field': {'type': 'dim',\n",
       "    'as': 'field',\n",
       "    'group_by': '',\n",
       "    'order_by': '',\n",
       "    'expression': 'some',\n",
       "    'custom_type': ''},\n",
       "   'field_name': {'type': 'dim',\n",
       "    'as': 'field_name',\n",
       "    'group_by': '',\n",
       "    'order_by': '',\n",
       "    'expression': 'some',\n",
       "    'custom_type': ''},\n",
       "   'field_nameww': {'type': 'dim',\n",
       "    'as': 'field_nameww',\n",
       "    'group_by': '',\n",
       "    'order_by': '',\n",
       "    'expression': \"case\\n\\n'fiscal_year' = 2014 then 1\\nelse 0\\n\\nend\",\n",
       "    'custom_type': ''}},\n",
       "  'engine': 'mssql+pyodbc://redshift_acoe',\n",
       "  'where': '',\n",
       "  'distinct': '',\n",
       "  'having': '',\n",
       "  'limit': ''}}"
      ]
     },
     "execution_count": 49,
     "metadata": {},
     "output_type": "execute_result"
    }
   ],
   "source": [
    "qf.data"
   ]
  }
 ],
 "metadata": {
  "kernelspec": {
   "display_name": "Python 3",
   "language": "python",
   "name": "python3"
  },
  "language_info": {
   "codemirror_mode": {
    "name": "ipython",
    "version": 3
   },
   "file_extension": ".py",
   "mimetype": "text/x-python",
   "name": "python",
   "nbconvert_exporter": "python",
   "pygments_lexer": "ipython3",
   "version": "3.7.3"
  }
 },
 "nbformat": 4,
 "nbformat_minor": 4
}
