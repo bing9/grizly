{
 "cells": [
  {
   "cell_type": "markdown",
   "metadata": {},
   "source": [
    "## TO DO's\n",
    "\n",
    "* Add yattag, markdown into base_notebook pip requirements\n",
    "* Put this inside a grizly tool module (module name could be `mdy.py`)\n",
    "* We need to link this to the make_html.py. We need to think of the right folder structure for docs and how we generate the docs and the sidebar from a combination of the folder structure and the headers in the files\n",
    "\n",
    "## Concepts\n",
    "\n",
    "MDY stands for Markdown + Yaml. Yaml blocks are included in `::block` and `::endblock` tags. Yaml blocks always have a **component** key. The component key is mapped to a python function that translate the yaml component into an html component"
   ]
  },
  {
   "cell_type": "code",
   "execution_count": 12,
   "metadata": {},
   "outputs": [
    {
     "data": {
      "text/plain": [
       "{'h1': ['h1', 'some header with h1'], 'h2': ['h2', 'h2'], 'h3': ['h3', 'h3']}"
      ]
     },
     "execution_count": 12,
     "metadata": {},
     "output_type": "execute_result"
    }
   ],
   "source": [
    "import re\n",
    "import yaml\n",
    "import markdown\n",
    "from yattag import Doc, indent\n",
    "\n",
    "def html_head():\n",
    "    doc, tag, text = Doc().tagtext()\n",
    "    doc.asis('<!DOCTYPE html>')\n",
    "    with tag('html'):\n",
    "        with tag('head'):\n",
    "            with tag('link', rel=\"stylesheet\", href=\"somecss.css\"):\n",
    "                text(\"\")\n",
    "    doc.asis('<body>')\n",
    "    return doc.getvalue()\n",
    "\n",
    "def html_footer():\n",
    "    doc, tag, text = Doc().tagtext()\n",
    "    doc.asis('</body>')\n",
    "    return doc.getvalue()\n",
    "\n",
    "def card_component(d):\n",
    "    doc, tag, text = Doc().tagtext()\n",
    "    with tag('div', klass=\"card\"):\n",
    "        with tag('h1'):\n",
    "            text(d[\"title\"])\n",
    "        with tag(\"h2\"):\n",
    "            text(d[\"subtitle\"])\n",
    "    return doc.getvalue()\n",
    "\n",
    "class MDY():\n",
    "    def __init__(self, txt_path):\n",
    "        self.txt_path = txt_path\n",
    "        with open(txt_path) as f:\n",
    "            self.txt = f.read()\n",
    "        self.html = \"\"\n",
    "        self.headers = {}\n",
    "        self.regex_str = \"::block(.*?)::endblock\"\n",
    "    \n",
    "    def create_component(self, yaml_txt):\n",
    "        d = yaml.safe_load(yaml_txt)\n",
    "        try:\n",
    "            component = d[\"component\"]\n",
    "            if component == \"card\":\n",
    "                html = card_component(d)\n",
    "            return html\n",
    "        except KeyError:\n",
    "            return \"Error: component key missing\"\n",
    "    \n",
    "    def yaml_to_html(self):\n",
    "        pattern = re.compile(self.regex_str , re.DOTALL)\n",
    "        matches = pattern.findall(self.txt)\n",
    "        for match in matches:\n",
    "            html = self.create_component(match)\n",
    "            self.txt = self.txt.replace(match, html)\n",
    "        return self\n",
    "    \n",
    "    def to_html(self):\n",
    "        self.yaml_to_html()\n",
    "        self.html = indent(html_head() + markdown.markdown(self.txt) + html_footer())\n",
    "        self.html = self.html.replace(\"::block\",\"\")\n",
    "        self.html = self.html.replace(\"::endblock\",\"\")\n",
    "        return self\n",
    "    \n",
    "    def create_toc(self):\n",
    "        \"\"\"Creating elements for TOC (Table of Contents)\"\"\"\n",
    "\n",
    "        with open(self.txt_path) as f:\n",
    "            txt = f.read()\n",
    "            pattern = re.compile(r\"(?<=^# )(.*)\", re.MULTILINE)\n",
    "            h1 = pattern.findall(str(txt))\n",
    "            pattern = re.compile(r\"(?<=^## )(.*)\",  re.MULTILINE)\n",
    "            h2 = pattern.findall(str(txt))\n",
    "            pattern = re.compile(r\"(?<=^### )(.*)\",  re.MULTILINE)\n",
    "            h3 = pattern.findall(str(txt))\n",
    "        self.headers[\"h1\"] = h1\n",
    "        self.headers[\"h2\"] = h2\n",
    "        self.headers[\"h3\"] = h3\n",
    "        return self\n",
    "    \n",
    "    \n",
    "\n",
    "MDY(\"input.txt\").create_toc().headers"
   ]
  },
  {
   "cell_type": "markdown",
   "metadata": {},
   "source": [
    "### Creating HTML\n",
    "\n",
    "First of all we can create html easily with `to_html()`"
   ]
  },
  {
   "cell_type": "code",
   "execution_count": 17,
   "metadata": {
    "collapsed": true,
    "jupyter": {
     "outputs_hidden": true
    }
   },
   "outputs": [
    {
     "name": "stdout",
     "output_type": "stream",
     "text": [
      "<!DOCTYPE html>\n",
      "<html>\n",
      "  <head>\n",
      "    <link rel=\"stylesheet\" href=\"somecss.css\"></link>\n",
      "  </head>\n",
      "</html>\n",
      "<body>\n",
      "  <h1>h1</h1>\n",
      "  <h2>h2</h2>\n",
      "  <h3>h3</h3>\n",
      "  <p><div class=\"card\"><h1>a simple title</h1><h2>a simple subtitle</h2></div></p>\n",
      "  <h1>some header with h1</h1>\n",
      "  <h2>h2</h2>\n",
      "  <h3>h3</h3>\n",
      "  <p>Error: component key missing</p>\n",
      "  <p>etc we do not know exactly what the meaning of life should be but we do know that etc. etc. etc. what ever else</p>\n",
      "  <p>well what else\n",
      "etc</p>\n",
      "</body>\n"
     ]
    }
   ],
   "source": [
    "html = MDY(\"/home/analyst/grizly/notebooks/mkd_to_html.txt\").to_html()\n",
    "print(html.html)"
   ]
  },
  {
   "cell_type": "markdown",
   "metadata": {},
   "source": [
    "### Creating the TOC (Table of Contents)\n",
    "\n",
    "This is going to be useful to automate the creation of the sidebars for docs. We can develop a `TOC` based on the h1, h2 and h3 tags coming from the corresponding mardown\n",
    "\n",
    "* \\# -> H1\n",
    "* \\## -> H2\n",
    "* \\### -> H3\n"
   ]
  },
  {
   "cell_type": "code",
   "execution_count": 19,
   "metadata": {},
   "outputs": [
    {
     "data": {
      "text/plain": [
       "{'h1': ['h1', 'some header with h1'], 'h2': ['h2', 'h2'], 'h3': ['h3', 'h3']}"
      ]
     },
     "execution_count": 19,
     "metadata": {},
     "output_type": "execute_result"
    }
   ],
   "source": [
    "MDY(\"/home/analyst/grizly/notebooks/mkd_to_html.txt\").create_toc().headers"
   ]
  }
 ],
 "metadata": {
  "kernelspec": {
   "display_name": "Python 3",
   "language": "python",
   "name": "python3"
  },
  "language_info": {
   "codemirror_mode": {
    "name": "ipython",
    "version": 3
   },
   "file_extension": ".py",
   "mimetype": "text/x-python",
   "name": "python",
   "nbconvert_exporter": "python",
   "pygments_lexer": "ipython3",
   "version": "3.8.2"
  }
 },
 "nbformat": 4,
 "nbformat_minor": 4
}
