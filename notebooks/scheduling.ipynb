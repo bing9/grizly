{
 "cells": [
  {
   "cell_type": "code",
   "execution_count": 1,
   "metadata": {},
   "outputs": [],
   "source": [
    "import dask\n",
    "import logging\n",
    "from datetime import datetime\n",
    "import logging\n",
    "logging.basicConfig(format='%(asctime)s - %(name)s - %(levelname)s - %(message)s', level=10)\n",
    "\n",
    "from grizly.scheduling.registry import RedisDB, Trigger, Job"
   ]
  },
  {
   "cell_type": "markdown",
   "metadata": {},
   "source": [
    "## RedisDB"
   ]
  },
  {
   "cell_type": "code",
   "execution_count": 2,
   "metadata": {},
   "outputs": [
    {
     "name": "stderr",
     "output_type": "stream",
     "text": [
      "2020-08-20 08:58:54,006 - grizly.config - DEBUG - Config data loaded from /home/analyst/.grizly/config.json.\n"
     ]
    }
   ],
   "source": [
    "rdb = RedisDB()"
   ]
  },
  {
   "cell_type": "code",
   "execution_count": 3,
   "metadata": {},
   "outputs": [
    {
     "data": {
      "text/plain": [
       "[]"
      ]
     },
     "execution_count": 3,
     "metadata": {},
     "output_type": "execute_result"
    }
   ],
   "source": [
    "rdb.get_jobs()"
   ]
  },
  {
   "cell_type": "code",
   "execution_count": 4,
   "metadata": {},
   "outputs": [
    {
     "data": {
      "text/plain": [
       "[]"
      ]
     },
     "execution_count": 4,
     "metadata": {},
     "output_type": "execute_result"
    }
   ],
   "source": [
    "rdb.get_triggers()"
   ]
  },
  {
   "cell_type": "code",
   "execution_count": 5,
   "metadata": {},
   "outputs": [
    {
     "data": {
      "text/plain": [
       "[]"
      ]
     },
     "execution_count": 5,
     "metadata": {},
     "output_type": "execute_result"
    }
   ],
   "source": [
    "rdb.get_job_runs()"
   ]
  },
  {
   "cell_type": "markdown",
   "metadata": {},
   "source": [
    "## Job"
   ]
  },
  {
   "cell_type": "code",
   "execution_count": 6,
   "metadata": {},
   "outputs": [],
   "source": [
    "@dask.delayed\n",
    "def print_time():\n",
    "    print(f\"Hello, it's {datetime.now().__str__()}\")\n",
    "    \n",
    "time_log = print_time()\n",
    "\n",
    "@dask.delayed\n",
    "def add(x, y):\n",
    "    return x + y\n",
    "\n",
    "_sum = add(1, 2)"
   ]
  },
  {
   "cell_type": "code",
   "execution_count": 7,
   "metadata": {},
   "outputs": [
    {
     "name": "stderr",
     "output_type": "stream",
     "text": [
      "2020-08-20 08:58:54,272 - grizly.scheduling.registry - DEBUG - Job(name='test_print') with cron '* * * * *' has been added to rq sheduler with id ad8e61cf-9cd5-481f-ab9b-1501db997e02\n",
      "2020-08-20 08:58:54,280 - grizly.scheduling.registry - INFO - Job(name='test_print') has been added to the scheduler\n",
      "2020-08-20 08:58:54,297 - grizly.scheduling.registry - INFO - Job(name='test_print') successfully registered\n",
      "2020-08-20 08:58:54,322 - grizly.scheduling.registry - INFO - Adding ['test_sum'] to Job(name='test_print').downstream...\n",
      "2020-08-20 08:58:54,335 - grizly.scheduling.registry - INFO - Job(name='test_sum') successfully registered\n"
     ]
    },
    {
     "data": {
      "text/plain": [
       "Job(name='test_sum')"
      ]
     },
     "execution_count": 7,
     "metadata": {},
     "output_type": "execute_result"
    }
   ],
   "source": [
    "job1 = Job(\"test_print\")\n",
    "job1.register(tasks=[time_log], crons=\"* * * * *\", if_exists=\"replace\")\n",
    "\n",
    "job2 = Job(\"test_sum\")\n",
    "job2.register(tasks=[_sum], upstream=\"test_print\", if_exists=\"replace\")"
   ]
  },
  {
   "cell_type": "code",
   "execution_count": 8,
   "metadata": {},
   "outputs": [
    {
     "name": "stdout",
     "output_type": "stream",
     "text": [
      "name: test_print\n",
      "owner: None\n",
      "created_at: 2020-08-20 08:58:54.249979+00:00\n",
      "crons: ['* * * * *']\n",
      "downstream: [Job(name='test_sum')]\n",
      "upstream: []\n",
      "triggers: []\n"
     ]
    }
   ],
   "source": [
    "job1.info()"
   ]
  },
  {
   "cell_type": "code",
   "execution_count": 9,
   "metadata": {},
   "outputs": [
    {
     "data": {
      "text/plain": [
       "[]"
      ]
     },
     "execution_count": 9,
     "metadata": {},
     "output_type": "execute_result"
    }
   ],
   "source": [
    "job1.runs"
   ]
  },
  {
   "cell_type": "code",
   "execution_count": 10,
   "metadata": {},
   "outputs": [
    {
     "name": "stdout",
     "output_type": "stream",
     "text": [
      "name: test_sum\n",
      "owner: None\n",
      "created_at: 2020-08-20 08:58:54.306279+00:00\n",
      "crons: []\n",
      "downstream: []\n",
      "upstream: [Job(name='test_print')]\n",
      "triggers: []\n"
     ]
    }
   ],
   "source": [
    "job2.info()"
   ]
  },
  {
   "cell_type": "code",
   "execution_count": 11,
   "metadata": {},
   "outputs": [
    {
     "data": {
      "text/plain": [
       "[]"
      ]
     },
     "execution_count": 11,
     "metadata": {},
     "output_type": "execute_result"
    }
   ],
   "source": [
    "job2.runs"
   ]
  },
  {
   "cell_type": "code",
   "execution_count": 12,
   "metadata": {},
   "outputs": [
    {
     "name": "stderr",
     "output_type": "stream",
     "text": [
      "2020-08-20 08:58:54,657 - grizly.scheduling.registry - INFO - Submitting Job(name='test_print')...\n",
      "2020-08-20 08:58:54,715 - grizly.scheduling.registry - INFO - Job(name='test_print') finished with status success\n",
      "2020-08-20 08:58:54,717 - grizly.scheduling.registry - INFO - Enqueueing Job(name='test_print').downstream...\n",
      "2020-08-20 08:58:54,734 - grizly.scheduling.registry - INFO - Job(name='test_sum') has been enqueued\n"
     ]
    },
    {
     "name": "stdout",
     "output_type": "stream",
     "text": [
      "Hello, it's 2020-08-20 08:58:54.711336\n"
     ]
    },
    {
     "data": {
      "text/plain": [
       "[None]"
      ]
     },
     "execution_count": 12,
     "metadata": {},
     "output_type": "execute_result"
    }
   ],
   "source": [
    "job1.submit(to_dask=False)"
   ]
  },
  {
   "cell_type": "code",
   "execution_count": 13,
   "metadata": {},
   "outputs": [
    {
     "name": "stdout",
     "output_type": "stream",
     "text": [
      "id: 1\n",
      "name: None\n",
      "created_at: 2020-08-20 08:58:54.668836+00:00\n",
      "finished_at: 2020-08-20 08:58:54.736632+00:00\n",
      "duration: 0\n",
      "status: success\n",
      "error: None\n"
     ]
    }
   ],
   "source": [
    "job1.last_run.info()"
   ]
  },
  {
   "cell_type": "code",
   "execution_count": 14,
   "metadata": {},
   "outputs": [
    {
     "name": "stderr",
     "output_type": "stream",
     "text": [
      "2020-08-20 08:58:54,938 - grizly.scheduling.registry - DEBUG - Rq job ad8e61cf-9cd5-481f-ab9b-1501db997e02 removed from the scheduler\n",
      "2020-08-20 08:58:54,942 - grizly.scheduling.registry - INFO - Job(name='test_print') has been removed from the scheduler\n",
      "2020-08-20 08:58:54,999 - grizly.scheduling.registry - INFO - Removing ['test_print'] from Job(name='test_sum').upstream...\n",
      "2020-08-20 08:58:55,022 - grizly.scheduling.registry - INFO - Removing ['test_sum'] from Job(name='test_print').downstream...\n",
      "2020-08-20 08:58:55,051 - grizly.scheduling.registry - INFO - Job(name='test_print') successfully removed from registry\n"
     ]
    }
   ],
   "source": [
    "job1.unregister(remove_job_runs=True)"
   ]
  },
  {
   "cell_type": "code",
   "execution_count": 15,
   "metadata": {},
   "outputs": [
    {
     "name": "stderr",
     "output_type": "stream",
     "text": [
      "2020-08-20 08:58:55,124 - grizly.scheduling.registry - INFO - Job(name='test_sum') successfully removed from registry\n"
     ]
    }
   ],
   "source": [
    "job2.unregister()"
   ]
  },
  {
   "cell_type": "markdown",
   "metadata": {},
   "source": [
    "## ADMIN"
   ]
  },
  {
   "cell_type": "markdown",
   "metadata": {},
   "source": [
    "#### Unregister all jobs"
   ]
  },
  {
   "cell_type": "raw",
   "metadata": {},
   "source": [
    "for job in rdb.get_jobs():\n",
    "    job.unregister(remove_job_runs=True)"
   ]
  },
  {
   "cell_type": "markdown",
   "metadata": {},
   "source": [
    "#### Remove all keys from Redis"
   ]
  },
  {
   "cell_type": "raw",
   "metadata": {},
   "source": [
    "for key in RedisDB().con.keys():\n",
    "    RedisDB().con.delete(key)"
   ]
  },
  {
   "cell_type": "markdown",
   "metadata": {},
   "source": [
    "#### Cancel all rq scheduler jobs"
   ]
  },
  {
   "cell_type": "raw",
   "metadata": {},
   "source": [
    "from rq_scheduler import Scheduler\n",
    "from rq import Queue\n",
    "\n",
    "queue = Queue(RedisDB.submit_queue_name, connection=RedisDB().con)\n",
    "scheduler = Scheduler(queue, connection=RedisDB().con)\n",
    "\n",
    "for job in scheduler.get_jobs():\n",
    "#     print(job)\n",
    "    scheduler.cancel(job)"
   ]
  }
 ],
 "metadata": {
  "kernelspec": {
   "display_name": "Python 3",
   "language": "python",
   "name": "python3"
  },
  "language_info": {
   "codemirror_mode": {
    "name": "ipython",
    "version": 3
   },
   "file_extension": ".py",
   "mimetype": "text/x-python",
   "name": "python",
   "nbconvert_exporter": "python",
   "pygments_lexer": "ipython3",
   "version": "3.8.5"
  }
 },
 "nbformat": 4,
 "nbformat_minor": 4
}
