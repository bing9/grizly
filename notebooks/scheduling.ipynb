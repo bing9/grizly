{
 "cells": [
  {
   "cell_type": "code",
   "execution_count": 1,
   "metadata": {},
   "outputs": [],
   "source": [
    "import logging\n",
    "logging.basicConfig(format='%(asctime)s - %(name)s - %(levelname)s - %(message)s', level=10)\n",
    "\n",
    "from grizly.scheduling.registry import RedisDB, Trigger, Job"
   ]
  },
  {
   "cell_type": "markdown",
   "metadata": {},
   "source": [
    "## RedisDB"
   ]
  },
  {
   "cell_type": "code",
   "execution_count": 2,
   "metadata": {},
   "outputs": [
    {
     "name": "stderr",
     "output_type": "stream",
     "text": [
      "2020-08-19 14:05:53,682 - grizly.config - DEBUG - Config data loaded from /home/analyst/.grizly/config.json.\n"
     ]
    }
   ],
   "source": [
    "rdb = RedisDB()"
   ]
  },
  {
   "cell_type": "code",
   "execution_count": 3,
   "metadata": {},
   "outputs": [
    {
     "data": {
      "text/plain": [
       "[]"
      ]
     },
     "execution_count": 3,
     "metadata": {},
     "output_type": "execute_result"
    }
   ],
   "source": [
    "rdb.get_jobs()"
   ]
  },
  {
   "cell_type": "code",
   "execution_count": 4,
   "metadata": {},
   "outputs": [
    {
     "data": {
      "text/plain": [
       "[]"
      ]
     },
     "execution_count": 4,
     "metadata": {},
     "output_type": "execute_result"
    }
   ],
   "source": [
    "rdb.get_triggers()"
   ]
  },
  {
   "cell_type": "code",
   "execution_count": 5,
   "metadata": {},
   "outputs": [
    {
     "data": {
      "text/plain": [
       "[]"
      ]
     },
     "execution_count": 5,
     "metadata": {},
     "output_type": "execute_result"
    }
   ],
   "source": [
    "rdb.get_job_runs()"
   ]
  },
  {
   "cell_type": "markdown",
   "metadata": {},
   "source": [
    "## Job"
   ]
  },
  {
   "cell_type": "code",
   "execution_count": 6,
   "metadata": {},
   "outputs": [],
   "source": [
    "import dask\n",
    "import logging\n",
    "from datetime import datetime\n",
    "\n",
    "logger = logging.getLogger(\"distributed.worker.printing_time\")\n",
    "@dask.delayed\n",
    "def print_time():\n",
    "    logger.info(f\"Hello, it's {datetime.now().__str__()}\")\n",
    "    \n",
    "time_log = print_time()\n",
    "\n",
    "@dask.delayed\n",
    "def add(x, y):\n",
    "    return x + y\n",
    "\n",
    "_sum = add(1, 2)"
   ]
  },
  {
   "cell_type": "code",
   "execution_count": 7,
   "metadata": {},
   "outputs": [
    {
     "name": "stderr",
     "output_type": "stream",
     "text": [
      "2020-08-19 14:05:53,928 - grizly.scheduling.registry - DEBUG - Job test_print cron * * * * * has been added to rq sheduler with id c59b5cec-518a-40c2-af73-895407f0b9cf\n",
      "2020-08-19 14:05:53,931 - grizly.scheduling.registry - INFO - Job has been added to the scheduler\n",
      "2020-08-19 14:05:53,947 - grizly.scheduling.registry - INFO - Job test_print successfully registered\n",
      "2020-08-19 14:05:53,978 - grizly.scheduling.registry - INFO - Adding ['test_sum'] to downstream...\n",
      "2020-08-19 14:05:53,988 - grizly.scheduling.registry - INFO - Job test_sum successfully registered\n"
     ]
    },
    {
     "data": {
      "text/plain": [
       "Job(name='test_sum')"
      ]
     },
     "execution_count": 7,
     "metadata": {},
     "output_type": "execute_result"
    }
   ],
   "source": [
    "job1 = Job(\"test_print\")\n",
    "job1.register(tasks=[time_log], crons=\"* * * * *\", if_exists=\"replace\")\n",
    "\n",
    "job2 = Job(\"test_sum\")\n",
    "job2.register(tasks=[_sum], upstream=\"test_print\", if_exists=\"replace\")"
   ]
  },
  {
   "cell_type": "code",
   "execution_count": 8,
   "metadata": {},
   "outputs": [
    {
     "name": "stdout",
     "output_type": "stream",
     "text": [
      "name: test_print\n",
      "owner: None\n",
      "crons: ['* * * * *']\n",
      "downstream: [Job(name='test_sum')]\n",
      "upstream: []\n",
      "triggers: []\n"
     ]
    }
   ],
   "source": [
    "job1.info()"
   ]
  },
  {
   "cell_type": "code",
   "execution_count": 9,
   "metadata": {},
   "outputs": [
    {
     "data": {
      "text/plain": [
       "[JobRun(job_name='test_print, id='1')]"
      ]
     },
     "execution_count": 9,
     "metadata": {},
     "output_type": "execute_result"
    }
   ],
   "source": [
    "job1.runs"
   ]
  },
  {
   "cell_type": "code",
   "execution_count": 10,
   "metadata": {},
   "outputs": [
    {
     "ename": "NameError",
     "evalue": "name 'job_2' is not defined",
     "output_type": "error",
     "traceback": [
      "\u001b[0;31m---------------------------------------------------------------------------\u001b[0m",
      "\u001b[0;31mNameError\u001b[0m                                 Traceback (most recent call last)",
      "\u001b[0;32m<ipython-input-10-856855f0ed3a>\u001b[0m in \u001b[0;36m<module>\u001b[0;34m\u001b[0m\n\u001b[0;32m----> 1\u001b[0;31m \u001b[0mjob_2\u001b[0m\u001b[0;34m.\u001b[0m\u001b[0minfo\u001b[0m\u001b[0;34m(\u001b[0m\u001b[0;34m)\u001b[0m\u001b[0;34m\u001b[0m\u001b[0;34m\u001b[0m\u001b[0m\n\u001b[0m",
      "\u001b[0;31mNameError\u001b[0m: name 'job_2' is not defined"
     ]
    }
   ],
   "source": [
    "job2.info()"
   ]
  },
  {
   "cell_type": "code",
   "execution_count": null,
   "metadata": {},
   "outputs": [],
   "source": [
    "job2.runs"
   ]
  },
  {
   "cell_type": "code",
   "execution_count": null,
   "metadata": {},
   "outputs": [],
   "source": [
    "job1.submit(to_dask=False)"
   ]
  },
  {
   "cell_type": "code",
   "execution_count": null,
   "metadata": {},
   "outputs": [],
   "source": [
    "job1.runs"
   ]
  },
  {
   "cell_type": "code",
   "execution_count": null,
   "metadata": {},
   "outputs": [],
   "source": [
    "job2.runs"
   ]
  },
  {
   "cell_type": "code",
   "execution_count": null,
   "metadata": {},
   "outputs": [],
   "source": [
    "job1.unregister()"
   ]
  },
  {
   "cell_type": "code",
   "execution_count": null,
   "metadata": {},
   "outputs": [],
   "source": [
    "job2.unregister()"
   ]
  },
  {
   "cell_type": "markdown",
   "metadata": {},
   "source": [
    "## ADMIN"
   ]
  },
  {
   "cell_type": "markdown",
   "metadata": {},
   "source": [
    "#### Unregister all jobs"
   ]
  },
  {
   "cell_type": "raw",
   "metadata": {},
   "source": [
    "for job in rdb.get_jobs():\n",
    "    job.unregister(remove_job_runs=True)"
   ]
  },
  {
   "cell_type": "markdown",
   "metadata": {},
   "source": [
    "#### Remove all keys from Redis"
   ]
  },
  {
   "cell_type": "raw",
   "metadata": {},
   "source": [
    "for key in RedisDB().con.keys():\n",
    "    RedisDB().con.delete(key)"
   ]
  },
  {
   "cell_type": "markdown",
   "metadata": {},
   "source": [
    "#### Cancel all rq scheduler jobs"
   ]
  },
  {
   "cell_type": "raw",
   "metadata": {},
   "source": [
    "from rq_scheduler import Scheduler\n",
    "from rq import Queue\n",
    "\n",
    "queue = Queue(RedisDB.submit_queue_name, connection=RedisDB().con)\n",
    "scheduler = Scheduler(queue, connection=RedisDB().con)\n",
    "\n",
    "for job in scheduler.get_jobs():\n",
    "#     print(job)\n",
    "    scheduler.cancel(job)"
   ]
  }
 ],
 "metadata": {
  "kernelspec": {
   "display_name": "Python 3",
   "language": "python",
   "name": "python3"
  },
  "language_info": {
   "codemirror_mode": {
    "name": "ipython",
    "version": 3
   },
   "file_extension": ".py",
   "mimetype": "text/x-python",
   "name": "python",
   "nbconvert_exporter": "python",
   "pygments_lexer": "ipython3",
   "version": "3.8.5"
  }
 },
 "nbformat": 4,
 "nbformat_minor": 4
}
