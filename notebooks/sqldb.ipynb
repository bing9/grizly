{
 "cells": [
  {
   "cell_type": "markdown",
   "metadata": {},
   "source": [
    "# Tutorial - SQLDB"
   ]
  },
  {
   "cell_type": "code",
   "execution_count": 1,
   "metadata": {},
   "outputs": [],
   "source": [
    "from grizly import get_path, Config, SQLDB"
   ]
  },
  {
   "cell_type": "code",
   "execution_count": 2,
   "metadata": {},
   "outputs": [
    {
     "data": {
      "text/plain": [
       "<grizly.config.Config at 0x15dc0c6ce88>"
      ]
     },
     "execution_count": 2,
     "metadata": {},
     "output_type": "execute_result"
    }
   ],
   "source": [
    "json_path = get_path('dev', 'grizly', 'notebooks', 'config.json')\n",
    "\n",
    "Config().from_json(json_path)"
   ]
  },
  {
   "cell_type": "code",
   "execution_count": 3,
   "metadata": {},
   "outputs": [
    {
     "data": {
      "text/plain": [
       "'mssql+pyodbc://redshift_acoe'"
      ]
     },
     "execution_count": 3,
     "metadata": {},
     "output_type": "execute_result"
    }
   ],
   "source": [
    "sqldb = SQLDB(db=\"redshift\")\n",
    "sqldb.engine_str"
   ]
  },
  {
   "cell_type": "code",
   "execution_count": 4,
   "metadata": {},
   "outputs": [
    {
     "name": "stdout",
     "output_type": "stream",
     "text": [
      "2020-03-13 12:23:41,643 INFO sqlalchemy.engine.base.Engine SELECT CAST(SERVERPROPERTY('ProductVersion') AS VARCHAR)\n",
      "2020-03-13 12:23:41,643 INFO sqlalchemy.engine.base.Engine ()\n",
      "2020-03-13 12:23:41,829 INFO sqlalchemy.engine.base.Engine SELECT CAST('test plain returns' AS VARCHAR(60)) AS anon_1\n",
      "2020-03-13 12:23:41,829 INFO sqlalchemy.engine.base.Engine ()\n",
      "2020-03-13 12:23:42,028 INFO sqlalchemy.engine.base.Engine SELECT CAST('test unicode returns' AS NVARCHAR(60)) AS anon_1\n",
      "2020-03-13 12:23:42,028 INFO sqlalchemy.engine.base.Engine ()\n"
     ]
    },
    {
     "name": "stderr",
     "output_type": "stream",
     "text": [
      "C:\\Users\\TE386850\\AppData\\Local\\Continuum\\anaconda3\\lib\\site-packages\\sqlalchemy\\engine\\default.py:384: SAWarning: Exception attempting to detect unicode returns: ProgrammingError(\"(pyodbc.ProgrammingError) ('25P02', '[25P02] [Amazon][Amazon Redshift] (30) Error occurred while trying to execute a query: [SQLState 25P02] ERROR:  current transaction is aborted, commands ignored until end of transaction block\\\\n (30) (SQLExecDirectW)')\")\n",
      "  \"detect unicode returns: %r\" % de\n"
     ]
    },
    {
     "data": {
      "text/plain": [
       "True"
      ]
     },
     "execution_count": 4,
     "metadata": {},
     "output_type": "execute_result"
    }
   ],
   "source": [
    "sqldb.check_if_exists(table=\"table_tutorial\", schema=\"administration\")"
   ]
  },
  {
   "cell_type": "code",
   "execution_count": 5,
   "metadata": {},
   "outputs": [
    {
     "name": "stdout",
     "output_type": "stream",
     "text": [
      "2020-03-13 12:23:58,558 INFO sqlalchemy.engine.base.Engine SELECT CAST(SERVERPROPERTY('ProductVersion') AS VARCHAR)\n",
      "2020-03-13 12:23:58,558 INFO sqlalchemy.engine.base.Engine ()\n",
      "2020-03-13 12:23:59,039 INFO sqlalchemy.engine.base.Engine SELECT CAST('test plain returns' AS VARCHAR(60)) AS anon_1\n",
      "2020-03-13 12:23:59,039 INFO sqlalchemy.engine.base.Engine ()\n",
      "2020-03-13 12:23:59,196 INFO sqlalchemy.engine.base.Engine SELECT CAST('test unicode returns' AS NVARCHAR(60)) AS anon_1\n",
      "2020-03-13 12:23:59,196 INFO sqlalchemy.engine.base.Engine ()\n"
     ]
    },
    {
     "data": {
      "text/plain": [
       "(['col1', 'col2', 'col3', 'col4'],\n",
       " ['character varying',\n",
       "  'double precision',\n",
       "  'character varying',\n",
       "  'double precision'])"
      ]
     },
     "execution_count": 5,
     "metadata": {},
     "output_type": "execute_result"
    }
   ],
   "source": [
    "sqldb.get_columns(table=\"table_tutorial\", schema=\"administration\", column_types=True)"
   ]
  },
  {
   "cell_type": "code",
   "execution_count": null,
   "metadata": {},
   "outputs": [],
   "source": [
    "Config().add_keys(data={\"new_key\": {\"sqldb\": {\"redshift\": \"mssql+pyodbc://Redshift\", \"denodo\": \"mssql+pyodbc://DenodoODBC\"}}})"
   ]
  },
  {
   "cell_type": "code",
   "execution_count": null,
   "metadata": {},
   "outputs": [],
   "source": [
    "sqldb = SQLDB(db=\"redshift\", config_key=\"new_key\")\n",
    "sqldb.engine_str"
   ]
  },
  {
   "cell_type": "code",
   "execution_count": null,
   "metadata": {},
   "outputs": [],
   "source": [
    "sqldb.check_if_exists(table=\"table_tutorial\", schema=\"administration\")"
   ]
  },
  {
   "cell_type": "code",
   "execution_count": 8,
   "metadata": {},
   "outputs": [
    {
     "name": "stdout",
     "output_type": "stream",
     "text": [
      "Table CREATE TABLE sandbox.test_k (col1 varchar, col2 int) has been created successfully.\n"
     ]
    },
    {
     "data": {
      "text/plain": [
       "<grizly.tools.sqldb.SQLDB at 0x2748d4cf848>"
      ]
     },
     "execution_count": 8,
     "metadata": {},
     "output_type": "execute_result"
    }
   ],
   "source": [
    "sqldb.create_table(table=\"test_k\", columns=[\"col1\", \"col2\"], types=[\"varchar\", \"int\"], schema=\"sandbox\")"
   ]
  },
  {
   "cell_type": "code",
   "execution_count": 6,
   "metadata": {},
   "outputs": [
    {
     "name": "stdout",
     "output_type": "stream",
     "text": [
      "2020-03-13 12:24:14,174 INFO sqlalchemy.engine.base.Engine SELECT CAST(SERVERPROPERTY('ProductVersion') AS VARCHAR)\n",
      "2020-03-13 12:24:14,174 INFO sqlalchemy.engine.base.Engine ()\n",
      "2020-03-13 12:24:14,487 INFO sqlalchemy.engine.base.Engine SELECT CAST('test plain returns' AS VARCHAR(60)) AS anon_1\n",
      "2020-03-13 12:24:14,487 INFO sqlalchemy.engine.base.Engine ()\n",
      "2020-03-13 12:24:14,645 INFO sqlalchemy.engine.base.Engine SELECT CAST('test unicode returns' AS NVARCHAR(60)) AS anon_1\n",
      "2020-03-13 12:24:14,660 INFO sqlalchemy.engine.base.Engine ()\n",
      "2020-03-13 12:24:16,674 INFO sqlalchemy.engine.base.Engine SELECT CAST(SERVERPROPERTY('ProductVersion') AS VARCHAR)\n",
      "2020-03-13 12:24:16,674 INFO sqlalchemy.engine.base.Engine ()\n",
      "2020-03-13 12:24:16,987 INFO sqlalchemy.engine.base.Engine SELECT CAST('test plain returns' AS VARCHAR(60)) AS anon_1\n",
      "2020-03-13 12:24:16,987 INFO sqlalchemy.engine.base.Engine ()\n",
      "2020-03-13 12:24:17,149 INFO sqlalchemy.engine.base.Engine SELECT CAST('test unicode returns' AS NVARCHAR(60)) AS anon_1\n",
      "2020-03-13 12:24:17,149 INFO sqlalchemy.engine.base.Engine ()\n"
     ]
    },
    {
     "data": {
      "text/plain": [
       "<grizly.tools.sqldb.SQLDB at 0x15dbb36f488>"
      ]
     },
     "execution_count": 6,
     "metadata": {},
     "output_type": "execute_result"
    }
   ],
   "source": [
    "sqldb.insert_into(table=\"test_k\", columns=[\"col1\"], sql=\"SELECT col1 from administration.table_tutorial\", schema=\"sandbox\")"
   ]
  },
  {
   "cell_type": "code",
   "execution_count": 7,
   "metadata": {},
   "outputs": [
    {
     "name": "stdout",
     "output_type": "stream",
     "text": [
      "2020-03-13 12:24:25,788 INFO sqlalchemy.engine.base.Engine SELECT CAST(SERVERPROPERTY('ProductVersion') AS VARCHAR)\n",
      "2020-03-13 12:24:25,788 INFO sqlalchemy.engine.base.Engine ()\n",
      "2020-03-13 12:24:26,110 INFO sqlalchemy.engine.base.Engine SELECT CAST('test plain returns' AS VARCHAR(60)) AS anon_1\n",
      "2020-03-13 12:24:26,110 INFO sqlalchemy.engine.base.Engine ()\n",
      "2020-03-13 12:24:26,289 INFO sqlalchemy.engine.base.Engine SELECT CAST('test unicode returns' AS NVARCHAR(60)) AS anon_1\n",
      "2020-03-13 12:24:26,289 INFO sqlalchemy.engine.base.Engine ()\n",
      "2020-03-13 12:24:28,331 INFO sqlalchemy.engine.base.Engine SELECT CAST(SERVERPROPERTY('ProductVersion') AS VARCHAR)\n",
      "2020-03-13 12:24:28,331 INFO sqlalchemy.engine.base.Engine ()\n",
      "2020-03-13 12:24:28,682 INFO sqlalchemy.engine.base.Engine SELECT CAST('test plain returns' AS VARCHAR(60)) AS anon_1\n",
      "2020-03-13 12:24:28,682 INFO sqlalchemy.engine.base.Engine ()\n",
      "2020-03-13 12:24:28,842 INFO sqlalchemy.engine.base.Engine SELECT CAST('test unicode returns' AS NVARCHAR(60)) AS anon_1\n",
      "2020-03-13 12:24:28,842 INFO sqlalchemy.engine.base.Engine ()\n",
      "Records from table sandbox.test_k where col2 is NULL  has been removed successfully.\n"
     ]
    },
    {
     "data": {
      "text/plain": [
       "<grizly.tools.sqldb.SQLDB at 0x15dbb36f488>"
      ]
     },
     "execution_count": 7,
     "metadata": {},
     "output_type": "execute_result"
    }
   ],
   "source": [
    "sqldb.delete_from(table=\"test_k\", schema=\"sandbox\", where=\"col2 is NULL \")"
   ]
  }
 ],
 "metadata": {
  "kernelspec": {
   "display_name": "Python 3",
   "language": "python",
   "name": "python3"
  },
  "language_info": {
   "codemirror_mode": {
    "name": "ipython",
    "version": 3
   },
   "file_extension": ".py",
   "mimetype": "text/x-python",
   "name": "python",
   "nbconvert_exporter": "python",
   "pygments_lexer": "ipython3",
   "version": "3.7.4"
  }
 },
 "nbformat": 4,
 "nbformat_minor": 4
}
