{
 "cells": [
  {
   "cell_type": "markdown",
   "metadata": {},
   "source": [
    "# Extract"
   ]
  },
  {
   "cell_type": "markdown",
   "metadata": {},
   "source": [
    "## Table of contents\n",
    "1. [What is an Extract?](#whatis)\n",
    "2. [How to create an Extract?](#howto)\n",
    "3. [Tips & tricks](#tricks)"
   ]
  },
  {
   "cell_type": "markdown",
   "metadata": {},
   "source": [
    "## 0. Tutorial setup"
   ]
  },
  {
   "cell_type": "code",
   "execution_count": 2,
   "metadata": {},
   "outputs": [],
   "source": [
    "import logging\n",
    "\n",
    "logging.basicConfig(level=logging.INFO)"
   ]
  },
  {
   "cell_type": "markdown",
   "metadata": {},
   "source": [
    "## 1. What is an Extract? <a name=\"whatis\"></a>"
   ]
  },
  {
   "cell_type": "markdown",
   "metadata": {},
   "source": [
    "Extract is a tool for migrating data between different databases.\n",
    "<br>\n",
    "Currently, only `S3` is supported as storage backend."
   ]
  },
  {
   "cell_type": "markdown",
   "metadata": {},
   "source": [
    "## 2. How to create an Extract? <a name=\"howto\"></a>"
   ]
  },
  {
   "cell_type": "markdown",
   "metadata": {},
   "source": [
    "You can create an extract either by 1) providing the required parameters, or 2) creating a JSON file with the definition of the extract.\n",
    "1. `extract = Exctract(name=my_name, qf=my_qf, ...)`\n",
    "2. `extract = Extract.from_json(json_path)`"
   ]
  },
  {
   "cell_type": "markdown",
   "metadata": {},
   "source": [
    "### 2.1 Pure python"
   ]
  },
  {
   "cell_type": "code",
   "execution_count": 3,
   "metadata": {},
   "outputs": [],
   "source": [
    "from grizly import QFrame, Extract, SchedulerDB\n",
    "\n",
    "qf = QFrame(dsn=\"DenodoODBC\", schema=\"te_industrial\", table=\"grizly\")\n",
    "extract = Extract(\n",
    "    name=\"Extract Tutorial\",\n",
    "    qf=qf,\n",
    "    output_dsn=\"redshift_acoe\",\n",
    "    partition_cols=[\"country\"],\n",
    "    dask_scheduler_address=\"dask_scheduler:8786\",\n",
    "    if_exists=\"replace\"\n",
    ")"
   ]
  },
  {
   "cell_type": "code",
   "execution_count": 3,
   "metadata": {},
   "outputs": [
    {
     "name": "stdout",
     "output_type": "stream",
     "text": [
      "qf                                                                      SQLDriver\n",
      "name                                                             Extract Tutorial\n",
      "staging_schema                                                      acoe_spectrum\n",
      "staging_table                                                    extract_tutorial\n",
      "prod_schema                                                            data_loads\n",
      "\u001b[33mprod_table\u001b[0m                                                                   \u001b[33mNone\u001b[0m\n",
      "output_dsn                                                          redshift_acoe\n",
      "\u001b[33moutput_dialect\u001b[0m                                                               \u001b[33mNone\u001b[0m\n",
      "\u001b[33moutput_source_name\u001b[0m                                                           \u001b[33mNone\u001b[0m\n",
      "output_table_type                                                        external\n",
      "autocast                                                                     True\n",
      "s3_root_url                               s3://acoe-s3/extracts/extract_tutorial/\n",
      "s3_bucket                                                                 acoe-s3\n",
      "dask_scheduler_address                                        dask_scheduler:8786\n",
      "if_exists                                                                 replace\n",
      "priority                                                                       -1\n",
      "name_snake_case                                                  extract_tutorial\n",
      "output_source                                       Redshift(dsn='redshift_acoe')\n",
      "s3_staging_url                s3://acoe-s3/extracts/extract_tutorial/data/staging\n",
      "table_if_exists                                                              drop\n",
      "logger                        <Logger distributed.worker.extract_tutorial (INFO)>\n",
      "partition_cols                                                        ['country']\n",
      "\n"
     ]
    }
   ],
   "source": [
    "print(extract)"
   ]
  },
  {
   "cell_type": "code",
   "execution_count": 4,
   "metadata": {},
   "outputs": [
    {
     "name": "stderr",
     "output_type": "stream",
     "text": [
      "2020-11-30 12:55:04,371 - distributed.worker.extract_tutorial - INFO - Submitting job Extract Tutorial...\n",
      "2020-11-30 12:55:17,280 - distributed.worker.extract_tutorial - INFO - Job Extract Tutorial finished with status success\n"
     ]
    },
    {
     "data": {
      "text/plain": [
       "True"
      ]
     },
     "execution_count": 4,
     "metadata": {},
     "output_type": "execute_result"
    }
   ],
   "source": [
    "local_registry = SchedulerDB(\"pytest_redis\")\n",
    "extract.submit(registry=local_registry)"
   ]
  },
  {
   "cell_type": "markdown",
   "metadata": {},
   "source": [
    "### 2.2 JSON\n",
    "* See [Extract store documentation](#extract_store) for more information"
   ]
  },
  {
   "cell_type": "markdown",
   "metadata": {},
   "source": [
    "We are using the input `QFrame`'s store as the base for extract's store, additionally wrapping it with additional extract-specific parameters. The store if then of the structure:\n",
    "```json\n",
    "\"extract\": {\n",
    "    \"name\": \"My Extract\",\n",
    "    \"qframe\": \"qframe's store here...\",\n",
    "    \"param1\": \"val1\",\n",
    "    \"param2\": \"val2\",\n",
    "    ...\n",
    "}\n",
    "```\n",
    "\n",
    "The store may differ depending on the input database. For example, for Denodo extracts, the user needs to specify a list of columns that will be used for partitioning the data into multiple chunks that will be downloaded in parallel. See [Denodo Extract](#denodo_extract) for more information.\n",
    "\n",
    "**As of 0.4.0, there is no automated way of creating an Extract store.** For now, it's best to use an existing `QFrame` store and work from there."
   ]
  },
  {
   "cell_type": "code",
   "execution_count": 19,
   "metadata": {},
   "outputs": [
    {
     "name": "stdout",
     "output_type": "stream",
     "text": [
      "{'dask_scheduler_address': 'dask_scheduler:8786',\n",
      " 'if_exists': 'replace',\n",
      " 'name': 'Extract Tutorial',\n",
      " 'output_db': None,\n",
      " 'output_dialect': None,\n",
      " 'output_dsn': 'redshift_acoe',\n",
      " 'output_table_type': None,\n",
      " 'partition_cols': <BoxList: ['country']>,\n",
      " 'priority': None,\n",
      " 'prod_schema': None,\n",
      " 'prod_table': None,\n",
      " 'qframe': {'select': {'distinct': '',\n",
      "                       'fields': {'billings': {'as': '',\n",
      "                                               'dtype': 'DOUBLE',\n",
      "                                               'expression': '',\n",
      "                                               'group_by': '',\n",
      "                                               'order_by': '',\n",
      "                                               'select': ''},\n",
      "                                  'city': {'as': '',\n",
      "                                           'dtype': 'VARCHAR(200)',\n",
      "                                           'expression': '',\n",
      "                                           'group_by': '',\n",
      "                                           'order_by': '',\n",
      "                                           'select': ''},\n",
      "                                  'country': {'as': '',\n",
      "                                              'dtype': 'VARCHAR(200)',\n",
      "                                              'expression': '',\n",
      "                                              'group_by': '',\n",
      "                                              'order_by': '',\n",
      "                                              'select': ''},\n",
      "                                  'region': {'as': '',\n",
      "                                             'dtype': 'VARCHAR(200)',\n",
      "                                             'expression': '',\n",
      "                                             'group_by': '',\n",
      "                                             'order_by': '',\n",
      "                                             'select': ''}},\n",
      "                       'having': '',\n",
      "                       'limit': '',\n",
      "                       'offset': '',\n",
      "                       'schema': 'te_industrial',\n",
      "                       'source': {'dialect': '',\n",
      "                                  'dsn': 'DenodoODBC',\n",
      "                                  'source_name': 'denodo'},\n",
      "                       'sql_blocks': {'group_dimensions': <BoxList: []>,\n",
      "                                      'group_values': <BoxList: []>,\n",
      "                                      'order_by': <BoxList: []>,\n",
      "                                      'select_aliases': <BoxList: ['billings', 'city', 'country', 'region']>,\n",
      "                                      'select_names': <BoxList: ['\"billings\"', '\"city\"', '\"country\"', '\"region\"']>,\n",
      "                                      'types': <BoxList: ['DOUBLE', 'VARCHAR(200)', 'VARCHAR(200)', 'VARCHAR(200)']>},\n",
      "                       'table': 'grizly',\n",
      "                       'where': ''}},\n",
      " 's3_bucket': None,\n",
      " 's3_root_url': None,\n",
      " 'staging_schema': 'acoe_spectrum',\n",
      " 'staging_table': None,\n",
      " 'validation': Store({'groupby': ['country', 'city'], 'sum': ['billings']})}\n"
     ]
    }
   ],
   "source": [
    "from grizly import Store\n",
    "from pprint import pprint\n",
    "\n",
    "store = Store.from_json(\"s3://acoe-s3/extracts/extract_tutorial/extract_tutorial.json\")\n",
    "pprint(store.extract)"
   ]
  },
  {
   "cell_type": "code",
   "execution_count": 1,
   "metadata": {},
   "outputs": [
    {
     "name": "stdout",
     "output_type": "stream",
     "text": [
      "qf                                                                      SQLDriver\n",
      "name                                                             Extract Tutorial\n",
      "staging_schema                                                      acoe_spectrum\n",
      "staging_table                                                    extract_tutorial\n",
      "prod_schema                                                            data_loads\n",
      "\u001b[33mprod_table\u001b[0m                                                                   \u001b[33mNone\u001b[0m\n",
      "output_dsn                                                          redshift_acoe\n",
      "\u001b[33moutput_dialect\u001b[0m                                                               \u001b[33mNone\u001b[0m\n",
      "\u001b[33moutput_source_name\u001b[0m                                                           \u001b[33mNone\u001b[0m\n",
      "output_table_type                                                        external\n",
      "autocast                                                                     True\n",
      "s3_root_url                               s3://acoe-s3/extracts/extract_tutorial/\n",
      "s3_bucket                                                                 acoe-s3\n",
      "dask_scheduler_address                                        dask_scheduler:8786\n",
      "if_exists                                                                 replace\n",
      "priority                                                                       -1\n",
      "name_snake_case                                                  extract_tutorial\n",
      "output_source                                       Redshift(dsn='redshift_acoe')\n",
      "s3_staging_url                s3://acoe-s3/extracts/extract_tutorial/data/staging\n",
      "table_if_exists                                                              drop\n",
      "logger                        <Logger distributed.worker.extract_tutorial (INFO)>\n",
      "partition_cols                                                        ['country']\n",
      "\n"
     ]
    }
   ],
   "source": [
    "from grizly import QFrame, Extract, SchedulerDB\n",
    "from grizly.config import config\n",
    "\n",
    "bucket = config.get_service(\"s3\").get(\"bucket\")\n",
    "\n",
    "extract = Extract.from_json(\"s3://acoe-s3/extracts/extract_tutorial/extract_tutorial.json\")\n",
    "print(extract)"
   ]
  },
  {
   "cell_type": "code",
   "execution_count": 20,
   "metadata": {},
   "outputs": [
    {
     "name": "stderr",
     "output_type": "stream",
     "text": [
      "2020-11-30 12:45:16,811 - distributed.worker.extract_tutorial - INFO - Job Extract Tutorial successfully registered\n",
      "2020-11-30 12:45:16,827 - distributed.worker.extract_tutorial - INFO - Submitting job Extract Tutorial...\n",
      "2020-11-30 12:45:28,915 - distributed.worker.extract_tutorial - INFO - Job Extract Tutorial finished with status success\n"
     ]
    },
    {
     "data": {
      "text/plain": [
       "True"
      ]
     },
     "execution_count": 20,
     "metadata": {},
     "output_type": "execute_result"
    }
   ],
   "source": [
    "local_registry = SchedulerDB(\"pytest_redis\")\n",
    "extract.submit(registry=local_registry)"
   ]
  },
  {
   "cell_type": "markdown",
   "metadata": {},
   "source": [
    "## 3. Extract types"
   ]
  },
  {
   "cell_type": "markdown",
   "metadata": {},
   "source": [
    "### 3.1 Denodo <a name=\"denodo_extract\"></a>"
   ]
  },
  {
   "cell_type": "markdown",
   "metadata": {},
   "source": [
    "There are several strategies for selecting an optimal partition column. The goal is to have data split into 2-300 (depending on the size of data) more or less equal parts. One good idea is to use GROUPBYs on columns that seem like good candidates (eg. years, months). Another method utilizing a pandas DataFrame is shown below."
   ]
  },
  {
   "cell_type": "markdown",
   "metadata": {},
   "source": [
    "1. Find columns with relatively few unique values"
   ]
  },
  {
   "cell_type": "code",
   "execution_count": 2,
   "metadata": {},
   "outputs": [
    {
     "data": {
      "text/plain": [
       "TrackId         3503\n",
       "Name            3257\n",
       "AlbumId          347\n",
       "MediaTypeId        5\n",
       "GenreId           25\n",
       "Composer         852\n",
       "Milliseconds    3080\n",
       "Bytes           3501\n",
       "UnitPrice          2\n",
       "dtype: int64"
      ]
     },
     "execution_count": 2,
     "metadata": {},
     "output_type": "execute_result"
    }
   ],
   "source": [
    "df = qf.to_df()\n",
    "df.nunique()"
   ]
  },
  {
   "cell_type": "markdown",
   "metadata": {},
   "source": [
    "2. Check the distribution of values"
   ]
  },
  {
   "cell_type": "code",
   "execution_count": 3,
   "metadata": {},
   "outputs": [
    {
     "name": "stdout",
     "output_type": "stream",
     "text": [
      "Looking in indexes: https://pypi.org/simple, http://acoe.connect.te.com\n",
      "Collecting matplotlib\n",
      "  Using cached matplotlib-3.3.3-cp38-cp38-manylinux1_x86_64.whl (11.6 MB)\n",
      "Collecting cycler>=0.10\n",
      "  Using cached cycler-0.10.0-py2.py3-none-any.whl (6.5 kB)\n",
      "Requirement already satisfied: pillow>=6.2.0 in /usr/local/lib/python3.8/site-packages (from matplotlib) (7.2.0)\n",
      "Requirement already satisfied: pyparsing!=2.0.4,!=2.1.2,!=2.1.6,>=2.0.3 in /usr/local/lib/python3.8/site-packages (from matplotlib) (2.4.7)\n",
      "Requirement already satisfied: python-dateutil>=2.1 in /usr/local/lib/python3.8/site-packages (from matplotlib) (2.8.1)\n",
      "Requirement already satisfied: numpy>=1.15 in /usr/local/lib/python3.8/site-packages (from matplotlib) (1.19.1)\n",
      "Collecting kiwisolver>=1.0.1\n",
      "  Using cached kiwisolver-1.3.1-cp38-cp38-manylinux1_x86_64.whl (1.2 MB)\n",
      "Requirement already satisfied: six in /usr/local/lib/python3.8/site-packages (from cycler>=0.10->matplotlib) (1.15.0)\n",
      "Installing collected packages: cycler, kiwisolver, matplotlib\n",
      "Successfully installed cycler-0.10.0 kiwisolver-1.3.1 matplotlib-3.3.3\n"
     ]
    }
   ],
   "source": [
    "!pip install matplotlib"
   ]
  },
  {
   "cell_type": "code",
   "execution_count": 4,
   "metadata": {},
   "outputs": [
    {
     "data": {
      "text/plain": [
       "<AxesSubplot:>"
      ]
     },
     "execution_count": 4,
     "metadata": {},
     "output_type": "execute_result"
    },
    {
     "data": {
      "image/png": "[encoded data removed]",
      "text/plain": [
       "<Figure size 432x288 with 1 Axes>"
      ]
     },
     "metadata": {
      "needs_background": "light"
     },
     "output_type": "display_data"
    }
   ],
   "source": [
    "df.UnitPrice.value_counts().plot(kind=\"bar\")"
   ]
  },
  {
   "cell_type": "code",
   "execution_count": 5,
   "metadata": {},
   "outputs": [
    {
     "data": {
      "text/plain": [
       "<AxesSubplot:>"
      ]
     },
     "execution_count": 5,
     "metadata": {},
     "output_type": "execute_result"
    },
    {
     "data": {
      "image/png": "[encoded data removed]",
      "text/plain": [
       "<Figure size 432x288 with 1 Axes>"
      ]
     },
     "metadata": {
      "needs_background": "light"
     },
     "output_type": "display_data"
    }
   ],
   "source": [
    "df.MediaTypeId.value_counts().plot(kind=\"bar\")"
   ]
  },
  {
   "cell_type": "code",
   "execution_count": 6,
   "metadata": {},
   "outputs": [
    {
     "data": {
      "text/plain": [
       "<AxesSubplot:>"
      ]
     },
     "execution_count": 6,
     "metadata": {},
     "output_type": "execute_result"
    },
    {
     "data": {
      "image/png": "[encoded data removed]",
      "text/plain": [
       "<Figure size 432x288 with 1 Axes>"
      ]
     },
     "metadata": {
      "needs_background": "light"
     },
     "output_type": "display_data"
    }
   ],
   "source": [
    "df.GenreId.value_counts().plot(kind=\"bar\")        "
   ]
  },
  {
   "cell_type": "markdown",
   "metadata": {},
   "source": [
    "It seems like the GenreId column has the most optimal distribution."
   ]
  },
  {
   "cell_type": "markdown",
   "metadata": {},
   "source": [
    "### 3.2 SFDC"
   ]
  },
  {
   "cell_type": "markdown",
   "metadata": {},
   "source": [
    "The SFDC Extract automatically chunks data, so here we only need to pass whatever settings we need for our load. Below is a working example, extracting some sample data from the `Account` table."
   ]
  },
  {
   "cell_type": "code",
   "execution_count": 5,
   "metadata": {},
   "outputs": [
    {
     "name": "stdout",
     "output_type": "stream",
     "text": [
      "qf                                                                     SFDCDriver\n",
      "name                                                        Tutorial SFDC Extract\n",
      "staging_schema                                                      acoe_spectrum\n",
      "staging_table                                               tutorial_sfdc_extract\n",
      "prod_schema                                                            data_loads\n",
      "\u001b[33mprod_table\u001b[0m                                                                   \u001b[33mNone\u001b[0m\n",
      "output_dsn                                                          redshift_acoe\n",
      "\u001b[33moutput_dialect\u001b[0m                                                               \u001b[33mNone\u001b[0m\n",
      "\u001b[33moutput_source_name\u001b[0m                                                           \u001b[33mNone\u001b[0m\n",
      "output_table_type                                                        external\n",
      "autocast                                                                     True\n",
      "s3_root_url                          s3://acoe-s3/extracts/tutorial_sfdc_extract/\n",
      "s3_bucket                                                                 acoe-s3\n",
      "dask_scheduler_address                                        dask_scheduler:8786\n",
      "if_exists                                                                  append\n",
      "priority                                                                       -1\n",
      "name_snake_case                                             tutorial_sfdc_extract\n",
      "output_source                                       Redshift(dsn='redshift_acoe')\n",
      "s3_staging_url           s3://acoe-s3/extracts/tutorial_sfdc_extract/data/staging\n",
      "table_if_exists                                                              skip\n",
      "logger                   <Logger distributed.worker.tutorial_sfdc_extract (INFO)>\n",
      "\n"
     ]
    }
   ],
   "source": [
    "from grizly import QFrame, Extract, SchedulerDB\n",
    "\n",
    "qf = QFrame(dsn=\"sfdc\", table=\"Account\").limit(1000)\n",
    "qf.remove_compound_fields()\n",
    "extract = Extract(\n",
    "    name=\"Tutorial SFDC Extract\",\n",
    "    qf=qf,\n",
    "    output_dsn=\"redshift_acoe\",\n",
    "    dask_scheduler_address=\"dask_scheduler:8786\"\n",
    ")\n",
    "\n",
    "print(extract)"
   ]
  },
  {
   "cell_type": "code",
   "execution_count": 6,
   "metadata": {},
   "outputs": [
    {
     "name": "stderr",
     "output_type": "stream",
     "text": [
      "2020-11-30 12:57:48,207 - distributed.worker.tutorial_sfdc_extract - INFO - Generating tasks...\n",
      "2020-11-30 12:57:52,377 - distributed.worker.tutorial_sfdc_extract - INFO - Tasks generated successfully\n"
     ]
    },
    {
     "ename": "JobAlreadyRunningError",
     "evalue": "Job Tutorial SFDC Extract is already running. Please use Job.stop() or Job.restart()",
     "output_type": "error",
     "traceback": [
      "\u001b[0;31m---------------------------------------------------------------------------\u001b[0m",
      "\u001b[0;31mJobAlreadyRunningError\u001b[0m                    Traceback (most recent call last)",
      "\u001b[0;32m<ipython-input-6-4e698d07f85d>\u001b[0m in \u001b[0;36m<module>\u001b[0;34m\u001b[0m\n\u001b[1;32m      1\u001b[0m \u001b[0mlocal_registry\u001b[0m \u001b[0;34m=\u001b[0m \u001b[0mSchedulerDB\u001b[0m\u001b[0;34m(\u001b[0m\u001b[0;34m\"pytest_redis\"\u001b[0m\u001b[0;34m)\u001b[0m\u001b[0;34m\u001b[0m\u001b[0;34m\u001b[0m\u001b[0m\n\u001b[0;32m----> 2\u001b[0;31m \u001b[0mextract\u001b[0m\u001b[0;34m.\u001b[0m\u001b[0msubmit\u001b[0m\u001b[0;34m(\u001b[0m\u001b[0mregistry\u001b[0m\u001b[0;34m=\u001b[0m\u001b[0mlocal_registry\u001b[0m\u001b[0;34m)\u001b[0m\u001b[0;34m\u001b[0m\u001b[0;34m\u001b[0m\u001b[0m\n\u001b[0m",
      "\u001b[0;32m~/grizly_dev/grizly/tools/extract.py\u001b[0m in \u001b[0;36msubmit\u001b[0;34m(self, registry, reregister, **kwargs)\u001b[0m\n\u001b[1;32m    280\u001b[0m         \u001b[0mif_exists\u001b[0m \u001b[0;34m=\u001b[0m \u001b[0;34m\"replace\"\u001b[0m \u001b[0;32mif\u001b[0m \u001b[0mreregister\u001b[0m \u001b[0;32melse\u001b[0m \u001b[0;34m\"skip\"\u001b[0m\u001b[0;34m\u001b[0m\u001b[0;34m\u001b[0m\u001b[0m\n\u001b[1;32m    281\u001b[0m         \u001b[0mself\u001b[0m\u001b[0;34m.\u001b[0m\u001b[0mregister\u001b[0m\u001b[0;34m(\u001b[0m\u001b[0mregistry\u001b[0m\u001b[0;34m=\u001b[0m\u001b[0mregistry\u001b[0m\u001b[0;34m,\u001b[0m \u001b[0mif_exists\u001b[0m\u001b[0;34m=\u001b[0m\u001b[0mif_exists\u001b[0m\u001b[0;34m)\u001b[0m\u001b[0;34m\u001b[0m\u001b[0;34m\u001b[0m\u001b[0m\n\u001b[0;32m--> 282\u001b[0;31m         \u001b[0mself\u001b[0m\u001b[0;34m.\u001b[0m\u001b[0mextract_job\u001b[0m\u001b[0;34m.\u001b[0m\u001b[0msubmit\u001b[0m\u001b[0;34m(\u001b[0m\u001b[0mscheduler_address\u001b[0m\u001b[0;34m=\u001b[0m\u001b[0mself\u001b[0m\u001b[0;34m.\u001b[0m\u001b[0mdask_scheduler_address\u001b[0m\u001b[0;34m,\u001b[0m \u001b[0;34m**\u001b[0m\u001b[0mkwargs\u001b[0m\u001b[0;34m)\u001b[0m\u001b[0;34m\u001b[0m\u001b[0;34m\u001b[0m\u001b[0m\n\u001b[0m\u001b[1;32m    283\u001b[0m         \u001b[0;32mreturn\u001b[0m \u001b[0;32mTrue\u001b[0m\u001b[0;34m\u001b[0m\u001b[0;34m\u001b[0m\u001b[0m\n\u001b[1;32m    284\u001b[0m \u001b[0;34m\u001b[0m\u001b[0m\n",
      "\u001b[0;32m~/grizly_dev/grizly/scheduling/registry.py\u001b[0m in \u001b[0;36mwrapped\u001b[0;34m(self, *args, **kwargs)\u001b[0m\n\u001b[1;32m     51\u001b[0m                     \u001b[0mself\u001b[0m\u001b[0;34m.\u001b[0m\u001b[0mlogger\u001b[0m\u001b[0;34m.\u001b[0m\u001b[0mwarning\u001b[0m\u001b[0;34m(\u001b[0m\u001b[0;34mf\"{self} not found in the registry\"\u001b[0m\u001b[0;34m)\u001b[0m\u001b[0;34m\u001b[0m\u001b[0;34m\u001b[0m\u001b[0m\n\u001b[1;32m     52\u001b[0m \u001b[0;34m\u001b[0m\u001b[0m\n\u001b[0;32m---> 53\u001b[0;31m             \u001b[0;32mreturn\u001b[0m \u001b[0mf\u001b[0m\u001b[0;34m(\u001b[0m\u001b[0mself\u001b[0m\u001b[0;34m,\u001b[0m \u001b[0;34m*\u001b[0m\u001b[0margs\u001b[0m\u001b[0;34m,\u001b[0m \u001b[0;34m**\u001b[0m\u001b[0mkwargs\u001b[0m\u001b[0;34m)\u001b[0m\u001b[0;34m\u001b[0m\u001b[0;34m\u001b[0m\u001b[0m\n\u001b[0m\u001b[1;32m     54\u001b[0m \u001b[0;34m\u001b[0m\u001b[0m\n\u001b[1;32m     55\u001b[0m         \u001b[0;32mreturn\u001b[0m \u001b[0mwrapped\u001b[0m\u001b[0;34m\u001b[0m\u001b[0;34m\u001b[0m\u001b[0m\n",
      "\u001b[0;32m~/grizly_dev/grizly/scheduling/registry.py\u001b[0m in \u001b[0;36msubmit\u001b[0;34m(self, client, scheduler_address, priority, to_dask)\u001b[0m\n\u001b[1;32m   1030\u001b[0m         \u001b[0;32mif\u001b[0m \u001b[0mself\u001b[0m\u001b[0;34m.\u001b[0m\u001b[0m_is_running\u001b[0m\u001b[0;34m(\u001b[0m\u001b[0;34m)\u001b[0m\u001b[0;34m:\u001b[0m\u001b[0;34m\u001b[0m\u001b[0;34m\u001b[0m\u001b[0m\n\u001b[1;32m   1031\u001b[0m             \u001b[0mmsg\u001b[0m \u001b[0;34m=\u001b[0m \u001b[0;34mf\"Job {self.name} is already running. Please use Job.stop() or Job.restart()\"\u001b[0m\u001b[0;34m\u001b[0m\u001b[0;34m\u001b[0m\u001b[0m\n\u001b[0;32m-> 1032\u001b[0;31m             \u001b[0;32mraise\u001b[0m \u001b[0mJobAlreadyRunningError\u001b[0m\u001b[0;34m(\u001b[0m\u001b[0mmsg\u001b[0m\u001b[0;34m)\u001b[0m\u001b[0;34m\u001b[0m\u001b[0;34m\u001b[0m\u001b[0m\n\u001b[0m\u001b[1;32m   1033\u001b[0m \u001b[0;34m\u001b[0m\u001b[0m\n\u001b[1;32m   1034\u001b[0m         \u001b[0;32mif\u001b[0m \u001b[0mto_dask\u001b[0m\u001b[0;34m:\u001b[0m\u001b[0;34m\u001b[0m\u001b[0;34m\u001b[0m\u001b[0m\n",
      "\u001b[0;31mJobAlreadyRunningError\u001b[0m: Job Tutorial SFDC Extract is already running. Please use Job.stop() or Job.restart()"
     ]
    }
   ],
   "source": [
    "local_registry = SchedulerDB(\"pytest_redis\")\n",
    "extract.submit(registry=local_registry)"
   ]
  },
  {
   "cell_type": "markdown",
   "metadata": {},
   "source": [
    "### 2.2 Create a folder for assets in S3\n",
    "We'll be storing some assets on S3, so go ahead and create a folder for your extract in S3. By default, Extract will look for store in `s3://your_bucket/extracts/your_extract_name`. However you can modify this behavior by specifying the `s3_root_url` parameter, eg. to \n",
    "```python\n",
    "f\"s3://{my_bucket}/my/path/\"\n",
    "```"
   ]
  },
  {
   "cell_type": "markdown",
   "metadata": {},
   "source": [
    "## 4. Tips & tricks"
   ]
  },
  {
   "cell_type": "markdown",
   "metadata": {},
   "source": [
    "### 4.1 Utilizing `if_exists=\"append\"`"
   ]
  },
  {
   "cell_type": "markdown",
   "metadata": {},
   "source": [
    "The `append` parameter allows us to load only the new partitions. For example, if we are loading a table that refreshes weekly, we can provide a set of partition columns that include a week columns, eg.\n",
    "```json\n",
    "{\n",
    "  partitions_list: [\"other_col\", \"week_no\"]\n",
    "}\n",
    "```\n",
    "This way, whenever an Extract with the `append` option is re-run, it will not re-download the parts for existing weeks."
   ]
  },
  {
   "cell_type": "markdown",
   "metadata": {},
   "source": [
    "## 5. Extract store in depth <a name=\"extract_store\"></a>"
   ]
  },
  {
   "cell_type": "code",
   "execution_count": null,
   "metadata": {},
   "outputs": [],
   "source": []
  }
 ],
 "metadata": {
  "kernelspec": {
   "display_name": "Python 3",
   "language": "python",
   "name": "python3"
  },
  "language_info": {
   "codemirror_mode": {
    "name": "ipython",
    "version": 3
   },
   "file_extension": ".py",
   "mimetype": "text/x-python",
   "name": "python",
   "nbconvert_exporter": "python",
   "pygments_lexer": "ipython3",
   "version": "3.8.5"
  }
 },
 "nbformat": 4,
 "nbformat_minor": 4
}
