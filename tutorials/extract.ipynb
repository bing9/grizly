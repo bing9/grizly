{
 "cells": [
  {
   "cell_type": "markdown",
   "metadata": {},
   "source": [
    "# Extract"
   ]
  },
  {
   "cell_type": "markdown",
   "metadata": {},
   "source": [
    "## Table of contents\n",
    "1. [What is an Extract?](#whatis)\n",
    "2. [How to create an Extract?](#howto)\n",
    "3. [Extract types](#types)\n",
    "4. [Tips & tricks](#tricks)"
   ]
  },
  {
   "cell_type": "markdown",
   "metadata": {},
   "source": [
    "## 0. Tutorial setup"
   ]
  },
  {
   "cell_type": "code",
   "execution_count": 1,
   "metadata": {},
   "outputs": [],
   "source": [
    "import logging\n",
    "\n",
    "logging.basicConfig(level=logging.INFO)"
   ]
  },
  {
   "cell_type": "markdown",
   "metadata": {},
   "source": [
    "## 1. What is an Extract? <a name=\"whatis\"></a>"
   ]
  },
  {
   "cell_type": "markdown",
   "metadata": {},
   "source": [
    "Extract is a tool for migrating data between different databases. "
   ]
  },
  {
   "cell_type": "markdown",
   "metadata": {},
   "source": [
    "## 2. How to create an Extract? <a name=\"howto\"></a>"
   ]
  },
  {
   "cell_type": "markdown",
   "metadata": {},
   "source": [
    "You can create an extract either by 1) providing the required parameters, or 2) creating a JSON file with the definition of the extract.\n",
    "1. `extract = Exctract(name=my_name, qf=my_qf, ...)`\n",
    "2. `extract = Extract.from_json(json_path)`"
   ]
  },
  {
   "cell_type": "markdown",
   "metadata": {},
   "source": [
    "### 2.0 Create a folder for artifacts in S3\n",
    "We'll be storing some assets on S3, so go ahead and create a folder for your extract. By default, Extract will read/write to `s3://your_bucket/extracts/extract_name_snake_case` ([click](https://en.wikipedia.org/wiki/Snake_case) to learn what snake case is). However you can modify this behavior by specifying the `s3_root_url` parameter."
   ]
  },
  {
   "cell_type": "markdown",
   "metadata": {},
   "source": [
    "### 2.1 Python method"
   ]
  },
  {
   "cell_type": "code",
   "execution_count": 2,
   "metadata": {},
   "outputs": [
    {
     "name": "stderr",
     "output_type": "stream",
     "text": [
      "INFO:botocore.credentials:Found credentials in shared credentials file: ~/.aws/credentials\n"
     ]
    }
   ],
   "source": [
    "from grizly import QFrame, Extract, SchedulerDB\n",
    "\n",
    "qf = QFrame(dsn=\"DenodoODBC\", schema=\"te_industrial\", table=\"grizly\")\n",
    "extract = Extract(\n",
    "    name=\"Extract Tutorial\",\n",
    "    qf=qf,\n",
    "    output_dsn=\"redshift_acoe\",\n",
    "    partition_cols=[\"country\"],\n",
    "    dask_scheduler_address=\"dask_scheduler:8786\",\n",
    "    if_exists=\"replace\"\n",
    ")"
   ]
  },
  {
   "cell_type": "code",
   "execution_count": 3,
   "metadata": {},
   "outputs": [
    {
     "name": "stdout",
     "output_type": "stream",
     "text": [
      "qf                                                                      SQLDriver\n",
      "name                                                             Extract Tutorial\n",
      "staging_schema                                                      acoe_spectrum\n",
      "staging_table                                                    extract_tutorial\n",
      "prod_schema                                                            data_loads\n",
      "\u001b[33mprod_table\u001b[0m                                                                   \u001b[33mNone\u001b[0m\n",
      "output_dsn                                                          redshift_acoe\n",
      "\u001b[33moutput_dialect\u001b[0m                                                               \u001b[33mNone\u001b[0m\n",
      "\u001b[33moutput_source_name\u001b[0m                                                           \u001b[33mNone\u001b[0m\n",
      "output_table_type                                                        external\n",
      "autocast                                                                     True\n",
      "s3_root_url                               s3://acoe-s3/extracts/extract_tutorial/\n",
      "s3_bucket                                                                 acoe-s3\n",
      "dask_scheduler_address                                        dask_scheduler:8786\n",
      "if_exists                                                                 replace\n",
      "priority                                                                       -1\n",
      "store                       Store({'qf': {'select': {'fields': {'billings': {'...\n",
      "name_snake_case                                                  extract_tutorial\n",
      "output_source                                       Redshift(dsn='redshift_acoe')\n",
      "s3_staging_url                s3://acoe-s3/extracts/extract_tutorial/data/staging\n",
      "table_if_exists                                                              drop\n",
      "logger                        <Logger distributed.worker.extract_tutorial (INFO)>\n",
      "partition_cols                                                        ['country']\n",
      "\n"
     ]
    }
   ],
   "source": [
    "print(extract)"
   ]
  },
  {
   "cell_type": "code",
   "execution_count": 4,
   "metadata": {},
   "outputs": [
    {
     "name": "stderr",
     "output_type": "stream",
     "text": [
      "2020-11-30 18:05:00,980 - distributed.worker.extract_tutorial - INFO - Submitting job Extract Tutorial...\n",
      "2020-11-30 18:05:14,151 - distributed.worker.extract_tutorial - INFO - Job Extract Tutorial finished with status success\n"
     ]
    },
    {
     "data": {
      "text/plain": [
       "True"
      ]
     },
     "execution_count": 4,
     "metadata": {},
     "output_type": "execute_result"
    }
   ],
   "source": [
    "local_registry = SchedulerDB(\"pytest_redis\")\n",
    "extract.submit(registry=local_registry)"
   ]
  },
  {
   "cell_type": "markdown",
   "metadata": {},
   "source": [
    "### 2.2 JSON method"
   ]
  },
  {
   "cell_type": "markdown",
   "metadata": {},
   "source": [
    "We are using the input `QFrame`'s store as the base for extract's store, additionally wrapping it with additional extract-specific parameters. The store if then of the structure:\n",
    "```json\n",
    "\"extract\": {\n",
    "    \"name\": \"My Extract\",\n",
    "    \"qframe\": \"qframe's store here...\",\n",
    "    \"param1\": \"val1\",\n",
    "    \"param2\": \"val2\",\n",
    "    ...\n",
    "}\n",
    "```"
   ]
  },
  {
   "cell_type": "markdown",
   "metadata": {},
   "source": [
    "The store contains the values for `Extract` parameters. If a parameter's value in the JSON is `null`, `Extract` will read the class defaults (see [documentation](http://acoe.connect.te.com/docs/grizly/) for default values), and additionally try to find the value for this key in environment variables. For example, if `staging_schema` is not provided, as there is no default for this value in `Extract`, it will try to fetch the value from `GRIZLY_EXTRACT_STAGING_SCHEMA`. For a full list of parameters, see the [documentation](http://acoe.connect.te.com/docs/grizly/).\n",
    "\n",
    "Note that the parameters may slightly differ depending on the input database. For example, for Denodo extracts, the user needs to specify a list of columns that will be used for partitioning the data into multiple chunks that will be downloaded in parallel. See [3.1 Denodo](#denodo_extract) for more information.\n",
    "\n",
    "**As of 0.4.1, there is no automated way of creating an Extract store.** For now, it's best to use an existing `QFrame` store and work from there. See example JSON file below."
   ]
  },
  {
   "cell_type": "code",
   "execution_count": 5,
   "metadata": {},
   "outputs": [
    {
     "name": "stderr",
     "output_type": "stream",
     "text": [
      "INFO:botocore.credentials:Found credentials in shared credentials file: ~/.aws/credentials\n"
     ]
    },
    {
     "name": "stdout",
     "output_type": "stream",
     "text": [
      "{'extract': {'dask_scheduler_address': 'dask_scheduler:8786',\n",
      "             'if_exists': 'replace',\n",
      "             'name': 'Extract Tutorial',\n",
      "             'output_db': None,\n",
      "             'output_dialect': None,\n",
      "             'output_dsn': 'redshift_acoe',\n",
      "             'output_table_type': None,\n",
      "             'partition_cols': ['country'],\n",
      "             'priority': None,\n",
      "             'prod_schema': None,\n",
      "             'prod_table': None,\n",
      "             'qframe': {'select': {'distinct': '',\n",
      "                                   'fields': {'billings': {'as': '',\n",
      "                                                           'dtype': 'DOUBLE',\n",
      "                                                           'expression': '',\n",
      "                                                           'group_by': '',\n",
      "                                                           'order_by': '',\n",
      "                                                           'select': ''},\n",
      "                                              'city': {'as': '',\n",
      "                                                       'dtype': 'VARCHAR(200)',\n",
      "                                                       'expression': '',\n",
      "                                                       'group_by': '',\n",
      "                                                       'order_by': '',\n",
      "                                                       'select': ''},\n",
      "                                              'country': {'as': '',\n",
      "                                                          'dtype': 'VARCHAR(200)',\n",
      "                                                          'expression': '',\n",
      "                                                          'group_by': '',\n",
      "                                                          'order_by': '',\n",
      "                                                          'select': ''},\n",
      "                                              'region': {'as': '',\n",
      "                                                         'dtype': 'VARCHAR(200)',\n",
      "                                                         'expression': '',\n",
      "                                                         'group_by': '',\n",
      "                                                         'order_by': '',\n",
      "                                                         'select': ''}},\n",
      "                                   'having': '',\n",
      "                                   'limit': '',\n",
      "                                   'offset': '',\n",
      "                                   'schema': 'te_industrial',\n",
      "                                   'source': {'dialect': '',\n",
      "                                              'dsn': 'DenodoODBC',\n",
      "                                              'source_name': 'denodo'},\n",
      "                                   'sql_blocks': {'group_dimensions': [],\n",
      "                                                  'group_values': [],\n",
      "                                                  'order_by': [],\n",
      "                                                  'select_aliases': ['billings',\n",
      "                                                                     'city',\n",
      "                                                                     'country',\n",
      "                                                                     'region'],\n",
      "                                                  'select_names': ['\"billings\"',\n",
      "                                                                   '\"city\"',\n",
      "                                                                   '\"country\"',\n",
      "                                                                   '\"region\"'],\n",
      "                                                  'types': ['DOUBLE',\n",
      "                                                            'VARCHAR(200)',\n",
      "                                                            'VARCHAR(200)',\n",
      "                                                            'VARCHAR(200)']},\n",
      "                                   'table': 'grizly',\n",
      "                                   'where': ''}},\n",
      "             's3_bucket': None,\n",
      "             's3_root_url': None,\n",
      "             'staging_schema': 'acoe_spectrum',\n",
      "             'staging_table': None,\n",
      "             'validation': {'groupby': ['country', 'city'],\n",
      "                            'sum': ['billings']}}}\n"
     ]
    }
   ],
   "source": [
    "from grizly import Store\n",
    "from pprint import pprint\n",
    "\n",
    "store = Store.from_json(\"s3://acoe-s3/extracts/extract_tutorial/extract_tutorial.json\")\n",
    "pprint(store.to_dict())"
   ]
  },
  {
   "cell_type": "code",
   "execution_count": 6,
   "metadata": {},
   "outputs": [
    {
     "name": "stdout",
     "output_type": "stream",
     "text": [
      "qf                                                                      SQLDriver\n",
      "name                                                             Extract Tutorial\n",
      "staging_schema                                                      acoe_spectrum\n",
      "staging_table                                                    extract_tutorial\n",
      "prod_schema                                                            data_loads\n",
      "\u001b[33mprod_table\u001b[0m                                                                   \u001b[33mNone\u001b[0m\n",
      "output_dsn                                                          redshift_acoe\n",
      "\u001b[33moutput_dialect\u001b[0m                                                               \u001b[33mNone\u001b[0m\n",
      "\u001b[33moutput_source_name\u001b[0m                                                           \u001b[33mNone\u001b[0m\n",
      "output_table_type                                                        external\n",
      "autocast                                                                     True\n",
      "s3_root_url                               s3://acoe-s3/extracts/extract_tutorial/\n",
      "s3_bucket                                                                 acoe-s3\n",
      "dask_scheduler_address                                        dask_scheduler:8786\n",
      "if_exists                                                                 replace\n",
      "priority                                                                       -1\n",
      "store                       Store({'name': 'Extract Tutorial', 'partition_cols...\n",
      "name_snake_case                                                  extract_tutorial\n",
      "output_source                                       Redshift(dsn='redshift_acoe')\n",
      "s3_staging_url                s3://acoe-s3/extracts/extract_tutorial/data/staging\n",
      "table_if_exists                                                              drop\n",
      "logger                        <Logger distributed.worker.extract_tutorial (INFO)>\n",
      "partition_cols                                                        ['country']\n",
      "\n"
     ]
    }
   ],
   "source": [
    "from grizly import QFrame, Extract, SchedulerDB\n",
    "\n",
    "extract = Extract.from_json(\"s3://acoe-s3/extracts/extract_tutorial/extract_tutorial.json\")\n",
    "print(extract)"
   ]
  },
  {
   "cell_type": "code",
   "execution_count": 7,
   "metadata": {},
   "outputs": [
    {
     "name": "stderr",
     "output_type": "stream",
     "text": [
      "2020-11-30 18:05:27,073 - distributed.worker.extract_tutorial - INFO - Submitting job Extract Tutorial...\n",
      "2020-11-30 18:05:39,936 - distributed.worker.extract_tutorial - INFO - Job Extract Tutorial finished with status success\n"
     ]
    },
    {
     "data": {
      "text/plain": [
       "True"
      ]
     },
     "execution_count": 7,
     "metadata": {},
     "output_type": "execute_result"
    }
   ],
   "source": [
    "local_registry = SchedulerDB(\"pytest_redis\")\n",
    "extract.submit(registry=local_registry)"
   ]
  },
  {
   "cell_type": "markdown",
   "metadata": {},
   "source": [
    "## 3. Extract types <a name=\"types\"></a>"
   ]
  },
  {
   "cell_type": "markdown",
   "metadata": {},
   "source": [
    "### 3.1 Denodo <a name=\"denodo_extract\"></a>"
   ]
  },
  {
   "cell_type": "markdown",
   "metadata": {},
   "source": [
    "There are several strategies for selecting an optimal partition column. The goal is to have data split into 2-300 (depending on the size of data) more or less equal parts. One good idea is to use GROUPBYs on columns that seem like good candidates (eg. years, months). Another method, utilizing a pandas DataFrame, is shown below."
   ]
  },
  {
   "cell_type": "markdown",
   "metadata": {},
   "source": [
    "1. Find columns with relatively few unique values"
   ]
  },
  {
   "cell_type": "code",
   "execution_count": 8,
   "metadata": {},
   "outputs": [
    {
     "data": {
      "text/plain": [
       "billings    10\n",
       "city        14\n",
       "country      2\n",
       "region       4\n",
       "dtype: int64"
      ]
     },
     "execution_count": 8,
     "metadata": {},
     "output_type": "execute_result"
    }
   ],
   "source": [
    "df = qf.to_df()\n",
    "df.nunique()"
   ]
  },
  {
   "cell_type": "markdown",
   "metadata": {},
   "source": [
    "2. Check the distribution of values"
   ]
  },
  {
   "cell_type": "code",
   "execution_count": 9,
   "metadata": {},
   "outputs": [
    {
     "name": "stdout",
     "output_type": "stream",
     "text": [
      "Looking in indexes: https://pypi.org/simple, http://acoe.connect.te.com\n",
      "Requirement already satisfied: matplotlib in /usr/local/lib/python3.8/site-packages (3.3.3)\n",
      "Requirement already satisfied: pillow>=6.2.0 in /usr/local/lib/python3.8/site-packages (from matplotlib) (7.2.0)\n",
      "Requirement already satisfied: numpy>=1.15 in /usr/local/lib/python3.8/site-packages (from matplotlib) (1.19.1)\n",
      "Requirement already satisfied: python-dateutil>=2.1 in /usr/local/lib/python3.8/site-packages (from matplotlib) (2.8.1)\n",
      "Requirement already satisfied: pyparsing!=2.0.4,!=2.1.2,!=2.1.6,>=2.0.3 in /usr/local/lib/python3.8/site-packages (from matplotlib) (2.4.7)\n",
      "Requirement already satisfied: cycler>=0.10 in /usr/local/lib/python3.8/site-packages (from matplotlib) (0.10.0)\n",
      "Requirement already satisfied: kiwisolver>=1.0.1 in /usr/local/lib/python3.8/site-packages (from matplotlib) (1.3.1)\n",
      "Requirement already satisfied: six>=1.5 in /usr/local/lib/python3.8/site-packages (from python-dateutil>=2.1->matplotlib) (1.15.0)\n"
     ]
    }
   ],
   "source": [
    "!pip install matplotlib"
   ]
  },
  {
   "cell_type": "code",
   "execution_count": 10,
   "metadata": {},
   "outputs": [
    {
     "data": {
      "text/plain": [
       "<AxesSubplot:>"
      ]
     },
     "execution_count": 10,
     "metadata": {},
     "output_type": "execute_result"
    },
    {
     "data": {
      "image/png": "[encoded data removed]",
      "text/plain": [
       "<Figure size 432x288 with 1 Axes>"
      ]
     },
     "metadata": {
      "needs_background": "light"
     },
     "output_type": "display_data"
    }
   ],
   "source": [
    "df.country.value_counts().plot(kind=\"bar\")"
   ]
  },
  {
   "cell_type": "code",
   "execution_count": 11,
   "metadata": {},
   "outputs": [
    {
     "data": {
      "text/plain": [
       "<AxesSubplot:>"
      ]
     },
     "execution_count": 11,
     "metadata": {},
     "output_type": "execute_result"
    },
    {
     "data": {
      "image/png": "[encoded data removed]",
      "text/plain": [
       "<Figure size 432x288 with 1 Axes>"
      ]
     },
     "metadata": {
      "needs_background": "light"
     },
     "output_type": "display_data"
    }
   ],
   "source": [
    "df.region.value_counts().plot(kind=\"bar\")"
   ]
  },
  {
   "cell_type": "markdown",
   "metadata": {},
   "source": [
    "In this toy dataset, it seems like whichever column is fine, as they all have a uniform distribution."
   ]
  },
  {
   "cell_type": "markdown",
   "metadata": {},
   "source": [
    " "
   ]
  },
  {
   "cell_type": "markdown",
   "metadata": {},
   "source": [
    "### 3.2 SFDC"
   ]
  },
  {
   "cell_type": "markdown",
   "metadata": {},
   "source": [
    "The SFDC Extract automatically chunks data, so here we only need to pass whatever settings we need for our load. Below is a working example, extracting some sample data from the `Account` table."
   ]
  },
  {
   "cell_type": "code",
   "execution_count": 3,
   "metadata": {},
   "outputs": [
    {
     "name": "stdout",
     "output_type": "stream",
     "text": [
      "qf                                                                     SFDCDriver\n",
      "name                                                        Tutorial SFDC Extract\n",
      "staging_schema                                                      acoe_spectrum\n",
      "staging_table                                               tutorial_sfdc_extract\n",
      "prod_schema                                                            data_loads\n",
      "prod_table                                                  tutorial_sfdc_extract\n",
      "output_dsn                                                          redshift_acoe\n",
      "\u001b[33moutput_dialect\u001b[0m                                                               \u001b[33mNone\u001b[0m\n",
      "\u001b[33moutput_source_name\u001b[0m                                                           \u001b[33mNone\u001b[0m\n",
      "output_table_type                                                        external\n",
      "autocast                                                                     True\n",
      "s3_root_url                          s3://acoe-s3/extracts/tutorial_sfdc_extract/\n",
      "s3_bucket                                                                 acoe-s3\n",
      "dask_scheduler_address                                        dask_scheduler:8786\n",
      "if_exists                                                                  append\n",
      "priority                                                                       -1\n",
      "store                       Store({'qf': {'select': {'fields': {'Id': {'as': '...\n",
      "name_snake_case                                             tutorial_sfdc_extract\n",
      "output_source                                       Redshift(dsn='redshift_acoe')\n",
      "s3_staging_url           s3://acoe-s3/extracts/tutorial_sfdc_extract/data/staging\n",
      "table_if_exists                                                              skip\n",
      "logger                   <Logger distributed.worker.tutorial_sfdc_extract (INFO)>\n",
      "\n"
     ]
    }
   ],
   "source": [
    "from grizly import QFrame, Extract, SchedulerDB\n",
    "\n",
    "qf = QFrame(dsn=\"sfdc\", table=\"Account\").limit(1000)\n",
    "qf.remove_compound_fields()\n",
    "extract = Extract(\n",
    "    name=\"Tutorial SFDC Extract\",\n",
    "    qf=qf,\n",
    "    output_dsn=\"redshift_acoe\",\n",
    "    dask_scheduler_address=\"dask_scheduler:8786\"\n",
    ")\n",
    "\n",
    "print(extract)"
   ]
  },
  {
   "cell_type": "code",
   "execution_count": null,
   "metadata": {},
   "outputs": [],
   "source": [
    "local_registry = SchedulerDB(\"pytest_redis\")\n",
    "extract.submit(registry=local_registry)"
   ]
  },
  {
   "cell_type": "markdown",
   "metadata": {},
   "source": [
    " "
   ]
  },
  {
   "cell_type": "markdown",
   "metadata": {},
   "source": [
    "## 4. Tips & tricks"
   ]
  },
  {
   "cell_type": "markdown",
   "metadata": {},
   "source": [
    "### 4.1 Utilizing `if_exists=\"append\"` in Denodo extracts"
   ]
  },
  {
   "cell_type": "markdown",
   "metadata": {},
   "source": [
    "The `append` parameter allows us to load only the new partitions. For example, if we are loading a table that refreshes weekly, we can provide a set of partition column that include the week columns, eg.\n",
    "```json\n",
    "{\n",
    "  partitions_list: [\"other_col\", \"week_no\"]\n",
    "}\n",
    "```\n",
    "This way, whenever an `Extract` with the `append` option is re-run, it will not re-download the parts for existing weeks."
   ]
  },
  {
   "cell_type": "markdown",
   "metadata": {},
   "source": [
    "### 4.2 Using print and manually overriding attributes"
   ]
  },
  {
   "cell_type": "markdown",
   "metadata": {},
   "source": [
    "When creating an extract, you may sometimes forget to override a default parameter, or may not remember what the value turned out to be for your extract (as many values are populated for you automatically). To easily check what the final parameters are and if you provided everything that you wanted to provide, simply run `print(Extract)`. Missing optional parameters will be highlighted in yellow:"
   ]
  },
  {
   "cell_type": "code",
   "execution_count": 4,
   "metadata": {},
   "outputs": [
    {
     "name": "stdout",
     "output_type": "stream",
     "text": [
      "qf                                                                     SFDCDriver\n",
      "name                                                        Tutorial SFDC Extract\n",
      "staging_schema                                                      acoe_spectrum\n",
      "staging_table                                               tutorial_sfdc_extract\n",
      "prod_schema                                                            data_loads\n",
      "prod_table                                                  tutorial_sfdc_extract\n",
      "output_dsn                                                          redshift_acoe\n",
      "\u001b[33moutput_dialect\u001b[0m                                                               \u001b[33mNone\u001b[0m\n",
      "\u001b[33moutput_source_name\u001b[0m                                                           \u001b[33mNone\u001b[0m\n",
      "output_table_type                                                        external\n",
      "autocast                                                                     True\n",
      "s3_root_url                          s3://acoe-s3/extracts/tutorial_sfdc_extract/\n",
      "s3_bucket                                                                 acoe-s3\n",
      "dask_scheduler_address                                        dask_scheduler:8786\n",
      "if_exists                                                                  append\n",
      "priority                                                                       -1\n",
      "store                       Store({'qf': {'select': {'fields': {'Id': {'as': '...\n",
      "name_snake_case                                             tutorial_sfdc_extract\n",
      "output_source                                       Redshift(dsn='redshift_acoe')\n",
      "s3_staging_url           s3://acoe-s3/extracts/tutorial_sfdc_extract/data/staging\n",
      "table_if_exists                                                              skip\n",
      "logger                   <Logger distributed.worker.tutorial_sfdc_extract (INFO)>\n",
      "\n"
     ]
    }
   ],
   "source": [
    "print(extract)"
   ]
  },
  {
   "cell_type": "markdown",
   "metadata": {},
   "source": [
    "Let's say you want to quickly manually run an extract, and you want to change the output table only for this run. To easily do it, simply override any of the attributes:"
   ]
  },
  {
   "cell_type": "code",
   "execution_count": 11,
   "metadata": {},
   "outputs": [
    {
     "name": "stdout",
     "output_type": "stream",
     "text": [
      "qf                                                                     SFDCDriver\n",
      "name                                                        Tutorial SFDC Extract\n",
      "staging_schema                                                      acoe_spectrum\n",
      "staging_table                                                                   a\n",
      "prod_schema                                                            data_loads\n",
      "prod_table                                                  tutorial_sfdc_extract\n",
      "output_dsn                                                          redshift_acoe\n",
      "\u001b[33moutput_dialect\u001b[0m                                                               \u001b[33mNone\u001b[0m\n",
      "\u001b[33moutput_source_name\u001b[0m                                                           \u001b[33mNone\u001b[0m\n",
      "output_table_type                                                        external\n",
      "autocast                                                                     True\n",
      "s3_root_url                          s3://acoe-s3/extracts/tutorial_sfdc_extract/\n",
      "s3_bucket                                                                 acoe-s3\n",
      "dask_scheduler_address                                        dask_scheduler:8786\n",
      "if_exists                                                                  append\n",
      "priority                                                                       -1\n",
      "store                       Store({'qf': {'select': {'fields': {'Id': {'as': '...\n",
      "name_snake_case                                             tutorial_sfdc_extract\n",
      "output_source                                       Redshift(dsn='redshift_acoe')\n",
      "s3_staging_url           s3://acoe-s3/extracts/tutorial_sfdc_extract/data/staging\n",
      "table_if_exists                                                              skip\n",
      "logger                   <Logger distributed.worker.tutorial_sfdc_extract (INFO)>\n",
      "\n"
     ]
    }
   ],
   "source": [
    "extract.staging_table = \"a\"\n",
    "print(extract)"
   ]
  },
  {
   "cell_type": "code",
   "execution_count": null,
   "metadata": {},
   "outputs": [],
   "source": []
  }
 ],
 "metadata": {
  "kernelspec": {
   "display_name": "Python 3",
   "language": "python",
   "name": "python3"
  },
  "language_info": {
   "codemirror_mode": {
    "name": "ipython",
    "version": 3
   },
   "file_extension": ".py",
   "mimetype": "text/x-python",
   "name": "python",
   "nbconvert_exporter": "python",
   "pygments_lexer": "ipython3",
   "version": "3.8.5"
  }
 },
 "nbformat": 4,
 "nbformat_minor": 4
}
