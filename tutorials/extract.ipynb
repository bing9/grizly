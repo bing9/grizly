{
 "cells": [
  {
   "cell_type": "markdown",
   "metadata": {},
   "source": [
    "# Tutorial - Extract"
   ]
  },
  {
   "cell_type": "markdown",
   "metadata": {},
   "source": [
    "## Table of contents\n",
    "1. [What is an Extract?](#whatis)\n",
    "2. [How to create an Extract?](#howto)\n",
    "    1. [Local backend](#howto_local)\n",
    "    2. [S3 backend](#howto_s3)\n",
    "3. [Tips & tricks](#tricks)"
   ]
  },
  {
   "cell_type": "markdown",
   "metadata": {},
   "source": [
    "## 1. What is an Extract? <a name=\"whatis\"></a>"
   ]
  },
  {
   "cell_type": "markdown",
   "metadata": {},
   "source": [
    "Extract is a tool for migrating data between different databases.\n",
    "<br>\n",
    "The Extract tool can have different stores (where you store inputs such as the store and list of partitions to download) and data (where you store produced data) backends. There are currently two supported backends*: `S3` and `local`. By default, the Extract will use `local` backend and take inputs from current directory.\n",
    "<br>\n",
    "> As of grizly v0.3.9, only `S3` is supported for store and data backends."
   ]
  },
  {
   "cell_type": "markdown",
   "metadata": {},
   "source": [
    "## 2. How to create an Extract? <a name=\"howto\"></a>"
   ]
  },
  {
   "cell_type": "markdown",
   "metadata": {},
   "source": [
    "## 2.1 Local backend <a name=\"howto_local\"></a>"
   ]
  },
  {
   "cell_type": "markdown",
   "metadata": {},
   "source": [
    "### 2.1.1 Create the driver\n",
    ">Typically, we will be loading it from a JSON file. Alternatively, it's also possible to load it directly from a table, as in below example. For more information, see the QFrame tutorial."
   ]
  },
  {
   "cell_type": "code",
   "execution_count": 1,
   "metadata": {},
   "outputs": [
    {
     "name": "stdout",
     "output_type": "stream",
     "text": [
      "SELECT \"TrackId\",\n",
      "       \"Name\",\n",
      "       \"AlbumId\",\n",
      "       \"MediaTypeId\",\n",
      "       \"GenreId\",\n",
      "       \"Composer\",\n",
      "       \"Milliseconds\",\n",
      "       \"Bytes\",\n",
      "       \"UnitPrice\"\n",
      "FROM Track\n"
     ]
    }
   ],
   "source": [
    "from grizly import QFrame\n",
    "from pathlib import Path\n",
    "import logging\n",
    "\n",
    "# name of your logger\n",
    "logger = logging.getLogger(\"distributed.worker\").getChild(\"dss_extract\")\n",
    "sqlite_dsn = Path.cwd().parent.joinpath(\"tests\", \"Chinook.sqlite\")\n",
    "\n",
    "qf = QFrame(dsn=sqlite_dsn, db=\"sqlite\", dialect=\"mysql\").from_table(table=\"Track\")\n",
    "print(qf)"
   ]
  },
  {
   "cell_type": "markdown",
   "metadata": {},
   "source": [
    "### 2.1.2 Create Extract store*\n",
    "* See [Extract store documentation](#extract_store) for more information"
   ]
  },
  {
   "cell_type": "markdown",
   "metadata": {},
   "source": [
    "The concept of partition columns is used because currently, extracts are used to extract data from Denodo, and Denodo only contains views on tables located in actual databases. In effect, Denodo views don't have identity columns by which we could trivially chunk data. \n",
    "<br><br>\n",
    "There are several strategies for selecting an optimal partition column. The goal is to have data split into 2-300 (depending on the size of data) more or less equal parts. One good idea is to use GROUPBYs on columns that seem like good candidates (eg. years, months). Another method utilizing a pandas DataFrame is shown below."
   ]
  },
  {
   "cell_type": "markdown",
   "metadata": {},
   "source": [
    "1. Find columns with relatively few unique values"
   ]
  },
  {
   "cell_type": "code",
   "execution_count": 3,
   "metadata": {},
   "outputs": [
    {
     "data": {
      "text/plain": [
       "TrackId         3503\n",
       "Name            3257\n",
       "AlbumId          347\n",
       "MediaTypeId        5\n",
       "GenreId           25\n",
       "Composer         852\n",
       "Milliseconds    3080\n",
       "Bytes           3501\n",
       "UnitPrice          2\n",
       "dtype: int64"
      ]
     },
     "execution_count": 3,
     "metadata": {},
     "output_type": "execute_result"
    }
   ],
   "source": [
    "df = qf.to_df()\n",
    "df.nunique()"
   ]
  },
  {
   "cell_type": "markdown",
   "metadata": {},
   "source": [
    "2. Check the distribution of values"
   ]
  },
  {
   "cell_type": "code",
   "execution_count": 4,
   "metadata": {},
   "outputs": [
    {
     "name": "stdout",
     "output_type": "stream",
     "text": [
      "Looking in indexes: https://pypi.org/simple, http://acoe.connect.te.com\n",
      "Requirement already satisfied: matplotlib in /usr/local/lib/python3.8/site-packages (3.3.2)\n",
      "Requirement already satisfied: certifi>=2020.06.20 in /usr/local/lib/python3.8/site-packages (from matplotlib) (2020.6.20)\n",
      "Requirement already satisfied: python-dateutil>=2.1 in /usr/local/lib/python3.8/site-packages (from matplotlib) (2.8.1)\n",
      "Requirement already satisfied: pyparsing!=2.0.4,!=2.1.2,!=2.1.6,>=2.0.3 in /usr/local/lib/python3.8/site-packages (from matplotlib) (2.4.7)\n",
      "Requirement already satisfied: numpy>=1.15 in /usr/local/lib/python3.8/site-packages (from matplotlib) (1.19.1)\n",
      "Requirement already satisfied: kiwisolver>=1.0.1 in /usr/local/lib/python3.8/site-packages (from matplotlib) (1.2.0)\n",
      "Requirement already satisfied: cycler>=0.10 in /usr/local/lib/python3.8/site-packages (from matplotlib) (0.10.0)\n",
      "Requirement already satisfied: pillow>=6.2.0 in /usr/local/lib/python3.8/site-packages (from matplotlib) (7.2.0)\n",
      "Requirement already satisfied: six>=1.5 in /usr/local/lib/python3.8/site-packages (from python-dateutil>=2.1->matplotlib) (1.15.0)\n"
     ]
    }
   ],
   "source": [
    "!pip install matplotlib"
   ]
  },
  {
   "cell_type": "code",
   "execution_count": 5,
   "metadata": {},
   "outputs": [
    {
     "data": {
      "text/plain": [
       "<AxesSubplot:>"
      ]
     },
     "execution_count": 5,
     "metadata": {},
     "output_type": "execute_result"
    },
    {
     "data": {
      "image/png": "[encoded data removed]",
      "text/plain": [
       "<Figure size 432x288 with 1 Axes>"
      ]
     },
     "metadata": {
      "needs_background": "light"
     },
     "output_type": "display_data"
    }
   ],
   "source": [
    "df.UnitPrice.value_counts().plot(kind=\"bar\")"
   ]
  },
  {
   "cell_type": "code",
   "execution_count": 6,
   "metadata": {},
   "outputs": [
    {
     "data": {
      "text/plain": [
       "<AxesSubplot:>"
      ]
     },
     "execution_count": 6,
     "metadata": {},
     "output_type": "execute_result"
    },
    {
     "data": {
      "image/png": "[encoded data removed]",
      "text/plain": [
       "<Figure size 432x288 with 1 Axes>"
      ]
     },
     "metadata": {
      "needs_background": "light"
     },
     "output_type": "display_data"
    }
   ],
   "source": [
    "df.MediaTypeId.value_counts().plot(kind=\"bar\")"
   ]
  },
  {
   "cell_type": "code",
   "execution_count": 7,
   "metadata": {},
   "outputs": [
    {
     "data": {
      "text/plain": [
       "<AxesSubplot:>"
      ]
     },
     "execution_count": 7,
     "metadata": {},
     "output_type": "execute_result"
    },
    {
     "data": {
      "image/png": "[encoded data removed]",
      "text/plain": [
       "<Figure size 432x288 with 1 Axes>"
      ]
     },
     "metadata": {
      "needs_background": "light"
     },
     "output_type": "display_data"
    }
   ],
   "source": [
    "df.GenreId.value_counts().plot(kind=\"bar\")        "
   ]
  },
  {
   "cell_type": "markdown",
   "metadata": {},
   "source": [
    "It seems like the GenreId column has the most optimal distribution."
   ]
  },
  {
   "cell_type": "code",
   "execution_count": 8,
   "metadata": {},
   "outputs": [
    {
     "name": "stdout",
     "output_type": "stream",
     "text": [
      "{\n",
      "    \"output\": {\n",
      "        \"oputput_dsn\": \"/home/analyst/grizly_dev/tests/Chinook.sqlite\"\n",
      "    },\n",
      "    \"partition_cols\": [\n",
      "        \"GenreId\"\n",
      "    ]\n",
      "}\n"
     ]
    }
   ],
   "source": [
    "store = {\n",
    "    \"partition_cols\": [\"GenreId\"],\n",
    "    \"output\": {\n",
    "        \"oputput_dsn\": f\"{sqlite_dsn}\"\n",
    "    }\n",
    "}\n",
    "\n",
    "def dict_pprint(d):\n",
    "    import json\n",
    "    print(json.dumps(d, indent=4, sort_keys=True))\n",
    "    \n",
    "dict_pprint(store)"
   ]
  },
  {
   "cell_type": "markdown",
   "metadata": {},
   "source": [
    "### 2.1.3 Run the Extract"
   ]
  },
  {
   "cell_type": "code",
   "execution_count": null,
   "metadata": {},
   "outputs": [],
   "source": [
    "import os\n",
    "from grizly import Extract\n",
    "\n",
    "dask_scheduler = \"dask_scheduler:8786\"\n",
    "extract_name = \"Example Local Extract\"\n",
    "# here we're passing store directly, but you can also use json file: store_path=\"/home/usr/somewhere/store.json\"\n",
    "e = Extract(extract_name, qf, store=store, if_exists=\"replace\")\n",
    "e.submit(dask_scheduler)"
   ]
  },
  {
   "cell_type": "markdown",
   "metadata": {},
   "source": [
    "## 2.2 S3 backend (recommended) <a name=\"howto_s3\"></a>"
   ]
  },
  {
   "cell_type": "markdown",
   "metadata": {},
   "source": [
    "### 2.2.1 Create a folder for assets in S3\n",
    "We'll be storing all of the assets on S3, so go ahead and create a folder for your extract in s3. By default, with S3 backend, Extract will look for store in `s3://your_bucket/extracts/your_extract_name`. However you can modify this behavior by specifying the `store_path` parameter, eg. to \n",
    "```python\n",
    "f\"s3://{my_bucket}/my/path/my_store.json\"\n",
    "```"
   ]
  },
  {
   "cell_type": "markdown",
   "metadata": {},
   "source": [
    "Creating QFrame's store is covered in the  QFrame tutorial. Below code is just for the sake of the tutorial."
   ]
  },
  {
   "cell_type": "code",
   "execution_count": null,
   "metadata": {},
   "outputs": [],
   "source": [
    "from grizly import S3, config\n",
    "\n",
    "bucket = config.get_service(\"s3\").get(\"bucket\")\n",
    "qf_store_path = f\"s3://{bucket}/extracts/example_extract/example_qf_store.json\"\n",
    "qf_store_dict = qf.store.to_dict(subquery=\"example_subquery\")\n",
    "S3(url=qf_store_path).from_serializable(qf_store_dict)"
   ]
  },
  {
   "cell_type": "markdown",
   "metadata": {},
   "source": [
    "### 2.2.2 Prepare the driver\n",
    "In this example we'll be using a QFrame:"
   ]
  },
  {
   "cell_type": "code",
   "execution_count": null,
   "metadata": {},
   "outputs": [],
   "source": [
    "from grizly import QFrame, config\n",
    "import logging\n",
    "\n",
    "# name of your logger\n",
    "logger = logging.getLogger(\"distributed.worker\").getChild(\"example_s3_extract\")\n",
    "\n",
    "# load the driver\n",
    "bucket = config.get_service(\"s3\").get(\"bucket\")\n",
    "qf_store_path = f\"s3://{bucket}/extracts/example_extract/example_qf_store.json\"\n",
    "qf = QFrame(dsn=sqlite_dsn, db=\"sqlite\", dialect=\"mysql\", logger=logger).from_json(qf_store_path, subquery=\"example_subquery\")"
   ]
  },
  {
   "cell_type": "markdown",
   "metadata": {},
   "source": [
    "### 2.2.3 Prepare Extract store"
   ]
  },
  {
   "cell_type": "code",
   "execution_count": null,
   "metadata": {},
   "outputs": [],
   "source": [
    "store"
   ]
  },
  {
   "cell_type": "markdown",
   "metadata": {},
   "source": [
    "## 3. Tips & tricks"
   ]
  },
  {
   "cell_type": "markdown",
   "metadata": {},
   "source": [
    "### 3.1 Utilizing `if_exists=\"append\"`"
   ]
  },
  {
   "cell_type": "markdown",
   "metadata": {},
   "source": [
    "The `append` parameter allows us to load only the new partitions. For example, if we are loading a table that refreshes weekly, we can provide a set of partition columns that include a week columns, eg.\n",
    "```json\n",
    "{\n",
    "  partitions_list: [\"other_col\", \"week_no\"]\n",
    "}\n",
    "```\n",
    "This way, whenever an Extract with the `append` option is re-run, it will not re-download the parts for existing weeks."
   ]
  },
  {
   "cell_type": "markdown",
   "metadata": {},
   "source": [
    "## Extract store in depth <a name=\"extract_store\"></a>"
   ]
  },
  {
   "cell_type": "code",
   "execution_count": null,
   "metadata": {},
   "outputs": [],
   "source": []
  }
 ],
 "metadata": {
  "kernelspec": {
   "display_name": "Python 3",
   "language": "python",
   "name": "python3"
  },
  "language_info": {
   "codemirror_mode": {
    "name": "ipython",
    "version": 3
   },
   "file_extension": ".py",
   "mimetype": "text/x-python",
   "name": "python",
   "nbconvert_exporter": "python",
   "pygments_lexer": "ipython3",
   "version": "3.8.5"
  }
 },
 "nbformat": 4,
 "nbformat_minor": 4
}
