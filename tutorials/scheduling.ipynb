{
 "cells": [
  {
   "cell_type": "code",
   "execution_count": 1,
   "metadata": {},
   "outputs": [
    {
     "name": "stderr",
     "output_type": "stream",
     "text": [
      "2020-10-22 21:09:04,277 - grizly.config - DEBUG - Config data loaded from /home/analyst/.grizly/config.json.\n"
     ]
    }
   ],
   "source": [
    "import dask\n",
    "import logging\n",
    "from datetime import datetime\n",
    "import logging\n",
    "logging.basicConfig(format='%(asctime)s - %(name)s - %(levelname)s - %(message)s', level=10)\n",
    "\n",
    "from grizly.scheduling.registry import Trigger, Job"
   ]
  },
  {
   "cell_type": "markdown",
   "metadata": {},
   "source": [
    "## Job"
   ]
  },
  {
   "cell_type": "code",
   "execution_count": 2,
   "metadata": {},
   "outputs": [],
   "source": [
    "@dask.delayed\n",
    "def print_time():\n",
    "    print(f\"Hello, it's {datetime.now().__str__()}\")\n",
    "    \n",
    "time_log = print_time()\n",
    "\n",
    "@dask.delayed\n",
    "def add(x, y):\n",
    "    return x + y\n",
    "\n",
    "_sum = add(1, 2)"
   ]
  },
  {
   "cell_type": "code",
   "execution_count": 3,
   "metadata": {},
   "outputs": [
    {
     "name": "stderr",
     "output_type": "stream",
     "text": [
      "2020-10-22 21:09:04,873 - grizly.config - DEBUG - Config data loaded from /home/analyst/.grizly/config.json.\n",
      "2020-10-22 21:09:06,979 - grizly.scheduling.registry - DEBUG - Job(name='test_print') with cron '* * * * *' has been added to rq sheduler with id c66ce92c-d51a-4466-bc69-972e3826374f\n",
      "2020-10-22 21:09:06,980 - grizly.scheduling.registry - DEBUG - Job(name='test_print') has been added to the rq scheduler\n",
      "2020-10-22 21:09:07,628 - grizly.scheduling.registry - INFO - Job(name='test_print') successfully registered\n",
      "2020-10-22 21:09:07,631 - grizly.config - DEBUG - Config data loaded from /home/analyst/.grizly/config.json.\n",
      "2020-10-22 21:09:09,872 - grizly.scheduling.registry - INFO - Adding ['test_sum'] to Job(name='test_print').downstream...\n",
      "2020-10-22 21:09:10,979 - grizly.scheduling.registry - INFO - Job(name='test_sum') successfully registered\n"
     ]
    },
    {
     "data": {
      "text/plain": [
       "Job(name='test_sum')"
      ]
     },
     "execution_count": 3,
     "metadata": {},
     "output_type": "execute_result"
    }
   ],
   "source": [
    "job1 = Job(\"test_print\")\n",
    "job1.register(tasks=[time_log], \n",
    "              crons=\"* * * * *\", \n",
    "              if_exists=\"replace\")\n",
    "\n",
    "job2 = Job(\"test_sum\")\n",
    "job2.register(tasks=[_sum], \n",
    "              upstream=\"test_print\", \n",
    "              if_exists=\"replace\")"
   ]
  },
  {
   "cell_type": "code",
   "execution_count": 4,
   "metadata": {},
   "outputs": [
    {
     "name": "stdout",
     "output_type": "stream",
     "text": [
      "name: test_print\n",
      "owner: None\n",
      "description: None\n",
      "timeout: 3600\n",
      "created_at: 2020-10-22 21:09:05.382143+00:00\n",
      "crons: ['* * * * *']\n",
      "downstream: [Job(name='test_sum')]\n",
      "upstream: []\n",
      "triggers: []\n"
     ]
    }
   ],
   "source": [
    "job1.info()"
   ]
  },
  {
   "cell_type": "code",
   "execution_count": 5,
   "metadata": {},
   "outputs": [
    {
     "data": {
      "text/plain": [
       "[]"
      ]
     },
     "execution_count": 5,
     "metadata": {},
     "output_type": "execute_result"
    }
   ],
   "source": [
    "job1.runs"
   ]
  },
  {
   "cell_type": "code",
   "execution_count": 6,
   "metadata": {},
   "outputs": [
    {
     "name": "stdout",
     "output_type": "stream",
     "text": [
      "name: test_sum\n",
      "owner: None\n",
      "description: None\n",
      "timeout: 3600\n",
      "created_at: 2020-10-22 21:09:08.277146+00:00\n",
      "crons: []\n",
      "downstream: []\n",
      "upstream: [Job(name='test_print')]\n",
      "triggers: []\n"
     ]
    }
   ],
   "source": [
    "job2.info()"
   ]
  },
  {
   "cell_type": "code",
   "execution_count": 7,
   "metadata": {},
   "outputs": [
    {
     "data": {
      "text/plain": [
       "[]"
      ]
     },
     "execution_count": 7,
     "metadata": {},
     "output_type": "execute_result"
    }
   ],
   "source": [
    "job2.runs"
   ]
  },
  {
   "cell_type": "code",
   "execution_count": 8,
   "metadata": {},
   "outputs": [
    {
     "name": "stderr",
     "output_type": "stream",
     "text": [
      "2020-10-22 21:09:18,295 - grizly.scheduling.registry - INFO - Submitting job test_print...\n"
     ]
    },
    {
     "name": "stdout",
     "output_type": "stream",
     "text": [
      "Hello, it's 2020-10-22 21:09:19.960816\n"
     ]
    },
    {
     "name": "stderr",
     "output_type": "stream",
     "text": [
      "2020-10-22 21:09:21,757 - grizly.scheduling.registry - INFO - Job Job(name='test_print') finished with status success\n",
      "2020-10-22 21:09:23,673 - grizly.scheduling.registry - INFO - Enqueueing Job(name='test_print').downstream...\n",
      "2020-10-22 21:09:26,241 - grizly.scheduling.registry - DEBUG - Job(name='test_sum') has been added to rq scheduler with id 09c7f074-40a4-4659-8952-8dad97eddbda\n",
      "2020-10-22 21:09:26,242 - grizly.scheduling.registry - INFO - Job(name='test_sum') has been enqueued\n"
     ]
    },
    {
     "data": {
      "text/plain": [
       "[None]"
      ]
     },
     "execution_count": 8,
     "metadata": {},
     "output_type": "execute_result"
    }
   ],
   "source": [
    "job1.submit(to_dask=False)"
   ]
  },
  {
   "cell_type": "code",
   "execution_count": 9,
   "metadata": {},
   "outputs": [
    {
     "name": "stdout",
     "output_type": "stream",
     "text": [
      "id: 1\n",
      "name: None\n",
      "created_at: 2020-10-22 21:09:18.621996+00:00\n",
      "finished_at: 2020-10-22 21:09:21.758108+00:00\n",
      "duration: 2\n",
      "status: success\n",
      "error: None\n",
      "result: [None]\n"
     ]
    }
   ],
   "source": [
    "job1.last_run.info()"
   ]
  },
  {
   "cell_type": "code",
   "execution_count": 10,
   "metadata": {},
   "outputs": [
    {
     "name": "stderr",
     "output_type": "stream",
     "text": [
      "2020-10-22 21:09:29,331 - grizly.scheduling.registry - DEBUG - Rq job c66ce92c-d51a-4466-bc69-972e3826374f removed from the rq scheduler\n",
      "2020-10-22 21:09:29,332 - grizly.scheduling.registry - DEBUG - Job(name='test_print') has been removed from the rq scheduler\n",
      "2020-10-22 21:09:31,080 - grizly.scheduling.registry - INFO - Removing ['test_print'] from Job(name='test_sum').upstream...\n",
      "2020-10-22 21:09:32,375 - grizly.scheduling.registry - INFO - Removing ['test_sum'] from Job(name='test_print').downstream...\n",
      "2020-10-22 21:09:35,445 - grizly.scheduling.registry - INFO - Job(name='test_print')'s runs have been removed from registry\n",
      "2020-10-22 21:09:35,761 - grizly.scheduling.registry - INFO - Job(name='test_print') successfully removed from registry\n"
     ]
    }
   ],
   "source": [
    "job1.unregister(remove_job_runs=True)"
   ]
  },
  {
   "cell_type": "code",
   "execution_count": 11,
   "metadata": {},
   "outputs": [
    {
     "name": "stderr",
     "output_type": "stream",
     "text": [
      "2020-10-22 21:09:37,336 - grizly.scheduling.registry - DEBUG - Rq job 09c7f074-40a4-4659-8952-8dad97eddbda removed from the rq scheduler\n",
      "2020-10-22 21:09:37,337 - grizly.scheduling.registry - DEBUG - Job(name='test_sum') has been removed from the rq scheduler\n",
      "2020-10-22 21:09:38,939 - grizly.scheduling.registry - INFO - Job(name='test_sum') successfully removed from registry\n"
     ]
    }
   ],
   "source": [
    "job2.unregister()"
   ]
  }
 ],
 "metadata": {
  "kernelspec": {
   "display_name": "Python 3",
   "language": "python",
   "name": "python3"
  },
  "language_info": {
   "codemirror_mode": {
    "name": "ipython",
    "version": 3
   },
   "file_extension": ".py",
   "mimetype": "text/x-python",
   "name": "python",
   "nbconvert_exporter": "python",
   "pygments_lexer": "ipython3",
   "version": "3.8.5"
  }
 },
 "nbformat": 4,
 "nbformat_minor": 4
}
