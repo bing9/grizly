{
 "cells": [
  {
   "cell_type": "markdown",
   "metadata": {},
   "source": [
    "# Tutorial - Extract"
   ]
  },
  {
   "cell_type": "markdown",
   "metadata": {},
   "source": [
    "## Table of contents\n",
    "1. [What is an Extract?](#whatis)\n",
    "2. [How to create an Extract?](#howto)\n",
    "    1. [Local backend](#howto_local)\n",
    "    2. [S3 backend](#howto_s3)"
   ]
  },
  {
   "cell_type": "markdown",
   "metadata": {},
   "source": [
    "## 0. Resources to run below code"
   ]
  },
  {
   "cell_type": "code",
   "execution_count": 65,
   "metadata": {},
   "outputs": [],
   "source": [
    "from grizly import QFrame\n",
    "import sqlite3\n",
    "import requests\n",
    "\n",
    "HOME_DIR = os.path.expanduser(\"~\")\n",
    "GRIZLY_HOME = os.getenv(\"GRIZLY_HOME\", os.path.join(HOME_DIR, \"grizly\"))\n",
    "sqlite_dsn = \"example.sqlite\"\n",
    "\n",
    "r = requests.get(\"https://github.com/lerocha/chinook-database/raw/master/ChinookDatabase/DataSources/Chinook_Sqlite.sqlite\")\n",
    "with open(sqlite_dsn, \"w\") as f:\n",
    "    f.write(r.text)\n",
    "\n",
    "tracks = {  'select': {\n",
    "                'fields': {\n",
    "                    'TrackId': { 'type': 'dim'},\n",
    "                    'Name': {'type': 'dim'},\n",
    "                    'AlbumId': {'type': 'dim'},\n",
    "                    'Composer': {'type': 'dim'},\n",
    "                    'UnitPrice': {'type': 'num'}\n",
    "                },\n",
    "                'table': 'Track'\n",
    "            }\n",
    "         }\n",
    "tracks_qf = QFrame(dsn=sqlite_dsn, db=\"sqlite\", dialect=\"mysql\").from_dict(tracks)"
   ]
  },
  {
   "cell_type": "code",
   "execution_count": 66,
   "metadata": {},
   "outputs": [
    {
     "name": "stdout",
     "output_type": "stream",
     "text": [
      "SELECT \"TrackId\",\n",
      "       \"Name\",\n",
      "       \"AlbumId\",\n",
      "       \"Composer\",\n",
      "       \"UnitPrice\"\n",
      "FROM Track\n"
     ]
    }
   ],
   "source": [
    "print(tracks_qf)"
   ]
  },
  {
   "cell_type": "markdown",
   "metadata": {},
   "source": [
    "## 1. What is an Extract? <a name=\"whatis\"></a>"
   ]
  },
  {
   "cell_type": "code",
   "execution_count": null,
   "metadata": {},
   "outputs": [],
   "source": []
  },
  {
   "cell_type": "markdown",
   "metadata": {},
   "source": [
    "Extract is a tool for migrating data between different databases."
   ]
  },
  {
   "cell_type": "markdown",
   "metadata": {},
   "source": [
    "## 2. How to create an Extract? <a name=\"howto\"></a>"
   ]
  },
  {
   "cell_type": "markdown",
   "metadata": {},
   "source": [
    "## 2.1 Local backend <a name=\"howto_local\"></a>"
   ]
  },
  {
   "cell_type": "markdown",
   "metadata": {},
   "source": [
    "### 2.1.1 Create QFrame store"
   ]
  },
  {
   "cell_type": "code",
   "execution_count": null,
   "metadata": {},
   "outputs": [],
   "source": [
    "from grizly import QFrame, get_path\n",
    "\n",
    "# name of your logger\n",
    "logger = logging.getLogger(\"distributed.worker\").getChild(\"dss_extract\")\n",
    "\n",
    "qf_store_path = os.path.join(GRIZLY_HOME, \"notebooks\", \"store.json\")\n",
    "qf = QFrame(dsn=dsn, logger=logger).from_json(qf_store_path, subquery=\"example_subquery\")"
   ]
  },
  {
   "cell_type": "markdown",
   "metadata": {},
   "source": [
    "### 2.1.2 Create Extract store*\n",
    "* See [Extract store documentation](#extract_store) for more information"
   ]
  },
  {
   "cell_type": "code",
   "execution_count": null,
   "metadata": {},
   "outputs": [],
   "source": []
  },
  {
   "cell_type": "markdown",
   "metadata": {},
   "source": [
    "## 2.2 S3 backend <a name=\"howto_s3\"></a>"
   ]
  },
  {
   "cell_type": "markdown",
   "metadata": {},
   "source": [
    "### 2.2.1 Create a folder for assets in S3\n",
    "We'll be storing all of the assets on S3, so go ahead and create a folder with your extract's name in `s3://your_bucket/extracts`"
   ]
  },
  {
   "cell_type": "markdown",
   "metadata": {},
   "source": [
    "### 2.2.2 Prepare the driver\n",
    "In this example we'll be using a regular QFrame:"
   ]
  },
  {
   "cell_type": "code",
   "execution_count": null,
   "metadata": {},
   "outputs": [],
   "source": [
    "from grizly import QFrame, config\n",
    "import logging\n",
    "\n",
    "# name of your logger\n",
    "logger = logging.getLogger(\"distributed.worker\").getChild(\"dss_extract\")\n",
    "\n",
    "# load the driver\n",
    "dsn = \"DenodoPROD\"\n",
    "bucket = config.get_service(\"s3\").get(\"bucket\")\n",
    "qf_store_path = f\"s3://{bucket}/extracts/example/example_qf_store.json\"\n",
    "# loading the QFrame from dict for the sake of\n",
    "qf = QFrame(dsn=dsn, logger=logger).from_json(qf_store_path, subquery=\"example_subquery\")"
   ]
  },
  {
   "cell_type": "markdown",
   "metadata": {},
   "source": [
    "### 2.2.3 Prepare Extract store"
   ]
  },
  {
   "cell_type": "code",
   "execution_count": null,
   "metadata": {},
   "outputs": [],
   "source": []
  },
  {
   "cell_type": "code",
   "execution_count": null,
   "metadata": {},
   "outputs": [],
   "source": [
    "dask_client_str = os.getenv(\"GRIZLY_DASK_SCHEDULER_ADDRESS\")\n",
    "e = Extract(\"Direct Sales Summary CSR\", qf, store_backend=\"s3\", if_exists=\"replace\", reload_data=False)\n",
    "e.submit(output_table_type=\"base\", client_str=dask_client_str, refresh_partitions_list=False)"
   ]
  },
  {
   "cell_type": "code",
   "execution_count": null,
   "metadata": {},
   "outputs": [],
   "source": []
  },
  {
   "cell_type": "markdown",
   "metadata": {},
   "source": [
    "## Extract store in depth <a name=\"extract_store\"></a>"
   ]
  },
  {
   "cell_type": "code",
   "execution_count": null,
   "metadata": {},
   "outputs": [],
   "source": []
  }
 ],
 "metadata": {
  "kernelspec": {
   "display_name": "Python 3",
   "language": "python",
   "name": "python3"
  },
  "language_info": {
   "codemirror_mode": {
    "name": "ipython",
    "version": 3
   },
   "file_extension": ".py",
   "mimetype": "text/x-python",
   "name": "python",
   "nbconvert_exporter": "python",
   "pygments_lexer": "ipython3",
   "version": "3.8.5"
  }
 },
 "nbformat": 4,
 "nbformat_minor": 4
}
