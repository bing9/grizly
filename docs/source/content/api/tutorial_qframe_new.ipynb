{
 "cells": [
  {
   "cell_type": "markdown",
   "metadata": {},
   "source": [
    "# Tutorial - QFrame"
   ]
  },
  {
   "cell_type": "markdown",
   "metadata": {},
   "source": [
    "## What is a QFrame?\n",
    "QFrame is a class which generates an SQL statement. It stores fields info in `QFrame.data` parameter which is a dictionary."
   ]
  },
  {
   "cell_type": "markdown",
   "metadata": {},
   "source": [
    "`QFrame.data` has `select` key in which it stores `fields` which we want to have in our SQL statement. Each key have to have specified `type` which can be 'dim' if the varibale is a dimension variable or 'num' if the variable is a numeric variable. Let's take a look at all options that we can have under `select` and `fields` keys."
   ]
  },
  {
   "cell_type": "markdown",
   "metadata": {},
   "source": [
    "```json\n",
    "{\n",
    "  \"select\": {\n",
    "    \"table\": \"table\",\n",
    "    \"schema\": \"schema\",\n",
    "    \"fields\": {\n",
    "      \"column\": {\n",
    "        \"type\": \"dim\",\n",
    "        \"as\": \"\",\n",
    "        \"group_by\": \"\",\n",
    "        \"order_by\": \"\",\n",
    "        \"expression\": \"\",\n",
    "        \"select\": \"\",\n",
    "        \"custom_type\": \"\"\n",
    "      }\n",
    "    },\n",
    "    \"where\": \"\",\n",
    "    \"distinct\": \"\",\n",
    "    \"having\": \"\",\n",
    "    \"limit\": \"\"\n",
    "  }\n",
    "}\n",
    "```"
   ]
  },
  {
   "cell_type": "markdown",
   "metadata": {},
   "source": [
    "- `table` - Name of the table.\n",
    "- `schema` - Name of the schema.\n",
    "- `fields`, in each field:\n",
    "    - `type` - Type of the column. Options:\n",
    "\n",
    "        - 'dim' - VARCHAR(500)  \n",
    "        - 'num' - FLOAT\n",
    "     \n",
    "     Every column has to have specified type. If you want to sepcify another type check `custom_type`.\n",
    "    - `as` - Column alias (name).\n",
    "\n",
    "    - `group_by` - Aggregation type. Possibilities:\n",
    "\n",
    "        - 'group' - This field will go to GROUP BY statement.\n",
    "        - {'sum', 'count', 'min', 'max', 'avg'} - This field will by aggregated in specified way.\n",
    "  \n",
    "     If you don't want to aggregate fields leave `group_by` empty in each field.\n",
    "    - `order_by` - Put the field in order by statement. Options:\n",
    "    \n",
    "        - 'ASC'\n",
    "        - 'DESC'\n",
    "        \n",
    "    - `expression` - Expression, eg. CASE statement, column operation, CONCAT statement, ... .\n",
    "    - `select` - Set 0 if you don't want to put this field in SELECT statement.\n",
    "    - `custom_type` - Specify custom SQL data type, eg. DATE.\n",
    "- `where` - Add where statement, eg. 'sales>100'\n",
    "- `distinct` - Set 1 to add distinct to select\n",
    "- `having` - Add having statement, eg. 'sum(sales)>100'\n",
    "- `limit` - Add limit, eg. 100"
   ]
  },
  {
   "cell_type": "markdown",
   "metadata": {},
   "source": [
    "## How to create a QFrame?\n",
    "You can create a QFrame manually - passing the data directly to QFrame or automatically - using `initiate` function."
   ]
  },
  {
   "cell_type": "code",
   "execution_count": 1,
   "metadata": {},
   "outputs": [],
   "source": [
    "from grizly import (\n",
    "    get_path, \n",
    "    QFrame\n",
    ")"
   ]
  },
  {
   "cell_type": "markdown",
   "metadata": {},
   "source": [
    "### Manually - using dictionary"
   ]
  },
  {
   "cell_type": "markdown",
   "metadata": {},
   "source": [
    "This method is the most direct method of creating a QFrame - to use it you need to know the structure of `QFrame.data`. From following dictionary"
   ]
  },
  {
   "cell_type": "code",
   "execution_count": 2,
   "metadata": {},
   "outputs": [],
   "source": [
    "data = {\n",
    "  \"select\": {\n",
    "    \"table\": \"table\",\n",
    "    \"schema\": \"schema\",\n",
    "    \"fields\": {\n",
    "      \"col\": {\n",
    "        \"type\": \"dim\"\n",
    "      }\n",
    "    }\n",
    "  }\n",
    "}"
   ]
  },
  {
   "cell_type": "markdown",
   "metadata": {},
   "source": [
    "QFrame will generate a simple sql"
   ]
  },
  {
   "cell_type": "code",
   "execution_count": 3,
   "metadata": {},
   "outputs": [
    {
     "name": "stdout",
     "output_type": "stream",
     "text": [
      "SELECT col\n",
      "FROM schema.table\n"
     ]
    }
   ],
   "source": [
    "qf = QFrame().read_dict(data)\n",
    "print(qf)"
   ]
  },
  {
   "cell_type": "markdown",
   "metadata": {},
   "source": [
    "Here we also used simple method `.get_sql()` which prints sql saved in QFrame."
   ]
  },
  {
   "cell_type": "markdown",
   "metadata": {},
   "source": [
    "### Manually - using JSON file"
   ]
  },
  {
   "cell_type": "markdown",
   "metadata": {},
   "source": [
    "We use a `.json` file to conviniently manipulate information about columns, renames and other things that might be very verbose to manipulate in python code. We can edit the json file into a json editor like http://jsoneditoronline.org/ more conviniently than in Python code.\n",
    "\n",
    "After editing the `store.json` we can read it back inside a QFrame using `read_json()`.\n",
    "\n",
    "This means we can use our json as our main `store` of verbose information and python as our main way to manipulate said information."
   ]
  },
  {
   "cell_type": "code",
   "execution_count": 4,
   "metadata": {},
   "outputs": [
    {
     "name": "stdout",
     "output_type": "stream",
     "text": [
      "Data saved in C:\\Users\\TE386850\\dev\\grizly\\notebooks\\store.json\n",
      "SELECT col\n",
      "FROM schema.table\n"
     ]
    }
   ],
   "source": [
    "json_path = get_path(\"dev\", \"grizly\", \"notebooks\", \"store.json\")\n",
    "qf.save_json(json_path=json_path, subquery=\"my_query_1\")\n",
    "\n",
    "qf = QFrame().read_json(json_path=json_path, subquery=\"my_query_1\")\n",
    "print(qf)"
   ]
  },
  {
   "cell_type": "markdown",
   "metadata": {},
   "source": [
    "### Automatically - using initiate funtion"
   ]
  },
  {
   "cell_type": "markdown",
   "metadata": {},
   "source": [
    "The other way to generate a QFrame is to use `initiate` function. You can use it in two ways. First is to pass the column names directly. "
   ]
  },
  {
   "cell_type": "code",
   "execution_count": 5,
   "metadata": {},
   "outputs": [
    {
     "name": "stdout",
     "output_type": "stream",
     "text": [
      "Data saved in C:\\Users\\TE386850\\dev\\grizly\\notebooks\\store.json\n",
      "SELECT col1,\n",
      "       col2\n",
      "FROM schema.table\n"
     ]
    }
   ],
   "source": [
    "from grizly import initiate\n",
    "\n",
    "initiate(columns=[\"col1\", \"col2\"], \n",
    "         schema=\"schema\", \n",
    "         table=\"table\", \n",
    "         json_path=json_path,\n",
    "         subquery=\"my_query_2\")\n",
    "\n",
    "qf = QFrame().read_json(json_path=json_path, subquery=\"my_query_2\")\n",
    "print(qf)"
   ]
  },
  {
   "cell_type": "markdown",
   "metadata": {},
   "source": [
    "The second way is to use `get_columns` function which will import all names of the columns in given table, also with the types."
   ]
  },
  {
   "cell_type": "code",
   "execution_count": 6,
   "metadata": {},
   "outputs": [
    {
     "name": "stderr",
     "output_type": "stream",
     "text": [
      "C:\\Users\\TE386850\\AppData\\Local\\Continuum\\anaconda3\\lib\\site-packages\\sqlalchemy\\engine\\default.py:384: SAWarning: Exception attempting to detect unicode returns: ProgrammingError(\"(pyodbc.ProgrammingError) ('25P02', '[25P02] [Amazon][Amazon Redshift] (30) Error occurred while trying to execute a query: [SQLState 25P02] ERROR:  current transaction is aborted, commands ignored until end of transaction block\\\\n (30) (SQLExecDirectW)')\")\n",
      "  \"detect unicode returns: %r\" % de\n"
     ]
    },
    {
     "name": "stdout",
     "output_type": "stream",
     "text": [
      "Data saved in C:\\Users\\TE386850\\dev\\grizly\\notebooks\\store.json\n",
      "SELECT col1,\n",
      "       col2,\n",
      "       col3,\n",
      "       col4\n",
      "FROM administration.table_tutorial\n"
     ]
    }
   ],
   "source": [
    "from grizly import SQLDB\n",
    "\n",
    "columns, col_types = SQLDB(db='redshift').get_columns(table='table_tutorial', schema='administration', column_types=True)\n",
    "initiate(columns=columns,\n",
    "         col_types=col_types,\n",
    "         schema=\"administration\", \n",
    "         table=\"table_tutorial\", \n",
    "         json_path=json_path,\n",
    "         subquery=\"my_query_3\")\n",
    "\n",
    "qf = QFrame(engine=\"mssql+pyodbc://redshift_acoe\").read_json(json_path=json_path, subquery=\"my_query_3\")\n",
    "print(qf)"
   ]
  },
  {
   "cell_type": "markdown",
   "metadata": {},
   "source": [
    "## Working with the QFrame\n",
    "There is a lot of methods which you can use to edit the QFrame. You can check them in QFrame docs. In this tutorial we will only show some of them."
   ]
  },
  {
   "cell_type": "markdown",
   "metadata": {},
   "source": [
    "### Doing some basic SQL stuff\n",
    "Let's now add a `where` statement, rename some fields, add calculated field and remove some fields`."
   ]
  },
  {
   "cell_type": "code",
   "execution_count": 7,
   "metadata": {},
   "outputs": [
    {
     "name": "stdout",
     "output_type": "stream",
     "text": [
      "SELECT col1 AS items,\n",
      "       col2 AS price,\n",
      "       col4*2 AS calculated_field\n",
      "FROM administration.table_tutorial\n",
      "WHERE col2 > 1\n"
     ]
    }
   ],
   "source": [
    "qf.query(\"col2 > 1\") #<- where\n",
    "qf.rename({\"col1\": \"items\", \"col2\": \"price\"})\n",
    "qf.assign(calculated_field=\"col4*2\", \n",
    "          type='num', \n",
    "          custom_type='double precision')\n",
    "qf.remove([\"col3\", \"col4\"])\n",
    "print(qf)"
   ]
  },
  {
   "cell_type": "markdown",
   "metadata": {},
   "source": [
    ":Be aware that `rename()` method doesn't change the name of the field but only the alias (final name) of the column.:"
   ]
  },
  {
   "cell_type": "markdown",
   "metadata": {},
   "source": [
    "Now you can check how the data changed calling `data` attribute."
   ]
  },
  {
   "cell_type": "code",
   "execution_count": 8,
   "metadata": {},
   "outputs": [
    {
     "data": {
      "text/plain": [
       "{'select': {'table': 'table_tutorial',\n",
       "  'schema': 'administration',\n",
       "  'fields': {'col1': {'type': '',\n",
       "    'as': 'items',\n",
       "    'group_by': '',\n",
       "    'order_by': '',\n",
       "    'expression': '',\n",
       "    'select': '',\n",
       "    'custom_type': 'character varying'},\n",
       "   'col2': {'type': '',\n",
       "    'as': 'price',\n",
       "    'group_by': '',\n",
       "    'order_by': '',\n",
       "    'expression': '',\n",
       "    'select': '',\n",
       "    'custom_type': 'double precision'},\n",
       "   'calculated_field': {'type': 'num',\n",
       "    'as': 'calculated_field',\n",
       "    'group_by': '',\n",
       "    'order_by': '',\n",
       "    'expression': 'col4*2',\n",
       "    'custom_type': 'double precision'}},\n",
       "  'engine': '',\n",
       "  'where': 'col2 > 1',\n",
       "  'distinct': '',\n",
       "  'having': '',\n",
       "  'limit': '',\n",
       "  'sql_blocks': {'select_names': ['col1 as items',\n",
       "    'col2 as price',\n",
       "    'col4*2 as calculated_field'],\n",
       "   'select_aliases': ['items', 'price', 'calculated_field'],\n",
       "   'group_dimensions': [],\n",
       "   'group_values': [],\n",
       "   'order_by': [],\n",
       "   'types': ['CHARACTER VARYING', 'DOUBLE PRECISION', 'DOUBLE PRECISION']}}}"
      ]
     },
     "execution_count": 8,
     "metadata": {},
     "output_type": "execute_result"
    }
   ],
   "source": [
    "qf.data"
   ]
  },
  {
   "cell_type": "markdown",
   "metadata": {},
   "source": [
    "You can see that now we also have `sql_blocks` key. You can ignore it. This key is used to build SQL statement and is generated any time `get_sql()` method is called."
   ]
  },
  {
   "cell_type": "markdown",
   "metadata": {},
   "source": [
    "### Forking\n",
    "\n",
    "Forking qframes can be important if your data workflow needs to take the same sql table and apply different transformations to it.\n",
    "\n",
    "Sometimes we want to fork, do some transforms, then union the QFrames back together which results into an append operation on the data side.\n",
    "\n",
    "Let's create two copies of one QFrame."
   ]
  },
  {
   "cell_type": "code",
   "execution_count": 9,
   "metadata": {},
   "outputs": [],
   "source": [
    "qf1 = qf.copy()\n",
    "qf2 = qf.copy()"
   ]
  },
  {
   "cell_type": "markdown",
   "metadata": {},
   "source": [
    "## Unioning data\n",
    "\n",
    "There are two ways of unioning two QFrames - we can union by the position of the field or by the final name of the columns (that means the alias). "
   ]
  },
  {
   "cell_type": "code",
   "execution_count": 10,
   "metadata": {},
   "outputs": [
    {
     "data": {
      "text/plain": [
       "<grizly.tools.qframe.QFrame at 0x12c627fd988>"
      ]
     },
     "execution_count": 10,
     "metadata": {},
     "output_type": "execute_result"
    }
   ],
   "source": [
    "from grizly import union\n",
    "\n",
    "qf1.rename({\"col2\": \"price_1\", \"calculated_field\": \"price_2\"})\n",
    "qf2.rename({\"col2\": \"price_2\", \"calculated_field\": \"price_1\"})"
   ]
  },
  {
   "cell_type": "markdown",
   "metadata": {},
   "source": [
    "#### Union by the positon"
   ]
  },
  {
   "cell_type": "code",
   "execution_count": 11,
   "metadata": {},
   "outputs": [
    {
     "name": "stdout",
     "output_type": "stream",
     "text": [
      "Data unioned successfully.\n",
      "SELECT col1 AS items,\n",
      "       col2 AS price_1,\n",
      "       col4*2 AS price_2\n",
      "FROM administration.table_tutorial\n",
      "WHERE col2 > 1\n",
      "UNION ALL\n",
      "SELECT col1 AS items,\n",
      "       col2 AS price_2,\n",
      "       col4*2 AS price_1\n",
      "FROM administration.table_tutorial\n",
      "WHERE col2 > 1\n"
     ]
    }
   ],
   "source": [
    "uqf_pos = union(qframes=[qf1, qf2], union_type=\"UNION ALL\", union_by='position')\n",
    "print(uqf_pos)"
   ]
  },
  {
   "cell_type": "markdown",
   "metadata": {},
   "source": [
    "#### Union by the column names"
   ]
  },
  {
   "cell_type": "code",
   "execution_count": 12,
   "metadata": {},
   "outputs": [
    {
     "name": "stdout",
     "output_type": "stream",
     "text": [
      "Data unioned successfully.\n",
      "SELECT col1 AS items,\n",
      "       col2 AS price_1,\n",
      "       col4*2 AS price_2\n",
      "FROM administration.table_tutorial\n",
      "WHERE col2 > 1\n",
      "UNION ALL\n",
      "SELECT col1 AS items,\n",
      "       col4*2 AS price_1,\n",
      "       col2 AS price_2\n",
      "FROM administration.table_tutorial\n",
      "WHERE col2 > 1\n"
     ]
    }
   ],
   "source": [
    "uqf_name = union(qframes=[qf1, qf2], union_type=\"UNION ALL\", union_by='name')\n",
    "print(uqf_name)"
   ]
  },
  {
   "cell_type": "markdown",
   "metadata": {},
   "source": [
    "You can see that in this case union changes the order of the columns. "
   ]
  },
  {
   "cell_type": "markdown",
   "metadata": {},
   "source": [
    "## Joining data"
   ]
  },
  {
   "cell_type": "code",
   "execution_count": 13,
   "metadata": {},
   "outputs": [],
   "source": [
    "from grizly import join"
   ]
  },
  {
   "cell_type": "markdown",
   "metadata": {},
   "source": [
    "We will be using `Chinook.sqlite` to visualize data."
   ]
  },
  {
   "cell_type": "code",
   "execution_count": 14,
   "metadata": {},
   "outputs": [],
   "source": [
    "engine_string = \"sqlite:///\" + get_path(\"dev\", \"grizly\", \"tests\", \"Chinook.sqlite\")"
   ]
  },
  {
   "cell_type": "markdown",
   "metadata": {},
   "source": [
    "### Simple join"
   ]
  },
  {
   "cell_type": "markdown",
   "metadata": {},
   "source": [
    "First table is `Track` table."
   ]
  },
  {
   "cell_type": "code",
   "execution_count": 15,
   "metadata": {},
   "outputs": [
    {
     "name": "stdout",
     "output_type": "stream",
     "text": [
      "SELECT TrackId,\n",
      "       Name,\n",
      "       AlbumId,\n",
      "       Composer,\n",
      "       UnitPrice\n",
      "FROM Track\n"
     ]
    }
   ],
   "source": [
    "tracks = {  'select': {\n",
    "                'fields': {\n",
    "                    'TrackId': { 'type': 'dim'},\n",
    "                    'Name': {'type': 'dim'},\n",
    "                    'AlbumId': {'type': 'dim'},\n",
    "                    'Composer': {'type': 'dim'},\n",
    "                    'UnitPrice': {'type': 'num'}\n",
    "                },\n",
    "                'table': 'Track'\n",
    "            }\n",
    "}\n",
    "tracks_qf = QFrame(engine=engine_string).read_dict(tracks)\n",
    "print(tracks_qf)"
   ]
  },
  {
   "cell_type": "code",
   "execution_count": 16,
   "metadata": {},
   "outputs": [
    {
     "data": {
      "text/html": [
       "<div>\n",
       "<style scoped>\n",
       "    .dataframe tbody tr th:only-of-type {\n",
       "        vertical-align: middle;\n",
       "    }\n",
       "\n",
       "    .dataframe tbody tr th {\n",
       "        vertical-align: top;\n",
       "    }\n",
       "\n",
       "    .dataframe thead th {\n",
       "        text-align: right;\n",
       "    }\n",
       "</style>\n",
       "<table border=\"1\" class=\"dataframe\">\n",
       "  <thead>\n",
       "    <tr style=\"text-align: right;\">\n",
       "      <th></th>\n",
       "      <th>TrackId</th>\n",
       "      <th>Name</th>\n",
       "      <th>AlbumId</th>\n",
       "      <th>Composer</th>\n",
       "      <th>UnitPrice</th>\n",
       "    </tr>\n",
       "  </thead>\n",
       "  <tbody>\n",
       "    <tr>\n",
       "      <td>1781</td>\n",
       "      <td>1782</td>\n",
       "      <td>Gonna Keep On Tryin' Till I Win Your Love</td>\n",
       "      <td>146</td>\n",
       "      <td>Barrett Strong/Norman Whitfield</td>\n",
       "      <td>0.99</td>\n",
       "    </tr>\n",
       "    <tr>\n",
       "      <td>365</td>\n",
       "      <td>366</td>\n",
       "      <td>Camisa Verde 2001</td>\n",
       "      <td>32</td>\n",
       "      <td>None</td>\n",
       "      <td>0.99</td>\n",
       "    </tr>\n",
       "    <tr>\n",
       "      <td>1062</td>\n",
       "      <td>1063</td>\n",
       "      <td>Funk Hum</td>\n",
       "      <td>84</td>\n",
       "      <td>None</td>\n",
       "      <td>0.99</td>\n",
       "    </tr>\n",
       "    <tr>\n",
       "      <td>478</td>\n",
       "      <td>479</td>\n",
       "      <td>Walking Contradiction</td>\n",
       "      <td>39</td>\n",
       "      <td>Billie Joe Armstrong -Words Green Day -Music</td>\n",
       "      <td>0.99</td>\n",
       "    </tr>\n",
       "    <tr>\n",
       "      <td>3284</td>\n",
       "      <td>3285</td>\n",
       "      <td>Sabbath, Bloody Sabbath</td>\n",
       "      <td>256</td>\n",
       "      <td>None</td>\n",
       "      <td>0.99</td>\n",
       "    </tr>\n",
       "  </tbody>\n",
       "</table>\n",
       "</div>"
      ],
      "text/plain": [
       "      TrackId                                       Name  AlbumId  \\\n",
       "1781     1782  Gonna Keep On Tryin' Till I Win Your Love      146   \n",
       "365       366                          Camisa Verde 2001       32   \n",
       "1062     1063                                   Funk Hum       84   \n",
       "478       479                      Walking Contradiction       39   \n",
       "3284     3285                    Sabbath, Bloody Sabbath      256   \n",
       "\n",
       "                                          Composer  UnitPrice  \n",
       "1781               Barrett Strong/Norman Whitfield       0.99  \n",
       "365                                           None       0.99  \n",
       "1062                                          None       0.99  \n",
       "478   Billie Joe Armstrong -Words Green Day -Music       0.99  \n",
       "3284                                          None       0.99  "
      ]
     },
     "execution_count": 16,
     "metadata": {},
     "output_type": "execute_result"
    }
   ],
   "source": [
    "tracks_qf.to_df().sample(5)"
   ]
  },
  {
   "cell_type": "markdown",
   "metadata": {},
   "source": [
    "The second table is `PlaylistTrack` table. "
   ]
  },
  {
   "cell_type": "code",
   "execution_count": 17,
   "metadata": {},
   "outputs": [
    {
     "name": "stdout",
     "output_type": "stream",
     "text": [
      "SELECT PlaylistId,\n",
      "       TrackId\n",
      "FROM PlaylistTrack\n"
     ]
    }
   ],
   "source": [
    "playlist_track = { \"select\": {\n",
    "                        \"fields\":{\n",
    "                            \"PlaylistId\": {\"type\" : \"dim\"},\n",
    "                            \"TrackId\": {\"type\" : \"dim\"}\n",
    "                        },\n",
    "                        \"table\" : \"PlaylistTrack\"\n",
    "                    }\n",
    "                }\n",
    "\n",
    "playlist_track_qf = QFrame(engine=engine_string).read_dict(playlist_track)\n",
    "print(playlist_track_qf)"
   ]
  },
  {
   "cell_type": "code",
   "execution_count": 18,
   "metadata": {},
   "outputs": [
    {
     "data": {
      "text/html": [
       "<div>\n",
       "<style scoped>\n",
       "    .dataframe tbody tr th:only-of-type {\n",
       "        vertical-align: middle;\n",
       "    }\n",
       "\n",
       "    .dataframe tbody tr th {\n",
       "        vertical-align: top;\n",
       "    }\n",
       "\n",
       "    .dataframe thead th {\n",
       "        text-align: right;\n",
       "    }\n",
       "</style>\n",
       "<table border=\"1\" class=\"dataframe\">\n",
       "  <thead>\n",
       "    <tr style=\"text-align: right;\">\n",
       "      <th></th>\n",
       "      <th>PlaylistId</th>\n",
       "      <th>TrackId</th>\n",
       "    </tr>\n",
       "  </thead>\n",
       "  <tbody>\n",
       "    <tr>\n",
       "      <td>2133</td>\n",
       "      <td>1</td>\n",
       "      <td>789</td>\n",
       "    </tr>\n",
       "    <tr>\n",
       "      <td>7847</td>\n",
       "      <td>8</td>\n",
       "      <td>2805</td>\n",
       "    </tr>\n",
       "    <tr>\n",
       "      <td>548</td>\n",
       "      <td>1</td>\n",
       "      <td>1039</td>\n",
       "    </tr>\n",
       "    <tr>\n",
       "      <td>4641</td>\n",
       "      <td>5</td>\n",
       "      <td>1971</td>\n",
       "    </tr>\n",
       "    <tr>\n",
       "      <td>4625</td>\n",
       "      <td>5</td>\n",
       "      <td>1815</td>\n",
       "    </tr>\n",
       "  </tbody>\n",
       "</table>\n",
       "</div>"
      ],
      "text/plain": [
       "      PlaylistId  TrackId\n",
       "2133           1      789\n",
       "7847           8     2805\n",
       "548            1     1039\n",
       "4641           5     1971\n",
       "4625           5     1815"
      ]
     },
     "execution_count": 18,
     "metadata": {},
     "output_type": "execute_result"
    }
   ],
   "source": [
    "playlist_track_qf.to_df().sample(5)"
   ]
  },
  {
   "cell_type": "markdown",
   "metadata": {},
   "source": [
    "Now let's join them on `TrackId`."
   ]
  },
  {
   "cell_type": "code",
   "execution_count": 19,
   "metadata": {},
   "outputs": [
    {
     "name": "stdout",
     "output_type": "stream",
     "text": [
      "Data joined successfully.\n",
      "SELECT sq1.TrackId AS TrackId,\n",
      "       sq1.Name AS Name,\n",
      "       sq1.AlbumId AS AlbumId,\n",
      "       sq1.Composer AS Composer,\n",
      "       sq1.UnitPrice AS UnitPrice,\n",
      "       sq2.PlaylistId AS PlaylistId\n",
      "FROM\n",
      "  (SELECT TrackId,\n",
      "          Name,\n",
      "          AlbumId,\n",
      "          Composer,\n",
      "          UnitPrice\n",
      "   FROM Track) sq1\n",
      "LEFT JOIN\n",
      "  (SELECT PlaylistId,\n",
      "          TrackId\n",
      "   FROM PlaylistTrack) sq2 ON sq1.TrackId=sq2.TrackId\n"
     ]
    }
   ],
   "source": [
    "joined_qf = join([tracks_qf,playlist_track_qf], \n",
    "                 join_type=\"left join\", \n",
    "                 on=\"sq1.TrackId=sq2.TrackId\")\n",
    "\n",
    "print(joined_qf)"
   ]
  },
  {
   "cell_type": "code",
   "execution_count": 20,
   "metadata": {},
   "outputs": [
    {
     "data": {
      "text/html": [
       "<div>\n",
       "<style scoped>\n",
       "    .dataframe tbody tr th:only-of-type {\n",
       "        vertical-align: middle;\n",
       "    }\n",
       "\n",
       "    .dataframe tbody tr th {\n",
       "        vertical-align: top;\n",
       "    }\n",
       "\n",
       "    .dataframe thead th {\n",
       "        text-align: right;\n",
       "    }\n",
       "</style>\n",
       "<table border=\"1\" class=\"dataframe\">\n",
       "  <thead>\n",
       "    <tr style=\"text-align: right;\">\n",
       "      <th></th>\n",
       "      <th>TrackId</th>\n",
       "      <th>Name</th>\n",
       "      <th>AlbumId</th>\n",
       "      <th>Composer</th>\n",
       "      <th>UnitPrice</th>\n",
       "      <th>PlaylistId</th>\n",
       "    </tr>\n",
       "  </thead>\n",
       "  <tbody>\n",
       "    <tr>\n",
       "      <td>8197</td>\n",
       "      <td>3348</td>\n",
       "      <td>The Shape of Things to Come</td>\n",
       "      <td>261</td>\n",
       "      <td>None</td>\n",
       "      <td>1.99</td>\n",
       "      <td>3</td>\n",
       "    </tr>\n",
       "    <tr>\n",
       "      <td>8510</td>\n",
       "      <td>3445</td>\n",
       "      <td>On the Beautiful Blue Danube</td>\n",
       "      <td>311</td>\n",
       "      <td>Johann Strauss II</td>\n",
       "      <td>0.99</td>\n",
       "      <td>1</td>\n",
       "    </tr>\n",
       "    <tr>\n",
       "      <td>2450</td>\n",
       "      <td>985</td>\n",
       "      <td>Medo De Escuro</td>\n",
       "      <td>78</td>\n",
       "      <td>None</td>\n",
       "      <td>0.99</td>\n",
       "      <td>1</td>\n",
       "    </tr>\n",
       "    <tr>\n",
       "      <td>2703</td>\n",
       "      <td>1093</td>\n",
       "      <td>Quanta (Live)</td>\n",
       "      <td>86</td>\n",
       "      <td>None</td>\n",
       "      <td>0.99</td>\n",
       "      <td>5</td>\n",
       "    </tr>\n",
       "    <tr>\n",
       "      <td>5938</td>\n",
       "      <td>2412</td>\n",
       "      <td>By-Tor And The Snow Dog</td>\n",
       "      <td>196</td>\n",
       "      <td>Geddy Lee And Alex Lifeson/Geddy Lee And Neil ...</td>\n",
       "      <td>0.99</td>\n",
       "      <td>8</td>\n",
       "    </tr>\n",
       "  </tbody>\n",
       "</table>\n",
       "</div>"
      ],
      "text/plain": [
       "      TrackId                          Name  AlbumId  \\\n",
       "8197     3348   The Shape of Things to Come      261   \n",
       "8510     3445  On the Beautiful Blue Danube      311   \n",
       "2450      985                Medo De Escuro       78   \n",
       "2703     1093                 Quanta (Live)       86   \n",
       "5938     2412       By-Tor And The Snow Dog      196   \n",
       "\n",
       "                                               Composer  UnitPrice  PlaylistId  \n",
       "8197                                               None       1.99           3  \n",
       "8510                                  Johann Strauss II       0.99           1  \n",
       "2450                                               None       0.99           1  \n",
       "2703                                               None       0.99           5  \n",
       "5938  Geddy Lee And Alex Lifeson/Geddy Lee And Neil ...       0.99           8  "
      ]
     },
     "execution_count": 20,
     "metadata": {},
     "output_type": "execute_result"
    }
   ],
   "source": [
    "joined_qf.to_df().sample(5)"
   ]
  },
  {
   "cell_type": "markdown",
   "metadata": {},
   "source": [
    "As you can see in this example `UnitPrice` is taken from the first table. By default join function is taking all fields from the first QFrame, then all the fields from the second QFrame which are not in the first and so on. If you still want to keep all fields from each QFrame we have to set `unique_col=False`. We will see in the next example how does it work."
   ]
  },
  {
   "cell_type": "markdown",
   "metadata": {},
   "source": [
    "### Multiple join"
   ]
  },
  {
   "cell_type": "markdown",
   "metadata": {},
   "source": [
    "Now let's use one more table to check how does multiple join look like."
   ]
  },
  {
   "cell_type": "code",
   "execution_count": 21,
   "metadata": {},
   "outputs": [
    {
     "name": "stdout",
     "output_type": "stream",
     "text": [
      "SELECT PlaylistId,\n",
      "       Name\n",
      "FROM Playlist\n"
     ]
    }
   ],
   "source": [
    "playlists = { \"select\": {\n",
    "                    \"fields\": {\n",
    "                        \"PlaylistId\": {\"type\" : \"dim\"},\n",
    "                        \"Name\": {\"type\" : \"dim\"}\n",
    "                    },\n",
    "                    \"table\" : \"Playlist\"\n",
    "                }\n",
    "            }\n",
    "\n",
    "playlists_qf = QFrame(engine=engine_string).read_dict(playlists)\n",
    "print(playlists_qf)"
   ]
  },
  {
   "cell_type": "code",
   "execution_count": 22,
   "metadata": {},
   "outputs": [
    {
     "data": {
      "text/html": [
       "<div>\n",
       "<style scoped>\n",
       "    .dataframe tbody tr th:only-of-type {\n",
       "        vertical-align: middle;\n",
       "    }\n",
       "\n",
       "    .dataframe tbody tr th {\n",
       "        vertical-align: top;\n",
       "    }\n",
       "\n",
       "    .dataframe thead th {\n",
       "        text-align: right;\n",
       "    }\n",
       "</style>\n",
       "<table border=\"1\" class=\"dataframe\">\n",
       "  <thead>\n",
       "    <tr style=\"text-align: right;\">\n",
       "      <th></th>\n",
       "      <th>PlaylistId</th>\n",
       "      <th>Name</th>\n",
       "    </tr>\n",
       "  </thead>\n",
       "  <tbody>\n",
       "    <tr>\n",
       "      <td>7</td>\n",
       "      <td>8</td>\n",
       "      <td>Music</td>\n",
       "    </tr>\n",
       "    <tr>\n",
       "      <td>11</td>\n",
       "      <td>12</td>\n",
       "      <td>Classical</td>\n",
       "    </tr>\n",
       "    <tr>\n",
       "      <td>9</td>\n",
       "      <td>10</td>\n",
       "      <td>TV Shows</td>\n",
       "    </tr>\n",
       "    <tr>\n",
       "      <td>8</td>\n",
       "      <td>9</td>\n",
       "      <td>Music Videos</td>\n",
       "    </tr>\n",
       "    <tr>\n",
       "      <td>5</td>\n",
       "      <td>6</td>\n",
       "      <td>Audiobooks</td>\n",
       "    </tr>\n",
       "  </tbody>\n",
       "</table>\n",
       "</div>"
      ],
      "text/plain": [
       "    PlaylistId          Name\n",
       "7            8         Music\n",
       "11          12     Classical\n",
       "9           10      TV Shows\n",
       "8            9  Music Videos\n",
       "5            6    Audiobooks"
      ]
     },
     "execution_count": 22,
     "metadata": {},
     "output_type": "execute_result"
    }
   ],
   "source": [
    "playlists_qf.to_df().sample(5)"
   ]
  },
  {
   "cell_type": "markdown",
   "metadata": {},
   "source": [
    "Now if we want to join `Tracks`, `PlaylistTrack` and `Playlist` tables we can use `TrackId` and `PlaylistId`. We can see that in `Tracks` and `Playlist` tables we have the same column `Name`. Let's check the option `unique_col=False` and analyse duplicated columns."
   ]
  },
  {
   "cell_type": "code",
   "execution_count": 23,
   "metadata": {},
   "outputs": [
    {
     "name": "stdout",
     "output_type": "stream",
     "text": [
      "Data joined successfully.\n",
      "Please remove or rename duplicated columns. Use your_qframe.show_duplicated_columns() to check duplicates.\n"
     ]
    }
   ],
   "source": [
    "joined_qf = join(qframes=[tracks_qf, playlist_track_qf, playlists_qf], \n",
    "                 join_type=['left join', 'left join'], \n",
    "                 on=['sq1.TrackId=sq2.TrackId', 'sq2.PlaylistId=sq3.PlaylistId'], \n",
    "                 unique_col=False)"
   ]
  },
  {
   "cell_type": "code",
   "execution_count": 24,
   "metadata": {},
   "outputs": [
    {
     "name": "stdout",
     "output_type": "stream",
     "text": [
      "\u001b[1m DUPLICATED COLUMNS: \n",
      " \u001b[0m\n",
      "TrackId:\t ['sq1.TrackId', 'sq2.TrackId']\n",
      "\n",
      "Name:\t ['sq1.Name', 'sq3.Name']\n",
      "\n",
      "PlaylistId:\t ['sq2.PlaylistId', 'sq3.PlaylistId']\n",
      "\n",
      "Use your_qframe.remove() to remove or your_qframe.rename() to rename columns.\n"
     ]
    },
    {
     "data": {
      "text/plain": [
       "<grizly.tools.qframe.QFrame at 0x12c628adf48>"
      ]
     },
     "execution_count": 24,
     "metadata": {},
     "output_type": "execute_result"
    }
   ],
   "source": [
    "joined_qf.show_duplicated_columns()"
   ]
  },
  {
   "cell_type": "markdown",
   "metadata": {},
   "source": [
    "We can see that three columns occure in two different tables. We will remove `sq2.TrackId` and  `sq2.PlaylistId` fields and rename `Name` column."
   ]
  },
  {
   "cell_type": "code",
   "execution_count": 25,
   "metadata": {},
   "outputs": [
    {
     "name": "stdout",
     "output_type": "stream",
     "text": [
      "SELECT sq1.TrackId AS TrackId,\n",
      "       sq1.Name AS TrackName,\n",
      "       sq1.AlbumId AS AlbumId,\n",
      "       sq1.Composer AS Composer,\n",
      "       sq1.UnitPrice AS UnitPrice,\n",
      "       sq3.PlaylistId AS PlaylistId,\n",
      "       sq3.Name AS PlaylistType\n",
      "FROM\n",
      "  (SELECT TrackId,\n",
      "          Name,\n",
      "          AlbumId,\n",
      "          Composer,\n",
      "          UnitPrice\n",
      "   FROM Track) sq1\n",
      "LEFT JOIN\n",
      "  (SELECT PlaylistId,\n",
      "          TrackId\n",
      "   FROM PlaylistTrack) sq2 ON sq1.TrackId=sq2.TrackId\n",
      "LEFT JOIN\n",
      "  (SELECT PlaylistId,\n",
      "          Name\n",
      "   FROM Playlist) sq3 ON sq2.PlaylistId=sq3.PlaylistId\n"
     ]
    }
   ],
   "source": [
    "joined_qf.remove(['sq2.TrackId', \n",
    "                  'sq2.PlaylistId']).rename({'sq1.Name': 'TrackName', \n",
    "                                             'sq3.Name': 'PlaylistType'})\n",
    "print(joined_qf)"
   ]
  },
  {
   "cell_type": "code",
   "execution_count": 26,
   "metadata": {},
   "outputs": [
    {
     "data": {
      "text/html": [
       "<div>\n",
       "<style scoped>\n",
       "    .dataframe tbody tr th:only-of-type {\n",
       "        vertical-align: middle;\n",
       "    }\n",
       "\n",
       "    .dataframe tbody tr th {\n",
       "        vertical-align: top;\n",
       "    }\n",
       "\n",
       "    .dataframe thead th {\n",
       "        text-align: right;\n",
       "    }\n",
       "</style>\n",
       "<table border=\"1\" class=\"dataframe\">\n",
       "  <thead>\n",
       "    <tr style=\"text-align: right;\">\n",
       "      <th></th>\n",
       "      <th>TrackId</th>\n",
       "      <th>TrackName</th>\n",
       "      <th>AlbumId</th>\n",
       "      <th>Composer</th>\n",
       "      <th>UnitPrice</th>\n",
       "      <th>PlaylistId</th>\n",
       "      <th>PlaylistType</th>\n",
       "    </tr>\n",
       "  </thead>\n",
       "  <tbody>\n",
       "    <tr>\n",
       "      <td>7720</td>\n",
       "      <td>3139</td>\n",
       "      <td>Slow An' Easy</td>\n",
       "      <td>141</td>\n",
       "      <td>Moody</td>\n",
       "      <td>0.99</td>\n",
       "      <td>1</td>\n",
       "      <td>Music</td>\n",
       "    </tr>\n",
       "    <tr>\n",
       "      <td>6907</td>\n",
       "      <td>2795</td>\n",
       "      <td>Bichos Escrotos (Vinheta)</td>\n",
       "      <td>224</td>\n",
       "      <td>Titãs</td>\n",
       "      <td>0.99</td>\n",
       "      <td>5</td>\n",
       "      <td>90’s Music</td>\n",
       "    </tr>\n",
       "    <tr>\n",
       "      <td>5626</td>\n",
       "      <td>2292</td>\n",
       "      <td>Turn You Inside-Out</td>\n",
       "      <td>188</td>\n",
       "      <td>Bill Berry-Peter Buck-Mike Mills-Michael Stipe</td>\n",
       "      <td>0.99</td>\n",
       "      <td>1</td>\n",
       "      <td>Music</td>\n",
       "    </tr>\n",
       "    <tr>\n",
       "      <td>7515</td>\n",
       "      <td>3050</td>\n",
       "      <td>Superstition</td>\n",
       "      <td>241</td>\n",
       "      <td>None</td>\n",
       "      <td>0.99</td>\n",
       "      <td>1</td>\n",
       "      <td>Music</td>\n",
       "    </tr>\n",
       "    <tr>\n",
       "      <td>318</td>\n",
       "      <td>125</td>\n",
       "      <td>Spanish moss-\"A sound portrait\"-Spanish moss</td>\n",
       "      <td>13</td>\n",
       "      <td>Billy Cobham</td>\n",
       "      <td>0.99</td>\n",
       "      <td>8</td>\n",
       "      <td>Music</td>\n",
       "    </tr>\n",
       "  </tbody>\n",
       "</table>\n",
       "</div>"
      ],
      "text/plain": [
       "      TrackId                                     TrackName  AlbumId  \\\n",
       "7720     3139                                 Slow An' Easy      141   \n",
       "6907     2795                     Bichos Escrotos (Vinheta)      224   \n",
       "5626     2292                           Turn You Inside-Out      188   \n",
       "7515     3050                                  Superstition      241   \n",
       "318       125  Spanish moss-\"A sound portrait\"-Spanish moss       13   \n",
       "\n",
       "                                            Composer  UnitPrice  PlaylistId  \\\n",
       "7720                                           Moody       0.99           1   \n",
       "6907                                           Titãs       0.99           5   \n",
       "5626  Bill Berry-Peter Buck-Mike Mills-Michael Stipe       0.99           1   \n",
       "7515                                            None       0.99           1   \n",
       "318                                     Billy Cobham       0.99           8   \n",
       "\n",
       "     PlaylistType  \n",
       "7720        Music  \n",
       "6907   90’s Music  \n",
       "5626        Music  \n",
       "7515        Music  \n",
       "318         Music  "
      ]
     },
     "execution_count": 26,
     "metadata": {},
     "output_type": "execute_result"
    }
   ],
   "source": [
    "joined_qf.to_df().sample(5)"
   ]
  }
 ],
 "metadata": {
  "kernelspec": {
   "display_name": "Python 3",
   "language": "python",
   "name": "python3"
  },
  "language_info": {
   "codemirror_mode": {
    "name": "ipython",
    "version": 3
   },
   "file_extension": ".py",
   "mimetype": "text/x-python",
   "name": "python",
   "nbconvert_exporter": "python",
   "pygments_lexer": "ipython3",
   "version": "3.7.4"
  }
 },
 "nbformat": 4,
 "nbformat_minor": 4
}
