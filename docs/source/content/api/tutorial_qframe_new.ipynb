{
 "cells": [
  {
   "cell_type": "markdown",
   "metadata": {},
   "source": [
    "# New Tutorial - QFrame"
   ]
  },
  {
   "cell_type": "markdown",
   "metadata": {},
   "source": [
    "## What is a QFrame?\n",
    "QFrame is a class which generates an SQL statement. It stores fields info in `QFrame.data` parameter which is a dictionary."
   ]
  },
  {
   "cell_type": "markdown",
   "metadata": {},
   "source": [
    "`QFrame.data` has `select` key in which it stores `fields` which we want to have in our SQL statement. Each key have to have specified `type` which can be 'dim' if the varibale is a dimension variable or 'num' if the variable is a numeric variable. Let's take a look at all options that we can have under `select` and `fields` keys."
   ]
  },
  {
   "cell_type": "markdown",
   "metadata": {},
   "source": [
    "```json\n",
    "{\n",
    "  \"select\": {\n",
    "    \"table\": \"table\",\n",
    "    \"schema\": \"schema\",\n",
    "    \"fields\": {\n",
    "      \"column\": {\n",
    "        \"type\": \"dim\",\n",
    "        \"as\": \"\",\n",
    "        \"group_by\": \"\",\n",
    "        \"order_by\": \"\",\n",
    "        \"expression\": \"\",\n",
    "        \"select\": \"\",\n",
    "        \"custom_type\": \"\"\n",
    "      }\n",
    "    },\n",
    "    \"where\": \"\",\n",
    "    \"distinct\": \"\",\n",
    "    \"having\": \"\",\n",
    "    \"limit\": \"\"\n",
    "  }\n",
    "}\n",
    "```"
   ]
  },
  {
   "cell_type": "markdown",
   "metadata": {},
   "source": [
    "- `table` - Name of the table.\n",
    "- `schema` - Name of the schema.\n",
    "- `fields`, in each field:\n",
    "    - `type` - Type of the column. Options:\n",
    "\n",
    "        - 'dim' - VARCHAR(500)  \n",
    "        - 'num' - FLOAT\n",
    "     \n",
    "     Every column has to have specified type. If you want to sepcify another type check `custom_type`.\n",
    "    - `as` - Column alias (name).\n",
    "\n",
    "    - `group_by` - Aggregation type. Possibilities:\n",
    "\n",
    "        - 'group' - This field will go to GROUP BY statement.\n",
    "        - {'sum', 'count', 'min', 'max', 'avg'} - This field will by aggregated in specified way.\n",
    "  \n",
    "     If you don't want to aggregate fields leave `group_by` empty in each field.\n",
    "    - `order_by` - Put the field in order by statement. Options:\n",
    "    \n",
    "        - 'ASC'\n",
    "        - 'DESC'\n",
    "        \n",
    "    - `expression` - Expression, eg. CASE statement, column operation, CONCAT statement, ... .\n",
    "    - `select` - Set 0 if you don't want to put this field in SELECT statement.\n",
    "    - `custom_type` - Specify custom SQL data type, eg. DATE.\n",
    "- `where` - Add where statement, eg. 'sales>100'\n",
    "- `distinct` - Set 1 to add distinct to select\n",
    "- `having` - Add having statement, eg. 'sum(sales)>100'\n",
    "- `limit` - Add limit, eg. 100"
   ]
  },
  {
   "cell_type": "markdown",
   "metadata": {},
   "source": [
    "## How to create a QFrame?\n",
    "You can create a QFrame manually - passing the data directly to QFrame or automatically - using `initiate` function."
   ]
  },
  {
   "cell_type": "code",
   "execution_count": 1,
   "metadata": {},
   "outputs": [],
   "source": [
    "from grizly import (\n",
    "    get_path, \n",
    "    QFrame\n",
    ")"
   ]
  },
  {
   "cell_type": "markdown",
   "metadata": {},
   "source": [
    "### Manually - using dictionary"
   ]
  },
  {
   "cell_type": "markdown",
   "metadata": {},
   "source": [
    "This method is the most direct method of creating a QFrame - to use it you need to know the structure of `QFrame.data`. From following dictionary"
   ]
  },
  {
   "cell_type": "code",
   "execution_count": 2,
   "metadata": {},
   "outputs": [],
   "source": [
    "data = {\n",
    "  \"select\": {\n",
    "    \"table\": \"table\",\n",
    "    \"schema\": \"schema\",\n",
    "    \"fields\": {\n",
    "      \"col\": {\n",
    "        \"type\": \"dim\"\n",
    "      }\n",
    "    }\n",
    "  }\n",
    "}"
   ]
  },
  {
   "cell_type": "markdown",
   "metadata": {},
   "source": [
    "QFrame will generate a simple sql"
   ]
  },
  {
   "cell_type": "code",
   "execution_count": 3,
   "metadata": {},
   "outputs": [
    {
     "name": "stdout",
     "output_type": "stream",
     "text": [
      "SELECT col\n",
      "FROM schema.table\n"
     ]
    },
    {
     "data": {
      "text/plain": [
       "<grizly.qframe.QFrame at 0x2167c0fe7c8>"
      ]
     },
     "execution_count": 3,
     "metadata": {},
     "output_type": "execute_result"
    }
   ],
   "source": [
    "qf = QFrame().read_dict(data)\n",
    "qf.get_sql()"
   ]
  },
  {
   "cell_type": "markdown",
   "metadata": {},
   "source": [
    "Here we also used simple method `.get_sql()` which prints sql saved in QFrame."
   ]
  },
  {
   "cell_type": "markdown",
   "metadata": {},
   "source": [
    "### Manually - using JSON file"
   ]
  },
  {
   "cell_type": "markdown",
   "metadata": {},
   "source": [
    "We use a `.json` file to conviniently manipulate information about columns, renames and other things that might be very verbose to manipulate in python code. We can edit the json file into a json editor like http://jsoneditoronline.org/ more conviniently than in Python code.\n",
    "\n",
    "After editing the `store.json` we can read it back inside a QFrame using `read_json()`.\n",
    "\n",
    "This means we can use our json as our main `store` of verbose information and python as our main way to manipulate said information."
   ]
  },
  {
   "cell_type": "code",
   "execution_count": 4,
   "metadata": {},
   "outputs": [
    {
     "name": "stdout",
     "output_type": "stream",
     "text": [
      "Data saved in C:\\Users\\TE386850\\dev\\grizly\\notebooks\\store.json\n",
      "SELECT col\n",
      "FROM schema.table\n"
     ]
    },
    {
     "data": {
      "text/plain": [
       "<grizly.qframe.QFrame at 0x21676c46c48>"
      ]
     },
     "execution_count": 4,
     "metadata": {},
     "output_type": "execute_result"
    }
   ],
   "source": [
    "json_path = get_path(\"dev\", \"grizly\", \"notebooks\",\"store.json\")\n",
    "qf.save_json(json_path=json_path, subquery=\"my_query_1\")\n",
    "\n",
    "qf = QFrame().read_json(json_path=json_path, subquery=\"my_query_1\")\n",
    "qf.get_sql()"
   ]
  },
  {
   "cell_type": "markdown",
   "metadata": {},
   "source": [
    "### Automatically - using initiate funtion"
   ]
  },
  {
   "cell_type": "markdown",
   "metadata": {},
   "source": [
    "The other way to generate a QFrame is to use `initiate` function. You can use it in two ways. First is to pass the column names directly. "
   ]
  },
  {
   "cell_type": "code",
   "execution_count": 5,
   "metadata": {},
   "outputs": [
    {
     "name": "stdout",
     "output_type": "stream",
     "text": [
      "Data saved in C:\\Users\\TE386850\\dev\\grizly\\notebooks\\store.json\n",
      "SELECT col1,\n",
      "       col2\n",
      "FROM schema.table\n"
     ]
    },
    {
     "data": {
      "text/plain": [
       "<grizly.qframe.QFrame at 0x2167c127408>"
      ]
     },
     "execution_count": 5,
     "metadata": {},
     "output_type": "execute_result"
    }
   ],
   "source": [
    "from grizly import initiate\n",
    "\n",
    "initiate(columns=[\"col1\", \"col2\"], \n",
    "         schema=\"schema\", \n",
    "         table=\"table\", \n",
    "         json_path=json_path,\n",
    "         subquery=\"my_query_2\")\n",
    "\n",
    "qf = QFrame().read_json(json_path=json_path, subquery=\"my_query_2\")\n",
    "qf.get_sql()"
   ]
  },
  {
   "cell_type": "markdown",
   "metadata": {},
   "source": [
    "The second way is to use `get_columns` function which will import all names of the columns in given table, also with the types."
   ]
  },
  {
   "cell_type": "code",
   "execution_count": 6,
   "metadata": {},
   "outputs": [
    {
     "name": "stderr",
     "output_type": "stream",
     "text": [
      "C:\\Users\\TE386850\\AppData\\Local\\Continuum\\anaconda3\\lib\\site-packages\\sqlalchemy\\engine\\default.py:384: SAWarning: Exception attempting to detect unicode returns: ProgrammingError(\"(pyodbc.ProgrammingError) ('25P02', '[25P02] [Amazon][Amazon Redshift] (30) Error occurred while trying to execute a query: [SQLState 25P02] ERROR:  current transaction is aborted, commands ignored until end of transaction block\\\\n (30) (SQLExecDirectW)')\")\n",
      "  \"detect unicode returns: %r\" % de\n"
     ]
    },
    {
     "name": "stdout",
     "output_type": "stream",
     "text": [
      "Data saved in C:\\Users\\TE386850\\dev\\grizly\\notebooks\\store.json\n",
      "SELECT col1,\n",
      "       col2,\n",
      "       col3,\n",
      "       col4\n",
      "FROM administration.table_tutorial\n"
     ]
    },
    {
     "data": {
      "text/plain": [
       "<grizly.qframe.QFrame at 0x2167d769648>"
      ]
     },
     "execution_count": 6,
     "metadata": {},
     "output_type": "execute_result"
    }
   ],
   "source": [
    "from grizly import get_columns\n",
    "\n",
    "columns, col_types = get_columns(table='table_tutorial',\n",
    "                                 schema='administration',\n",
    "                                 column_types=True,\n",
    "                                 db='redshift')\n",
    "initiate(columns=columns,\n",
    "         col_types=col_types,\n",
    "         schema=\"administration\", \n",
    "         table=\"table_tutorial\", \n",
    "         json_path=json_path,\n",
    "         subquery=\"my_query_3\")\n",
    "\n",
    "qf = QFrame().read_json(json_path=json_path, subquery=\"my_query_3\")\n",
    "qf.get_sql()"
   ]
  },
  {
   "cell_type": "markdown",
   "metadata": {},
   "source": [
    "## Working with the QFrame\n",
    "There is a lot of methods which you can use to edit the QFrame. You can check them in QFrame docs. In this tutorial we will only show some of them."
   ]
  },
  {
   "cell_type": "markdown",
   "metadata": {},
   "source": [
    "### Doing some basic SQL stuff\n",
    "Let's now add a `where` statement, rename some fields, add calculated field, remove some fields and add `limit`."
   ]
  },
  {
   "cell_type": "code",
   "execution_count": 7,
   "metadata": {},
   "outputs": [
    {
     "name": "stdout",
     "output_type": "stream",
     "text": [
      "SELECT col1 AS items,\n",
      "       col2 AS price,\n",
      "       col4*2 AS calculated_field\n",
      "FROM administration.table_tutorial\n",
      "WHERE col2 > 1\n",
      "LIMIT 10\n"
     ]
    },
    {
     "data": {
      "text/plain": [
       "<grizly.qframe.QFrame at 0x2167d769648>"
      ]
     },
     "execution_count": 7,
     "metadata": {},
     "output_type": "execute_result"
    }
   ],
   "source": [
    "qf.query(\"col2 > 1\") #<- where\n",
    "qf.rename({\"col1\": \"items\", \"col2\": \"price\"})\n",
    "qf.assign(calculated_field = \"col4*2\", type='num', custom_type='double precision')\n",
    "qf.remove([\"col3\", \"col4\"])\n",
    "qf.limit(10)\n",
    "qf.get_sql()"
   ]
  },
  {
   "cell_type": "markdown",
   "metadata": {},
   "source": [
    ":Be aware that `rename()` method doesn't change the name of the field but only the alias (final name) of the column."
   ]
  },
  {
   "cell_type": "markdown",
   "metadata": {},
   "source": [
    "Now you can check how the data changed calling `data` attribute. Using IPython at this point gives more readable view."
   ]
  },
  {
   "cell_type": "code",
   "execution_count": 8,
   "metadata": {},
   "outputs": [
    {
     "data": {
      "application/json": {
       "select": {
        "distinct": "",
        "engine": "",
        "fields": {
         "calculated_field": {
          "as": "calculated_field",
          "custom_type": "double precision",
          "expression": "col4*2",
          "group_by": "",
          "order_by": "",
          "type": "num"
         },
         "col1": {
          "as": "items",
          "custom_type": "character varying",
          "expression": "",
          "group_by": "",
          "order_by": "",
          "select": "",
          "type": ""
         },
         "col2": {
          "as": "price",
          "custom_type": "double precision",
          "expression": "",
          "group_by": "",
          "order_by": "",
          "select": "",
          "type": ""
         }
        },
        "having": "",
        "limit": "10",
        "schema": "administration",
        "sql_blocks": {
         "group_dimensions": [],
         "group_values": [],
         "order_by": [],
         "select_aliases": [
          "items",
          "price",
          "calculated_field"
         ],
         "select_names": [
          "col1 as items",
          "col2 as price",
          "col4*2 as calculated_field"
         ],
         "types": [
          "CHARACTER VARYING",
          "DOUBLE PRECISION",
          "DOUBLE PRECISION"
         ]
        },
        "table": "table_tutorial",
        "where": "col2 > 1"
       }
      },
      "text/plain": [
       "<IPython.core.display.JSON object>"
      ]
     },
     "execution_count": 8,
     "metadata": {
      "application/json": {
       "expanded": false,
       "root": "root"
      }
     },
     "output_type": "execute_result"
    }
   ],
   "source": [
    "from IPython import display\n",
    "\n",
    "display.JSON(data=qf.data)"
   ]
  },
  {
   "cell_type": "markdown",
   "metadata": {},
   "source": [
    "You can see that now we also have `sql_blocks` key. You can ignore it. This key is used to build SQL statement and is generated any time `get_sql()` method is called."
   ]
  },
  {
   "cell_type": "markdown",
   "metadata": {},
   "source": [
    "### Forking\n",
    "\n",
    "Forking qframes can be important if your data workflow needs to take the same sql table and apply different transformations to it.\n",
    "\n",
    "Sometimes we want to fork, do some transforms, then union the QFrames back together which results into an append operation on the data side.\n",
    "\n",
    "Let's create two copies of one QFrame."
   ]
  },
  {
   "cell_type": "code",
   "execution_count": 9,
   "metadata": {},
   "outputs": [],
   "source": [
    "qf1 = qf.copy()\n",
    "qf2 = qf.copy()"
   ]
  },
  {
   "cell_type": "markdown",
   "metadata": {},
   "source": [
    "## Unioning data\n",
    "\n",
    "There are two ways of unioning two QFrames - we can union by the position of the field or by the final name of the columns (that means the alias). "
   ]
  },
  {
   "cell_type": "code",
   "execution_count": 10,
   "metadata": {},
   "outputs": [
    {
     "data": {
      "text/plain": [
       "<grizly.qframe.QFrame at 0x2167c12f3c8>"
      ]
     },
     "execution_count": 10,
     "metadata": {},
     "output_type": "execute_result"
    }
   ],
   "source": [
    "from grizly import union\n",
    "\n",
    "qf1.rename({\"col2\": \"price_1\", \"calculated_field\": \"price_2\"})\n",
    "qf2.rename({\"col2\": \"price_2\", \"calculated_field\": \"price_1\"})"
   ]
  },
  {
   "cell_type": "markdown",
   "metadata": {},
   "source": [
    "#### Union by the positon"
   ]
  },
  {
   "cell_type": "code",
   "execution_count": 11,
   "metadata": {},
   "outputs": [
    {
     "name": "stdout",
     "output_type": "stream",
     "text": [
      "Data unioned successfully.\n",
      "SELECT col1 AS items,\n",
      "       col2 AS price_1,\n",
      "       col4*2 AS price_2\n",
      "FROM administration.table_tutorial\n",
      "WHERE col2 > 1\n",
      "LIMIT 10\n",
      "UNION ALL\n",
      "SELECT col1 AS items,\n",
      "       col2 AS price_2,\n",
      "       col4*2 AS price_1\n",
      "FROM administration.table_tutorial\n",
      "WHERE col2 > 1\n",
      "LIMIT 10\n"
     ]
    },
    {
     "data": {
      "text/plain": [
       "<grizly.qframe.QFrame at 0x2167c127248>"
      ]
     },
     "execution_count": 11,
     "metadata": {},
     "output_type": "execute_result"
    }
   ],
   "source": [
    "uqf_pos = union(qframes=[qf1, qf2], union_type=\"UNION ALL\", union_by='position')\n",
    "uqf_pos.get_sql()"
   ]
  },
  {
   "cell_type": "code",
   "execution_count": 12,
   "metadata": {},
   "outputs": [
    {
     "data": {
      "application/json": {
       "select": {
        "fields": {
         "items": {
          "custom_type": "character varying",
          "type": ""
         },
         "price_1": {
          "custom_type": "double precision",
          "type": ""
         },
         "price_2": {
          "custom_type": "double precision",
          "type": "num"
         }
        },
        "sql_blocks": {
         "group_dimensions": [],
         "group_values": [],
         "order_by": [],
         "select_aliases": [
          "items",
          "price_1",
          "price_2"
         ],
         "select_names": [
          "items",
          "price_1",
          "price_2"
         ],
         "types": [
          "CHARACTER VARYING",
          "DOUBLE PRECISION",
          "DOUBLE PRECISION"
         ]
        },
        "union": {
         "union_type": [
          "UNION ALL"
         ]
        }
       },
       "sq1": {
        "select": {
         "distinct": "",
         "engine": "",
         "fields": {
          "calculated_field": {
           "as": "price_2",
           "custom_type": "double precision",
           "expression": "col4*2",
           "group_by": "",
           "order_by": "",
           "type": "num"
          },
          "col1": {
           "as": "items",
           "custom_type": "character varying",
           "expression": "",
           "group_by": "",
           "order_by": "",
           "select": "",
           "type": ""
          },
          "col2": {
           "as": "price_1",
           "custom_type": "double precision",
           "expression": "",
           "group_by": "",
           "order_by": "",
           "select": "",
           "type": ""
          }
         },
         "having": "",
         "limit": "10",
         "schema": "administration",
         "sql_blocks": {
          "group_dimensions": [],
          "group_values": [],
          "order_by": [],
          "select_aliases": [
           "items",
           "price_1",
           "price_2"
          ],
          "select_names": [
           "col1 as items",
           "col2 as price_1",
           "col4*2 as price_2"
          ],
          "types": [
           "CHARACTER VARYING",
           "DOUBLE PRECISION",
           "DOUBLE PRECISION"
          ]
         },
         "table": "table_tutorial",
         "where": "col2 > 1"
        }
       },
       "sq2": {
        "select": {
         "distinct": "",
         "engine": "",
         "fields": {
          "calculated_field": {
           "as": "price_1",
           "custom_type": "double precision",
           "expression": "col4*2",
           "group_by": "",
           "order_by": "",
           "type": "num"
          },
          "col1": {
           "as": "items",
           "custom_type": "character varying",
           "expression": "",
           "group_by": "",
           "order_by": "",
           "select": "",
           "type": ""
          },
          "col2": {
           "as": "price_2",
           "custom_type": "double precision",
           "expression": "",
           "group_by": "",
           "order_by": "",
           "select": "",
           "type": ""
          }
         },
         "having": "",
         "limit": "10",
         "schema": "administration",
         "sql_blocks": {
          "group_dimensions": [],
          "group_values": [],
          "order_by": [],
          "select_aliases": [
           "items",
           "price_2",
           "price_1"
          ],
          "select_names": [
           "col1 as items",
           "col2 as price_2",
           "col4*2 as price_1"
          ],
          "types": [
           "CHARACTER VARYING",
           "DOUBLE PRECISION",
           "DOUBLE PRECISION"
          ]
         },
         "table": "table_tutorial",
         "where": "col2 > 1"
        }
       }
      },
      "text/plain": [
       "<IPython.core.display.JSON object>"
      ]
     },
     "execution_count": 12,
     "metadata": {
      "application/json": {
       "expanded": false,
       "root": "root"
      }
     },
     "output_type": "execute_result"
    }
   ],
   "source": [
    "display.JSON(data=uqf_pos.data)"
   ]
  },
  {
   "cell_type": "markdown",
   "metadata": {},
   "source": [
    "#### Union by the column names"
   ]
  },
  {
   "cell_type": "code",
   "execution_count": 13,
   "metadata": {},
   "outputs": [
    {
     "name": "stdout",
     "output_type": "stream",
     "text": [
      "Data unioned successfully.\n",
      "SELECT col1 AS items,\n",
      "       col2 AS price_1,\n",
      "       col4*2 AS price_2\n",
      "FROM administration.table_tutorial\n",
      "WHERE col2 > 1\n",
      "LIMIT 10\n",
      "UNION ALL\n",
      "SELECT col1 AS items,\n",
      "       col4*2 AS price_1,\n",
      "       col2 AS price_2\n",
      "FROM administration.table_tutorial\n",
      "WHERE col2 > 1\n",
      "LIMIT 10\n"
     ]
    },
    {
     "data": {
      "text/plain": [
       "<grizly.qframe.QFrame at 0x2167d787ec8>"
      ]
     },
     "execution_count": 13,
     "metadata": {},
     "output_type": "execute_result"
    }
   ],
   "source": [
    "uqf_name = union(qframes=[qf1, qf2], union_type=\"UNION ALL\", union_by='name')\n",
    "uqf_name.get_sql()"
   ]
  },
  {
   "cell_type": "code",
   "execution_count": 14,
   "metadata": {},
   "outputs": [
    {
     "data": {
      "application/json": {
       "select": {
        "fields": {
         "items": {
          "custom_type": "character varying",
          "type": ""
         },
         "price_1": {
          "custom_type": "double precision",
          "type": ""
         },
         "price_2": {
          "custom_type": "double precision",
          "type": "num"
         }
        },
        "sql_blocks": {
         "group_dimensions": [],
         "group_values": [],
         "order_by": [],
         "select_aliases": [
          "items",
          "price_1",
          "price_2"
         ],
         "select_names": [
          "items",
          "price_1",
          "price_2"
         ],
         "types": [
          "CHARACTER VARYING",
          "DOUBLE PRECISION",
          "DOUBLE PRECISION"
         ]
        },
        "union": {
         "union_type": [
          "UNION ALL"
         ]
        }
       },
       "sq1": {
        "select": {
         "distinct": "",
         "engine": "",
         "fields": {
          "calculated_field": {
           "as": "price_2",
           "custom_type": "double precision",
           "expression": "col4*2",
           "group_by": "",
           "order_by": "",
           "type": "num"
          },
          "col1": {
           "as": "items",
           "custom_type": "character varying",
           "expression": "",
           "group_by": "",
           "order_by": "",
           "select": "",
           "type": ""
          },
          "col2": {
           "as": "price_1",
           "custom_type": "double precision",
           "expression": "",
           "group_by": "",
           "order_by": "",
           "select": "",
           "type": ""
          }
         },
         "having": "",
         "limit": "10",
         "schema": "administration",
         "sql_blocks": {
          "group_dimensions": [],
          "group_values": [],
          "order_by": [],
          "select_aliases": [
           "items",
           "price_1",
           "price_2"
          ],
          "select_names": [
           "col1 as items",
           "col2 as price_1",
           "col4*2 as price_2"
          ],
          "types": [
           "CHARACTER VARYING",
           "DOUBLE PRECISION",
           "DOUBLE PRECISION"
          ]
         },
         "table": "table_tutorial",
         "where": "col2 > 1"
        }
       },
       "sq2": {
        "select": {
         "distinct": "",
         "engine": "",
         "fields": {
          "calculated_field": {
           "as": "price_1",
           "custom_type": "double precision",
           "expression": "col4*2",
           "group_by": "",
           "order_by": "",
           "type": "num"
          },
          "col1": {
           "as": "items",
           "custom_type": "character varying",
           "expression": "",
           "group_by": "",
           "order_by": "",
           "select": "",
           "type": ""
          },
          "col2": {
           "as": "price_2",
           "custom_type": "double precision",
           "expression": "",
           "group_by": "",
           "order_by": "",
           "select": "",
           "type": ""
          }
         },
         "having": "",
         "limit": "10",
         "schema": "administration",
         "sql_blocks": {
          "group_dimensions": [],
          "group_values": [],
          "order_by": [],
          "select_aliases": [
           "items",
           "price_1",
           "price_2"
          ],
          "select_names": [
           "col1 as items",
           "col4*2 as price_1",
           "col2 as price_2"
          ],
          "types": [
           "CHARACTER VARYING",
           "DOUBLE PRECISION",
           "DOUBLE PRECISION"
          ]
         },
         "table": "table_tutorial",
         "where": "col2 > 1"
        }
       }
      },
      "text/plain": [
       "<IPython.core.display.JSON object>"
      ]
     },
     "execution_count": 14,
     "metadata": {
      "application/json": {
       "expanded": false,
       "root": "root"
      }
     },
     "output_type": "execute_result"
    }
   ],
   "source": [
    "display.JSON(data=uqf_name.data)"
   ]
  },
  {
   "cell_type": "markdown",
   "metadata": {},
   "source": [
    "You can see that in this case union changes the order of the columns. "
   ]
  }
 ],
 "metadata": {
  "kernelspec": {
   "display_name": "Python 3",
   "language": "python",
   "name": "python3"
  },
  "language_info": {
   "codemirror_mode": {
    "name": "ipython",
    "version": 3
   },
   "file_extension": ".py",
   "mimetype": "text/x-python",
   "name": "python",
   "nbconvert_exporter": "python",
   "pygments_lexer": "ipython3",
   "version": "3.7.4"
  }
 },
 "nbformat": 4,
 "nbformat_minor": 4
}
