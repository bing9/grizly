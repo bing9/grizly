{
 "cells": [
  {
   "cell_type": "markdown",
   "metadata": {},
   "source": [
    "# Tutorial - Config"
   ]
  },
  {
   "cell_type": "markdown",
   "metadata": {},
   "source": [
    "Config is a class which is used to store and edit the grizly configuration. You can use it in other classes if you want to have the same credentials but first you have to generate it.\n",
    "\n",
    ":Be aware that this class doesn't store aws configuration so if you want to use any aws connected clases please follow https://docs.aws.amazon.com/cli/latest/userguide/cli-chap-configure.html:"
   ]
  },
  {
   "cell_type": "code",
   "execution_count": 1,
   "metadata": {},
   "outputs": [],
   "source": [
    "from grizly import (\n",
    "    get_path,\n",
    "    Config\n",
    ")"
   ]
  },
  {
   "cell_type": "markdown",
   "metadata": {},
   "source": [
    "## Config structure"
   ]
  },
  {
   "cell_type": "markdown",
   "metadata": {},
   "source": [
    "Below you can see the structure of config data. Basically it's a dictionary with key `config`. Under this key you have other keys which represent different configurations. In this case it's `standard` and `personal_john`. Under this keys you can have `email`, `github`, `sfdc` or `proxies` - each corresponds to different service. You don't have to use all these keys if you don't need them (you need them only in specific classes) but the important thing is that when you do use them you have to use all their attributes. For example when you add `email` then it must contain `email_address`, `email_password` and `send_as`."
   ]
  },
  {
   "cell_type": "code",
   "execution_count": 2,
   "metadata": {},
   "outputs": [],
   "source": [
    "data = {\n",
    "  \"config\": {\n",
    "    \"standard\": {\n",
    "      \"email\": {\n",
    "        \"email_address\": \"my_email@example.com\",\n",
    "        \"email_password\": \"my_password\",\n",
    "        \"send_as\": \"Team\"\n",
    "      },\n",
    "      \"github\": {\n",
    "        \"username\": \"my_login\",\n",
    "        \"proxies\": {\n",
    "          \"http\": \"first_proxy\",\n",
    "          \"https\": \"second_proxy\"\n",
    "        },\n",
    "        \"pages\": 100,\n",
    "        \"username_password\": \"my_password\"\n",
    "      },\n",
    "      \"sfdc\": {\n",
    "        \"stage\": {\n",
    "          \"username\": \"my_login\",\n",
    "          \"instance_url\": \"https://na1.salesforce.com\",\n",
    "          \"password\": \"my_password\",\n",
    "          \"organizationId\": \"OrgId\"\n",
    "        },\n",
    "        \"prod\": {\n",
    "          \"username\": \"my_login\",\n",
    "          \"password\": \"my_password\",\n",
    "          \"organizationId\": \"OrgId\"\n",
    "        }\n",
    "      },\n",
    "      \"proxies\": {\n",
    "        \"http\": \"first_proxy\",\n",
    "        \"https\": \"second_proxy\"\n",
    "      }\n",
    "    },\n",
    "    \"personal_john\": {\n",
    "      \"email\": {\n",
    "        \"email_address\": \"john_snow@example.com\",\n",
    "        \"email_password\": \"wolf123\",\n",
    "        \"send_as\": \"John Snow\"\n",
    "      }\n",
    "    }\n",
    "  }\n",
    "}"
   ]
  },
  {
   "cell_type": "markdown",
   "metadata": {},
   "source": [
    "## Generating config"
   ]
  },
  {
   "cell_type": "markdown",
   "metadata": {},
   "source": [
    "### Using dictionary"
   ]
  },
  {
   "cell_type": "code",
   "execution_count": 3,
   "metadata": {},
   "outputs": [
    {
     "name": "stdout",
     "output_type": "stream",
     "text": [
      "Config data has been saved.\n"
     ]
    },
    {
     "data": {
      "text/plain": [
       "<grizly.config.Config at 0x1ce3f309488>"
      ]
     },
     "execution_count": 3,
     "metadata": {},
     "output_type": "execute_result"
    }
   ],
   "source": [
    "Config().from_dict(data)"
   ]
  },
  {
   "cell_type": "code",
   "execution_count": 4,
   "metadata": {},
   "outputs": [
    {
     "data": {
      "text/plain": [
       "{'standard': {'email': {'email_address': 'my_email@example.com',\n",
       "   'email_password': 'my_password',\n",
       "   'send_as': 'Team'},\n",
       "  'github': {'username': 'my_login',\n",
       "   'proxies': {'http': 'first_proxy', 'https': 'second_proxy'},\n",
       "   'pages': 100,\n",
       "   'username_password': 'my_password'},\n",
       "  'sfdc': {'stage': {'username': 'my_login',\n",
       "    'instance_url': 'https://na1.salesforce.com',\n",
       "    'password': 'my_password',\n",
       "    'organizationId': 'OrgId'},\n",
       "   'prod': {'username': 'my_login',\n",
       "    'password': 'my_password',\n",
       "    'organizationId': 'OrgId'}},\n",
       "  'proxies': {'http': 'first_proxy', 'https': 'second_proxy'}},\n",
       " 'personal_john': {'email': {'email_address': 'john_snow@example.com',\n",
       "   'email_password': 'wolf123',\n",
       "   'send_as': 'John Snow'}}}"
      ]
     },
     "execution_count": 4,
     "metadata": {},
     "output_type": "execute_result"
    }
   ],
   "source": [
    "Config.data"
   ]
  },
  {
   "cell_type": "markdown",
   "metadata": {},
   "source": [
    "### Using json file"
   ]
  },
  {
   "cell_type": "code",
   "execution_count": 5,
   "metadata": {},
   "outputs": [
    {
     "name": "stdout",
     "output_type": "stream",
     "text": [
      "Config data has been saved.\n"
     ]
    },
    {
     "data": {
      "text/plain": [
       "<grizly.config.Config at 0x1ce3f30b388>"
      ]
     },
     "execution_count": 5,
     "metadata": {},
     "output_type": "execute_result"
    }
   ],
   "source": [
    "json_path = get_path('dev', 'grizly', 'notebooks', 'config.json')\n",
    "\n",
    "Config().from_json(json_path)"
   ]
  },
  {
   "cell_type": "code",
   "execution_count": 6,
   "metadata": {},
   "outputs": [
    {
     "data": {
      "text/plain": [
       "{'standard': {'proxies': {'http': 'first_proxy', 'https': 'second_proxy'},\n",
       "  'email': {'email_address': 'my_email@example.com',\n",
       "   'email_password': 'my_password',\n",
       "   'send_as': 'Team'},\n",
       "  'github': {'username': 'my_login',\n",
       "   'proxies': {'http': 'first_proxy', 'https': 'second_proxy'},\n",
       "   'pages': 100,\n",
       "   'username_password': 'my_password'},\n",
       "  'sfdc': {'stage': {'username': 'my_login',\n",
       "    'instance_url': 'https://na1.salesforce.com',\n",
       "    'password': 'my_password',\n",
       "    'organizationId': 'OrgId'},\n",
       "   'prod': {'username': 'my_login',\n",
       "    'password': 'my_password',\n",
       "    'organizationId': 'OrgId'}}}}"
      ]
     },
     "execution_count": 6,
     "metadata": {},
     "output_type": "execute_result"
    }
   ],
   "source": [
    "Config.data"
   ]
  },
  {
   "cell_type": "markdown",
   "metadata": {},
   "source": [
    "## Adding new keys"
   ]
  },
  {
   "cell_type": "markdown",
   "metadata": {},
   "source": [
    "You can append your config using `add_keys` method."
   ]
  },
  {
   "cell_type": "code",
   "execution_count": 7,
   "metadata": {},
   "outputs": [
    {
     "name": "stdout",
     "output_type": "stream",
     "text": [
      "Key 'personal_john' has been added.\n"
     ]
    },
    {
     "data": {
      "text/plain": [
       "<grizly.config.Config at 0x1ce3f3251c8>"
      ]
     },
     "execution_count": 7,
     "metadata": {},
     "output_type": "execute_result"
    }
   ],
   "source": [
    "personal_john = {\n",
    "    \"personal_john\": {\n",
    "      \"email\": {\n",
    "        \"email_address\": \"john_snow@example.com\",\n",
    "        \"email_password\": \"wolf123\",\n",
    "        \"send_as\": \"John Snow\"\n",
    "      }\n",
    "    }\n",
    "}\n",
    "\n",
    "Config().add_keys(personal_john)"
   ]
  }
 ],
 "metadata": {
  "kernelspec": {
   "display_name": "Python 3",
   "language": "python",
   "name": "python3"
  },
  "language_info": {
   "codemirror_mode": {
    "name": "ipython",
    "version": 3
   },
   "file_extension": ".py",
   "mimetype": "text/x-python",
   "name": "python",
   "nbconvert_exporter": "python",
   "pygments_lexer": "ipython3",
   "version": "3.7.4"
  }
 },
 "nbformat": 4,
 "nbformat_minor": 4
}
