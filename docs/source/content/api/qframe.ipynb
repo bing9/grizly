{
 "cells": [
  {
   "cell_type": "markdown",
   "metadata": {},
   "source": [
    "# Tutorial - QFrame"
   ]
  },
  {
   "cell_type": "markdown",
   "metadata": {},
   "source": [
    "## What is a QFrame?\n",
    "QFrame is a class which generates an SQL statement. It stores fields info in `QFrame.data` parameter which is a dictionary."
   ]
  },
  {
   "cell_type": "markdown",
   "metadata": {},
   "source": [
    "`QFrame.data` has `select` key in which it stores `fields` which we want to have in our SQL statement. Each key have to have specified `type` which can be 'dim' if the varibale is a dimension variable or 'num' if the variable is a numeric variable. Let's take a look at all options that we can have under `select` and `fields` keys."
   ]
  },
  {
   "cell_type": "markdown",
   "metadata": {},
   "source": [
    "```json\n",
    "{\n",
    "  \"select\": {\n",
    "    \"table\": \"table\",\n",
    "    \"schema\": \"schema\",\n",
    "    \"fields\": {\n",
    "      \"column\": {\n",
    "        \"type\": \"dim\",\n",
    "        \"as\": \"\",\n",
    "        \"group_by\": \"\",\n",
    "        \"order_by\": \"\",\n",
    "        \"expression\": \"\",\n",
    "        \"select\": \"\",\n",
    "        \"custom_type\": \"\"\n",
    "      }\n",
    "    },\n",
    "    \"where\": \"\",\n",
    "    \"distinct\": \"\",\n",
    "    \"having\": \"\",\n",
    "    \"limit\": \"\"\n",
    "  }\n",
    "}\n",
    "```"
   ]
  },
  {
   "cell_type": "markdown",
   "metadata": {},
   "source": [
    "- `table` - Name of the table.\n",
    "- `schema` - Name of the schema.\n",
    "- `fields`, in each field:\n",
    "    - `type` - Type of the column. Options:\n",
    "\n",
    "        - 'dim' - VARCHAR(500)  \n",
    "        - 'num' - FLOAT\n",
    "     \n",
    "     Every column has to have specified type. If you want to sepcify another type check `custom_type`.\n",
    "    - `as` - Column alias (name).\n",
    "\n",
    "    - `group_by` - Aggregation type. Possibilities:\n",
    "\n",
    "        - 'group' - This field will go to GROUP BY statement.\n",
    "        - {'sum', 'count', 'min', 'max', 'avg'} - This field will by aggregated in specified way.\n",
    "  \n",
    "     If you don't want to aggregate fields leave `group_by` empty in each field.\n",
    "    - `order_by` - Put the field in order by statement. Options:\n",
    "    \n",
    "        - 'ASC'\n",
    "        - 'DESC'\n",
    "        \n",
    "    - `expression` - Expression, eg. CASE statement, column operation, CONCAT statement, ... .\n",
    "    - `select` - Set 0 if you don't want to put this field in SELECT statement.\n",
    "    - `custom_type` - Specify custom SQL data type, eg. DATE.\n",
    "- `where` - Add where statement, eg. 'sales>100'\n",
    "- `distinct` - Set 1 to add distinct to select\n",
    "- `having` - Add having statement, eg. 'sum(sales)>100'\n",
    "- `limit` - Add limit, eg. 100"
   ]
  },
  {
   "cell_type": "markdown",
   "metadata": {},
   "source": [
    "## How to create a QFrame?\n",
    "You can create a QFrame manually - passing the data directly to QFrame or automatically - using `QFrame.from_table()` method. Before you generate a QFrame you have to set up your ODBC. If you set up `dsn` (data source name) parameter in grizly configuration file then when you create a QFrame you only need to pass `dsn`. In other case you should also specify `dialect` and `db` parameters."
   ]
  },
  {
   "cell_type": "code",
   "execution_count": 1,
   "metadata": {},
   "outputs": [],
   "source": [
    "from grizly import (\n",
    "    get_path, \n",
    "    QFrame\n",
    ")"
   ]
  },
  {
   "cell_type": "markdown",
   "metadata": {},
   "source": [
    "### Manually - using dictionary"
   ]
  },
  {
   "cell_type": "markdown",
   "metadata": {},
   "source": [
    "This method is the most direct method of creating a QFrame - to use it you need to know the structure of `QFrame.data`. From following dictionary"
   ]
  },
  {
   "cell_type": "code",
   "execution_count": 2,
   "metadata": {},
   "outputs": [],
   "source": [
    "data = {\n",
    "  \"select\": {\n",
    "    \"table\": \"table\",\n",
    "    \"schema\": \"schema\",\n",
    "    \"fields\": {\n",
    "      \"col\": {\n",
    "        \"type\": \"dim\"\n",
    "      }\n",
    "    }\n",
    "  }\n",
    "}"
   ]
  },
  {
   "cell_type": "markdown",
   "metadata": {},
   "source": [
    "QFrame will generate a simple sql"
   ]
  },
  {
   "cell_type": "code",
   "execution_count": 3,
   "metadata": {},
   "outputs": [
    {
     "name": "stdout",
     "output_type": "stream",
     "text": [
      "SELECT col\n",
      "FROM schema.table\n"
     ]
    }
   ],
   "source": [
    "qf = QFrame(dsn=\"redshift_acoe\").from_dict(data)\n",
    "print(qf)"
   ]
  },
  {
   "cell_type": "markdown",
   "metadata": {},
   "source": [
    "Here we also used simple method `.get_sql()` which prints sql saved in QFrame."
   ]
  },
  {
   "cell_type": "markdown",
   "metadata": {},
   "source": [
    "### Manually - using JSON file"
   ]
  },
  {
   "cell_type": "markdown",
   "metadata": {},
   "source": [
    "We use a `.json` file to conviniently manipulate information about columns, renames and other things that might be very verbose to manipulate in python code. We can edit the json file into a json editor like http://jsoneditoronline.org/ more conviniently than in Python code.\n",
    "\n",
    "After editing the `store.json` we can read it back inside a QFrame using `read_json()`.\n",
    "\n",
    "This means we can use our json as our main `store` of verbose information and python as our main way to manipulate said information."
   ]
  },
  {
   "cell_type": "code",
   "execution_count": 4,
   "metadata": {},
   "outputs": [
    {
     "name": "stdout",
     "output_type": "stream",
     "text": [
      "SELECT col\n",
      "FROM schema.table\n"
     ]
    }
   ],
   "source": [
    "json_path = get_path(\"grizly_dev\", \"notebooks\", \"store.json\")\n",
    "qf.save_json(json_path=json_path, subquery=\"my_query_1\")\n",
    "\n",
    "qf = QFrame(dsn=\"redshift_acoe\").from_json(json_path=json_path, subquery=\"my_query_1\")\n",
    "print(qf)"
   ]
  },
  {
   "cell_type": "markdown",
   "metadata": {},
   "source": [
    "### Automatically - using from_table method"
   ]
  },
  {
   "cell_type": "markdown",
   "metadata": {},
   "source": [
    "The other way to generate a QFrame is to use `QFrame.from_table()` method."
   ]
  },
  {
   "cell_type": "code",
   "execution_count": 5,
   "metadata": {},
   "outputs": [
    {
     "name": "stdout",
     "output_type": "stream",
     "text": [
      "SELECT col1,\n",
      "       col2,\n",
      "       col3,\n",
      "       col4\n",
      "FROM administration.table_tutorial\n"
     ]
    }
   ],
   "source": [
    "qf = QFrame(dsn=\"redshift_acoe\")\n",
    "qf.from_table(schema=\"administration\", table=\"table_tutorial\")\n",
    "\n",
    "print(qf)"
   ]
  },
  {
   "cell_type": "code",
   "execution_count": 6,
   "metadata": {},
   "outputs": [
    {
     "name": "stdout",
     "output_type": "stream",
     "text": [
      "SELECT col1,\n",
      "       col3\n",
      "FROM administration.table_tutorial\n"
     ]
    }
   ],
   "source": [
    "qf_c = QFrame(dsn=\"redshift_acoe\")\n",
    "qf_c.from_table(schema=\"administration\", table=\"table_tutorial\", columns=[\"col1\", \"col3\"])\n",
    "\n",
    "print(qf_c)"
   ]
  },
  {
   "cell_type": "markdown",
   "metadata": {},
   "source": [
    "You can also specify which columns you want to pull from database by using `columns` parameter."
   ]
  },
  {
   "cell_type": "markdown",
   "metadata": {},
   "source": [
    "## Working with the QFrame\n",
    "There is a lot of methods which you can use to edit the QFrame. You can check them in QFrame docs. In this tutorial we will only show some of them."
   ]
  },
  {
   "cell_type": "markdown",
   "metadata": {},
   "source": [
    "### Checking QFrame size"
   ]
  },
  {
   "cell_type": "markdown",
   "metadata": {},
   "source": [
    "You can check how many rows returns the query generated by your QFrame by using Python build-in `len()` function."
   ]
  },
  {
   "cell_type": "code",
   "execution_count": 7,
   "metadata": {},
   "outputs": [
    {
     "data": {
      "text/plain": [
       "2"
      ]
     },
     "execution_count": 7,
     "metadata": {},
     "output_type": "execute_result"
    }
   ],
   "source": [
    "len(qf)"
   ]
  },
  {
   "cell_type": "markdown",
   "metadata": {},
   "source": [
    "### Doing some basic SQL stuff\n",
    "Let's now add a `where` statement, rename some fields, add calculated field and remove some fields`."
   ]
  },
  {
   "cell_type": "code",
   "execution_count": 8,
   "metadata": {},
   "outputs": [
    {
     "name": "stdout",
     "output_type": "stream",
     "text": [
      "SELECT col1 AS \"items\",\n",
      "       col2 AS \"price\",\n",
      "       col4*2 AS \"calculated_field\"\n",
      "FROM administration.table_tutorial\n",
      "WHERE col2 > 1\n"
     ]
    }
   ],
   "source": [
    "qf.query(\"col2 > 1\") #<- where\n",
    "qf.rename({\"col1\": \"items\", \"col2\": \"price\"})\n",
    "qf.assign(calculated_field=\"col4*2\", \n",
    "          type='num', \n",
    "          custom_type='double precision')\n",
    "qf.remove([\"col3\", \"col4\"])\n",
    "print(qf)"
   ]
  },
  {
   "cell_type": "markdown",
   "metadata": {},
   "source": [
    ":Be aware that `rename()` method doesn't change the name of the field but only the alias (final name) of the column.:"
   ]
  },
  {
   "cell_type": "markdown",
   "metadata": {},
   "source": [
    "Now you can check how the data changed calling `data` attribute."
   ]
  },
  {
   "cell_type": "code",
   "execution_count": 9,
   "metadata": {},
   "outputs": [
    {
     "data": {
      "text/plain": [
       "{'select': {'table': 'table_tutorial',\n",
       "  'schema': 'administration',\n",
       "  'fields': {'col1': {'type': '',\n",
       "    'as': 'items',\n",
       "    'group_by': '',\n",
       "    'order_by': '',\n",
       "    'expression': '',\n",
       "    'select': '',\n",
       "    'custom_type': 'character varying(500)'},\n",
       "   'col2': {'type': '',\n",
       "    'as': 'price',\n",
       "    'group_by': '',\n",
       "    'order_by': '',\n",
       "    'expression': '',\n",
       "    'select': '',\n",
       "    'custom_type': 'double precision'},\n",
       "   'calculated_field': {'type': 'num',\n",
       "    'as': 'calculated_field',\n",
       "    'group_by': '',\n",
       "    'order_by': '',\n",
       "    'expression': 'col4*2',\n",
       "    'custom_type': 'double precision'}},\n",
       "  'engine': '',\n",
       "  'where': 'col2 > 1',\n",
       "  'distinct': '',\n",
       "  'having': '',\n",
       "  'offset': '',\n",
       "  'limit': '',\n",
       "  'sql_blocks': {'select_names': ['col1 as \"items\"',\n",
       "    'col2 as \"price\"',\n",
       "    'col4*2 as \"calculated_field\"'],\n",
       "   'select_aliases': ['items', 'price', 'calculated_field'],\n",
       "   'group_dimensions': [],\n",
       "   'group_values': [],\n",
       "   'order_by': [],\n",
       "   'types': ['CHARACTER VARYING(500)',\n",
       "    'DOUBLE PRECISION',\n",
       "    'DOUBLE PRECISION']}}}"
      ]
     },
     "execution_count": 9,
     "metadata": {},
     "output_type": "execute_result"
    }
   ],
   "source": [
    "qf.data"
   ]
  },
  {
   "cell_type": "markdown",
   "metadata": {},
   "source": [
    "You can see that now we also have `sql_blocks` key. You can ignore it. This key is used to build SQL statement and is generated any time `get_sql()` method is called."
   ]
  },
  {
   "cell_type": "markdown",
   "metadata": {},
   "source": [
    "### Forking\n",
    "\n",
    "Forking qframes can be important if your data workflow needs to take the same sql table and apply different transformations to it.\n",
    "\n",
    "Sometimes we want to fork, do some transforms, then union the QFrames back together which results into an append operation on the data side.\n",
    "\n",
    "Let's create two copies of one QFrame."
   ]
  },
  {
   "cell_type": "code",
   "execution_count": 10,
   "metadata": {},
   "outputs": [],
   "source": [
    "qf1 = qf.copy()\n",
    "qf2 = qf.copy()"
   ]
  },
  {
   "cell_type": "markdown",
   "metadata": {},
   "source": [
    "## Unioning data\n",
    "\n",
    "There are two ways of unioning two QFrames - we can union by the position of the field or by the final name of the columns (that means the alias). "
   ]
  },
  {
   "cell_type": "code",
   "execution_count": 11,
   "metadata": {},
   "outputs": [
    {
     "data": {
      "text/plain": [
       "<grizly.tools.qframe.QFrame at 0x7f77802a7880>"
      ]
     },
     "execution_count": 11,
     "metadata": {},
     "output_type": "execute_result"
    }
   ],
   "source": [
    "from grizly import union\n",
    "\n",
    "qf1.rename({\"col2\": \"price_1\", \"calculated_field\": \"price_2\"})\n",
    "qf2.rename({\"col2\": \"price_2\", \"calculated_field\": \"price_1\"})"
   ]
  },
  {
   "cell_type": "markdown",
   "metadata": {},
   "source": [
    "#### Union by the positon"
   ]
  },
  {
   "cell_type": "code",
   "execution_count": 12,
   "metadata": {},
   "outputs": [
    {
     "name": "stdout",
     "output_type": "stream",
     "text": [
      "SELECT col1 AS \"items\",\n",
      "       col2 AS \"price_1\",\n",
      "       col4*2 AS \"price_2\"\n",
      "FROM administration.table_tutorial\n",
      "WHERE col2 > 1\n",
      "UNION ALL\n",
      "SELECT col1 AS \"items\",\n",
      "       col2 AS \"price_2\",\n",
      "       col4*2 AS \"price_1\"\n",
      "FROM administration.table_tutorial\n",
      "WHERE col2 > 1\n"
     ]
    }
   ],
   "source": [
    "uqf_pos = union(qframes=[qf1, qf2], union_type=\"UNION ALL\", union_by='position')\n",
    "print(uqf_pos)"
   ]
  },
  {
   "cell_type": "markdown",
   "metadata": {},
   "source": [
    "#### Union by the column names"
   ]
  },
  {
   "cell_type": "code",
   "execution_count": 13,
   "metadata": {},
   "outputs": [
    {
     "name": "stdout",
     "output_type": "stream",
     "text": [
      "SELECT col1 AS \"items\",\n",
      "       col2 AS \"price_1\",\n",
      "       col4*2 AS \"price_2\"\n",
      "FROM administration.table_tutorial\n",
      "WHERE col2 > 1\n",
      "UNION ALL\n",
      "SELECT col1 AS \"items\",\n",
      "       col4*2 AS \"price_1\",\n",
      "       col2 AS \"price_2\"\n",
      "FROM administration.table_tutorial\n",
      "WHERE col2 > 1\n"
     ]
    }
   ],
   "source": [
    "uqf_name = union(qframes=[qf1, qf2], union_type=\"UNION ALL\", union_by='name')\n",
    "print(uqf_name)"
   ]
  },
  {
   "cell_type": "markdown",
   "metadata": {},
   "source": [
    "You can see that in this case union changes the order of the columns. "
   ]
  },
  {
   "cell_type": "markdown",
   "metadata": {},
   "source": [
    "## Joining data"
   ]
  },
  {
   "cell_type": "code",
   "execution_count": 14,
   "metadata": {},
   "outputs": [],
   "source": [
    "from grizly import join"
   ]
  },
  {
   "cell_type": "markdown",
   "metadata": {},
   "source": [
    "We will be using `Chinook.sqlite` to visualize data."
   ]
  },
  {
   "cell_type": "code",
   "execution_count": 15,
   "metadata": {},
   "outputs": [],
   "source": [
    "dsn_sqlite = get_path(\"grizly_dev\", \"tests\", \"Chinook.sqlite\")"
   ]
  },
  {
   "cell_type": "markdown",
   "metadata": {},
   "source": [
    "### Simple join"
   ]
  },
  {
   "cell_type": "markdown",
   "metadata": {},
   "source": [
    "First table is `Track` table."
   ]
  },
  {
   "cell_type": "code",
   "execution_count": 16,
   "metadata": {},
   "outputs": [
    {
     "name": "stdout",
     "output_type": "stream",
     "text": [
      "SELECT TrackId,\n",
      "       Name,\n",
      "       AlbumId,\n",
      "       Composer,\n",
      "       UnitPrice\n",
      "FROM Track\n"
     ]
    }
   ],
   "source": [
    "tracks = {  'select': {\n",
    "                'fields': {\n",
    "                    'TrackId': { 'type': 'dim'},\n",
    "                    'Name': {'type': 'dim'},\n",
    "                    'AlbumId': {'type': 'dim'},\n",
    "                    'Composer': {'type': 'dim'},\n",
    "                    'UnitPrice': {'type': 'num'}\n",
    "                },\n",
    "                'table': 'Track'\n",
    "            }\n",
    "}\n",
    "tracks_qf = QFrame(dsn=dsn_sqlite, db=\"sqlite\", dialect=\"mysql\").from_dict(tracks)\n",
    "print(tracks_qf)"
   ]
  },
  {
   "cell_type": "code",
   "execution_count": 17,
   "metadata": {},
   "outputs": [
    {
     "data": {
      "text/html": [
       "<div>\n",
       "<style scoped>\n",
       "    .dataframe tbody tr th:only-of-type {\n",
       "        vertical-align: middle;\n",
       "    }\n",
       "\n",
       "    .dataframe tbody tr th {\n",
       "        vertical-align: top;\n",
       "    }\n",
       "\n",
       "    .dataframe thead th {\n",
       "        text-align: right;\n",
       "    }\n",
       "</style>\n",
       "<table border=\"1\" class=\"dataframe\">\n",
       "  <thead>\n",
       "    <tr style=\"text-align: right;\">\n",
       "      <th></th>\n",
       "      <th>TrackId</th>\n",
       "      <th>Name</th>\n",
       "      <th>AlbumId</th>\n",
       "      <th>Composer</th>\n",
       "      <th>UnitPrice</th>\n",
       "    </tr>\n",
       "  </thead>\n",
       "  <tbody>\n",
       "    <tr>\n",
       "      <th>740</th>\n",
       "      <td>741</td>\n",
       "      <td>Blues Da Piedade</td>\n",
       "      <td>57</td>\n",
       "      <td>None</td>\n",
       "      <td>0.99</td>\n",
       "    </tr>\n",
       "    <tr>\n",
       "      <th>2761</th>\n",
       "      <td>2762</td>\n",
       "      <td>Cristina Nº 2</td>\n",
       "      <td>222</td>\n",
       "      <td>Carlos Imperial/Tim Maia</td>\n",
       "      <td>0.99</td>\n",
       "    </tr>\n",
       "    <tr>\n",
       "      <th>3421</th>\n",
       "      <td>3422</td>\n",
       "      <td>Madama Butterfly: Un Bel Dì Vedremo</td>\n",
       "      <td>291</td>\n",
       "      <td>Giacomo Puccini</td>\n",
       "      <td>0.99</td>\n",
       "    </tr>\n",
       "    <tr>\n",
       "      <th>3386</th>\n",
       "      <td>3387</td>\n",
       "      <td>Disappearing Act</td>\n",
       "      <td>270</td>\n",
       "      <td>Chris Cornell</td>\n",
       "      <td>0.99</td>\n",
       "    </tr>\n",
       "    <tr>\n",
       "      <th>1997</th>\n",
       "      <td>1998</td>\n",
       "      <td>Negative Creep</td>\n",
       "      <td>163</td>\n",
       "      <td>Kurt Cobain</td>\n",
       "      <td>0.99</td>\n",
       "    </tr>\n",
       "  </tbody>\n",
       "</table>\n",
       "</div>"
      ],
      "text/plain": [
       "      TrackId                                 Name  AlbumId  \\\n",
       "740       741                     Blues Da Piedade       57   \n",
       "2761     2762                        Cristina Nº 2      222   \n",
       "3421     3422  Madama Butterfly: Un Bel Dì Vedremo      291   \n",
       "3386     3387                     Disappearing Act      270   \n",
       "1997     1998                       Negative Creep      163   \n",
       "\n",
       "                      Composer  UnitPrice  \n",
       "740                       None       0.99  \n",
       "2761  Carlos Imperial/Tim Maia       0.99  \n",
       "3421           Giacomo Puccini       0.99  \n",
       "3386             Chris Cornell       0.99  \n",
       "1997               Kurt Cobain       0.99  "
      ]
     },
     "execution_count": 17,
     "metadata": {},
     "output_type": "execute_result"
    }
   ],
   "source": [
    "tracks_qf.to_df().sample(5)"
   ]
  },
  {
   "cell_type": "markdown",
   "metadata": {},
   "source": [
    "The second table is `PlaylistTrack` table. "
   ]
  },
  {
   "cell_type": "code",
   "execution_count": 18,
   "metadata": {},
   "outputs": [
    {
     "name": "stdout",
     "output_type": "stream",
     "text": [
      "SELECT PlaylistId,\n",
      "       TrackId\n",
      "FROM PlaylistTrack\n"
     ]
    }
   ],
   "source": [
    "playlist_track_qf = QFrame(dsn=dsn_sqlite, db=\"sqlite\", dialect=\"mysql\").from_table(table=\"PlaylistTrack\")\n",
    "\n",
    "print(playlist_track_qf)"
   ]
  },
  {
   "cell_type": "code",
   "execution_count": 19,
   "metadata": {},
   "outputs": [
    {
     "data": {
      "text/html": [
       "<div>\n",
       "<style scoped>\n",
       "    .dataframe tbody tr th:only-of-type {\n",
       "        vertical-align: middle;\n",
       "    }\n",
       "\n",
       "    .dataframe tbody tr th {\n",
       "        vertical-align: top;\n",
       "    }\n",
       "\n",
       "    .dataframe thead th {\n",
       "        text-align: right;\n",
       "    }\n",
       "</style>\n",
       "<table border=\"1\" class=\"dataframe\">\n",
       "  <thead>\n",
       "    <tr style=\"text-align: right;\">\n",
       "      <th></th>\n",
       "      <th>PlaylistId</th>\n",
       "      <th>TrackId</th>\n",
       "    </tr>\n",
       "  </thead>\n",
       "  <tbody>\n",
       "    <tr>\n",
       "      <th>2435</th>\n",
       "      <td>1</td>\n",
       "      <td>346</td>\n",
       "    </tr>\n",
       "    <tr>\n",
       "      <th>1276</th>\n",
       "      <td>1</td>\n",
       "      <td>2751</td>\n",
       "    </tr>\n",
       "    <tr>\n",
       "      <th>6364</th>\n",
       "      <td>8</td>\n",
       "      <td>1435</td>\n",
       "    </tr>\n",
       "    <tr>\n",
       "      <th>6054</th>\n",
       "      <td>8</td>\n",
       "      <td>1155</td>\n",
       "    </tr>\n",
       "    <tr>\n",
       "      <th>266</th>\n",
       "      <td>1</td>\n",
       "      <td>2367</td>\n",
       "    </tr>\n",
       "  </tbody>\n",
       "</table>\n",
       "</div>"
      ],
      "text/plain": [
       "      PlaylistId  TrackId\n",
       "2435           1      346\n",
       "1276           1     2751\n",
       "6364           8     1435\n",
       "6054           8     1155\n",
       "266            1     2367"
      ]
     },
     "execution_count": 19,
     "metadata": {},
     "output_type": "execute_result"
    }
   ],
   "source": [
    "playlist_track_qf.to_df().sample(5)"
   ]
  },
  {
   "cell_type": "markdown",
   "metadata": {},
   "source": [
    "Now let's join them on `TrackId`."
   ]
  },
  {
   "cell_type": "code",
   "execution_count": 20,
   "metadata": {},
   "outputs": [
    {
     "name": "stdout",
     "output_type": "stream",
     "text": [
      "SELECT sq1.TrackId AS \"TrackId\",\n",
      "       sq1.Name AS \"Name\",\n",
      "       sq1.AlbumId AS \"AlbumId\",\n",
      "       sq1.Composer AS \"Composer\",\n",
      "       sq1.UnitPrice AS \"UnitPrice\",\n",
      "       sq2.PlaylistId AS \"PlaylistId\"\n",
      "FROM\n",
      "  (SELECT TrackId,\n",
      "          Name,\n",
      "          AlbumId,\n",
      "          Composer,\n",
      "          UnitPrice\n",
      "   FROM Track) sq1\n",
      "LEFT JOIN\n",
      "  (SELECT PlaylistId,\n",
      "          TrackId\n",
      "   FROM PlaylistTrack) sq2 ON sq1.TrackId=sq2.TrackId\n"
     ]
    }
   ],
   "source": [
    "joined_qf = join([tracks_qf,playlist_track_qf], \n",
    "                 join_type=\"left join\", \n",
    "                 on=\"sq1.TrackId=sq2.TrackId\")\n",
    "\n",
    "print(joined_qf)"
   ]
  },
  {
   "cell_type": "code",
   "execution_count": 21,
   "metadata": {},
   "outputs": [
    {
     "data": {
      "text/html": [
       "<div>\n",
       "<style scoped>\n",
       "    .dataframe tbody tr th:only-of-type {\n",
       "        vertical-align: middle;\n",
       "    }\n",
       "\n",
       "    .dataframe tbody tr th {\n",
       "        vertical-align: top;\n",
       "    }\n",
       "\n",
       "    .dataframe thead th {\n",
       "        text-align: right;\n",
       "    }\n",
       "</style>\n",
       "<table border=\"1\" class=\"dataframe\">\n",
       "  <thead>\n",
       "    <tr style=\"text-align: right;\">\n",
       "      <th></th>\n",
       "      <th>TrackId</th>\n",
       "      <th>Name</th>\n",
       "      <th>AlbumId</th>\n",
       "      <th>Composer</th>\n",
       "      <th>UnitPrice</th>\n",
       "      <th>PlaylistId</th>\n",
       "    </tr>\n",
       "  </thead>\n",
       "  <tbody>\n",
       "    <tr>\n",
       "      <th>6982</th>\n",
       "      <td>2821</td>\n",
       "      <td>Exodus, Pt. 1</td>\n",
       "      <td>227</td>\n",
       "      <td>None</td>\n",
       "      <td>1.99</td>\n",
       "      <td>3</td>\n",
       "    </tr>\n",
       "    <tr>\n",
       "      <th>4347</th>\n",
       "      <td>1768</td>\n",
       "      <td>Dança Da Solidão</td>\n",
       "      <td>145</td>\n",
       "      <td>Caetano Veloso e Gilberto Gil</td>\n",
       "      <td>0.99</td>\n",
       "      <td>1</td>\n",
       "    </tr>\n",
       "    <tr>\n",
       "      <th>2159</th>\n",
       "      <td>879</td>\n",
       "      <td>Atrás da Porta</td>\n",
       "      <td>71</td>\n",
       "      <td>None</td>\n",
       "      <td>0.99</td>\n",
       "      <td>8</td>\n",
       "    </tr>\n",
       "    <tr>\n",
       "      <th>3171</th>\n",
       "      <td>1274</td>\n",
       "      <td>07 - Strange World</td>\n",
       "      <td>100</td>\n",
       "      <td>Steve Harris</td>\n",
       "      <td>0.99</td>\n",
       "      <td>8</td>\n",
       "    </tr>\n",
       "    <tr>\n",
       "      <th>1251</th>\n",
       "      <td>501</td>\n",
       "      <td>Grito De Alerta</td>\n",
       "      <td>41</td>\n",
       "      <td>Gonzaga Jr.</td>\n",
       "      <td>0.99</td>\n",
       "      <td>5</td>\n",
       "    </tr>\n",
       "  </tbody>\n",
       "</table>\n",
       "</div>"
      ],
      "text/plain": [
       "      TrackId                Name  AlbumId                       Composer  \\\n",
       "6982     2821       Exodus, Pt. 1      227                           None   \n",
       "4347     1768    Dança Da Solidão      145  Caetano Veloso e Gilberto Gil   \n",
       "2159      879      Atrás da Porta       71                           None   \n",
       "3171     1274  07 - Strange World      100                   Steve Harris   \n",
       "1251      501     Grito De Alerta       41                    Gonzaga Jr.   \n",
       "\n",
       "      UnitPrice  PlaylistId  \n",
       "6982       1.99           3  \n",
       "4347       0.99           1  \n",
       "2159       0.99           8  \n",
       "3171       0.99           8  \n",
       "1251       0.99           5  "
      ]
     },
     "execution_count": 21,
     "metadata": {},
     "output_type": "execute_result"
    }
   ],
   "source": [
    "joined_qf.to_df().sample(5)"
   ]
  },
  {
   "cell_type": "markdown",
   "metadata": {},
   "source": [
    "As you can see in this example `UnitPrice` is taken from the first table. By default join function is taking all fields from the first QFrame, then all the fields from the second QFrame which are not in the first and so on. If you still want to keep all fields from each QFrame we have to set `unique_col=False`. We will see in the next example how does it work."
   ]
  },
  {
   "cell_type": "markdown",
   "metadata": {},
   "source": [
    "### Multiple join"
   ]
  },
  {
   "cell_type": "markdown",
   "metadata": {},
   "source": [
    "Now let's use one more table to check how does multiple join look like."
   ]
  },
  {
   "cell_type": "code",
   "execution_count": 22,
   "metadata": {},
   "outputs": [
    {
     "name": "stdout",
     "output_type": "stream",
     "text": [
      "SELECT PlaylistId,\n",
      "       Name\n",
      "FROM Playlist\n"
     ]
    }
   ],
   "source": [
    "playlists_qf = QFrame(dsn=dsn_sqlite, db=\"sqlite\", dialect=\"mysql\").from_table(table=\"Playlist\")\n",
    "\n",
    "print(playlists_qf)"
   ]
  },
  {
   "cell_type": "code",
   "execution_count": 23,
   "metadata": {},
   "outputs": [
    {
     "data": {
      "text/html": [
       "<div>\n",
       "<style scoped>\n",
       "    .dataframe tbody tr th:only-of-type {\n",
       "        vertical-align: middle;\n",
       "    }\n",
       "\n",
       "    .dataframe tbody tr th {\n",
       "        vertical-align: top;\n",
       "    }\n",
       "\n",
       "    .dataframe thead th {\n",
       "        text-align: right;\n",
       "    }\n",
       "</style>\n",
       "<table border=\"1\" class=\"dataframe\">\n",
       "  <thead>\n",
       "    <tr style=\"text-align: right;\">\n",
       "      <th></th>\n",
       "      <th>PlaylistId</th>\n",
       "      <th>Name</th>\n",
       "    </tr>\n",
       "  </thead>\n",
       "  <tbody>\n",
       "    <tr>\n",
       "      <th>13</th>\n",
       "      <td>14</td>\n",
       "      <td>Classical 101 - Next Steps</td>\n",
       "    </tr>\n",
       "    <tr>\n",
       "      <th>4</th>\n",
       "      <td>5</td>\n",
       "      <td>90’s Music</td>\n",
       "    </tr>\n",
       "    <tr>\n",
       "      <th>1</th>\n",
       "      <td>2</td>\n",
       "      <td>Movies</td>\n",
       "    </tr>\n",
       "    <tr>\n",
       "      <th>15</th>\n",
       "      <td>16</td>\n",
       "      <td>Grunge</td>\n",
       "    </tr>\n",
       "    <tr>\n",
       "      <th>3</th>\n",
       "      <td>4</td>\n",
       "      <td>Audiobooks</td>\n",
       "    </tr>\n",
       "  </tbody>\n",
       "</table>\n",
       "</div>"
      ],
      "text/plain": [
       "    PlaylistId                        Name\n",
       "13          14  Classical 101 - Next Steps\n",
       "4            5                  90’s Music\n",
       "1            2                      Movies\n",
       "15          16                      Grunge\n",
       "3            4                  Audiobooks"
      ]
     },
     "execution_count": 23,
     "metadata": {},
     "output_type": "execute_result"
    }
   ],
   "source": [
    "playlists_qf.to_df().sample(5)"
   ]
  },
  {
   "cell_type": "markdown",
   "metadata": {},
   "source": [
    "Now if we want to join `Tracks`, `PlaylistTrack` and `Playlist` tables we can use `TrackId` and `PlaylistId`. We can see that in `Tracks` and `Playlist` tables we have the same column `Name`. Let's check the option `unique_col=False` and analyse duplicated columns."
   ]
  },
  {
   "cell_type": "code",
   "execution_count": 24,
   "metadata": {},
   "outputs": [
    {
     "name": "stderr",
     "output_type": "stream",
     "text": [
      "Please remove or rename duplicated columns. Use your_qframe.show_duplicated_columns() to check duplicates.\n"
     ]
    }
   ],
   "source": [
    "joined_qf = join(qframes=[tracks_qf, playlist_track_qf, playlists_qf], \n",
    "                 join_type=['left join', 'left join'], \n",
    "                 on=['sq1.TrackId=sq2.TrackId', 'sq2.PlaylistId=sq3.PlaylistId'], \n",
    "                 unique_col=False)"
   ]
  },
  {
   "cell_type": "code",
   "execution_count": 25,
   "metadata": {},
   "outputs": [
    {
     "name": "stdout",
     "output_type": "stream",
     "text": [
      "\u001b[1m DUPLICATED COLUMNS: \n",
      " \u001b[0m\n",
      "TrackId:\t ['sq1.TrackId', 'sq2.TrackId']\n",
      "\n",
      "Name:\t ['sq1.Name', 'sq3.Name']\n",
      "\n",
      "PlaylistId:\t ['sq2.PlaylistId', 'sq3.PlaylistId']\n",
      "\n",
      "Use your_qframe.remove() to remove or your_qframe.rename() to rename columns.\n"
     ]
    },
    {
     "data": {
      "text/plain": [
       "<grizly.tools.qframe.QFrame at 0x7f777fd4ea00>"
      ]
     },
     "execution_count": 25,
     "metadata": {},
     "output_type": "execute_result"
    }
   ],
   "source": [
    "joined_qf.show_duplicated_columns()"
   ]
  },
  {
   "cell_type": "markdown",
   "metadata": {},
   "source": [
    "We can see that three columns occure in two different tables. We will remove `sq2.TrackId` and  `sq2.PlaylistId` fields and rename `Name` column."
   ]
  },
  {
   "cell_type": "code",
   "execution_count": 26,
   "metadata": {},
   "outputs": [
    {
     "name": "stdout",
     "output_type": "stream",
     "text": [
      "SELECT sq1.TrackId AS \"TrackId\",\n",
      "       sq1.Name AS \"TrackName\",\n",
      "       sq1.AlbumId AS \"AlbumId\",\n",
      "       sq1.Composer AS \"Composer\",\n",
      "       sq1.UnitPrice AS \"UnitPrice\",\n",
      "       sq3.PlaylistId AS \"PlaylistId\",\n",
      "       sq3.Name AS \"PlaylistType\"\n",
      "FROM\n",
      "  (SELECT TrackId,\n",
      "          Name,\n",
      "          AlbumId,\n",
      "          Composer,\n",
      "          UnitPrice\n",
      "   FROM Track) sq1\n",
      "LEFT JOIN\n",
      "  (SELECT PlaylistId,\n",
      "          TrackId\n",
      "   FROM PlaylistTrack) sq2 ON sq1.TrackId=sq2.TrackId\n",
      "LEFT JOIN\n",
      "  (SELECT PlaylistId,\n",
      "          Name\n",
      "   FROM Playlist) sq3 ON sq2.PlaylistId=sq3.PlaylistId\n"
     ]
    }
   ],
   "source": [
    "joined_qf.remove(['sq2.TrackId', \n",
    "                  'sq2.PlaylistId']).rename({'sq1.Name': 'TrackName', \n",
    "                                             'sq3.Name': 'PlaylistType'})\n",
    "print(joined_qf)"
   ]
  },
  {
   "cell_type": "code",
   "execution_count": 27,
   "metadata": {},
   "outputs": [
    {
     "data": {
      "text/html": [
       "<div>\n",
       "<style scoped>\n",
       "    .dataframe tbody tr th:only-of-type {\n",
       "        vertical-align: middle;\n",
       "    }\n",
       "\n",
       "    .dataframe tbody tr th {\n",
       "        vertical-align: top;\n",
       "    }\n",
       "\n",
       "    .dataframe thead th {\n",
       "        text-align: right;\n",
       "    }\n",
       "</style>\n",
       "<table border=\"1\" class=\"dataframe\">\n",
       "  <thead>\n",
       "    <tr style=\"text-align: right;\">\n",
       "      <th></th>\n",
       "      <th>TrackId</th>\n",
       "      <th>TrackName</th>\n",
       "      <th>AlbumId</th>\n",
       "      <th>Composer</th>\n",
       "      <th>UnitPrice</th>\n",
       "      <th>PlaylistId</th>\n",
       "      <th>PlaylistType</th>\n",
       "    </tr>\n",
       "  </thead>\n",
       "  <tbody>\n",
       "    <tr>\n",
       "      <th>295</th>\n",
       "      <td>117</td>\n",
       "      <td>Rock 'N' Roll Music</td>\n",
       "      <td>12</td>\n",
       "      <td>Chuck Berry</td>\n",
       "      <td>0.99</td>\n",
       "      <td>1</td>\n",
       "      <td>Music</td>\n",
       "    </tr>\n",
       "    <tr>\n",
       "      <th>3916</th>\n",
       "      <td>1574</td>\n",
       "      <td>Beth</td>\n",
       "      <td>126</td>\n",
       "      <td>Peter Criss, Stan Penridge, Bob Ezrin</td>\n",
       "      <td>0.99</td>\n",
       "      <td>5</td>\n",
       "      <td>90’s Music</td>\n",
       "    </tr>\n",
       "    <tr>\n",
       "      <th>3776</th>\n",
       "      <td>1518</td>\n",
       "      <td>Filho Maravilha</td>\n",
       "      <td>122</td>\n",
       "      <td>None</td>\n",
       "      <td>0.99</td>\n",
       "      <td>1</td>\n",
       "      <td>Music</td>\n",
       "    </tr>\n",
       "    <tr>\n",
       "      <th>746</th>\n",
       "      <td>294</td>\n",
       "      <td>Pensamento</td>\n",
       "      <td>26</td>\n",
       "      <td>Bino Farias/Da Gamma/Lazão/Rás Bernard</td>\n",
       "      <td>0.99</td>\n",
       "      <td>8</td>\n",
       "      <td>Music</td>\n",
       "    </tr>\n",
       "    <tr>\n",
       "      <th>7565</th>\n",
       "      <td>3074</td>\n",
       "      <td>When It's Love</td>\n",
       "      <td>243</td>\n",
       "      <td>Edward Van Halen, Alex Van Halen, Michael Anth...</td>\n",
       "      <td>0.99</td>\n",
       "      <td>1</td>\n",
       "      <td>Music</td>\n",
       "    </tr>\n",
       "  </tbody>\n",
       "</table>\n",
       "</div>"
      ],
      "text/plain": [
       "      TrackId            TrackName  AlbumId  \\\n",
       "295       117  Rock 'N' Roll Music       12   \n",
       "3916     1574                 Beth      126   \n",
       "3776     1518      Filho Maravilha      122   \n",
       "746       294           Pensamento       26   \n",
       "7565     3074       When It's Love      243   \n",
       "\n",
       "                                               Composer  UnitPrice  \\\n",
       "295                                         Chuck Berry       0.99   \n",
       "3916              Peter Criss, Stan Penridge, Bob Ezrin       0.99   \n",
       "3776                                               None       0.99   \n",
       "746              Bino Farias/Da Gamma/Lazão/Rás Bernard       0.99   \n",
       "7565  Edward Van Halen, Alex Van Halen, Michael Anth...       0.99   \n",
       "\n",
       "      PlaylistId PlaylistType  \n",
       "295            1        Music  \n",
       "3916           5   90’s Music  \n",
       "3776           1        Music  \n",
       "746            8        Music  \n",
       "7565           1        Music  "
      ]
     },
     "execution_count": 27,
     "metadata": {},
     "output_type": "execute_result"
    }
   ],
   "source": [
    "joined_qf.to_df().sample(5)"
   ]
  },
  {
   "cell_type": "markdown",
   "metadata": {},
   "source": [
    "## Pivot"
   ]
  },
  {
   "cell_type": "markdown",
   "metadata": {},
   "source": [
    "Again we will use `Chinook.sqlite` and `Track` table to visualize data."
   ]
  },
  {
   "cell_type": "code",
   "execution_count": 28,
   "metadata": {},
   "outputs": [
    {
     "data": {
      "text/plain": [
       "3503"
      ]
     },
     "execution_count": 28,
     "metadata": {},
     "output_type": "execute_result"
    }
   ],
   "source": [
    "qf = QFrame(dsn=dsn_sqlite, db=\"sqlite\", dialect=\"mysql\").from_table(table=\"Track\")\n",
    "\n",
    "len(qf)"
   ]
  },
  {
   "cell_type": "markdown",
   "metadata": {},
   "source": [
    "Our table has `3503` rows - we will limit the data to `15` rows to get better view. We will use `QFrame.window()` method to be sure that the result is deterministic. "
   ]
  },
  {
   "cell_type": "code",
   "execution_count": 29,
   "metadata": {},
   "outputs": [
    {
     "data": {
      "text/html": [
       "<div>\n",
       "<style scoped>\n",
       "    .dataframe tbody tr th:only-of-type {\n",
       "        vertical-align: middle;\n",
       "    }\n",
       "\n",
       "    .dataframe tbody tr th {\n",
       "        vertical-align: top;\n",
       "    }\n",
       "\n",
       "    .dataframe thead th {\n",
       "        text-align: right;\n",
       "    }\n",
       "</style>\n",
       "<table border=\"1\" class=\"dataframe\">\n",
       "  <thead>\n",
       "    <tr style=\"text-align: right;\">\n",
       "      <th></th>\n",
       "      <th>TrackId</th>\n",
       "      <th>Name</th>\n",
       "      <th>AlbumId</th>\n",
       "      <th>MediaTypeId</th>\n",
       "      <th>GenreId</th>\n",
       "      <th>Composer</th>\n",
       "      <th>Milliseconds</th>\n",
       "      <th>Bytes</th>\n",
       "      <th>UnitPrice</th>\n",
       "    </tr>\n",
       "  </thead>\n",
       "  <tbody>\n",
       "    <tr>\n",
       "      <th>0</th>\n",
       "      <td>101</td>\n",
       "      <td>Be Yourself</td>\n",
       "      <td>11</td>\n",
       "      <td>1</td>\n",
       "      <td>4</td>\n",
       "      <td>Cornell, Commerford, Morello, Wilk</td>\n",
       "      <td>279484</td>\n",
       "      <td>9106160</td>\n",
       "      <td>0.99</td>\n",
       "    </tr>\n",
       "    <tr>\n",
       "      <th>1</th>\n",
       "      <td>102</td>\n",
       "      <td>Doesn't Remind Me</td>\n",
       "      <td>11</td>\n",
       "      <td>1</td>\n",
       "      <td>4</td>\n",
       "      <td>Cornell, Commerford, Morello, Wilk</td>\n",
       "      <td>255869</td>\n",
       "      <td>8357387</td>\n",
       "      <td>0.99</td>\n",
       "    </tr>\n",
       "    <tr>\n",
       "      <th>2</th>\n",
       "      <td>103</td>\n",
       "      <td>Drown Me Slowly</td>\n",
       "      <td>11</td>\n",
       "      <td>1</td>\n",
       "      <td>4</td>\n",
       "      <td>Cornell, Commerford, Morello, Wilk</td>\n",
       "      <td>233691</td>\n",
       "      <td>7609178</td>\n",
       "      <td>0.99</td>\n",
       "    </tr>\n",
       "    <tr>\n",
       "      <th>3</th>\n",
       "      <td>104</td>\n",
       "      <td>Heaven's Dead</td>\n",
       "      <td>11</td>\n",
       "      <td>1</td>\n",
       "      <td>4</td>\n",
       "      <td>Cornell, Commerford, Morello, Wilk</td>\n",
       "      <td>276688</td>\n",
       "      <td>9006158</td>\n",
       "      <td>0.99</td>\n",
       "    </tr>\n",
       "    <tr>\n",
       "      <th>4</th>\n",
       "      <td>105</td>\n",
       "      <td>The Worm</td>\n",
       "      <td>11</td>\n",
       "      <td>1</td>\n",
       "      <td>4</td>\n",
       "      <td>Cornell, Commerford, Morello, Wilk</td>\n",
       "      <td>237714</td>\n",
       "      <td>7710800</td>\n",
       "      <td>0.99</td>\n",
       "    </tr>\n",
       "    <tr>\n",
       "      <th>5</th>\n",
       "      <td>106</td>\n",
       "      <td>Man Or Animal</td>\n",
       "      <td>11</td>\n",
       "      <td>1</td>\n",
       "      <td>4</td>\n",
       "      <td>Cornell, Commerford, Morello, Wilk</td>\n",
       "      <td>233195</td>\n",
       "      <td>7542942</td>\n",
       "      <td>0.99</td>\n",
       "    </tr>\n",
       "    <tr>\n",
       "      <th>6</th>\n",
       "      <td>107</td>\n",
       "      <td>Yesterday To Tomorrow</td>\n",
       "      <td>11</td>\n",
       "      <td>1</td>\n",
       "      <td>4</td>\n",
       "      <td>Cornell, Commerford, Morello, Wilk</td>\n",
       "      <td>273763</td>\n",
       "      <td>8944205</td>\n",
       "      <td>0.99</td>\n",
       "    </tr>\n",
       "    <tr>\n",
       "      <th>7</th>\n",
       "      <td>108</td>\n",
       "      <td>Dandelion</td>\n",
       "      <td>11</td>\n",
       "      <td>1</td>\n",
       "      <td>4</td>\n",
       "      <td>Cornell, Commerford, Morello, Wilk</td>\n",
       "      <td>278125</td>\n",
       "      <td>9003592</td>\n",
       "      <td>0.99</td>\n",
       "    </tr>\n",
       "    <tr>\n",
       "      <th>8</th>\n",
       "      <td>109</td>\n",
       "      <td>#1 Zero</td>\n",
       "      <td>11</td>\n",
       "      <td>1</td>\n",
       "      <td>4</td>\n",
       "      <td>Cornell, Commerford, Morello, Wilk</td>\n",
       "      <td>299102</td>\n",
       "      <td>9731988</td>\n",
       "      <td>0.99</td>\n",
       "    </tr>\n",
       "    <tr>\n",
       "      <th>9</th>\n",
       "      <td>110</td>\n",
       "      <td>The Curse</td>\n",
       "      <td>11</td>\n",
       "      <td>1</td>\n",
       "      <td>4</td>\n",
       "      <td>Cornell, Commerford, Morello, Wilk</td>\n",
       "      <td>309786</td>\n",
       "      <td>10029406</td>\n",
       "      <td>0.99</td>\n",
       "    </tr>\n",
       "    <tr>\n",
       "      <th>10</th>\n",
       "      <td>111</td>\n",
       "      <td>Money</td>\n",
       "      <td>12</td>\n",
       "      <td>1</td>\n",
       "      <td>5</td>\n",
       "      <td>Berry Gordy, Jr./Janie Bradford</td>\n",
       "      <td>147591</td>\n",
       "      <td>2365897</td>\n",
       "      <td>0.99</td>\n",
       "    </tr>\n",
       "    <tr>\n",
       "      <th>11</th>\n",
       "      <td>112</td>\n",
       "      <td>Long Tall Sally</td>\n",
       "      <td>12</td>\n",
       "      <td>1</td>\n",
       "      <td>5</td>\n",
       "      <td>Enotris Johnson/Little Richard/Robert \"Bumps\" ...</td>\n",
       "      <td>106396</td>\n",
       "      <td>1707084</td>\n",
       "      <td>0.99</td>\n",
       "    </tr>\n",
       "    <tr>\n",
       "      <th>12</th>\n",
       "      <td>113</td>\n",
       "      <td>Bad Boy</td>\n",
       "      <td>12</td>\n",
       "      <td>1</td>\n",
       "      <td>5</td>\n",
       "      <td>Larry Williams</td>\n",
       "      <td>116088</td>\n",
       "      <td>1862126</td>\n",
       "      <td>0.99</td>\n",
       "    </tr>\n",
       "    <tr>\n",
       "      <th>13</th>\n",
       "      <td>114</td>\n",
       "      <td>Twist And Shout</td>\n",
       "      <td>12</td>\n",
       "      <td>1</td>\n",
       "      <td>5</td>\n",
       "      <td>Bert Russell/Phil Medley</td>\n",
       "      <td>161123</td>\n",
       "      <td>2582553</td>\n",
       "      <td>0.99</td>\n",
       "    </tr>\n",
       "    <tr>\n",
       "      <th>14</th>\n",
       "      <td>115</td>\n",
       "      <td>Please Mr. Postman</td>\n",
       "      <td>12</td>\n",
       "      <td>1</td>\n",
       "      <td>5</td>\n",
       "      <td>Brian Holland/Freddie Gorman/Georgia Dobbins/R...</td>\n",
       "      <td>137639</td>\n",
       "      <td>2206986</td>\n",
       "      <td>0.99</td>\n",
       "    </tr>\n",
       "    <tr>\n",
       "      <th>15</th>\n",
       "      <td>116</td>\n",
       "      <td>C'Mon Everybody</td>\n",
       "      <td>12</td>\n",
       "      <td>1</td>\n",
       "      <td>5</td>\n",
       "      <td>Eddie Cochran/Jerry Capehart</td>\n",
       "      <td>140199</td>\n",
       "      <td>2247846</td>\n",
       "      <td>0.99</td>\n",
       "    </tr>\n",
       "    <tr>\n",
       "      <th>16</th>\n",
       "      <td>117</td>\n",
       "      <td>Rock 'N' Roll Music</td>\n",
       "      <td>12</td>\n",
       "      <td>1</td>\n",
       "      <td>5</td>\n",
       "      <td>Chuck Berry</td>\n",
       "      <td>141923</td>\n",
       "      <td>2276788</td>\n",
       "      <td>0.99</td>\n",
       "    </tr>\n",
       "    <tr>\n",
       "      <th>17</th>\n",
       "      <td>118</td>\n",
       "      <td>Slow Down</td>\n",
       "      <td>12</td>\n",
       "      <td>1</td>\n",
       "      <td>5</td>\n",
       "      <td>Larry Williams</td>\n",
       "      <td>163265</td>\n",
       "      <td>2616981</td>\n",
       "      <td>0.99</td>\n",
       "    </tr>\n",
       "    <tr>\n",
       "      <th>18</th>\n",
       "      <td>119</td>\n",
       "      <td>Roadrunner</td>\n",
       "      <td>12</td>\n",
       "      <td>1</td>\n",
       "      <td>5</td>\n",
       "      <td>Bo Diddley</td>\n",
       "      <td>143595</td>\n",
       "      <td>2301989</td>\n",
       "      <td>0.99</td>\n",
       "    </tr>\n",
       "    <tr>\n",
       "      <th>19</th>\n",
       "      <td>120</td>\n",
       "      <td>Carol</td>\n",
       "      <td>12</td>\n",
       "      <td>1</td>\n",
       "      <td>5</td>\n",
       "      <td>Chuck Berry</td>\n",
       "      <td>143830</td>\n",
       "      <td>2306019</td>\n",
       "      <td>0.99</td>\n",
       "    </tr>\n",
       "    <tr>\n",
       "      <th>20</th>\n",
       "      <td>121</td>\n",
       "      <td>Good Golly Miss Molly</td>\n",
       "      <td>12</td>\n",
       "      <td>1</td>\n",
       "      <td>5</td>\n",
       "      <td>Little Richard</td>\n",
       "      <td>106266</td>\n",
       "      <td>1704918</td>\n",
       "      <td>0.99</td>\n",
       "    </tr>\n",
       "    <tr>\n",
       "      <th>21</th>\n",
       "      <td>122</td>\n",
       "      <td>20 Flight Rock</td>\n",
       "      <td>12</td>\n",
       "      <td>1</td>\n",
       "      <td>5</td>\n",
       "      <td>Ned Fairchild</td>\n",
       "      <td>107807</td>\n",
       "      <td>1299960</td>\n",
       "      <td>0.99</td>\n",
       "    </tr>\n",
       "    <tr>\n",
       "      <th>22</th>\n",
       "      <td>123</td>\n",
       "      <td>Quadrant</td>\n",
       "      <td>13</td>\n",
       "      <td>1</td>\n",
       "      <td>2</td>\n",
       "      <td>Billy Cobham</td>\n",
       "      <td>261851</td>\n",
       "      <td>8538199</td>\n",
       "      <td>0.99</td>\n",
       "    </tr>\n",
       "    <tr>\n",
       "      <th>23</th>\n",
       "      <td>124</td>\n",
       "      <td>Snoopy's search-Red baron</td>\n",
       "      <td>13</td>\n",
       "      <td>1</td>\n",
       "      <td>2</td>\n",
       "      <td>Billy Cobham</td>\n",
       "      <td>456071</td>\n",
       "      <td>15075616</td>\n",
       "      <td>0.99</td>\n",
       "    </tr>\n",
       "    <tr>\n",
       "      <th>24</th>\n",
       "      <td>125</td>\n",
       "      <td>Spanish moss-\"A sound portrait\"-Spanish moss</td>\n",
       "      <td>13</td>\n",
       "      <td>1</td>\n",
       "      <td>2</td>\n",
       "      <td>Billy Cobham</td>\n",
       "      <td>248084</td>\n",
       "      <td>8217867</td>\n",
       "      <td>0.99</td>\n",
       "    </tr>\n",
       "    <tr>\n",
       "      <th>25</th>\n",
       "      <td>126</td>\n",
       "      <td>Moon germs</td>\n",
       "      <td>13</td>\n",
       "      <td>1</td>\n",
       "      <td>2</td>\n",
       "      <td>Billy Cobham</td>\n",
       "      <td>294060</td>\n",
       "      <td>9714812</td>\n",
       "      <td>0.99</td>\n",
       "    </tr>\n",
       "    <tr>\n",
       "      <th>26</th>\n",
       "      <td>127</td>\n",
       "      <td>Stratus</td>\n",
       "      <td>13</td>\n",
       "      <td>1</td>\n",
       "      <td>2</td>\n",
       "      <td>Billy Cobham</td>\n",
       "      <td>582086</td>\n",
       "      <td>19115680</td>\n",
       "      <td>0.99</td>\n",
       "    </tr>\n",
       "    <tr>\n",
       "      <th>27</th>\n",
       "      <td>128</td>\n",
       "      <td>The pleasant pheasant</td>\n",
       "      <td>13</td>\n",
       "      <td>1</td>\n",
       "      <td>2</td>\n",
       "      <td>Billy Cobham</td>\n",
       "      <td>318066</td>\n",
       "      <td>10630578</td>\n",
       "      <td>0.99</td>\n",
       "    </tr>\n",
       "    <tr>\n",
       "      <th>28</th>\n",
       "      <td>129</td>\n",
       "      <td>Solo-Panhandler</td>\n",
       "      <td>13</td>\n",
       "      <td>1</td>\n",
       "      <td>2</td>\n",
       "      <td>Billy Cobham</td>\n",
       "      <td>246151</td>\n",
       "      <td>8230661</td>\n",
       "      <td>0.99</td>\n",
       "    </tr>\n",
       "    <tr>\n",
       "      <th>29</th>\n",
       "      <td>130</td>\n",
       "      <td>Do what cha wanna</td>\n",
       "      <td>13</td>\n",
       "      <td>1</td>\n",
       "      <td>2</td>\n",
       "      <td>George Duke</td>\n",
       "      <td>274155</td>\n",
       "      <td>9018565</td>\n",
       "      <td>0.99</td>\n",
       "    </tr>\n",
       "  </tbody>\n",
       "</table>\n",
       "</div>"
      ],
      "text/plain": [
       "    TrackId                                          Name  AlbumId  \\\n",
       "0       101                                   Be Yourself       11   \n",
       "1       102                             Doesn't Remind Me       11   \n",
       "2       103                               Drown Me Slowly       11   \n",
       "3       104                                 Heaven's Dead       11   \n",
       "4       105                                      The Worm       11   \n",
       "5       106                                 Man Or Animal       11   \n",
       "6       107                         Yesterday To Tomorrow       11   \n",
       "7       108                                     Dandelion       11   \n",
       "8       109                                       #1 Zero       11   \n",
       "9       110                                     The Curse       11   \n",
       "10      111                                         Money       12   \n",
       "11      112                               Long Tall Sally       12   \n",
       "12      113                                       Bad Boy       12   \n",
       "13      114                               Twist And Shout       12   \n",
       "14      115                            Please Mr. Postman       12   \n",
       "15      116                               C'Mon Everybody       12   \n",
       "16      117                           Rock 'N' Roll Music       12   \n",
       "17      118                                     Slow Down       12   \n",
       "18      119                                    Roadrunner       12   \n",
       "19      120                                         Carol       12   \n",
       "20      121                         Good Golly Miss Molly       12   \n",
       "21      122                                20 Flight Rock       12   \n",
       "22      123                                      Quadrant       13   \n",
       "23      124                     Snoopy's search-Red baron       13   \n",
       "24      125  Spanish moss-\"A sound portrait\"-Spanish moss       13   \n",
       "25      126                                    Moon germs       13   \n",
       "26      127                                       Stratus       13   \n",
       "27      128                         The pleasant pheasant       13   \n",
       "28      129                               Solo-Panhandler       13   \n",
       "29      130                             Do what cha wanna       13   \n",
       "\n",
       "    MediaTypeId  GenreId                                           Composer  \\\n",
       "0             1        4                 Cornell, Commerford, Morello, Wilk   \n",
       "1             1        4                 Cornell, Commerford, Morello, Wilk   \n",
       "2             1        4                 Cornell, Commerford, Morello, Wilk   \n",
       "3             1        4                 Cornell, Commerford, Morello, Wilk   \n",
       "4             1        4                 Cornell, Commerford, Morello, Wilk   \n",
       "5             1        4                 Cornell, Commerford, Morello, Wilk   \n",
       "6             1        4                 Cornell, Commerford, Morello, Wilk   \n",
       "7             1        4                 Cornell, Commerford, Morello, Wilk   \n",
       "8             1        4                 Cornell, Commerford, Morello, Wilk   \n",
       "9             1        4                 Cornell, Commerford, Morello, Wilk   \n",
       "10            1        5                    Berry Gordy, Jr./Janie Bradford   \n",
       "11            1        5  Enotris Johnson/Little Richard/Robert \"Bumps\" ...   \n",
       "12            1        5                                     Larry Williams   \n",
       "13            1        5                           Bert Russell/Phil Medley   \n",
       "14            1        5  Brian Holland/Freddie Gorman/Georgia Dobbins/R...   \n",
       "15            1        5                       Eddie Cochran/Jerry Capehart   \n",
       "16            1        5                                        Chuck Berry   \n",
       "17            1        5                                     Larry Williams   \n",
       "18            1        5                                         Bo Diddley   \n",
       "19            1        5                                        Chuck Berry   \n",
       "20            1        5                                     Little Richard   \n",
       "21            1        5                                      Ned Fairchild   \n",
       "22            1        2                                       Billy Cobham   \n",
       "23            1        2                                       Billy Cobham   \n",
       "24            1        2                                       Billy Cobham   \n",
       "25            1        2                                       Billy Cobham   \n",
       "26            1        2                                       Billy Cobham   \n",
       "27            1        2                                       Billy Cobham   \n",
       "28            1        2                                       Billy Cobham   \n",
       "29            1        2                                        George Duke   \n",
       "\n",
       "    Milliseconds     Bytes  UnitPrice  \n",
       "0         279484   9106160       0.99  \n",
       "1         255869   8357387       0.99  \n",
       "2         233691   7609178       0.99  \n",
       "3         276688   9006158       0.99  \n",
       "4         237714   7710800       0.99  \n",
       "5         233195   7542942       0.99  \n",
       "6         273763   8944205       0.99  \n",
       "7         278125   9003592       0.99  \n",
       "8         299102   9731988       0.99  \n",
       "9         309786  10029406       0.99  \n",
       "10        147591   2365897       0.99  \n",
       "11        106396   1707084       0.99  \n",
       "12        116088   1862126       0.99  \n",
       "13        161123   2582553       0.99  \n",
       "14        137639   2206986       0.99  \n",
       "15        140199   2247846       0.99  \n",
       "16        141923   2276788       0.99  \n",
       "17        163265   2616981       0.99  \n",
       "18        143595   2301989       0.99  \n",
       "19        143830   2306019       0.99  \n",
       "20        106266   1704918       0.99  \n",
       "21        107807   1299960       0.99  \n",
       "22        261851   8538199       0.99  \n",
       "23        456071  15075616       0.99  \n",
       "24        248084   8217867       0.99  \n",
       "25        294060   9714812       0.99  \n",
       "26        582086  19115680       0.99  \n",
       "27        318066  10630578       0.99  \n",
       "28        246151   8230661       0.99  \n",
       "29        274155   9018565       0.99  "
      ]
     },
     "execution_count": 29,
     "metadata": {},
     "output_type": "execute_result"
    }
   ],
   "source": [
    "qf.window(offset=100, limit=30, order_by=[\"TrackId\"])\n",
    "qf.to_df()"
   ]
  },
  {
   "cell_type": "code",
   "execution_count": 30,
   "metadata": {},
   "outputs": [
    {
     "data": {
      "text/html": [
       "<div>\n",
       "<style scoped>\n",
       "    .dataframe tbody tr th:only-of-type {\n",
       "        vertical-align: middle;\n",
       "    }\n",
       "\n",
       "    .dataframe tbody tr th {\n",
       "        vertical-align: top;\n",
       "    }\n",
       "\n",
       "    .dataframe thead th {\n",
       "        text-align: right;\n",
       "    }\n",
       "</style>\n",
       "<table border=\"1\" class=\"dataframe\">\n",
       "  <thead>\n",
       "    <tr style=\"text-align: right;\">\n",
       "      <th></th>\n",
       "      <th>Composer</th>\n",
       "      <th>11_4</th>\n",
       "      <th>12_5</th>\n",
       "      <th>13_2</th>\n",
       "    </tr>\n",
       "  </thead>\n",
       "  <tbody>\n",
       "    <tr>\n",
       "      <th>0</th>\n",
       "      <td>Berry Gordy, Jr./Janie Bradford</td>\n",
       "      <td>0.0</td>\n",
       "      <td>0.99</td>\n",
       "      <td>0.00</td>\n",
       "    </tr>\n",
       "    <tr>\n",
       "      <th>1</th>\n",
       "      <td>Bert Russell/Phil Medley</td>\n",
       "      <td>0.0</td>\n",
       "      <td>0.99</td>\n",
       "      <td>0.00</td>\n",
       "    </tr>\n",
       "    <tr>\n",
       "      <th>2</th>\n",
       "      <td>Billy Cobham</td>\n",
       "      <td>0.0</td>\n",
       "      <td>0.00</td>\n",
       "      <td>6.93</td>\n",
       "    </tr>\n",
       "    <tr>\n",
       "      <th>3</th>\n",
       "      <td>Bo Diddley</td>\n",
       "      <td>0.0</td>\n",
       "      <td>0.99</td>\n",
       "      <td>0.00</td>\n",
       "    </tr>\n",
       "    <tr>\n",
       "      <th>4</th>\n",
       "      <td>Brian Holland/Freddie Gorman/Georgia Dobbins/R...</td>\n",
       "      <td>0.0</td>\n",
       "      <td>0.99</td>\n",
       "      <td>0.00</td>\n",
       "    </tr>\n",
       "    <tr>\n",
       "      <th>5</th>\n",
       "      <td>Chuck Berry</td>\n",
       "      <td>0.0</td>\n",
       "      <td>1.98</td>\n",
       "      <td>0.00</td>\n",
       "    </tr>\n",
       "    <tr>\n",
       "      <th>6</th>\n",
       "      <td>Cornell, Commerford, Morello, Wilk</td>\n",
       "      <td>9.9</td>\n",
       "      <td>0.00</td>\n",
       "      <td>0.00</td>\n",
       "    </tr>\n",
       "    <tr>\n",
       "      <th>7</th>\n",
       "      <td>Eddie Cochran/Jerry Capehart</td>\n",
       "      <td>0.0</td>\n",
       "      <td>0.99</td>\n",
       "      <td>0.00</td>\n",
       "    </tr>\n",
       "    <tr>\n",
       "      <th>8</th>\n",
       "      <td>Enotris Johnson/Little Richard/Robert \"Bumps\" ...</td>\n",
       "      <td>0.0</td>\n",
       "      <td>0.99</td>\n",
       "      <td>0.00</td>\n",
       "    </tr>\n",
       "    <tr>\n",
       "      <th>9</th>\n",
       "      <td>George Duke</td>\n",
       "      <td>0.0</td>\n",
       "      <td>0.00</td>\n",
       "      <td>0.99</td>\n",
       "    </tr>\n",
       "    <tr>\n",
       "      <th>10</th>\n",
       "      <td>Larry Williams</td>\n",
       "      <td>0.0</td>\n",
       "      <td>1.98</td>\n",
       "      <td>0.00</td>\n",
       "    </tr>\n",
       "    <tr>\n",
       "      <th>11</th>\n",
       "      <td>Little Richard</td>\n",
       "      <td>0.0</td>\n",
       "      <td>0.99</td>\n",
       "      <td>0.00</td>\n",
       "    </tr>\n",
       "    <tr>\n",
       "      <th>12</th>\n",
       "      <td>Ned Fairchild</td>\n",
       "      <td>0.0</td>\n",
       "      <td>0.99</td>\n",
       "      <td>0.00</td>\n",
       "    </tr>\n",
       "  </tbody>\n",
       "</table>\n",
       "</div>"
      ],
      "text/plain": [
       "                                             Composer  11_4  12_5  13_2\n",
       "0                     Berry Gordy, Jr./Janie Bradford   0.0  0.99  0.00\n",
       "1                            Bert Russell/Phil Medley   0.0  0.99  0.00\n",
       "2                                        Billy Cobham   0.0  0.00  6.93\n",
       "3                                          Bo Diddley   0.0  0.99  0.00\n",
       "4   Brian Holland/Freddie Gorman/Georgia Dobbins/R...   0.0  0.99  0.00\n",
       "5                                         Chuck Berry   0.0  1.98  0.00\n",
       "6                  Cornell, Commerford, Morello, Wilk   9.9  0.00  0.00\n",
       "7                        Eddie Cochran/Jerry Capehart   0.0  0.99  0.00\n",
       "8   Enotris Johnson/Little Richard/Robert \"Bumps\" ...   0.0  0.99  0.00\n",
       "9                                         George Duke   0.0  0.00  0.99\n",
       "10                                     Larry Williams   0.0  1.98  0.00\n",
       "11                                     Little Richard   0.0  0.99  0.00\n",
       "12                                      Ned Fairchild   0.0  0.99  0.00"
      ]
     },
     "execution_count": 30,
     "metadata": {},
     "output_type": "execute_result"
    }
   ],
   "source": [
    "qf.pivot(rows=[\"Composer\"], columns=[\"AlbumId\", \"GenreId\"], values=\"UnitPrice\", aggtype=\"sum\")\n",
    "qf.to_df()"
   ]
  },
  {
   "cell_type": "markdown",
   "metadata": {},
   "source": [
    "As you can see all values in `AlbumId` and `GenreId` became separate columns, `Composer` column has been grouped and `UnitPrice` has been sumed up."
   ]
  }
 ],
 "metadata": {
  "kernelspec": {
   "display_name": "Python 3",
   "language": "python",
   "name": "python3"
  },
  "language_info": {
   "codemirror_mode": {
    "name": "ipython",
    "version": 3
   },
   "file_extension": ".py",
   "mimetype": "text/x-python",
   "name": "python",
   "nbconvert_exporter": "python",
   "pygments_lexer": "ipython3",
   "version": "3.8.2"
  }
 },
 "nbformat": 4,
 "nbformat_minor": 4
}
