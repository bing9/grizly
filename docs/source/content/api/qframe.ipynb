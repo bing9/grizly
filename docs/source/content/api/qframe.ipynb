{
 "cells": [
  {
   "cell_type": "markdown",
   "metadata": {},
   "source": [
    "# Tutorial - QFrame"
   ]
  },
  {
   "cell_type": "markdown",
   "metadata": {},
   "source": [
    "## What is a QFrame?\n",
    "QFrame is a class which generates an SQL statement. It stores fields info in `QFrame.data` parameter which is a dictionary."
   ]
  },
  {
   "cell_type": "markdown",
   "metadata": {},
   "source": [
    "`QFrame.data` has `select` key in which it stores `fields` which we want to have in our SQL statement. Each key have to have specified `type` which can be 'dim' if the varibale is a dimension variable or 'num' if the variable is a numeric variable. Let's take a look at all options that we can have under `select` and `fields` keys."
   ]
  },
  {
   "cell_type": "markdown",
   "metadata": {},
   "source": [
    "```json\n",
    "{\n",
    "  \"select\": {\n",
    "    \"table\": \"table\",\n",
    "    \"schema\": \"schema\",\n",
    "    \"fields\": {\n",
    "      \"column\": {\n",
    "        \"type\": \"dim\",\n",
    "        \"as\": \"\",\n",
    "        \"group_by\": \"\",\n",
    "        \"order_by\": \"\",\n",
    "        \"expression\": \"\",\n",
    "        \"select\": \"\",\n",
    "        \"custom_type\": \"\"\n",
    "      }\n",
    "    },\n",
    "    \"where\": \"\",\n",
    "    \"distinct\": \"\",\n",
    "    \"having\": \"\",\n",
    "    \"limit\": \"\"\n",
    "  }\n",
    "}\n",
    "```"
   ]
  },
  {
   "cell_type": "markdown",
   "metadata": {},
   "source": [
    "- `table` - Name of the table.\n",
    "- `schema` - Name of the schema.\n",
    "- `fields`, in each field:\n",
    "    - `type` - Type of the column. Options:\n",
    "\n",
    "        - 'dim' - VARCHAR(500)  \n",
    "        - 'num' - FLOAT\n",
    "     \n",
    "     Every column has to have specified type. If you want to sepcify another type check `custom_type`.\n",
    "    - `as` - Column alias (name).\n",
    "\n",
    "    - `group_by` - Aggregation type. Possibilities:\n",
    "\n",
    "        - 'group' - This field will go to GROUP BY statement.\n",
    "        - {'sum', 'count', 'min', 'max', 'avg'} - This field will by aggregated in specified way.\n",
    "  \n",
    "     If you don't want to aggregate fields leave `group_by` empty in each field.\n",
    "    - `order_by` - Put the field in order by statement. Options:\n",
    "    \n",
    "        - 'ASC'\n",
    "        - 'DESC'\n",
    "        \n",
    "    - `expression` - Expression, eg. CASE statement, column operation, CONCAT statement, ... .\n",
    "    - `select` - Set 0 if you don't want to put this field in SELECT statement.\n",
    "    - `custom_type` - Specify custom SQL data type, eg. DATE.\n",
    "- `where` - Add where statement, eg. 'sales>100'\n",
    "- `distinct` - Set 1 to add distinct to select\n",
    "- `having` - Add having statement, eg. 'sum(sales)>100'\n",
    "- `limit` - Add limit, eg. 100"
   ]
  },
  {
   "cell_type": "markdown",
   "metadata": {},
   "source": [
    "## How to create a QFrame?\n",
    "You can create a QFrame manually - passing the data directly to QFrame or automatically - using `QFrame.from_table()` method. Before you generate a QFrame you have to set up your ODBC. If you set up `dsn` (data source name) parameter in grizly configuration file then when you create a QFrame you only need to pass `dsn`. In other case you should also specify `dialect` and `db` parameters."
   ]
  },
  {
   "cell_type": "code",
   "execution_count": 1,
   "metadata": {},
   "outputs": [],
   "source": [
    "from grizly import (\n",
    "    get_path, \n",
    "    QFrame\n",
    ")"
   ]
  },
  {
   "cell_type": "markdown",
   "metadata": {},
   "source": [
    "### Manually - using dictionary"
   ]
  },
  {
   "cell_type": "markdown",
   "metadata": {},
   "source": [
    "This method is the most direct method of creating a QFrame - to use it you need to know the structure of `QFrame.data`. From following dictionary"
   ]
  },
  {
   "cell_type": "code",
   "execution_count": 2,
   "metadata": {},
   "outputs": [],
   "source": [
    "data = {\n",
    "  \"select\": {\n",
    "    \"table\": \"table\",\n",
    "    \"schema\": \"schema\",\n",
    "    \"fields\": {\n",
    "      \"col\": {\n",
    "        \"type\": \"dim\"\n",
    "      }\n",
    "    }\n",
    "  }\n",
    "}"
   ]
  },
  {
   "cell_type": "markdown",
   "metadata": {},
   "source": [
    "QFrame will generate a simple sql"
   ]
  },
  {
   "cell_type": "code",
   "execution_count": 3,
   "metadata": {},
   "outputs": [
    {
     "name": "stdout",
     "output_type": "stream",
     "text": [
      "SELECT col\n",
      "FROM schema.table\n"
     ]
    }
   ],
   "source": [
    "qf = QFrame(dsn=\"redshift_acoe\").from_dict(data)\n",
    "print(qf)"
   ]
  },
  {
   "cell_type": "markdown",
   "metadata": {},
   "source": [
    "Here we also used simple method `.get_sql()` which prints sql saved in QFrame."
   ]
  },
  {
   "cell_type": "markdown",
   "metadata": {},
   "source": [
    "### Manually - using JSON file"
   ]
  },
  {
   "cell_type": "markdown",
   "metadata": {},
   "source": [
    "We use a `.json` file to conviniently manipulate information about columns, renames and other things that might be very verbose to manipulate in python code. We can edit the json file into a json editor like http://jsoneditoronline.org/ more conviniently than in Python code.\n",
    "\n",
    "After editing the `store.json` we can read it back inside a QFrame using `read_json()`.\n",
    "\n",
    "This means we can use our json as our main `store` of verbose information and python as our main way to manipulate said information."
   ]
  },
  {
   "cell_type": "code",
   "execution_count": 4,
   "metadata": {},
   "outputs": [
    {
     "name": "stdout",
     "output_type": "stream",
     "text": [
      "SELECT col\n",
      "FROM schema.table\n"
     ]
    }
   ],
   "source": [
    "json_path = get_path(\"grizly_dev\", \"notebooks\", \"store.json\")\n",
    "qf.save_json(json_path=json_path, subquery=\"my_query_1\")\n",
    "\n",
    "qf = QFrame(dsn=\"redshift_acoe\").from_json(json_path=json_path, subquery=\"my_query_1\")\n",
    "print(qf)"
   ]
  },
  {
   "cell_type": "markdown",
   "metadata": {},
   "source": [
    "### Automatically - using from_table method"
   ]
  },
  {
   "cell_type": "markdown",
   "metadata": {},
   "source": [
    "The other way to generate a QFrame is to use `QFrame.from_table()` method."
   ]
  },
  {
   "cell_type": "code",
   "execution_count": 5,
   "metadata": {},
   "outputs": [
    {
     "name": "stdout",
     "output_type": "stream",
     "text": [
      "SELECT col1,\n",
      "       col2,\n",
      "       col3,\n",
      "       col4\n",
      "FROM administration.table_tutorial\n"
     ]
    }
   ],
   "source": [
    "qf = QFrame(dsn=\"redshift_acoe\")\n",
    "qf.from_table(schema=\"administration\", table=\"table_tutorial\")\n",
    "\n",
    "print(qf)"
   ]
  },
  {
   "cell_type": "code",
   "execution_count": 6,
   "metadata": {},
   "outputs": [
    {
     "name": "stdout",
     "output_type": "stream",
     "text": [
      "SELECT col1,\n",
      "       col3\n",
      "FROM administration.table_tutorial\n"
     ]
    }
   ],
   "source": [
    "qf_c = QFrame(dsn=\"redshift_acoe\")\n",
    "qf_c.from_table(schema=\"administration\", table=\"table_tutorial\", columns=[\"col1\", \"col3\"])\n",
    "\n",
    "print(qf_c)"
   ]
  },
  {
   "cell_type": "markdown",
   "metadata": {},
   "source": [
    "You can also specify which columns you want to pull from database by using `columns` parameter."
   ]
  },
  {
   "cell_type": "markdown",
   "metadata": {},
   "source": [
    "## Working with the QFrame\n",
    "There is a lot of methods which you can use to edit the QFrame. You can check them in QFrame docs. In this tutorial we will only show some of them."
   ]
  },
  {
   "cell_type": "markdown",
   "metadata": {},
   "source": [
    "### Checking QFrame size"
   ]
  },
  {
   "cell_type": "markdown",
   "metadata": {},
   "source": [
    "You can check how many rows returns the query generated by your QFrame by using Python build-in `len()` function."
   ]
  },
  {
   "cell_type": "code",
   "execution_count": 7,
   "metadata": {},
   "outputs": [
    {
     "data": {
      "text/plain": [
       "2"
      ]
     },
     "execution_count": 7,
     "metadata": {},
     "output_type": "execute_result"
    }
   ],
   "source": [
    "len(qf)"
   ]
  },
  {
   "cell_type": "markdown",
   "metadata": {},
   "source": [
    "### Doing some basic SQL stuff\n",
    "Let's now add a `where` statement, rename some fields, add calculated field and remove some fields`."
   ]
  },
  {
   "cell_type": "code",
   "execution_count": 8,
   "metadata": {},
   "outputs": [
    {
     "name": "stdout",
     "output_type": "stream",
     "text": [
      "SELECT col1 AS \"items\",\n",
      "       col2 AS \"price\",\n",
      "       col4*2 AS \"calculated_field\"\n",
      "FROM administration.table_tutorial\n",
      "WHERE col2 > 1\n"
     ]
    }
   ],
   "source": [
    "qf.query(\"col2 > 1\") #<- where\n",
    "qf.rename({\"col1\": \"items\", \"col2\": \"price\"})\n",
    "qf.assign(calculated_field=\"col4*2\", \n",
    "          type='num', \n",
    "          custom_type='double precision')\n",
    "qf.remove([\"col3\", \"col4\"])\n",
    "print(qf)"
   ]
  },
  {
   "cell_type": "markdown",
   "metadata": {},
   "source": [
    ":Be aware that `rename()` method doesn't change the name of the field but only the alias (final name) of the column.:"
   ]
  },
  {
   "cell_type": "markdown",
   "metadata": {},
   "source": [
    "Now you can check how the data changed calling `data` attribute."
   ]
  },
  {
   "cell_type": "code",
   "execution_count": 9,
   "metadata": {},
   "outputs": [
    {
     "data": {
      "text/plain": [
       "{'select': {'table': 'table_tutorial',\n",
       "  'schema': 'administration',\n",
       "  'fields': {'col1': {'type': '',\n",
       "    'as': 'items',\n",
       "    'group_by': '',\n",
       "    'order_by': '',\n",
       "    'expression': '',\n",
       "    'select': '',\n",
       "    'custom_type': 'character varying(500)'},\n",
       "   'col2': {'type': '',\n",
       "    'as': 'price',\n",
       "    'group_by': '',\n",
       "    'order_by': '',\n",
       "    'expression': '',\n",
       "    'select': '',\n",
       "    'custom_type': 'double precision'},\n",
       "   'calculated_field': {'type': 'num',\n",
       "    'as': 'calculated_field',\n",
       "    'group_by': '',\n",
       "    'order_by': '',\n",
       "    'expression': 'col4*2',\n",
       "    'custom_type': 'double precision'}},\n",
       "  'engine': '',\n",
       "  'where': 'col2 > 1',\n",
       "  'distinct': '',\n",
       "  'having': '',\n",
       "  'offset': '',\n",
       "  'limit': '',\n",
       "  'sql_blocks': {'select_names': ['col1 as \"items\"',\n",
       "    'col2 as \"price\"',\n",
       "    'col4*2 as \"calculated_field\"'],\n",
       "   'select_aliases': ['items', 'price', 'calculated_field'],\n",
       "   'group_dimensions': [],\n",
       "   'group_values': [],\n",
       "   'order_by': [],\n",
       "   'types': ['CHARACTER VARYING(500)',\n",
       "    'DOUBLE PRECISION',\n",
       "    'DOUBLE PRECISION']}}}"
      ]
     },
     "execution_count": 9,
     "metadata": {},
     "output_type": "execute_result"
    }
   ],
   "source": [
    "qf.data"
   ]
  },
  {
   "cell_type": "markdown",
   "metadata": {},
   "source": [
    "You can see that now we also have `sql_blocks` key. You can ignore it. This key is used to build SQL statement and is generated any time `get_sql()` method is called."
   ]
  },
  {
   "cell_type": "markdown",
   "metadata": {},
   "source": [
    "### Forking\n",
    "\n",
    "Forking qframes can be important if your data workflow needs to take the same sql table and apply different transformations to it.\n",
    "\n",
    "Sometimes we want to fork, do some transforms, then union the QFrames back together which results into an append operation on the data side.\n",
    "\n",
    "Let's create two copies of one QFrame."
   ]
  },
  {
   "cell_type": "code",
   "execution_count": 10,
   "metadata": {},
   "outputs": [],
   "source": [
    "qf1 = qf.copy()\n",
    "qf2 = qf.copy()"
   ]
  },
  {
   "cell_type": "markdown",
   "metadata": {},
   "source": [
    "## Unioning data\n",
    "\n",
    "There are two ways of unioning two QFrames - we can union by the position of the field or by the final name of the columns (that means the alias). "
   ]
  },
  {
   "cell_type": "code",
   "execution_count": 11,
   "metadata": {},
   "outputs": [
    {
     "data": {
      "text/plain": [
       "<grizly.tools.qframe.QFrame at 0x7f9174496460>"
      ]
     },
     "execution_count": 11,
     "metadata": {},
     "output_type": "execute_result"
    }
   ],
   "source": [
    "from grizly import union\n",
    "\n",
    "qf1.rename({\"col2\": \"price_1\", \"calculated_field\": \"price_2\"})\n",
    "qf2.rename({\"col2\": \"price_2\", \"calculated_field\": \"price_1\"})"
   ]
  },
  {
   "cell_type": "markdown",
   "metadata": {},
   "source": [
    "#### Union by the positon"
   ]
  },
  {
   "cell_type": "code",
   "execution_count": 12,
   "metadata": {},
   "outputs": [
    {
     "name": "stdout",
     "output_type": "stream",
     "text": [
      "SELECT col1 AS \"items\",\n",
      "       col2 AS \"price_1\",\n",
      "       col4*2 AS \"price_2\"\n",
      "FROM administration.table_tutorial\n",
      "WHERE col2 > 1\n",
      "UNION ALL\n",
      "SELECT col1 AS \"items\",\n",
      "       col2 AS \"price_2\",\n",
      "       col4*2 AS \"price_1\"\n",
      "FROM administration.table_tutorial\n",
      "WHERE col2 > 1\n"
     ]
    }
   ],
   "source": [
    "uqf_pos = union(qframes=[qf1, qf2], union_type=\"UNION ALL\", union_by='position')\n",
    "print(uqf_pos)"
   ]
  },
  {
   "cell_type": "markdown",
   "metadata": {},
   "source": [
    "#### Union by the column names"
   ]
  },
  {
   "cell_type": "code",
   "execution_count": 13,
   "metadata": {},
   "outputs": [
    {
     "name": "stdout",
     "output_type": "stream",
     "text": [
      "SELECT col1 AS \"items\",\n",
      "       col2 AS \"price_1\",\n",
      "       col4*2 AS \"price_2\"\n",
      "FROM administration.table_tutorial\n",
      "WHERE col2 > 1\n",
      "UNION ALL\n",
      "SELECT col1 AS \"items\",\n",
      "       col4*2 AS \"price_1\",\n",
      "       col2 AS \"price_2\"\n",
      "FROM administration.table_tutorial\n",
      "WHERE col2 > 1\n"
     ]
    }
   ],
   "source": [
    "uqf_name = union(qframes=[qf1, qf2], union_type=\"UNION ALL\", union_by='name')\n",
    "print(uqf_name)"
   ]
  },
  {
   "cell_type": "markdown",
   "metadata": {},
   "source": [
    "You can see that in this case union changes the order of the columns. "
   ]
  },
  {
   "cell_type": "markdown",
   "metadata": {},
   "source": [
    "## Joining data"
   ]
  },
  {
   "cell_type": "code",
   "execution_count": 14,
   "metadata": {},
   "outputs": [],
   "source": [
    "from grizly import join"
   ]
  },
  {
   "cell_type": "markdown",
   "metadata": {},
   "source": [
    "We will be using `Chinook.sqlite` to visualize data."
   ]
  },
  {
   "cell_type": "code",
   "execution_count": 15,
   "metadata": {},
   "outputs": [],
   "source": [
    "dsn_sqlite = get_path(\"grizly_dev\", \"tests\", \"Chinook.sqlite\")"
   ]
  },
  {
   "cell_type": "markdown",
   "metadata": {},
   "source": [
    "### Simple join"
   ]
  },
  {
   "cell_type": "markdown",
   "metadata": {},
   "source": [
    "First table is `Track` table."
   ]
  },
  {
   "cell_type": "code",
   "execution_count": 16,
   "metadata": {},
   "outputs": [
    {
     "name": "stdout",
     "output_type": "stream",
     "text": [
      "SELECT TrackId,\n",
      "       Name,\n",
      "       AlbumId,\n",
      "       Composer,\n",
      "       UnitPrice\n",
      "FROM Track\n"
     ]
    }
   ],
   "source": [
    "tracks = {  'select': {\n",
    "                'fields': {\n",
    "                    'TrackId': { 'type': 'dim'},\n",
    "                    'Name': {'type': 'dim'},\n",
    "                    'AlbumId': {'type': 'dim'},\n",
    "                    'Composer': {'type': 'dim'},\n",
    "                    'UnitPrice': {'type': 'num'}\n",
    "                },\n",
    "                'table': 'Track'\n",
    "            }\n",
    "}\n",
    "tracks_qf = QFrame(dsn=dsn_sqlite, db=\"sqlite\", dialect=\"mysql\").from_dict(tracks)\n",
    "print(tracks_qf)"
   ]
  },
  {
   "cell_type": "code",
   "execution_count": 17,
   "metadata": {},
   "outputs": [
    {
     "data": {
      "text/html": [
       "<div>\n",
       "<style scoped>\n",
       "    .dataframe tbody tr th:only-of-type {\n",
       "        vertical-align: middle;\n",
       "    }\n",
       "\n",
       "    .dataframe tbody tr th {\n",
       "        vertical-align: top;\n",
       "    }\n",
       "\n",
       "    .dataframe thead th {\n",
       "        text-align: right;\n",
       "    }\n",
       "</style>\n",
       "<table border=\"1\" class=\"dataframe\">\n",
       "  <thead>\n",
       "    <tr style=\"text-align: right;\">\n",
       "      <th></th>\n",
       "      <th>TrackId</th>\n",
       "      <th>Name</th>\n",
       "      <th>AlbumId</th>\n",
       "      <th>Composer</th>\n",
       "      <th>UnitPrice</th>\n",
       "    </tr>\n",
       "  </thead>\n",
       "  <tbody>\n",
       "    <tr>\n",
       "      <th>1816</th>\n",
       "      <td>1817</td>\n",
       "      <td>Last Caress/Green Hell</td>\n",
       "      <td>149</td>\n",
       "      <td>Danzig</td>\n",
       "      <td>0.99</td>\n",
       "    </tr>\n",
       "    <tr>\n",
       "      <th>1351</th>\n",
       "      <td>1352</td>\n",
       "      <td>Intro</td>\n",
       "      <td>108</td>\n",
       "      <td>None</td>\n",
       "      <td>0.99</td>\n",
       "    </tr>\n",
       "    <tr>\n",
       "      <th>68</th>\n",
       "      <td>69</td>\n",
       "      <td>Dindi (Dindi)</td>\n",
       "      <td>8</td>\n",
       "      <td>None</td>\n",
       "      <td>0.99</td>\n",
       "    </tr>\n",
       "    <tr>\n",
       "      <th>944</th>\n",
       "      <td>945</td>\n",
       "      <td>Crack Hitler</td>\n",
       "      <td>75</td>\n",
       "      <td>None</td>\n",
       "      <td>0.99</td>\n",
       "    </tr>\n",
       "    <tr>\n",
       "      <th>2265</th>\n",
       "      <td>2266</td>\n",
       "      <td>Play The Game</td>\n",
       "      <td>185</td>\n",
       "      <td>Mercury, Freddie</td>\n",
       "      <td>0.99</td>\n",
       "    </tr>\n",
       "  </tbody>\n",
       "</table>\n",
       "</div>"
      ],
      "text/plain": [
       "      TrackId                    Name  AlbumId          Composer  UnitPrice\n",
       "1816     1817  Last Caress/Green Hell      149            Danzig       0.99\n",
       "1351     1352                   Intro      108              None       0.99\n",
       "68         69           Dindi (Dindi)        8              None       0.99\n",
       "944       945            Crack Hitler       75              None       0.99\n",
       "2265     2266           Play The Game      185  Mercury, Freddie       0.99"
      ]
     },
     "execution_count": 17,
     "metadata": {},
     "output_type": "execute_result"
    }
   ],
   "source": [
    "tracks_qf.to_df().sample(5)"
   ]
  },
  {
   "cell_type": "markdown",
   "metadata": {},
   "source": [
    "The second table is `PlaylistTrack` table. "
   ]
  },
  {
   "cell_type": "code",
   "execution_count": 18,
   "metadata": {},
   "outputs": [
    {
     "name": "stdout",
     "output_type": "stream",
     "text": [
      "SELECT PlaylistId,\n",
      "       TrackId\n",
      "FROM PlaylistTrack\n"
     ]
    }
   ],
   "source": [
    "playlist_track_qf = QFrame(dsn=dsn_sqlite, db=\"sqlite\", dialect=\"mysql\").from_table(table=\"PlaylistTrack\")\n",
    "\n",
    "print(playlist_track_qf)"
   ]
  },
  {
   "cell_type": "code",
   "execution_count": 19,
   "metadata": {},
   "outputs": [
    {
     "data": {
      "text/html": [
       "<div>\n",
       "<style scoped>\n",
       "    .dataframe tbody tr th:only-of-type {\n",
       "        vertical-align: middle;\n",
       "    }\n",
       "\n",
       "    .dataframe tbody tr th {\n",
       "        vertical-align: top;\n",
       "    }\n",
       "\n",
       "    .dataframe thead th {\n",
       "        text-align: right;\n",
       "    }\n",
       "</style>\n",
       "<table border=\"1\" class=\"dataframe\">\n",
       "  <thead>\n",
       "    <tr style=\"text-align: right;\">\n",
       "      <th></th>\n",
       "      <th>PlaylistId</th>\n",
       "      <th>TrackId</th>\n",
       "    </tr>\n",
       "  </thead>\n",
       "  <tbody>\n",
       "    <tr>\n",
       "      <th>3528</th>\n",
       "      <td>5</td>\n",
       "      <td>1328</td>\n",
       "    </tr>\n",
       "    <tr>\n",
       "      <th>8576</th>\n",
       "      <td>12</td>\n",
       "      <td>3406</td>\n",
       "    </tr>\n",
       "    <tr>\n",
       "      <th>1426</th>\n",
       "      <td>1</td>\n",
       "      <td>1125</td>\n",
       "    </tr>\n",
       "    <tr>\n",
       "      <th>4189</th>\n",
       "      <td>5</td>\n",
       "      <td>786</td>\n",
       "    </tr>\n",
       "    <tr>\n",
       "      <th>5967</th>\n",
       "      <td>8</td>\n",
       "      <td>1101</td>\n",
       "    </tr>\n",
       "  </tbody>\n",
       "</table>\n",
       "</div>"
      ],
      "text/plain": [
       "      PlaylistId  TrackId\n",
       "3528           5     1328\n",
       "8576          12     3406\n",
       "1426           1     1125\n",
       "4189           5      786\n",
       "5967           8     1101"
      ]
     },
     "execution_count": 19,
     "metadata": {},
     "output_type": "execute_result"
    }
   ],
   "source": [
    "playlist_track_qf.to_df().sample(5)"
   ]
  },
  {
   "cell_type": "markdown",
   "metadata": {},
   "source": [
    "Now let's join them on `TrackId`."
   ]
  },
  {
   "cell_type": "code",
   "execution_count": 20,
   "metadata": {},
   "outputs": [
    {
     "name": "stdout",
     "output_type": "stream",
     "text": [
      "SELECT sq1.TrackId AS \"TrackId\",\n",
      "       sq1.Name AS \"Name\",\n",
      "       sq1.AlbumId AS \"AlbumId\",\n",
      "       sq1.Composer AS \"Composer\",\n",
      "       sq1.UnitPrice AS \"UnitPrice\",\n",
      "       sq2.PlaylistId AS \"PlaylistId\"\n",
      "FROM\n",
      "  (SELECT TrackId,\n",
      "          Name,\n",
      "          AlbumId,\n",
      "          Composer,\n",
      "          UnitPrice\n",
      "   FROM Track) sq1\n",
      "LEFT JOIN\n",
      "  (SELECT PlaylistId,\n",
      "          TrackId\n",
      "   FROM PlaylistTrack) sq2 ON sq1.TrackId=sq2.TrackId\n"
     ]
    }
   ],
   "source": [
    "joined_qf = join([tracks_qf,playlist_track_qf], \n",
    "                 join_type=\"left join\", \n",
    "                 on=\"sq1.TrackId=sq2.TrackId\")\n",
    "\n",
    "print(joined_qf)"
   ]
  },
  {
   "cell_type": "code",
   "execution_count": 21,
   "metadata": {},
   "outputs": [
    {
     "data": {
      "text/html": [
       "<div>\n",
       "<style scoped>\n",
       "    .dataframe tbody tr th:only-of-type {\n",
       "        vertical-align: middle;\n",
       "    }\n",
       "\n",
       "    .dataframe tbody tr th {\n",
       "        vertical-align: top;\n",
       "    }\n",
       "\n",
       "    .dataframe thead th {\n",
       "        text-align: right;\n",
       "    }\n",
       "</style>\n",
       "<table border=\"1\" class=\"dataframe\">\n",
       "  <thead>\n",
       "    <tr style=\"text-align: right;\">\n",
       "      <th></th>\n",
       "      <th>TrackId</th>\n",
       "      <th>Name</th>\n",
       "      <th>AlbumId</th>\n",
       "      <th>Composer</th>\n",
       "      <th>UnitPrice</th>\n",
       "      <th>PlaylistId</th>\n",
       "    </tr>\n",
       "  </thead>\n",
       "  <tbody>\n",
       "    <tr>\n",
       "      <th>8188</th>\n",
       "      <td>3343</td>\n",
       "      <td>Eggtown</td>\n",
       "      <td>261</td>\n",
       "      <td>None</td>\n",
       "      <td>1.99</td>\n",
       "      <td>10</td>\n",
       "    </tr>\n",
       "    <tr>\n",
       "      <th>1075</th>\n",
       "      <td>436</td>\n",
       "      <td>Detroit Rock City</td>\n",
       "      <td>37</td>\n",
       "      <td>Paul Stanley, B. Ezrin</td>\n",
       "      <td>0.99</td>\n",
       "      <td>5</td>\n",
       "    </tr>\n",
       "    <tr>\n",
       "      <th>8301</th>\n",
       "      <td>3393</td>\n",
       "      <td>Original Fire</td>\n",
       "      <td>271</td>\n",
       "      <td>None</td>\n",
       "      <td>0.99</td>\n",
       "      <td>1</td>\n",
       "    </tr>\n",
       "    <tr>\n",
       "      <th>852</th>\n",
       "      <td>339</td>\n",
       "      <td>Communication Breakdown</td>\n",
       "      <td>30</td>\n",
       "      <td>Jimmy Page/John Bonham/John Paul Jones</td>\n",
       "      <td>0.99</td>\n",
       "      <td>5</td>\n",
       "    </tr>\n",
       "    <tr>\n",
       "      <th>7458</th>\n",
       "      <td>3031</td>\n",
       "      <td>Lemon</td>\n",
       "      <td>240</td>\n",
       "      <td>U2; Bono</td>\n",
       "      <td>0.99</td>\n",
       "      <td>1</td>\n",
       "    </tr>\n",
       "  </tbody>\n",
       "</table>\n",
       "</div>"
      ],
      "text/plain": [
       "      TrackId                     Name  AlbumId  \\\n",
       "8188     3343                  Eggtown      261   \n",
       "1075      436        Detroit Rock City       37   \n",
       "8301     3393            Original Fire      271   \n",
       "852       339  Communication Breakdown       30   \n",
       "7458     3031                    Lemon      240   \n",
       "\n",
       "                                    Composer  UnitPrice  PlaylistId  \n",
       "8188                                    None       1.99          10  \n",
       "1075                  Paul Stanley, B. Ezrin       0.99           5  \n",
       "8301                                    None       0.99           1  \n",
       "852   Jimmy Page/John Bonham/John Paul Jones       0.99           5  \n",
       "7458                                U2; Bono       0.99           1  "
      ]
     },
     "execution_count": 21,
     "metadata": {},
     "output_type": "execute_result"
    }
   ],
   "source": [
    "joined_qf.to_df().sample(5)"
   ]
  },
  {
   "cell_type": "markdown",
   "metadata": {},
   "source": [
    "As you can see in this example `UnitPrice` is taken from the first table. By default join function is taking all fields from the first QFrame, then all the fields from the second QFrame which are not in the first and so on. If you still want to keep all fields from each QFrame we have to set `unique_col=False`. We will see in the next example how does it work."
   ]
  },
  {
   "cell_type": "markdown",
   "metadata": {},
   "source": [
    "### Multiple join"
   ]
  },
  {
   "cell_type": "markdown",
   "metadata": {},
   "source": [
    "Now let's use one more table to check how does multiple join look like."
   ]
  },
  {
   "cell_type": "code",
   "execution_count": 22,
   "metadata": {},
   "outputs": [
    {
     "name": "stdout",
     "output_type": "stream",
     "text": [
      "SELECT PlaylistId,\n",
      "       Name\n",
      "FROM Playlist\n"
     ]
    }
   ],
   "source": [
    "playlists_qf = QFrame(dsn=dsn_sqlite, db=\"sqlite\", dialect=\"mysql\").from_table(table=\"Playlist\")\n",
    "\n",
    "print(playlists_qf)"
   ]
  },
  {
   "cell_type": "code",
   "execution_count": 23,
   "metadata": {},
   "outputs": [
    {
     "data": {
      "text/html": [
       "<div>\n",
       "<style scoped>\n",
       "    .dataframe tbody tr th:only-of-type {\n",
       "        vertical-align: middle;\n",
       "    }\n",
       "\n",
       "    .dataframe tbody tr th {\n",
       "        vertical-align: top;\n",
       "    }\n",
       "\n",
       "    .dataframe thead th {\n",
       "        text-align: right;\n",
       "    }\n",
       "</style>\n",
       "<table border=\"1\" class=\"dataframe\">\n",
       "  <thead>\n",
       "    <tr style=\"text-align: right;\">\n",
       "      <th></th>\n",
       "      <th>PlaylistId</th>\n",
       "      <th>Name</th>\n",
       "    </tr>\n",
       "  </thead>\n",
       "  <tbody>\n",
       "    <tr>\n",
       "      <th>11</th>\n",
       "      <td>12</td>\n",
       "      <td>Classical</td>\n",
       "    </tr>\n",
       "    <tr>\n",
       "      <th>5</th>\n",
       "      <td>6</td>\n",
       "      <td>Audiobooks</td>\n",
       "    </tr>\n",
       "    <tr>\n",
       "      <th>14</th>\n",
       "      <td>15</td>\n",
       "      <td>Classical 101 - The Basics</td>\n",
       "    </tr>\n",
       "    <tr>\n",
       "      <th>0</th>\n",
       "      <td>1</td>\n",
       "      <td>Music</td>\n",
       "    </tr>\n",
       "    <tr>\n",
       "      <th>8</th>\n",
       "      <td>9</td>\n",
       "      <td>Music Videos</td>\n",
       "    </tr>\n",
       "  </tbody>\n",
       "</table>\n",
       "</div>"
      ],
      "text/plain": [
       "    PlaylistId                        Name\n",
       "11          12                   Classical\n",
       "5            6                  Audiobooks\n",
       "14          15  Classical 101 - The Basics\n",
       "0            1                       Music\n",
       "8            9                Music Videos"
      ]
     },
     "execution_count": 23,
     "metadata": {},
     "output_type": "execute_result"
    }
   ],
   "source": [
    "playlists_qf.to_df().sample(5)"
   ]
  },
  {
   "cell_type": "markdown",
   "metadata": {},
   "source": [
    "Now if we want to join `Tracks`, `PlaylistTrack` and `Playlist` tables we can use `TrackId` and `PlaylistId`. We can see that in `Tracks` and `Playlist` tables we have the same column `Name`. Let's check the option `unique_col=False` and analyse duplicated columns."
   ]
  },
  {
   "cell_type": "code",
   "execution_count": 24,
   "metadata": {},
   "outputs": [
    {
     "name": "stderr",
     "output_type": "stream",
     "text": [
      "Please remove or rename duplicated columns. Use your_qframe.show_duplicated_columns() to check duplicates.\n"
     ]
    }
   ],
   "source": [
    "joined_qf = join(qframes=[tracks_qf, playlist_track_qf, playlists_qf], \n",
    "                 join_type=['left join', 'left join'], \n",
    "                 on=['sq1.TrackId=sq2.TrackId', 'sq2.PlaylistId=sq3.PlaylistId'], \n",
    "                 unique_col=False)"
   ]
  },
  {
   "cell_type": "code",
   "execution_count": 25,
   "metadata": {},
   "outputs": [
    {
     "name": "stdout",
     "output_type": "stream",
     "text": [
      "\u001b[1m DUPLICATED COLUMNS: \n",
      " \u001b[0m\n",
      "TrackId:\t ['sq1.TrackId', 'sq2.TrackId']\n",
      "\n",
      "Name:\t ['sq1.Name', 'sq3.Name']\n",
      "\n",
      "PlaylistId:\t ['sq2.PlaylistId', 'sq3.PlaylistId']\n",
      "\n",
      "Use your_qframe.remove() to remove or your_qframe.rename() to rename columns.\n"
     ]
    },
    {
     "data": {
      "text/plain": [
       "<grizly.tools.qframe.QFrame at 0x7f9142bd02e0>"
      ]
     },
     "execution_count": 25,
     "metadata": {},
     "output_type": "execute_result"
    }
   ],
   "source": [
    "joined_qf.show_duplicated_columns()"
   ]
  },
  {
   "cell_type": "markdown",
   "metadata": {},
   "source": [
    "We can see that three columns occure in two different tables. We will remove `sq2.TrackId` and  `sq2.PlaylistId` fields and rename `Name` column."
   ]
  },
  {
   "cell_type": "code",
   "execution_count": 26,
   "metadata": {},
   "outputs": [
    {
     "name": "stdout",
     "output_type": "stream",
     "text": [
      "SELECT sq1.TrackId AS \"TrackId\",\n",
      "       sq1.Name AS \"TrackName\",\n",
      "       sq1.AlbumId AS \"AlbumId\",\n",
      "       sq1.Composer AS \"Composer\",\n",
      "       sq1.UnitPrice AS \"UnitPrice\",\n",
      "       sq3.PlaylistId AS \"PlaylistId\",\n",
      "       sq3.Name AS \"PlaylistType\"\n",
      "FROM\n",
      "  (SELECT TrackId,\n",
      "          Name,\n",
      "          AlbumId,\n",
      "          Composer,\n",
      "          UnitPrice\n",
      "   FROM Track) sq1\n",
      "LEFT JOIN\n",
      "  (SELECT PlaylistId,\n",
      "          TrackId\n",
      "   FROM PlaylistTrack) sq2 ON sq1.TrackId=sq2.TrackId\n",
      "LEFT JOIN\n",
      "  (SELECT PlaylistId,\n",
      "          Name\n",
      "   FROM Playlist) sq3 ON sq2.PlaylistId=sq3.PlaylistId\n"
     ]
    }
   ],
   "source": [
    "joined_qf.remove(['sq2.TrackId', \n",
    "                  'sq2.PlaylistId']).rename({'sq1.Name': 'TrackName', \n",
    "                                             'sq3.Name': 'PlaylistType'})\n",
    "print(joined_qf)"
   ]
  },
  {
   "cell_type": "code",
   "execution_count": 27,
   "metadata": {},
   "outputs": [
    {
     "data": {
      "text/html": [
       "<div>\n",
       "<style scoped>\n",
       "    .dataframe tbody tr th:only-of-type {\n",
       "        vertical-align: middle;\n",
       "    }\n",
       "\n",
       "    .dataframe tbody tr th {\n",
       "        vertical-align: top;\n",
       "    }\n",
       "\n",
       "    .dataframe thead th {\n",
       "        text-align: right;\n",
       "    }\n",
       "</style>\n",
       "<table border=\"1\" class=\"dataframe\">\n",
       "  <thead>\n",
       "    <tr style=\"text-align: right;\">\n",
       "      <th></th>\n",
       "      <th>TrackId</th>\n",
       "      <th>TrackName</th>\n",
       "      <th>AlbumId</th>\n",
       "      <th>Composer</th>\n",
       "      <th>UnitPrice</th>\n",
       "      <th>PlaylistId</th>\n",
       "      <th>PlaylistType</th>\n",
       "    </tr>\n",
       "  </thead>\n",
       "  <tbody>\n",
       "    <tr>\n",
       "      <th>6499</th>\n",
       "      <td>2636</td>\n",
       "      <td>Sun King</td>\n",
       "      <td>213</td>\n",
       "      <td>None</td>\n",
       "      <td>0.99</td>\n",
       "      <td>1</td>\n",
       "      <td>Music</td>\n",
       "    </tr>\n",
       "    <tr>\n",
       "      <th>4391</th>\n",
       "      <td>1790</td>\n",
       "      <td>Heavy Love Affair</td>\n",
       "      <td>146</td>\n",
       "      <td>Marvin Gaye</td>\n",
       "      <td>0.99</td>\n",
       "      <td>1</td>\n",
       "      <td>Music</td>\n",
       "    </tr>\n",
       "    <tr>\n",
       "      <th>3123</th>\n",
       "      <td>1256</td>\n",
       "      <td>Be Quick Or Be Dead</td>\n",
       "      <td>99</td>\n",
       "      <td>Bruce Dickinson/Janick Gers</td>\n",
       "      <td>0.99</td>\n",
       "      <td>5</td>\n",
       "      <td>90’s Music</td>\n",
       "    </tr>\n",
       "    <tr>\n",
       "      <th>8628</th>\n",
       "      <td>3484</td>\n",
       "      <td>Adios nonino</td>\n",
       "      <td>329</td>\n",
       "      <td>Astor Piazzolla</td>\n",
       "      <td>0.99</td>\n",
       "      <td>8</td>\n",
       "      <td>Music</td>\n",
       "    </tr>\n",
       "    <tr>\n",
       "      <th>5056</th>\n",
       "      <td>2056</td>\n",
       "      <td>Tendo A Lua</td>\n",
       "      <td>167</td>\n",
       "      <td>Herbert Vianna/Tet Tillett</td>\n",
       "      <td>0.99</td>\n",
       "      <td>8</td>\n",
       "      <td>Music</td>\n",
       "    </tr>\n",
       "  </tbody>\n",
       "</table>\n",
       "</div>"
      ],
      "text/plain": [
       "      TrackId            TrackName  AlbumId                     Composer  \\\n",
       "6499     2636             Sun King      213                         None   \n",
       "4391     1790    Heavy Love Affair      146                  Marvin Gaye   \n",
       "3123     1256  Be Quick Or Be Dead       99  Bruce Dickinson/Janick Gers   \n",
       "8628     3484         Adios nonino      329              Astor Piazzolla   \n",
       "5056     2056          Tendo A Lua      167   Herbert Vianna/Tet Tillett   \n",
       "\n",
       "      UnitPrice  PlaylistId PlaylistType  \n",
       "6499       0.99           1        Music  \n",
       "4391       0.99           1        Music  \n",
       "3123       0.99           5   90’s Music  \n",
       "8628       0.99           8        Music  \n",
       "5056       0.99           8        Music  "
      ]
     },
     "execution_count": 27,
     "metadata": {},
     "output_type": "execute_result"
    }
   ],
   "source": [
    "joined_qf.to_df().sample(5)"
   ]
  },
  {
   "cell_type": "markdown",
   "metadata": {},
   "source": [
    "## Pivot"
   ]
  },
  {
   "cell_type": "markdown",
   "metadata": {},
   "source": [
    "Again we will use `Chinook.sqlite` and `Track` table to visualize data."
   ]
  },
  {
   "cell_type": "code",
   "execution_count": 28,
   "metadata": {},
   "outputs": [
    {
     "data": {
      "text/plain": [
       "3503"
      ]
     },
     "execution_count": 28,
     "metadata": {},
     "output_type": "execute_result"
    }
   ],
   "source": [
    "qf = QFrame(dsn=dsn_sqlite, db=\"sqlite\", dialect=\"mysql\").from_table(table=\"Track\")\n",
    "\n",
    "len(qf)"
   ]
  },
  {
   "cell_type": "markdown",
   "metadata": {},
   "source": [
    "Our table has `3503` rows - we will limit the data to `15` rows to get better view. We will use `QFrame.window()` method to be sure that the result is deterministic. "
   ]
  },
  {
   "cell_type": "code",
   "execution_count": 29,
   "metadata": {},
   "outputs": [
    {
     "data": {
      "text/html": [
       "<div>\n",
       "<style scoped>\n",
       "    .dataframe tbody tr th:only-of-type {\n",
       "        vertical-align: middle;\n",
       "    }\n",
       "\n",
       "    .dataframe tbody tr th {\n",
       "        vertical-align: top;\n",
       "    }\n",
       "\n",
       "    .dataframe thead th {\n",
       "        text-align: right;\n",
       "    }\n",
       "</style>\n",
       "<table border=\"1\" class=\"dataframe\">\n",
       "  <thead>\n",
       "    <tr style=\"text-align: right;\">\n",
       "      <th></th>\n",
       "      <th>TrackId</th>\n",
       "      <th>Name</th>\n",
       "      <th>AlbumId</th>\n",
       "      <th>MediaTypeId</th>\n",
       "      <th>GenreId</th>\n",
       "      <th>Composer</th>\n",
       "      <th>Milliseconds</th>\n",
       "      <th>Bytes</th>\n",
       "      <th>UnitPrice</th>\n",
       "    </tr>\n",
       "  </thead>\n",
       "  <tbody>\n",
       "    <tr>\n",
       "      <th>0</th>\n",
       "      <td>91</td>\n",
       "      <td>Shadow on the Sun</td>\n",
       "      <td>10</td>\n",
       "      <td>1</td>\n",
       "      <td>1</td>\n",
       "      <td>Audioslave/Chris Cornell</td>\n",
       "      <td>343457</td>\n",
       "      <td>8245793</td>\n",
       "      <td>0.99</td>\n",
       "    </tr>\n",
       "    <tr>\n",
       "      <th>1</th>\n",
       "      <td>92</td>\n",
       "      <td>I am the Highway</td>\n",
       "      <td>10</td>\n",
       "      <td>1</td>\n",
       "      <td>1</td>\n",
       "      <td>Audioslave/Chris Cornell</td>\n",
       "      <td>334942</td>\n",
       "      <td>8041411</td>\n",
       "      <td>0.99</td>\n",
       "    </tr>\n",
       "    <tr>\n",
       "      <th>2</th>\n",
       "      <td>93</td>\n",
       "      <td>Exploder</td>\n",
       "      <td>10</td>\n",
       "      <td>1</td>\n",
       "      <td>1</td>\n",
       "      <td>Audioslave/Chris Cornell</td>\n",
       "      <td>206053</td>\n",
       "      <td>4948095</td>\n",
       "      <td>0.99</td>\n",
       "    </tr>\n",
       "    <tr>\n",
       "      <th>3</th>\n",
       "      <td>94</td>\n",
       "      <td>Hypnotize</td>\n",
       "      <td>10</td>\n",
       "      <td>1</td>\n",
       "      <td>1</td>\n",
       "      <td>Audioslave/Chris Cornell</td>\n",
       "      <td>206628</td>\n",
       "      <td>4961887</td>\n",
       "      <td>0.99</td>\n",
       "    </tr>\n",
       "    <tr>\n",
       "      <th>4</th>\n",
       "      <td>95</td>\n",
       "      <td>Bring'em Back Alive</td>\n",
       "      <td>10</td>\n",
       "      <td>1</td>\n",
       "      <td>1</td>\n",
       "      <td>Audioslave/Chris Cornell</td>\n",
       "      <td>329534</td>\n",
       "      <td>7911634</td>\n",
       "      <td>0.99</td>\n",
       "    </tr>\n",
       "    <tr>\n",
       "      <th>5</th>\n",
       "      <td>96</td>\n",
       "      <td>Light My Way</td>\n",
       "      <td>10</td>\n",
       "      <td>1</td>\n",
       "      <td>1</td>\n",
       "      <td>Audioslave/Chris Cornell</td>\n",
       "      <td>303595</td>\n",
       "      <td>7289084</td>\n",
       "      <td>0.99</td>\n",
       "    </tr>\n",
       "    <tr>\n",
       "      <th>6</th>\n",
       "      <td>97</td>\n",
       "      <td>Getaway Car</td>\n",
       "      <td>10</td>\n",
       "      <td>1</td>\n",
       "      <td>1</td>\n",
       "      <td>Audioslave/Chris Cornell</td>\n",
       "      <td>299598</td>\n",
       "      <td>7193162</td>\n",
       "      <td>0.99</td>\n",
       "    </tr>\n",
       "    <tr>\n",
       "      <th>7</th>\n",
       "      <td>98</td>\n",
       "      <td>The Last Remaining Light</td>\n",
       "      <td>10</td>\n",
       "      <td>1</td>\n",
       "      <td>1</td>\n",
       "      <td>Audioslave/Chris Cornell</td>\n",
       "      <td>317492</td>\n",
       "      <td>7622615</td>\n",
       "      <td>0.99</td>\n",
       "    </tr>\n",
       "    <tr>\n",
       "      <th>8</th>\n",
       "      <td>99</td>\n",
       "      <td>Your Time Has Come</td>\n",
       "      <td>11</td>\n",
       "      <td>1</td>\n",
       "      <td>4</td>\n",
       "      <td>Cornell, Commerford, Morello, Wilk</td>\n",
       "      <td>255529</td>\n",
       "      <td>8273592</td>\n",
       "      <td>0.99</td>\n",
       "    </tr>\n",
       "    <tr>\n",
       "      <th>9</th>\n",
       "      <td>100</td>\n",
       "      <td>Out Of Exile</td>\n",
       "      <td>11</td>\n",
       "      <td>1</td>\n",
       "      <td>4</td>\n",
       "      <td>Cornell, Commerford, Morello, Wilk</td>\n",
       "      <td>291291</td>\n",
       "      <td>9506571</td>\n",
       "      <td>0.99</td>\n",
       "    </tr>\n",
       "    <tr>\n",
       "      <th>10</th>\n",
       "      <td>101</td>\n",
       "      <td>Be Yourself</td>\n",
       "      <td>11</td>\n",
       "      <td>1</td>\n",
       "      <td>4</td>\n",
       "      <td>Cornell, Commerford, Morello, Wilk</td>\n",
       "      <td>279484</td>\n",
       "      <td>9106160</td>\n",
       "      <td>0.99</td>\n",
       "    </tr>\n",
       "    <tr>\n",
       "      <th>11</th>\n",
       "      <td>102</td>\n",
       "      <td>Doesn't Remind Me</td>\n",
       "      <td>11</td>\n",
       "      <td>1</td>\n",
       "      <td>4</td>\n",
       "      <td>Cornell, Commerford, Morello, Wilk</td>\n",
       "      <td>255869</td>\n",
       "      <td>8357387</td>\n",
       "      <td>0.99</td>\n",
       "    </tr>\n",
       "    <tr>\n",
       "      <th>12</th>\n",
       "      <td>103</td>\n",
       "      <td>Drown Me Slowly</td>\n",
       "      <td>11</td>\n",
       "      <td>1</td>\n",
       "      <td>4</td>\n",
       "      <td>Cornell, Commerford, Morello, Wilk</td>\n",
       "      <td>233691</td>\n",
       "      <td>7609178</td>\n",
       "      <td>0.99</td>\n",
       "    </tr>\n",
       "    <tr>\n",
       "      <th>13</th>\n",
       "      <td>104</td>\n",
       "      <td>Heaven's Dead</td>\n",
       "      <td>11</td>\n",
       "      <td>1</td>\n",
       "      <td>4</td>\n",
       "      <td>Cornell, Commerford, Morello, Wilk</td>\n",
       "      <td>276688</td>\n",
       "      <td>9006158</td>\n",
       "      <td>0.99</td>\n",
       "    </tr>\n",
       "    <tr>\n",
       "      <th>14</th>\n",
       "      <td>105</td>\n",
       "      <td>The Worm</td>\n",
       "      <td>11</td>\n",
       "      <td>1</td>\n",
       "      <td>4</td>\n",
       "      <td>Cornell, Commerford, Morello, Wilk</td>\n",
       "      <td>237714</td>\n",
       "      <td>7710800</td>\n",
       "      <td>0.99</td>\n",
       "    </tr>\n",
       "  </tbody>\n",
       "</table>\n",
       "</div>"
      ],
      "text/plain": [
       "    TrackId                      Name  AlbumId  MediaTypeId  GenreId  \\\n",
       "0        91         Shadow on the Sun       10            1        1   \n",
       "1        92          I am the Highway       10            1        1   \n",
       "2        93                  Exploder       10            1        1   \n",
       "3        94                 Hypnotize       10            1        1   \n",
       "4        95       Bring'em Back Alive       10            1        1   \n",
       "5        96              Light My Way       10            1        1   \n",
       "6        97               Getaway Car       10            1        1   \n",
       "7        98  The Last Remaining Light       10            1        1   \n",
       "8        99        Your Time Has Come       11            1        4   \n",
       "9       100              Out Of Exile       11            1        4   \n",
       "10      101               Be Yourself       11            1        4   \n",
       "11      102         Doesn't Remind Me       11            1        4   \n",
       "12      103           Drown Me Slowly       11            1        4   \n",
       "13      104             Heaven's Dead       11            1        4   \n",
       "14      105                  The Worm       11            1        4   \n",
       "\n",
       "                              Composer  Milliseconds    Bytes  UnitPrice  \n",
       "0             Audioslave/Chris Cornell        343457  8245793       0.99  \n",
       "1             Audioslave/Chris Cornell        334942  8041411       0.99  \n",
       "2             Audioslave/Chris Cornell        206053  4948095       0.99  \n",
       "3             Audioslave/Chris Cornell        206628  4961887       0.99  \n",
       "4             Audioslave/Chris Cornell        329534  7911634       0.99  \n",
       "5             Audioslave/Chris Cornell        303595  7289084       0.99  \n",
       "6             Audioslave/Chris Cornell        299598  7193162       0.99  \n",
       "7             Audioslave/Chris Cornell        317492  7622615       0.99  \n",
       "8   Cornell, Commerford, Morello, Wilk        255529  8273592       0.99  \n",
       "9   Cornell, Commerford, Morello, Wilk        291291  9506571       0.99  \n",
       "10  Cornell, Commerford, Morello, Wilk        279484  9106160       0.99  \n",
       "11  Cornell, Commerford, Morello, Wilk        255869  8357387       0.99  \n",
       "12  Cornell, Commerford, Morello, Wilk        233691  7609178       0.99  \n",
       "13  Cornell, Commerford, Morello, Wilk        276688  9006158       0.99  \n",
       "14  Cornell, Commerford, Morello, Wilk        237714  7710800       0.99  "
      ]
     },
     "execution_count": 29,
     "metadata": {},
     "output_type": "execute_result"
    }
   ],
   "source": [
    "qf.window(offset=90, limit=15, order_by=[\"TrackId\"])\n",
    "qf.to_df()"
   ]
  },
  {
   "cell_type": "code",
   "execution_count": 30,
   "metadata": {},
   "outputs": [
    {
     "data": {
      "text/html": [
       "<div>\n",
       "<style scoped>\n",
       "    .dataframe tbody tr th:only-of-type {\n",
       "        vertical-align: middle;\n",
       "    }\n",
       "\n",
       "    .dataframe tbody tr th {\n",
       "        vertical-align: top;\n",
       "    }\n",
       "\n",
       "    .dataframe thead th {\n",
       "        text-align: right;\n",
       "    }\n",
       "</style>\n",
       "<table border=\"1\" class=\"dataframe\">\n",
       "  <thead>\n",
       "    <tr style=\"text-align: right;\">\n",
       "      <th></th>\n",
       "      <th>Composer</th>\n",
       "      <th>10_1</th>\n",
       "      <th>11_4</th>\n",
       "    </tr>\n",
       "  </thead>\n",
       "  <tbody>\n",
       "    <tr>\n",
       "      <th>0</th>\n",
       "      <td>Audioslave/Chris Cornell</td>\n",
       "      <td>7.92</td>\n",
       "      <td>0.00</td>\n",
       "    </tr>\n",
       "    <tr>\n",
       "      <th>1</th>\n",
       "      <td>Cornell, Commerford, Morello, Wilk</td>\n",
       "      <td>0.00</td>\n",
       "      <td>6.93</td>\n",
       "    </tr>\n",
       "  </tbody>\n",
       "</table>\n",
       "</div>"
      ],
      "text/plain": [
       "                             Composer  10_1  11_4\n",
       "0            Audioslave/Chris Cornell  7.92  0.00\n",
       "1  Cornell, Commerford, Morello, Wilk  0.00  6.93"
      ]
     },
     "execution_count": 30,
     "metadata": {},
     "output_type": "execute_result"
    }
   ],
   "source": [
    "qf.pivot(rows=[\"Composer\"], columns=[\"AlbumId\", \"GenreId\"], values=\"UnitPrice\", aggtype=\"sum\")\n",
    "qf.to_df()"
   ]
  },
  {
   "cell_type": "markdown",
   "metadata": {},
   "source": [
    "As you can see all values in `AlbumId` and `GenreId` became separate columns, `Composer` column has been grouped and `UnitPrice` has been sumed up."
   ]
  }
 ],
 "metadata": {
  "kernelspec": {
   "display_name": "Python 3",
   "language": "python",
   "name": "python3"
  },
  "language_info": {
   "codemirror_mode": {
    "name": "ipython",
    "version": 3
   },
   "file_extension": ".py",
   "mimetype": "text/x-python",
   "name": "python",
   "nbconvert_exporter": "python",
   "pygments_lexer": "ipython3",
   "version": "3.8.2"
  }
 },
 "nbformat": 4,
 "nbformat_minor": 4
}
